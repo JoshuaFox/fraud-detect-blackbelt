{
 "cells": [
  {
   "cell_type": "code",
   "execution_count": 1,
   "metadata": {},
   "outputs": [
    {
     "name": "stdout",
     "output_type": "stream",
     "text": [
      "Starting at 2020-11-18 19:41:46.581139\n",
      "Requirement already satisfied: numpy in /home/ec2-user/anaconda3/envs/python3/lib/python3.6/site-packages (from -r requirements.txt (line 1)) (1.18.1)\n",
      "Requirement already satisfied: pandas in /home/ec2-user/anaconda3/envs/python3/lib/python3.6/site-packages (from -r requirements.txt (line 2)) (1.0.1)\n",
      "Requirement already satisfied: matplotlib in /home/ec2-user/anaconda3/envs/python3/lib/python3.6/site-packages (from -r requirements.txt (line 3)) (3.1.3)\n",
      "Requirement already satisfied: jupyter in /home/ec2-user/anaconda3/envs/python3/lib/python3.6/site-packages (from -r requirements.txt (line 4)) (1.0.0)\n",
      "Requirement already satisfied: boto3 in /home/ec2-user/anaconda3/envs/python3/lib/python3.6/site-packages (from -r requirements.txt (line 5)) (1.16.6)\n",
      "Requirement already satisfied: sagemaker in /home/ec2-user/anaconda3/envs/python3/lib/python3.6/site-packages (from -r requirements.txt (line 6)) (1.72.1)\n",
      "Requirement already satisfied: scikit-learn==0.23.1 in /home/ec2-user/anaconda3/envs/python3/lib/python3.6/site-packages (from -r requirements.txt (line 7)) (0.23.1)\n",
      "Requirement already satisfied: imbalanced-learn in /home/ec2-user/anaconda3/envs/python3/lib/python3.6/site-packages (from -r requirements.txt (line 8)) (0.7.0)\n",
      "Requirement already satisfied: category_encoders in /home/ec2-user/anaconda3/envs/python3/lib/python3.6/site-packages (from -r requirements.txt (line 9)) (2.2.2)\n",
      "Requirement already satisfied: seaborn in /home/ec2-user/anaconda3/envs/python3/lib/python3.6/site-packages (from -r requirements.txt (line 10)) (0.10.0)\n",
      "Requirement already satisfied: pyarrow in /home/ec2-user/anaconda3/envs/python3/lib/python3.6/site-packages (from -r requirements.txt (line 11)) (2.0.0)\n",
      "Requirement already satisfied: python-dateutil>=2.6.1 in /home/ec2-user/anaconda3/envs/python3/lib/python3.6/site-packages (from pandas->-r requirements.txt (line 2)) (2.8.1)\n",
      "Requirement already satisfied: pytz>=2017.2 in /home/ec2-user/anaconda3/envs/python3/lib/python3.6/site-packages (from pandas->-r requirements.txt (line 2)) (2019.3)\n",
      "Requirement already satisfied: pyparsing!=2.0.4,!=2.1.2,!=2.1.6,>=2.0.1 in /home/ec2-user/anaconda3/envs/python3/lib/python3.6/site-packages (from matplotlib->-r requirements.txt (line 3)) (2.4.6)\n",
      "Requirement already satisfied: cycler>=0.10 in /home/ec2-user/anaconda3/envs/python3/lib/python3.6/site-packages (from matplotlib->-r requirements.txt (line 3)) (0.10.0)\n",
      "Requirement already satisfied: kiwisolver>=1.0.1 in /home/ec2-user/anaconda3/envs/python3/lib/python3.6/site-packages (from matplotlib->-r requirements.txt (line 3)) (1.1.0)\n",
      "Requirement already satisfied: jupyter-console in /home/ec2-user/anaconda3/envs/python3/lib/python3.6/site-packages (from jupyter->-r requirements.txt (line 4)) (6.1.0)\n",
      "Requirement already satisfied: ipykernel in /home/ec2-user/anaconda3/envs/python3/lib/python3.6/site-packages (from jupyter->-r requirements.txt (line 4)) (5.1.4)\n",
      "Requirement already satisfied: qtconsole in /home/ec2-user/anaconda3/envs/python3/lib/python3.6/site-packages (from jupyter->-r requirements.txt (line 4)) (4.6.0)\n",
      "Requirement already satisfied: nbconvert in /home/ec2-user/anaconda3/envs/python3/lib/python3.6/site-packages (from jupyter->-r requirements.txt (line 4)) (5.6.1)\n",
      "Requirement already satisfied: notebook in /home/ec2-user/anaconda3/envs/python3/lib/python3.6/site-packages (from jupyter->-r requirements.txt (line 4)) (6.0.3)\n",
      "Requirement already satisfied: ipywidgets in /home/ec2-user/anaconda3/envs/python3/lib/python3.6/site-packages (from jupyter->-r requirements.txt (line 4)) (7.5.1)\n",
      "Requirement already satisfied: jmespath<1.0.0,>=0.7.1 in /home/ec2-user/anaconda3/envs/python3/lib/python3.6/site-packages (from boto3->-r requirements.txt (line 5)) (0.10.0)\n",
      "Requirement already satisfied: botocore<1.20.0,>=1.19.6 in /home/ec2-user/anaconda3/envs/python3/lib/python3.6/site-packages (from boto3->-r requirements.txt (line 5)) (1.19.6)\n",
      "Requirement already satisfied: s3transfer<0.4.0,>=0.3.0 in /home/ec2-user/anaconda3/envs/python3/lib/python3.6/site-packages (from boto3->-r requirements.txt (line 5)) (0.3.3)\n",
      "Requirement already satisfied: scipy>=0.19.0 in /home/ec2-user/anaconda3/envs/python3/lib/python3.6/site-packages (from sagemaker->-r requirements.txt (line 6)) (1.4.1)\n",
      "Requirement already satisfied: protobuf>=3.1 in /home/ec2-user/anaconda3/envs/python3/lib/python3.6/site-packages (from sagemaker->-r requirements.txt (line 6)) (3.11.4)\n",
      "Requirement already satisfied: importlib-metadata>=1.4.0 in /home/ec2-user/anaconda3/envs/python3/lib/python3.6/site-packages (from sagemaker->-r requirements.txt (line 6)) (1.5.0)\n",
      "Requirement already satisfied: packaging>=20.0 in /home/ec2-user/anaconda3/envs/python3/lib/python3.6/site-packages (from sagemaker->-r requirements.txt (line 6)) (20.1)\n",
      "Requirement already satisfied: smdebug-rulesconfig==0.1.4 in /home/ec2-user/anaconda3/envs/python3/lib/python3.6/site-packages (from sagemaker->-r requirements.txt (line 6)) (0.1.4)\n",
      "Requirement already satisfied: protobuf3-to-dict>=0.1.5 in /home/ec2-user/anaconda3/envs/python3/lib/python3.6/site-packages (from sagemaker->-r requirements.txt (line 6)) (0.1.5)\n",
      "Requirement already satisfied: threadpoolctl>=2.0.0 in /home/ec2-user/anaconda3/envs/python3/lib/python3.6/site-packages (from scikit-learn==0.23.1->-r requirements.txt (line 7)) (2.1.0)\n",
      "Requirement already satisfied: joblib>=0.11 in /home/ec2-user/anaconda3/envs/python3/lib/python3.6/site-packages (from scikit-learn==0.23.1->-r requirements.txt (line 7)) (0.14.1)\n",
      "Requirement already satisfied: statsmodels>=0.9.0 in /home/ec2-user/anaconda3/envs/python3/lib/python3.6/site-packages (from category_encoders->-r requirements.txt (line 9)) (0.11.0)\n",
      "Requirement already satisfied: patsy>=0.5.1 in /home/ec2-user/anaconda3/envs/python3/lib/python3.6/site-packages (from category_encoders->-r requirements.txt (line 9)) (0.5.1)\n",
      "Requirement already satisfied: six>=1.5 in /home/ec2-user/anaconda3/envs/python3/lib/python3.6/site-packages (from python-dateutil>=2.6.1->pandas->-r requirements.txt (line 2)) (1.14.0)\n",
      "Requirement already satisfied: setuptools in /home/ec2-user/anaconda3/envs/python3/lib/python3.6/site-packages (from kiwisolver>=1.0.1->matplotlib->-r requirements.txt (line 3)) (45.2.0.post20200210)\n",
      "Requirement already satisfied: jupyter-client in /home/ec2-user/anaconda3/envs/python3/lib/python3.6/site-packages (from jupyter-console->jupyter->-r requirements.txt (line 4)) (5.3.4)\n",
      "Requirement already satisfied: pygments in /home/ec2-user/anaconda3/envs/python3/lib/python3.6/site-packages (from jupyter-console->jupyter->-r requirements.txt (line 4)) (2.5.2)\n",
      "Requirement already satisfied: ipython in /home/ec2-user/anaconda3/envs/python3/lib/python3.6/site-packages (from jupyter-console->jupyter->-r requirements.txt (line 4)) (7.12.0)\n",
      "Requirement already satisfied: prompt-toolkit!=3.0.0,!=3.0.1,<3.1.0,>=2.0.0 in /home/ec2-user/anaconda3/envs/python3/lib/python3.6/site-packages (from jupyter-console->jupyter->-r requirements.txt (line 4)) (3.0.3)\n",
      "Requirement already satisfied: traitlets>=4.1.0 in /home/ec2-user/anaconda3/envs/python3/lib/python3.6/site-packages (from ipykernel->jupyter->-r requirements.txt (line 4)) (4.3.3)\n",
      "Requirement already satisfied: tornado>=4.2 in /home/ec2-user/anaconda3/envs/python3/lib/python3.6/site-packages (from ipykernel->jupyter->-r requirements.txt (line 4)) (6.0.3)\n",
      "Requirement already satisfied: jupyter-core in /home/ec2-user/anaconda3/envs/python3/lib/python3.6/site-packages (from qtconsole->jupyter->-r requirements.txt (line 4)) (4.6.1)\n",
      "Requirement already satisfied: ipython-genutils in /home/ec2-user/anaconda3/envs/python3/lib/python3.6/site-packages (from qtconsole->jupyter->-r requirements.txt (line 4)) (0.2.0)\n",
      "Requirement already satisfied: entrypoints>=0.2.2 in /home/ec2-user/anaconda3/envs/python3/lib/python3.6/site-packages (from nbconvert->jupyter->-r requirements.txt (line 4)) (0.3)\n",
      "Requirement already satisfied: defusedxml in /home/ec2-user/anaconda3/envs/python3/lib/python3.6/site-packages (from nbconvert->jupyter->-r requirements.txt (line 4)) (0.6.0)\n",
      "Requirement already satisfied: testpath in /home/ec2-user/anaconda3/envs/python3/lib/python3.6/site-packages (from nbconvert->jupyter->-r requirements.txt (line 4)) (0.4.4)\n",
      "Requirement already satisfied: bleach in /home/ec2-user/anaconda3/envs/python3/lib/python3.6/site-packages (from nbconvert->jupyter->-r requirements.txt (line 4)) (3.2.1)\n",
      "Requirement already satisfied: mistune<2,>=0.8.1 in /home/ec2-user/anaconda3/envs/python3/lib/python3.6/site-packages (from nbconvert->jupyter->-r requirements.txt (line 4)) (0.8.4)\n",
      "Requirement already satisfied: nbformat>=4.4 in /home/ec2-user/anaconda3/envs/python3/lib/python3.6/site-packages (from nbconvert->jupyter->-r requirements.txt (line 4)) (5.0.4)\n",
      "Requirement already satisfied: jinja2>=2.4 in /home/ec2-user/anaconda3/envs/python3/lib/python3.6/site-packages (from nbconvert->jupyter->-r requirements.txt (line 4)) (2.11.1)\n",
      "Requirement already satisfied: pandocfilters>=1.4.1 in /home/ec2-user/anaconda3/envs/python3/lib/python3.6/site-packages (from nbconvert->jupyter->-r requirements.txt (line 4)) (1.4.2)\n",
      "Requirement already satisfied: pyzmq>=17 in /home/ec2-user/anaconda3/envs/python3/lib/python3.6/site-packages (from notebook->jupyter->-r requirements.txt (line 4)) (18.1.1)\n",
      "Requirement already satisfied: Send2Trash in /home/ec2-user/anaconda3/envs/python3/lib/python3.6/site-packages (from notebook->jupyter->-r requirements.txt (line 4)) (1.5.0)\n",
      "Requirement already satisfied: terminado>=0.8.1 in /home/ec2-user/anaconda3/envs/python3/lib/python3.6/site-packages (from notebook->jupyter->-r requirements.txt (line 4)) (0.8.3)\n",
      "Requirement already satisfied: prometheus-client in /home/ec2-user/anaconda3/envs/python3/lib/python3.6/site-packages (from notebook->jupyter->-r requirements.txt (line 4)) (0.7.1)\n",
      "Requirement already satisfied: widgetsnbextension~=3.5.0 in /home/ec2-user/anaconda3/envs/python3/lib/python3.6/site-packages (from ipywidgets->jupyter->-r requirements.txt (line 4)) (3.5.1)\n",
      "Requirement already satisfied: urllib3<1.26,>=1.25.4; python_version != \"3.4\" in /home/ec2-user/anaconda3/envs/python3/lib/python3.6/site-packages (from botocore<1.20.0,>=1.19.6->boto3->-r requirements.txt (line 5)) (1.25.10)\n",
      "Requirement already satisfied: zipp>=0.5 in /home/ec2-user/anaconda3/envs/python3/lib/python3.6/site-packages (from importlib-metadata>=1.4.0->sagemaker->-r requirements.txt (line 6)) (2.2.0)\n",
      "Requirement already satisfied: pexpect; sys_platform != \"win32\" in /home/ec2-user/anaconda3/envs/python3/lib/python3.6/site-packages (from ipython->jupyter-console->jupyter->-r requirements.txt (line 4)) (4.8.0)\n",
      "Requirement already satisfied: jedi>=0.10 in /home/ec2-user/anaconda3/envs/python3/lib/python3.6/site-packages (from ipython->jupyter-console->jupyter->-r requirements.txt (line 4)) (0.14.1)\n",
      "Requirement already satisfied: backcall in /home/ec2-user/anaconda3/envs/python3/lib/python3.6/site-packages (from ipython->jupyter-console->jupyter->-r requirements.txt (line 4)) (0.1.0)\n",
      "Requirement already satisfied: decorator in /home/ec2-user/anaconda3/envs/python3/lib/python3.6/site-packages (from ipython->jupyter-console->jupyter->-r requirements.txt (line 4)) (4.4.1)\n",
      "Requirement already satisfied: pickleshare in /home/ec2-user/anaconda3/envs/python3/lib/python3.6/site-packages (from ipython->jupyter-console->jupyter->-r requirements.txt (line 4)) (0.7.5)\n",
      "Requirement already satisfied: wcwidth in /home/ec2-user/anaconda3/envs/python3/lib/python3.6/site-packages (from prompt-toolkit!=3.0.0,!=3.0.1,<3.1.0,>=2.0.0->jupyter-console->jupyter->-r requirements.txt (line 4)) (0.1.8)\n",
      "Requirement already satisfied: webencodings in /home/ec2-user/anaconda3/envs/python3/lib/python3.6/site-packages (from bleach->nbconvert->jupyter->-r requirements.txt (line 4)) (0.5.1)\n",
      "Requirement already satisfied: jsonschema!=2.5.0,>=2.4 in /home/ec2-user/anaconda3/envs/python3/lib/python3.6/site-packages (from nbformat>=4.4->nbconvert->jupyter->-r requirements.txt (line 4)) (3.2.0)\n",
      "Requirement already satisfied: MarkupSafe>=0.23 in /home/ec2-user/anaconda3/envs/python3/lib/python3.6/site-packages (from jinja2>=2.4->nbconvert->jupyter->-r requirements.txt (line 4)) (1.1.1)\n",
      "Requirement already satisfied: ptyprocess>=0.5 in /home/ec2-user/anaconda3/envs/python3/lib/python3.6/site-packages (from pexpect; sys_platform != \"win32\"->ipython->jupyter-console->jupyter->-r requirements.txt (line 4)) (0.6.0)\n",
      "Requirement already satisfied: parso>=0.5.0 in /home/ec2-user/anaconda3/envs/python3/lib/python3.6/site-packages (from jedi>=0.10->ipython->jupyter-console->jupyter->-r requirements.txt (line 4)) (0.5.2)\n",
      "Requirement already satisfied: attrs>=17.4.0 in /home/ec2-user/anaconda3/envs/python3/lib/python3.6/site-packages (from jsonschema!=2.5.0,>=2.4->nbformat>=4.4->nbconvert->jupyter->-r requirements.txt (line 4)) (19.3.0)\n",
      "Requirement already satisfied: pyrsistent>=0.14.0 in /home/ec2-user/anaconda3/envs/python3/lib/python3.6/site-packages (from jsonschema!=2.5.0,>=2.4->nbformat>=4.4->nbconvert->jupyter->-r requirements.txt (line 4)) (0.15.7)\n",
      "\u001b[33mWARNING: You are using pip version 20.0.2; however, version 20.2.4 is available.\n",
      "You should consider upgrading via the '/home/ec2-user/anaconda3/envs/python3/bin/python -m pip install --upgrade pip' command.\u001b[0m\n",
      "CPU times: user 64.2 ms, sys: 10.4 ms, total: 74.6 ms\n",
      "Wall time: 2.31 s\n"
     ]
    }
   ],
   "source": [
    "%%time\n",
    "import sys;\n",
    "import datetime\n",
    "print('Starting at', datetime.datetime.now())\n",
    "!{sys.executable} -m pip install -r requirements.txt\n",
    " "
   ]
  },
  {
   "cell_type": "code",
   "execution_count": 2,
   "metadata": {
    "isConfigCell": true
   },
   "outputs": [
    {
     "name": "stdout",
     "output_type": "stream",
     "text": [
      "Role arn:aws:iam::649592902942:role/service-role/AmazonSageMaker-ExecutionRole-20201021T144991\n",
      "Bucket sagemaker-jfox in region eu-west-1\n",
      "CPU times: user 795 ms, sys: 56.6 ms, total: 852 ms\n",
      "Wall time: 2.88 s\n"
     ]
    }
   ],
   "source": [
    "%%time\n",
    "import boto3\n",
    "import sagemaker\n",
    "\n",
    "session = sagemaker.Session() \n",
    "region = session.boto_region_name \n",
    "\n",
    "bucket = 'sagemaker-jfox'\n",
    " \n",
    "prefix = 'sagemaker/xgboost'\n",
    "role = sagemaker.get_execution_role()\n",
    "print('Role', role)\n",
    "print(f'Bucket {bucket} in region {region}')"
   ]
  },
  {
   "cell_type": "markdown",
   "metadata": {},
   "source": [
    "\n"
   ]
  },
  {
   "cell_type": "code",
   "execution_count": 3,
   "metadata": {},
   "outputs": [
    {
     "name": "stdout",
     "output_type": "stream",
     "text": [
      "CPU times: user 1.86 s, sys: 582 ms, total: 2.44 s\n",
      "Wall time: 2.55 s\n"
     ]
    }
   ],
   "source": [
    "%%time\n",
    "import random\n",
    "import pandas as pd\n",
    "import pyarrow.parquet as pq\n",
    "\n",
    "raw_data_filename = 'frauddetection.parquet.snappy'\n",
    "\n",
    "s3 = boto3.resource('s3', region_name=region)\n",
    "s3.Bucket(bucket).download_file('prepareddata/datapreparation_18Nov2020_1605714029944/datapreparation_18Nov2020_1605714029944_part00000.parquet.snappy',\n",
    "                                raw_data_filename)\n",
    " "
   ]
  },
  {
   "cell_type": "code",
   "execution_count": 4,
   "metadata": {},
   "outputs": [],
   "source": [
    "table = pq.read_table(raw_data_filename)\n",
    "df=table.to_pandas()\n",
    "pd.set_option('display.max_rows', 10) \n",
    "pd.set_option('display.width', 1000)\n",
    "\n",
    "print(len(df), 'Data items')"
   ]
  },
  {
   "cell_type": "code",
   "execution_count": 4,
   "metadata": {},
   "outputs": [],
   "source": [
    "target_col='Fraudulent'"
   ]
  },
  {
   "cell_type": "code",
   "execution_count": 4,
   "metadata": {},
   "outputs": [
    {
     "name": "stdout",
     "output_type": "stream",
     "text": [
      "Length 2811841\n"
     ]
    }
   ],
   "source": []
  },
  {
   "cell_type": "code",
   "execution_count": 5,
   "metadata": {},
   "outputs": [],
   "source": [
    "df = df.rename(columns = {'isFraud': target_col,\n",
    "                          'type_CASH_OUT': 'type_CashOut',\n",
    "                          'type_TRANSFER': 'type_Transfer',\n",
    "                          'oldbalanceOrg_nml': 'originOldBalance',\n",
    "                          'oldBalanceOrigSign': 'originOldBalanceSign', \n",
    "                          'newbalanceOrig_nml': 'originNewBalance',\n",
    "                          'negDeltaOrigin_nml': 'negativeDeltaInOrigin', \n",
    "                          'oldbalanceDest_nml': 'destinationOldBalance',\n",
    "                          'newbalanceDest_nml': 'destinationNewBalance',\n",
    "                          'expectedNewBalDest_nml': 'destinationExpectedNewBalance',#based on old value and delta   \n",
    "                          'amount_nml': 'amount',\n",
    "                         'hourOf24_radians': 'hourOf24_radians',# To be deleted after calculation\n",
    "                          'isFlaggedFraud':'FlaggedFraud'#To be deleted\n",
    "\n",
    "                         })\n"
   ]
  },
  {
   "cell_type": "code",
   "execution_count": null,
   "metadata": {},
   "outputs": [],
   "source": []
  },
  {
   "cell_type": "markdown",
   "metadata": {},
   "source": [
    "All `isFraud` rows have `type` `TRANSFER` or `CASH_OUT`, never  `CASH_IN` or `PAYMENT`. Filter these out."
   ]
  },
  {
   "cell_type": "markdown",
   "metadata": {},
   "source": [
    "Counts of each class to determine imbalance."
   ]
  },
  {
   "cell_type": "code",
   "execution_count": 6,
   "metadata": {},
   "outputs": [
    {
     "name": "stdout",
     "output_type": "stream",
     "text": [
      "Fraud 8213 ; Not fraud 2803628 ; Total 2811841\n"
     ]
    }
   ],
   "source": [
    "def count_positive_and_negative(df):\n",
    "    num_positive = len(df.loc[  df[target_col] == 1 ])\n",
    "    num_negative = len(df) - num_positive\n",
    "    return num_positive, num_negative\n",
    "\n",
    "num_positive, num_negative = count_positive_and_negative(df)\n",
    "\n",
    "print('Fraud', num_positive, '; Not fraud', num_negative, '; Total', len(df))"
   ]
  },
  {
   "cell_type": "markdown",
   "metadata": {},
   "source": [
    " "
   ]
  },
  {
   "cell_type": "markdown",
   "metadata": {},
   "source": []
  },
  {
   "cell_type": "markdown",
   "metadata": {},
   "source": [
    "Plot distribution of positive vs negative, in log scale because of the imbalance"
   ]
  },
  {
   "cell_type": "code",
   "execution_count": 7,
   "metadata": {},
   "outputs": [
    {
     "data": {
      "image/png": "[encoded data removed]",
      "text/plain": [
       "<Figure size 360x360 with 1 Axes>"
      ]
     },
     "metadata": {},
     "output_type": "display_data"
    }
   ],
   "source": [
    "import math\n",
    "import matplotlib.pyplot as plt   \n",
    "def plot_positive_negative_counts(df, target_col):\n",
    "        df[target_col].value_counts().plot.pie(figsize=(5, 5), autopct='%.1f')\n",
    "        plt.title('Non-fraud vs fraud')\n",
    "        plt.tight_layout()\n",
    "    \n",
    "plot_positive_negative_counts(df,target_col)"
   ]
  },
  {
   "cell_type": "markdown",
   "metadata": {},
   "source": [
    " "
   ]
  },
  {
   "cell_type": "markdown",
   "metadata": {},
   "source": [
    "Check that target is on the left, per Sagemaker standard"
   ]
  },
  {
   "cell_type": "code",
   "execution_count": 8,
   "metadata": {},
   "outputs": [],
   "source": [
    "cols = df.columns.tolist()\n",
    "assert cols[0]==target_col"
   ]
  },
  {
   "cell_type": "markdown",
   "metadata": {},
   "source": [
    "Transform hour of day to a form suited for cyclical data"
   ]
  },
  {
   "cell_type": "code",
   "execution_count": 9,
   "metadata": {},
   "outputs": [
    {
     "data": {
      "text/html": [
       "<div>\n",
       "<style scoped>\n",
       "    .dataframe tbody tr th:only-of-type {\n",
       "        vertical-align: middle;\n",
       "    }\n",
       "\n",
       "    .dataframe tbody tr th {\n",
       "        vertical-align: top;\n",
       "    }\n",
       "\n",
       "    .dataframe thead th {\n",
       "        text-align: right;\n",
       "    }\n",
       "</style>\n",
       "<table border=\"1\" class=\"dataframe\">\n",
       "  <thead>\n",
       "    <tr style=\"text-align: right;\">\n",
       "      <th></th>\n",
       "      <th>Fraudulent</th>\n",
       "      <th>type_CashOut</th>\n",
       "      <th>type_Transfer</th>\n",
       "      <th>amount_nml</th>\n",
       "      <th>originOldBalance</th>\n",
       "      <th>originOldBalanceSign</th>\n",
       "      <th>originNewBalance</th>\n",
       "      <th>negativeDeltaInOrigin</th>\n",
       "      <th>destinationOldBalance</th>\n",
       "      <th>destinationExpectedNewBalance</th>\n",
       "      <th>destinationNewBalance</th>\n",
       "      <th>hour24sin</th>\n",
       "      <th>hour24cos</th>\n",
       "    </tr>\n",
       "  </thead>\n",
       "  <tbody>\n",
       "    <tr>\n",
       "      <th>0</th>\n",
       "      <td>1</td>\n",
       "      <td>0</td>\n",
       "      <td>1</td>\n",
       "      <td>-0.354589</td>\n",
       "      <td>-0.191052</td>\n",
       "      <td>1</td>\n",
       "      <td>-0.111225</td>\n",
       "      <td>-0.190358</td>\n",
       "      <td>-0.402183</td>\n",
       "      <td>-0.440087</td>\n",
       "      <td>-0.436902</td>\n",
       "      <td>0.258626</td>\n",
       "      <td>0.965977</td>\n",
       "    </tr>\n",
       "    <tr>\n",
       "      <th>1</th>\n",
       "      <td>1</td>\n",
       "      <td>1</td>\n",
       "      <td>0</td>\n",
       "      <td>-0.354589</td>\n",
       "      <td>-0.191052</td>\n",
       "      <td>1</td>\n",
       "      <td>-0.111225</td>\n",
       "      <td>-0.190358</td>\n",
       "      <td>-0.397173</td>\n",
       "      <td>-0.435456</td>\n",
       "      <td>-0.436902</td>\n",
       "      <td>0.258626</td>\n",
       "      <td>0.965977</td>\n",
       "    </tr>\n",
       "    <tr>\n",
       "      <th>2</th>\n",
       "      <td>0</td>\n",
       "      <td>0</td>\n",
       "      <td>0</td>\n",
       "      <td>-0.348742</td>\n",
       "      <td>-0.024926</td>\n",
       "      <td>1</td>\n",
       "      <td>0.129430</td>\n",
       "      <td>-0.158648</td>\n",
       "      <td>-0.392274</td>\n",
       "      <td>-0.429800</td>\n",
       "      <td>-0.428269</td>\n",
       "      <td>0.258626</td>\n",
       "      <td>0.965977</td>\n",
       "    </tr>\n",
       "    <tr>\n",
       "      <th>3</th>\n",
       "      <td>0</td>\n",
       "      <td>0</td>\n",
       "      <td>0</td>\n",
       "      <td>-0.343859</td>\n",
       "      <td>-0.173919</td>\n",
       "      <td>1</td>\n",
       "      <td>-0.111225</td>\n",
       "      <td>-0.164015</td>\n",
       "      <td>-0.399618</td>\n",
       "      <td>-0.435647</td>\n",
       "      <td>-0.403098</td>\n",
       "      <td>0.258626</td>\n",
       "      <td>0.965977</td>\n",
       "    </tr>\n",
       "    <tr>\n",
       "      <th>4</th>\n",
       "      <td>0</td>\n",
       "      <td>1</td>\n",
       "      <td>0</td>\n",
       "      <td>-0.095013</td>\n",
       "      <td>-0.130487</td>\n",
       "      <td>1</td>\n",
       "      <td>-0.111225</td>\n",
       "      <td>-0.097235</td>\n",
       "      <td>-0.400981</td>\n",
       "      <td>-0.388926</td>\n",
       "      <td>-0.425880</td>\n",
       "      <td>0.258626</td>\n",
       "      <td>0.965977</td>\n",
       "    </tr>\n",
       "    <tr>\n",
       "      <th>...</th>\n",
       "      <td>...</td>\n",
       "      <td>...</td>\n",
       "      <td>...</td>\n",
       "      <td>...</td>\n",
       "      <td>...</td>\n",
       "      <td>...</td>\n",
       "      <td>...</td>\n",
       "      <td>...</td>\n",
       "      <td>...</td>\n",
       "      <td>...</td>\n",
       "      <td>...</td>\n",
       "      <td>...</td>\n",
       "      <td>...</td>\n",
       "    </tr>\n",
       "    <tr>\n",
       "      <th>2811836</th>\n",
       "      <td>1</td>\n",
       "      <td>1</td>\n",
       "      <td>0</td>\n",
       "      <td>0.030321</td>\n",
       "      <td>1.166709</td>\n",
       "      <td>1</td>\n",
       "      <td>-0.111225</td>\n",
       "      <td>1.897298</td>\n",
       "      <td>-0.402183</td>\n",
       "      <td>-0.365872</td>\n",
       "      <td>-0.364218</td>\n",
       "      <td>-0.263246</td>\n",
       "      <td>0.964729</td>\n",
       "    </tr>\n",
       "    <tr>\n",
       "      <th>2811837</th>\n",
       "      <td>1</td>\n",
       "      <td>0</td>\n",
       "      <td>1</td>\n",
       "      <td>6.800773</td>\n",
       "      <td>25.049330</td>\n",
       "      <td>1</td>\n",
       "      <td>-0.111225</td>\n",
       "      <td>38.618570</td>\n",
       "      <td>-0.402183</td>\n",
       "      <td>0.939546</td>\n",
       "      <td>-0.436902</td>\n",
       "      <td>-0.263246</td>\n",
       "      <td>0.964729</td>\n",
       "    </tr>\n",
       "    <tr>\n",
       "      <th>2811838</th>\n",
       "      <td>1</td>\n",
       "      <td>1</td>\n",
       "      <td>0</td>\n",
       "      <td>6.800773</td>\n",
       "      <td>25.049330</td>\n",
       "      <td>1</td>\n",
       "      <td>-0.111225</td>\n",
       "      <td>38.618570</td>\n",
       "      <td>-0.385985</td>\n",
       "      <td>0.954518</td>\n",
       "      <td>0.928245</td>\n",
       "      <td>-0.263246</td>\n",
       "      <td>0.964729</td>\n",
       "    </tr>\n",
       "    <tr>\n",
       "      <th>2811839</th>\n",
       "      <td>1</td>\n",
       "      <td>0</td>\n",
       "      <td>1</td>\n",
       "      <td>0.608897</td>\n",
       "      <td>3.207624</td>\n",
       "      <td>1</td>\n",
       "      <td>-0.111225</td>\n",
       "      <td>5.035354</td>\n",
       "      <td>-0.402183</td>\n",
       "      <td>-0.254316</td>\n",
       "      <td>-0.436902</td>\n",
       "      <td>-0.263246</td>\n",
       "      <td>0.964729</td>\n",
       "    </tr>\n",
       "    <tr>\n",
       "      <th>2811840</th>\n",
       "      <td>1</td>\n",
       "      <td>1</td>\n",
       "      <td>0</td>\n",
       "      <td>0.608897</td>\n",
       "      <td>3.207624</td>\n",
       "      <td>1</td>\n",
       "      <td>-0.111225</td>\n",
       "      <td>5.035354</td>\n",
       "      <td>1.137557</td>\n",
       "      <td>1.168790</td>\n",
       "      <td>1.137985</td>\n",
       "      <td>-0.263246</td>\n",
       "      <td>0.964729</td>\n",
       "    </tr>\n",
       "  </tbody>\n",
       "</table>\n",
       "<p>2811841 rows × 13 columns</p>\n",
       "</div>"
      ],
      "text/plain": [
       "         Fraudulent  type_CashOut  type_Transfer  amount_nml  originOldBalance  originOldBalanceSign  originNewBalance  negativeDeltaInOrigin  destinationOldBalance  destinationExpectedNewBalance  destinationNewBalance  hour24sin  hour24cos\n",
       "0                 1             0              1   -0.354589         -0.191052                     1         -0.111225              -0.190358              -0.402183                      -0.440087              -0.436902   0.258626   0.965977\n",
       "1                 1             1              0   -0.354589         -0.191052                     1         -0.111225              -0.190358              -0.397173                      -0.435456              -0.436902   0.258626   0.965977\n",
       "2                 0             0              0   -0.348742         -0.024926                     1          0.129430              -0.158648              -0.392274                      -0.429800              -0.428269   0.258626   0.965977\n",
       "3                 0             0              0   -0.343859         -0.173919                     1         -0.111225              -0.164015              -0.399618                      -0.435647              -0.403098   0.258626   0.965977\n",
       "4                 0             1              0   -0.095013         -0.130487                     1         -0.111225              -0.097235              -0.400981                      -0.388926              -0.425880   0.258626   0.965977\n",
       "...             ...           ...            ...         ...               ...                   ...               ...                    ...                    ...                            ...                    ...        ...        ...\n",
       "2811836           1             1              0    0.030321          1.166709                     1         -0.111225               1.897298              -0.402183                      -0.365872              -0.364218  -0.263246   0.964729\n",
       "2811837           1             0              1    6.800773         25.049330                     1         -0.111225              38.618570              -0.402183                       0.939546              -0.436902  -0.263246   0.964729\n",
       "2811838           1             1              0    6.800773         25.049330                     1         -0.111225              38.618570              -0.385985                       0.954518               0.928245  -0.263246   0.964729\n",
       "2811839           1             0              1    0.608897          3.207624                     1         -0.111225               5.035354              -0.402183                      -0.254316              -0.436902  -0.263246   0.964729\n",
       "2811840           1             1              0    0.608897          3.207624                     1         -0.111225               5.035354               1.137557                       1.168790               1.137985  -0.263246   0.964729\n",
       "\n",
       "[2811841 rows x 13 columns]"
      ]
     },
     "execution_count": 9,
     "metadata": {},
     "output_type": "execute_result"
    }
   ],
   "source": [
    "import numpy as np\n",
    "hours_col = 'hourOf24_radians'\n",
    "df['sineHourInDay'] = np.sin(df[hours_col])\n",
    "df['cosineHourInDay'] = np.cos(df[hours_col])\n",
    "df = df.drop(hours_col, axis=1)\n",
    "df"
   ]
  },
  {
   "cell_type": "code",
   "execution_count": 11,
   "metadata": {},
   "outputs": [
    {
     "data": {
      "image/png": "[encoded data removed]",
      "text/plain": [
       "<Figure size 1080x360 with 4 Axes>"
      ]
     },
     "metadata": {
      "needs_background": "light"
     },
     "output_type": "display_data"
    }
   ],
   "source": [
    "import seaborn  \n",
    "\n",
    "fig, axes = plt.subplots( 1,2, figsize=(15,5))\n",
    "\n",
    "def heatmap(fraud_cases):\n",
    "    lbl='Fraud' if  fraud_cases else 'Non-fraud'\n",
    "    # Coerced to int, below\n",
    "    axes[1-fraud_cases].set_title(f'{lbl} cases: Heatmap')\n",
    "    seaborn.heatmap(df.query(f'{target_col} == {fraud_cases}').drop([target_col], 1).corr(),  cmap='Oranges', ax=axes[1-fraud_cases])\n",
    "\n",
    "heatmap(True)\n",
    "heatmap(False)\n",
    "\n",
    "plt.show()"
   ]
  },
  {
   "cell_type": "markdown",
   "metadata": {},
   "source": []
  },
  {
   "cell_type": "markdown",
   "metadata": {},
   "source": [
    "Optionally use *SMOTENC* for unbalanced classes, though we may stick with the XGBoost parameters."
   ]
  },
  {
   "cell_type": "code",
   "execution_count": 12,
   "metadata": {},
   "outputs": [
    {
     "name": "stdout",
     "output_type": "stream",
     "text": [
      "CPU times: user 111 ms, sys: 0 ns, total: 111 ms\n",
      "Wall time: 110 ms\n"
     ]
    }
   ],
   "source": [
    "%%time \n",
    "\n",
    "from imblearn.over_sampling import SMOTENC\n",
    "\n",
    "use_smote = False # Can just use weighting in XGBOOST instead of SMOTENC\n",
    "\n",
    "if use_smote:\n",
    "   ycol=target_col\n",
    "   Xcol=list(df.columns)\n",
    "   Xcol.remove(ycol)\n",
    " \n",
    "   categorical_columns=[i for i in range(len(Xcol)) \n",
    "                     if Xcol[i] not in ['step','amount','oldbalanceOrg','newbalanceOrig','oldbalanceDest','newbalanceDest']]\n",
    "\n",
    "   smotenc = SMOTENC(categorical_columns,random_state = 101)\n",
    "\n",
    "   X, y = smotenc.fit_resample(df[Xcol], df[ycol])\n",
    "   y_df = pd.DataFrame({target_col: y} )\n",
    "\n",
    "   df = pd.concat([X, y_df], axis=1)"
   ]
  },
  {
   "cell_type": "markdown",
   "metadata": {},
   "source": [
    "# Split  with randomization"
   ]
  },
  {
   "cell_type": "code",
   "execution_count": 13,
   "metadata": {},
   "outputs": [],
   "source": [
    "import numpy as np\n",
    "len_ = len(df)\n",
    "train_data, validation_data, test_data = np.split(df.sample(frac=1, random_state=1729), [int(0.7 * len_), int(0.9 * len_)])"
   ]
  },
  {
   "cell_type": "markdown",
   "metadata": {},
   "source": [
    "Using libSVM for performance."
   ]
  },
  {
   "cell_type": "code",
   "execution_count": null,
   "metadata": {},
   "outputs": [],
   "source": [
    "%%time\n",
    "from sklearn.datasets import dump_svmlight_file   \n",
    "\n",
    "lengths = [] \n",
    "\n",
    "for d in [(train_data, 'train.libsvm'), ( validation_data, 'validation.libsvm'), (test_data, 'test.libsvm')]:\n",
    "   dataset=d[0]\n",
    "   file_ = d[1]\n",
    "   lengths.append((d[1].split('.')[0],len(dataset)))\n",
    "   dump_svmlight_file(X=dataset.drop([target_col], axis=1), y=dataset[target_col], f=d[1])\n",
    "\n",
    "print('Length of datasets:', lengths )\n",
    "\n",
    "s3 = boto3.resource('s3', region_name=region) \n",
    "\n",
    "for filename in ['train.libsvm', 'validation.libsvm']:\n",
    "   s3.Bucket(bucket).Object(prefix + '/'+filename.split('.')[0]+'/'+filename).upload_file(filename)"
   ]
  },
  {
   "cell_type": "code",
   "execution_count": null,
   "metadata": {},
   "outputs": [],
   "source": [
    "def s3_path(subset):\n",
    "  return sagemaker.s3_input(s3_data='s3://{}/{}/{}'.format(bucket, prefix,subset), content_type='libsvm')\n",
    "\n",
    "s3_input_train = s3_path('train')\n",
    "s3_input_validation =s3_path('validation')"
   ]
  },
  {
   "cell_type": "markdown",
   "metadata": {},
   "source": [
    "---\n",
    "## Train\n",
    "\n",
    "To train, first set up the parameters for an Amazon SageMaker Estimator object, and the hyperparameters for the algorithm itself."
   ]
  },
  {
   "cell_type": "code",
   "execution_count": null,
   "metadata": {},
   "outputs": [],
   "source": [
    "from sagemaker.amazon.amazon_estimator import get_image_uri\n",
    "\n",
    "import math\n",
    "\n",
    "container = get_image_uri(region, 'xgboost','1.0-1')\n",
    "\n",
    "xgb = sagemaker.estimator.Estimator(container,\n",
    "                                    role, \n",
    "                                    base_job_name='fraud-detection-job',\n",
    "                                    train_instance_count=1, \n",
    "                                    train_instance_type='ml.m4.xlarge',\n",
    "                                    output_path='s3://{}/{}/output'.format(bucket, prefix),\n",
    "                                    sagemaker_session=session)\n",
    "num_positive, num_negative=count_positive_and_negative(train_data)\n",
    "scale_pos_weight=math.sqrt(num_negative / num_positive )\n",
    "print(f'num_positive: {num_positive}, num_negative: {num_negative}, scale_pos_weight {scale_pos_weight:.1f}')\n",
    "\n",
    "xgb.set_hyperparameters(max_depth=3,\n",
    "                        eta=0.1,\n",
    "                        gamma=4,\n",
    "                        subsample=0.5,\n",
    "                        eval_metric='aucpr',     \n",
    "                        objective='binary:logistic',\n",
    "                        scale_pos_weight=scale_pos_weight,\n",
    "                        num_round=200, \n",
    "                        silent=0)"
   ]
  },
  {
   "cell_type": "markdown",
   "metadata": {},
   "source": [
    "Run the `fit` training  or hypertuned-training job."
   ]
  },
  {
   "cell_type": "code",
   "execution_count": null,
   "metadata": {},
   "outputs": [],
   "source": [
    "%%time\n",
    "hypertune = False\n",
    "import pprint\n",
    "\n",
    "if not hypertune:\n",
    "    result = xgb.fit({'train': s3_input_train, 'validation': s3_input_validation})\n",
    "    training_job_name = xgb._current_job_name\n",
    "else:\n",
    "    import time\n",
    "\n",
    "    from sagemaker.tuner import IntegerParameter, CategoricalParameter, ContinuousParameter, HyperparameterTuner\n",
    "    hyperparameter_ranges = {'eta': ContinuousParameter(0, 1),\n",
    "                            'min_child_weight': ContinuousParameter(1, 10),\n",
    "                            'alpha': ContinuousParameter(0, 2),\n",
    "                            'max_depth': IntegerParameter(1, 10)}\n",
    "\n",
    "\n",
    "    objective_metric_name = 'validation:f1'\n",
    "\n",
    "    tuner = HyperparameterTuner(xgb,\n",
    "                            objective_metric_name,\n",
    "                            hyperparameter_ranges,\n",
    "                            max_jobs=10, \n",
    "                            base_tuning_job_name='hypertune',\n",
    "                            max_parallel_jobs=10)\n",
    "    \n",
    "    print('Starting hypertuning job')\n",
    "    tuner.fit({'train': s3_input_train, 'validation': s3_input_validation}, include_cls_metadata=False, wait=False)\n",
    "    print('Started hypertuning job', tuner.latest_tuning_job.job_name)\n",
    "\n",
    "    counter = 0\n",
    "    status = 'InProgress'\n",
    "    while status == 'InProgress':\n",
    "        tuning_job_result=boto3.client('sagemaker').describe_hyper_parameter_tuning_job(\n",
    "           HyperParameterTuningJobName=tuner.latest_tuning_job.job_name)\n",
    "        counter += 0.5\n",
    "        time.sleep(30)   \n",
    "        status = tuning_job_result['HyperParameterTuningJobStatus']\n",
    "        print(f'{counter} min., {status};', end=' ')\n",
    "        \n",
    "    if 'BestTrainingJob' in tuning_job_result:\n",
    "       training_job_name = tuning_job_result['BestTrainingJob']['TrainingJobName']\n",
    "    else:\n",
    "       raise Exception(f'No best job identified {tuning_job_result}')\n"
   ]
  },
  {
   "cell_type": "markdown",
   "metadata": {},
   "source": [
    "---\n",
    "## Host\n",
    "\n",
    "Deploy the trained model to an endpoint."
   ]
  },
  {
   "cell_type": "code",
   "execution_count": null,
   "metadata": {},
   "outputs": [],
   "source": [
    "import datetime \n",
    "import time\n",
    "\n",
    "endpoint_name = 'fraud-detect-endpoint'\n",
    "model_name = training_job_name + '-model'\n",
    "\n",
    "info = session.describe_training_job(training_job_name)\n",
    "model_data = info['ModelArtifacts']['S3ModelArtifacts']\n",
    "print(model_data)\n",
    "\n",
    "primary_container = {\n",
    "  'Image': container,\n",
    "  'ModelDataUrl': model_data\n",
    "}\n",
    "\n",
    "create_model_response = session.create_model(\n",
    "      name = model_name,\n",
    "      role = role,\n",
    "      container_defs = primary_container)\n",
    "\n",
    "\n",
    "date_sfx = \n",
    "\n",
    "endpoint_config_name = session.create_endpoint_config(name=endpoint_name + '-config-' + date_sfx,\n",
    "                                              model_name=model_name,\n",
    "                                              initial_instance_count=1,\n",
    "                                              instance_type='ml.m5.xlarge',\n",
    "                                              accelerator_type='ml.eia2.medium')\n",
    "\n",
    "client = boto3.client('sagemaker')\n",
    "counter = 0\n",
    "try_now = True\n",
    "while try_now:\n",
    "  counter += 0.5\n",
    "  try:\n",
    "     updated_endpoint = client.update_endpoint(EndpointName=endpoint_name, EndpointConfigName=endpoint_config_name)\n",
    "     try_now = False\n",
    "  except Exception as e:\n",
    "     if 'Could not find endpoint'  in str(e):\n",
    "        print('Could not find endpoint; Trying to create')\n",
    "        updated_endpoint=client.create_endpoint(EndpointName=endpoint_name, EndpointConfigName=endpoint_config_name)\n",
    "        try_now = False\n",
    "     elif 'Cannot update in-progress endpoint' in str(e):\n",
    "        print(f'{counter} min: Cannot update in-progress endpoint; retrying', end='. ')\n",
    "        time.sleep(30)\n",
    "        try_now = True\n",
    "     else:  \n",
    "        raise e\n",
    "\n",
    "endpt_status = 'Updating'\n",
    "counter = 0 \n",
    "while endpt_status in ['Updating', 'Creating']:\n",
    "    counter += 0.5\n",
    "    endpt_status = client.describe_endpoint(EndpointName=endpoint_name)['EndpointStatus']\n",
    "    print(f'{counter} min: {endpt_status} endpoint; ',end='')\n",
    "    time.sleep(30)\n",
    "\n",
    "print('Finished creating or updating endpoint')\n",
    "\n",
    "xgb_predictor = sagemaker.predictor.RealTimePredictor(endpoint=endpoint_name, sagemaker_session=sagemaker.Session())"
   ]
  },
  {
   "cell_type": "markdown",
   "metadata": {},
   "source": [
    "---\n",
    "\n",
    "## Evaluation\n",
    "\n",
    "Now that we have our hosted endpoint, we can generate predictions from  the  test data set.\n",
    "\n",
    "Compared actual to predicted values of whether the transaction was a \"fraud\" (`1`) or not (`0`).  Then we'll produce a  confusion matrix."
   ]
  },
  {
   "cell_type": "code",
   "execution_count": null,
   "metadata": {},
   "outputs": [],
   "source": [
    "xgb_predictor.content_type = 'text/x-libsvm'\n",
    "xgb_predictor.deserializer = None\n",
    "\n",
    "def do_predict(data):\n",
    "    payload = '\\n'.join(data)\n",
    "    response = xgb_predictor.predict(payload).decode('utf-8')\n",
    "    result = response.split(',')\n",
    "    preds = [float(num) for num in result]\n",
    "    preds = [round(num) for num in preds]\n",
    "    return preds\n",
    "\n",
    "def batch_predict(data, batch_size):\n",
    "    items = len(data)\n",
    "    arrs = []\n",
    "    \n",
    "    for offset in range(0, items, batch_size):\n",
    "        if offset+batch_size < items:\n",
    "            results = do_predict(data[offset:(offset+batch_size)])\n",
    "            arrs.extend(results)\n",
    "        else:\n",
    "            arrs.extend(do_predict(data[offset:items]))\n",
    "        sys.stdout.write('.')\n",
    "    return(arrs)"
   ]
  },
  {
   "cell_type": "code",
   "execution_count": null,
   "metadata": {},
   "outputs": [],
   "source": [
    "%%time\n",
    "import json\n",
    "\n",
    "with open('test.libsvm', 'r') as f:\n",
    "    payload = f.read().strip()\n",
    "\n",
    "labels = [int(line.split(' ')[0]) for line in payload.split('\\n')]\n",
    "test_data = [line for line in payload.split('\\n')]\n",
    "preds = batch_predict(test_data, 100)"
   ]
  },
  {
   "cell_type": "code",
   "execution_count": null,
   "metadata": {},
   "outputs": [],
   "source": [
    "actual_pos = sum(1 for i in range(len(labels)) if 1 == labels[i])\n",
    "actual_neg = sum(1 for i in range(len(labels)) if 0 == labels[i])\n",
    "\n",
    "pred_pos = sum(1 for i in range(len(preds)) if 1 == preds[i])\n",
    "pred_neg = sum(1 for i in range(len(preds)) if 0 == preds[i])\n",
    "\n",
    "true_pos = sum(1 for i in range(len(preds)) if preds[i] == 1 == labels[i])\n",
    "true_neg = sum(1 for i in range(len(preds)) if preds[i] == 0 == labels[i])\n",
    "\n",
    "false_pos=sum(1 for i in range(len(preds)) if preds[i] == 1 and 0 == labels[i])\n",
    "false_neg=sum(1 for i in range(len(preds)) if preds[i] == 0 and 1 == labels[i])\n",
    "\n",
    "recall = true_pos / (true_pos + false_neg)\n",
    "precision = true_pos / (true_pos + false_pos)\n",
    "f1 = (2 * precision * recall) / (precision + recall)\n",
    "error = sum(1 for i in range(len(preds)) if preds[i] != labels[i]) / float(len(preds))\n",
    "\n",
    "assert recall <= f1 <= precision or precision <= f1 <= recall \n",
    "assert true_pos + false_neg == actual_pos\n",
    "assert true_neg + false_pos == actual_neg\n",
    "#print('pred_pos', pred_pos,'pred_neg', pred_neg)\n",
    "\n",
    "assert len(preds)==len(labels)\n",
    "\n",
    "#print(len(preds), 'predictions and labels')\n",
    "\n",
    "#print('actual_pos', actual_pos, 'actual_neg', actual_neg)\n",
    "assert actual_pos + actual_neg==len(labels)\n",
    "                   \n",
    "#print('true_pos', true_pos, 'false_pos', false_pos)\n",
    "#assert  true_pos+false_pos == pred_pos\n",
    "\n",
    "#print('true_neg', true_neg, 'false_neg', false_neg )\n",
    "assert true_neg + false_neg== pred_neg\n",
    "\n",
    "#print('pred_pos+pred_neg',pred_pos+pred_neg)\n",
    "assert pred_pos + pred_neg==len(preds)\n",
    "\n",
    "print(f'Recall = {recall:.2f}')\n",
    "print(f'Precision = {precision:.2f}')\n",
    "print(f'Error rate = {error:.2f}')\n",
    "print(f'F1 = {f1:.2f}')"
   ]
  },
  {
   "cell_type": "markdown",
   "metadata": {},
   "source": [
    "Show confusion matrix."
   ]
  },
  {
   "cell_type": "code",
   "execution_count": null,
   "metadata": {},
   "outputs": [],
   "source": [
    " \n",
    "pd.crosstab(index=np.array(labels), columns=np.array(preds), rownames=['actual fraud'],  colnames=['predicted as fraud'])"
   ]
  },
  {
   "cell_type": "markdown",
   "metadata": {},
   "source": []
  },
  {
   "cell_type": "markdown",
   "metadata": {},
   "source": [
    " "
   ]
  },
  {
   "cell_type": "markdown",
   "metadata": {},
   "source": [
    "Clean up to save money"
   ]
  },
  {
   "cell_type": "code",
   "execution_count": null,
   "metadata": {},
   "outputs": [],
   "source": [
    "#session.delete_endpoint(xgb_predictor.endpoint)"
   ]
  },
  {
   "cell_type": "code",
   "execution_count": null,
   "metadata": {},
   "outputs": [],
   "source": []
  }
 ],
 "metadata": {
  "kernelspec": {
   "display_name": "conda_python3",
   "language": "python",
   "name": "conda_python3"
  },
  "language_info": {
   "codemirror_mode": {
    "name": "ipython",
    "version": 3
   },
   "file_extension": ".py",
   "mimetype": "text/x-python",
   "name": "python",
   "nbconvert_exporter": "python",
   "pygments_lexer": "ipython3",
   "version": "3.6.10"
  },
  "notice": "Copyright 2017 Amazon.com, Inc. or its affiliates. All Rights Reserved.  Licensed under the Apache License, Version 2.0 (the \"License\"). You may not use this file except in compliance with the License. A copy of the License is located at http://aws.amazon.com/apache2.0/ or in the \"license\" file accompanying this file. This file is distributed on an \"AS IS\" BASIS, WITHOUT WARRANTIES OR CONDITIONS OF ANY KIND, either express or implied. See the License for the specific language governing permissions and limitations under the License."
 },
 "nbformat": 4,
 "nbformat_minor": 4
}
