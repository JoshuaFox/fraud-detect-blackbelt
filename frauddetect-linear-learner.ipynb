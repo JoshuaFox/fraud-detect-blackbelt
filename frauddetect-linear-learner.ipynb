{
 "cells": [
  {
   "cell_type": "code",
   "execution_count": 1,
   "metadata": {},
   "outputs": [
    {
     "name": "stdout",
     "output_type": "stream",
     "text": [
      "Starting at 2020-11-22 13:55:29.188490\n",
      "Requirement already satisfied: numpy in /home/ec2-user/anaconda3/envs/python3/lib/python3.6/site-packages (from -r requirements.txt (line 1)) (1.18.1)\n",
      "Requirement already satisfied: pandas in /home/ec2-user/anaconda3/envs/python3/lib/python3.6/site-packages (from -r requirements.txt (line 2)) (1.0.1)\n",
      "Requirement already satisfied: matplotlib in /home/ec2-user/anaconda3/envs/python3/lib/python3.6/site-packages (from -r requirements.txt (line 3)) (3.1.3)\n",
      "Requirement already satisfied: jupyter in /home/ec2-user/anaconda3/envs/python3/lib/python3.6/site-packages (from -r requirements.txt (line 4)) (1.0.0)\n",
      "Requirement already satisfied: boto3 in /home/ec2-user/anaconda3/envs/python3/lib/python3.6/site-packages (from -r requirements.txt (line 5)) (1.16.9)\n",
      "Requirement already satisfied: sagemaker in /home/ec2-user/anaconda3/envs/python3/lib/python3.6/site-packages (from -r requirements.txt (line 6)) (2.16.1)\n",
      "Requirement already satisfied: scikit-learn==0.23.1 in /home/ec2-user/anaconda3/envs/python3/lib/python3.6/site-packages (from -r requirements.txt (line 7)) (0.23.1)\n",
      "Requirement already satisfied: imbalanced-learn in /home/ec2-user/anaconda3/envs/python3/lib/python3.6/site-packages (from -r requirements.txt (line 8)) (0.7.0)\n",
      "Requirement already satisfied: category_encoders in /home/ec2-user/anaconda3/envs/python3/lib/python3.6/site-packages (from -r requirements.txt (line 9)) (2.2.2)\n",
      "Requirement already satisfied: seaborn in /home/ec2-user/anaconda3/envs/python3/lib/python3.6/site-packages (from -r requirements.txt (line 10)) (0.10.0)\n",
      "Requirement already satisfied: pytz>=2017.2 in /home/ec2-user/anaconda3/envs/python3/lib/python3.6/site-packages (from pandas->-r requirements.txt (line 2)) (2019.3)\n",
      "Requirement already satisfied: python-dateutil>=2.6.1 in /home/ec2-user/anaconda3/envs/python3/lib/python3.6/site-packages (from pandas->-r requirements.txt (line 2)) (2.8.1)\n",
      "Requirement already satisfied: kiwisolver>=1.0.1 in /home/ec2-user/anaconda3/envs/python3/lib/python3.6/site-packages (from matplotlib->-r requirements.txt (line 3)) (1.1.0)\n",
      "Requirement already satisfied: pyparsing!=2.0.4,!=2.1.2,!=2.1.6,>=2.0.1 in /home/ec2-user/anaconda3/envs/python3/lib/python3.6/site-packages (from matplotlib->-r requirements.txt (line 3)) (2.4.6)\n",
      "Requirement already satisfied: cycler>=0.10 in /home/ec2-user/anaconda3/envs/python3/lib/python3.6/site-packages (from matplotlib->-r requirements.txt (line 3)) (0.10.0)\n",
      "Requirement already satisfied: ipywidgets in /home/ec2-user/anaconda3/envs/python3/lib/python3.6/site-packages (from jupyter->-r requirements.txt (line 4)) (7.5.1)\n",
      "Requirement already satisfied: notebook in /home/ec2-user/anaconda3/envs/python3/lib/python3.6/site-packages (from jupyter->-r requirements.txt (line 4)) (6.0.3)\n",
      "Requirement already satisfied: jupyter-console in /home/ec2-user/anaconda3/envs/python3/lib/python3.6/site-packages (from jupyter->-r requirements.txt (line 4)) (6.1.0)\n",
      "Requirement already satisfied: qtconsole in /home/ec2-user/anaconda3/envs/python3/lib/python3.6/site-packages (from jupyter->-r requirements.txt (line 4)) (4.6.0)\n",
      "Requirement already satisfied: ipykernel in /home/ec2-user/anaconda3/envs/python3/lib/python3.6/site-packages (from jupyter->-r requirements.txt (line 4)) (5.1.4)\n",
      "Requirement already satisfied: nbconvert in /home/ec2-user/anaconda3/envs/python3/lib/python3.6/site-packages (from jupyter->-r requirements.txt (line 4)) (5.6.1)\n",
      "Requirement already satisfied: jmespath<1.0.0,>=0.7.1 in /home/ec2-user/anaconda3/envs/python3/lib/python3.6/site-packages (from boto3->-r requirements.txt (line 5)) (0.10.0)\n",
      "Requirement already satisfied: s3transfer<0.4.0,>=0.3.0 in /home/ec2-user/anaconda3/envs/python3/lib/python3.6/site-packages (from boto3->-r requirements.txt (line 5)) (0.3.3)\n",
      "Requirement already satisfied: botocore<1.20.0,>=1.19.9 in /home/ec2-user/anaconda3/envs/python3/lib/python3.6/site-packages (from boto3->-r requirements.txt (line 5)) (1.19.9)\n",
      "Requirement already satisfied: importlib-metadata>=1.4.0 in /home/ec2-user/anaconda3/envs/python3/lib/python3.6/site-packages (from sagemaker->-r requirements.txt (line 6)) (1.5.0)\n",
      "Requirement already satisfied: smdebug-rulesconfig==0.1.5 in /home/ec2-user/anaconda3/envs/python3/lib/python3.6/site-packages (from sagemaker->-r requirements.txt (line 6)) (0.1.5)\n",
      "Requirement already satisfied: protobuf>=3.1 in /home/ec2-user/anaconda3/envs/python3/lib/python3.6/site-packages (from sagemaker->-r requirements.txt (line 6)) (3.11.4)\n",
      "Requirement already satisfied: google-pasta in /home/ec2-user/anaconda3/envs/python3/lib/python3.6/site-packages (from sagemaker->-r requirements.txt (line 6)) (0.2.0)\n",
      "Requirement already satisfied: packaging>=20.0 in /home/ec2-user/anaconda3/envs/python3/lib/python3.6/site-packages (from sagemaker->-r requirements.txt (line 6)) (20.1)\n",
      "Requirement already satisfied: protobuf3-to-dict>=0.1.5 in /home/ec2-user/anaconda3/envs/python3/lib/python3.6/site-packages (from sagemaker->-r requirements.txt (line 6)) (0.1.5)\n",
      "Requirement already satisfied: threadpoolctl>=2.0.0 in /home/ec2-user/anaconda3/envs/python3/lib/python3.6/site-packages (from scikit-learn==0.23.1->-r requirements.txt (line 7)) (2.1.0)\n",
      "Requirement already satisfied: joblib>=0.11 in /home/ec2-user/anaconda3/envs/python3/lib/python3.6/site-packages (from scikit-learn==0.23.1->-r requirements.txt (line 7)) (0.14.1)\n",
      "Requirement already satisfied: scipy>=0.19.1 in /home/ec2-user/anaconda3/envs/python3/lib/python3.6/site-packages (from scikit-learn==0.23.1->-r requirements.txt (line 7)) (1.4.1)\n",
      "Requirement already satisfied: statsmodels>=0.9.0 in /home/ec2-user/anaconda3/envs/python3/lib/python3.6/site-packages (from category_encoders->-r requirements.txt (line 9)) (0.11.0)\n",
      "Requirement already satisfied: patsy>=0.5.1 in /home/ec2-user/anaconda3/envs/python3/lib/python3.6/site-packages (from category_encoders->-r requirements.txt (line 9)) (0.5.1)\n",
      "Requirement already satisfied: six>=1.5 in /home/ec2-user/anaconda3/envs/python3/lib/python3.6/site-packages (from python-dateutil>=2.6.1->pandas->-r requirements.txt (line 2)) (1.14.0)\n",
      "Requirement already satisfied: setuptools in /home/ec2-user/anaconda3/envs/python3/lib/python3.6/site-packages (from kiwisolver>=1.0.1->matplotlib->-r requirements.txt (line 3)) (45.2.0.post20200210)\n",
      "Requirement already satisfied: nbformat>=4.2.0 in /home/ec2-user/anaconda3/envs/python3/lib/python3.6/site-packages (from ipywidgets->jupyter->-r requirements.txt (line 4)) (5.0.4)\n",
      "Requirement already satisfied: widgetsnbextension~=3.5.0 in /home/ec2-user/anaconda3/envs/python3/lib/python3.6/site-packages (from ipywidgets->jupyter->-r requirements.txt (line 4)) (3.5.1)\n",
      "Requirement already satisfied: traitlets>=4.3.1 in /home/ec2-user/anaconda3/envs/python3/lib/python3.6/site-packages (from ipywidgets->jupyter->-r requirements.txt (line 4)) (4.3.3)\n",
      "Requirement already satisfied: ipython>=4.0.0; python_version >= \"3.3\" in /home/ec2-user/anaconda3/envs/python3/lib/python3.6/site-packages (from ipywidgets->jupyter->-r requirements.txt (line 4)) (7.12.0)\n",
      "Requirement already satisfied: jupyter-client>=5.3.4 in /home/ec2-user/anaconda3/envs/python3/lib/python3.6/site-packages (from notebook->jupyter->-r requirements.txt (line 4)) (5.3.4)\n",
      "Requirement already satisfied: tornado>=5.0 in /home/ec2-user/anaconda3/envs/python3/lib/python3.6/site-packages (from notebook->jupyter->-r requirements.txt (line 4)) (6.0.3)\n",
      "Requirement already satisfied: prometheus-client in /home/ec2-user/anaconda3/envs/python3/lib/python3.6/site-packages (from notebook->jupyter->-r requirements.txt (line 4)) (0.7.1)\n",
      "Requirement already satisfied: jinja2 in /home/ec2-user/anaconda3/envs/python3/lib/python3.6/site-packages (from notebook->jupyter->-r requirements.txt (line 4)) (2.11.1)\n",
      "Requirement already satisfied: Send2Trash in /home/ec2-user/anaconda3/envs/python3/lib/python3.6/site-packages (from notebook->jupyter->-r requirements.txt (line 4)) (1.5.0)\n",
      "Requirement already satisfied: terminado>=0.8.1 in /home/ec2-user/anaconda3/envs/python3/lib/python3.6/site-packages (from notebook->jupyter->-r requirements.txt (line 4)) (0.8.3)\n",
      "Requirement already satisfied: pyzmq>=17 in /home/ec2-user/anaconda3/envs/python3/lib/python3.6/site-packages (from notebook->jupyter->-r requirements.txt (line 4)) (18.1.1)\n",
      "Requirement already satisfied: jupyter-core>=4.6.1 in /home/ec2-user/anaconda3/envs/python3/lib/python3.6/site-packages (from notebook->jupyter->-r requirements.txt (line 4)) (4.6.1)\n",
      "Requirement already satisfied: ipython-genutils in /home/ec2-user/anaconda3/envs/python3/lib/python3.6/site-packages (from notebook->jupyter->-r requirements.txt (line 4)) (0.2.0)\n",
      "Requirement already satisfied: pygments in /home/ec2-user/anaconda3/envs/python3/lib/python3.6/site-packages (from jupyter-console->jupyter->-r requirements.txt (line 4)) (2.5.2)\n",
      "Requirement already satisfied: prompt-toolkit!=3.0.0,!=3.0.1,<3.1.0,>=2.0.0 in /home/ec2-user/anaconda3/envs/python3/lib/python3.6/site-packages (from jupyter-console->jupyter->-r requirements.txt (line 4)) (3.0.3)\n",
      "Requirement already satisfied: testpath in /home/ec2-user/anaconda3/envs/python3/lib/python3.6/site-packages (from nbconvert->jupyter->-r requirements.txt (line 4)) (0.4.4)\n",
      "Requirement already satisfied: mistune<2,>=0.8.1 in /home/ec2-user/anaconda3/envs/python3/lib/python3.6/site-packages (from nbconvert->jupyter->-r requirements.txt (line 4)) (0.8.4)\n",
      "Requirement already satisfied: pandocfilters>=1.4.1 in /home/ec2-user/anaconda3/envs/python3/lib/python3.6/site-packages (from nbconvert->jupyter->-r requirements.txt (line 4)) (1.4.2)\n",
      "Requirement already satisfied: defusedxml in /home/ec2-user/anaconda3/envs/python3/lib/python3.6/site-packages (from nbconvert->jupyter->-r requirements.txt (line 4)) (0.6.0)\n",
      "Requirement already satisfied: bleach in /home/ec2-user/anaconda3/envs/python3/lib/python3.6/site-packages (from nbconvert->jupyter->-r requirements.txt (line 4)) (3.2.1)\n",
      "Requirement already satisfied: entrypoints>=0.2.2 in /home/ec2-user/anaconda3/envs/python3/lib/python3.6/site-packages (from nbconvert->jupyter->-r requirements.txt (line 4)) (0.3)\n",
      "Requirement already satisfied: urllib3<1.26,>=1.25.4; python_version != \"3.4\" in /home/ec2-user/anaconda3/envs/python3/lib/python3.6/site-packages (from botocore<1.20.0,>=1.19.9->boto3->-r requirements.txt (line 5)) (1.25.10)\n",
      "Requirement already satisfied: zipp>=0.5 in /home/ec2-user/anaconda3/envs/python3/lib/python3.6/site-packages (from importlib-metadata>=1.4.0->sagemaker->-r requirements.txt (line 6)) (2.2.0)\n",
      "Requirement already satisfied: jsonschema!=2.5.0,>=2.4 in /home/ec2-user/anaconda3/envs/python3/lib/python3.6/site-packages (from nbformat>=4.2.0->ipywidgets->jupyter->-r requirements.txt (line 4)) (3.2.0)\n",
      "Requirement already satisfied: decorator in /home/ec2-user/anaconda3/envs/python3/lib/python3.6/site-packages (from traitlets>=4.3.1->ipywidgets->jupyter->-r requirements.txt (line 4)) (4.4.1)\n",
      "Requirement already satisfied: backcall in /home/ec2-user/anaconda3/envs/python3/lib/python3.6/site-packages (from ipython>=4.0.0; python_version >= \"3.3\"->ipywidgets->jupyter->-r requirements.txt (line 4)) (0.1.0)\n",
      "Requirement already satisfied: pickleshare in /home/ec2-user/anaconda3/envs/python3/lib/python3.6/site-packages (from ipython>=4.0.0; python_version >= \"3.3\"->ipywidgets->jupyter->-r requirements.txt (line 4)) (0.7.5)\n",
      "Requirement already satisfied: pexpect; sys_platform != \"win32\" in /home/ec2-user/anaconda3/envs/python3/lib/python3.6/site-packages (from ipython>=4.0.0; python_version >= \"3.3\"->ipywidgets->jupyter->-r requirements.txt (line 4)) (4.8.0)\n",
      "Requirement already satisfied: jedi>=0.10 in /home/ec2-user/anaconda3/envs/python3/lib/python3.6/site-packages (from ipython>=4.0.0; python_version >= \"3.3\"->ipywidgets->jupyter->-r requirements.txt (line 4)) (0.14.1)\n",
      "Requirement already satisfied: MarkupSafe>=0.23 in /home/ec2-user/anaconda3/envs/python3/lib/python3.6/site-packages (from jinja2->notebook->jupyter->-r requirements.txt (line 4)) (1.1.1)\n",
      "Requirement already satisfied: wcwidth in /home/ec2-user/anaconda3/envs/python3/lib/python3.6/site-packages (from prompt-toolkit!=3.0.0,!=3.0.1,<3.1.0,>=2.0.0->jupyter-console->jupyter->-r requirements.txt (line 4)) (0.1.8)\n",
      "Requirement already satisfied: webencodings in /home/ec2-user/anaconda3/envs/python3/lib/python3.6/site-packages (from bleach->nbconvert->jupyter->-r requirements.txt (line 4)) (0.5.1)\n",
      "Requirement already satisfied: attrs>=17.4.0 in /home/ec2-user/anaconda3/envs/python3/lib/python3.6/site-packages (from jsonschema!=2.5.0,>=2.4->nbformat>=4.2.0->ipywidgets->jupyter->-r requirements.txt (line 4)) (19.3.0)\n",
      "Requirement already satisfied: pyrsistent>=0.14.0 in /home/ec2-user/anaconda3/envs/python3/lib/python3.6/site-packages (from jsonschema!=2.5.0,>=2.4->nbformat>=4.2.0->ipywidgets->jupyter->-r requirements.txt (line 4)) (0.15.7)\n",
      "Requirement already satisfied: ptyprocess>=0.5 in /home/ec2-user/anaconda3/envs/python3/lib/python3.6/site-packages (from pexpect; sys_platform != \"win32\"->ipython>=4.0.0; python_version >= \"3.3\"->ipywidgets->jupyter->-r requirements.txt (line 4)) (0.6.0)\n",
      "Requirement already satisfied: parso>=0.5.0 in /home/ec2-user/anaconda3/envs/python3/lib/python3.6/site-packages (from jedi>=0.10->ipython>=4.0.0; python_version >= \"3.3\"->ipywidgets->jupyter->-r requirements.txt (line 4)) (0.5.2)\n",
      "\u001b[33mWARNING: You are using pip version 20.0.2; however, version 20.2.4 is available.\n",
      "You should consider upgrading via the '/home/ec2-user/anaconda3/envs/python3/bin/python -m pip install --upgrade pip' command.\u001b[0m\n",
      "CPU times: user 41.2 ms, sys: 14.7 ms, total: 55.9 ms\n",
      "Wall time: 2.2 s\n"
     ]
    }
   ],
   "source": [
    "%%time\n",
    "import sys;\n",
    "import datetime\n",
    "print('Starting at', datetime.datetime.now())\n",
    "!{sys.executable} -m pip install -r requirements.txt"
   ]
  },
  {
   "cell_type": "code",
   "execution_count": 2,
   "metadata": {
    "isConfigCell": true
   },
   "outputs": [
    {
     "name": "stdout",
     "output_type": "stream",
     "text": [
      "Role arn:aws:iam::649592902942:role/service-role/AmazonSageMaker-ExecutionRole-20201021T144991\n",
      "Bucket sagemaker-jfox in region eu-west-1\n",
      "CPU times: user 748 ms, sys: 71.3 ms, total: 820 ms\n",
      "Wall time: 2.86 s\n"
     ]
    }
   ],
   "source": [
    "%%time\n",
    "import boto3\n",
    "import sagemaker\n",
    "\n",
    "session = sagemaker.Session() \n",
    "region = session.boto_region_name \n",
    "\n",
    "bucket = 'sagemaker-jfox'\n",
    "xgboost = False\n",
    "algo = 'xgboost' if xgboost else 'linearlearner'\n",
    "prefix = 'sagemaker/'+algo\n",
    "role = sagemaker.get_execution_role()\n",
    "print('Role', role)\n",
    "print(f'Bucket {bucket} in region {region}')"
   ]
  },
  {
   "cell_type": "markdown",
   "metadata": {},
   "source": [
    "\n"
   ]
  },
  {
   "cell_type": "code",
   "execution_count": 3,
   "metadata": {},
   "outputs": [
    {
     "name": "stdout",
     "output_type": "stream",
     "text": [
      "CPU times: user 101 ms, sys: 3.59 ms, total: 105 ms\n",
      "Wall time: 1.11 s\n"
     ]
    }
   ],
   "source": [
    "%%time\n",
    "import random\n",
    "import pandas as pd\n",
    "import pyarrow.parquet as pq\n",
    "\n",
    "raw_data_filename = 'frauddetection.parquet.snappy'\n",
    " \n",
    "s3 = boto3.resource('s3', region_name=region)\n",
    "\n",
    "#s3_path = 'prepareddataalltypes/datapreparation_20Nov2020_1605858525820/datapreparation_20Nov2020_1605858525820_part00000.parquet.snappy'\n",
    "\n",
    "#s3.Bucket(bucket).download_file(s3_path,  raw_data_filename)\n",
    " "
   ]
  },
  {
   "cell_type": "code",
   "execution_count": 4,
   "metadata": {},
   "outputs": [
    {
     "name": "stdout",
     "output_type": "stream",
     "text": [
      "100000 data items\n",
      "CPU times: user 1.2 s, sys: 774 ms, total: 1.98 s\n",
      "Wall time: 647 ms\n"
     ]
    }
   ],
   "source": [
    "%%time \n",
    "table = pq.read_table(raw_data_filename)\n",
    "df = table.to_pandas()\n",
    "\n",
    "pd.set_option('display.max_rows', 10) \n",
    "df=df.head(100000)\n",
    "print(len(df), 'data items')"
   ]
  },
  {
   "cell_type": "code",
   "execution_count": 5,
   "metadata": {},
   "outputs": [],
   "source": [
    "target_col='Fraudulent'"
   ]
  },
  {
   "cell_type": "code",
   "execution_count": 56,
   "metadata": {},
   "outputs": [],
   "source": [
    "\n",
    "df = df.rename(columns = {'isFraud': target_col,\n",
    "                          'type_CASH_OUT': 'type_CashOut',\n",
    "                          'type_TRANSFER': 'type_Transfer',\n",
    "                          'type_CASH_IN': 'type_CashIn',\n",
    "                          'type_PAYMENT': 'type_Payment',\n",
    "                          'oldbalanceOrg_nml': 'originOldBalance',\n",
    "                          'oldBalanceOrigSign': 'originOldBalanceSign', \n",
    "                          'newbalanceOrig_nml': 'originNewBalance',\n",
    "                          'negDeltaOrigin_nml': 'negativeDeltaInOrigin', \n",
    "                          'oldbalanceDest_nml': 'destinationOldBalance',\n",
    "                          'newbalanceDest_nml': 'destinationNewBalance',\n",
    "                          'expectedNewBalDest_nml': 'destinationExpectedNewBalance', # based on old value and delta   \n",
    "                          'amount_nml': 'amount',\n",
    "                          'hourOf24_radians': 'hourOf24_radians',# To be deleted after calculation\n",
    "                          'isFlaggedFraud':'FlaggedFraud'#To be deleted\n",
    "                         })\n"
   ]
  },
  {
   "cell_type": "markdown",
   "metadata": {},
   "source": [
    "`type_X` columns where X in  `PAYMENT` `TRANSFER` `CASH_OUT` `DEBIT` `CASH_IN`\n",
    "There was also `DEBIT`, but onehotting drops one of the types because of correlation.\n",
    "All `isFraud` rows have `type` `TRANSFER` or `CASH_OUT`, never  `CASH_IN` or `PAYMENT` or `DEBIT`"
   ]
  },
  {
   "cell_type": "markdown",
   "metadata": {},
   "source": [
    "Counts of each class to determine imbalance."
   ]
  },
  {
   "cell_type": "code",
   "execution_count": 7,
   "metadata": {},
   "outputs": [
    {
     "name": "stdout",
     "output_type": "stream",
     "text": [
      "Fraud 116 ; Not fraud 99884 ; Total 100000\n"
     ]
    }
   ],
   "source": [
    "def count_positive_and_negative(df):\n",
    "    num_positive = len(df.loc[  df[target_col] == 1 ])\n",
    "    num_negative = len(df) - num_positive\n",
    "    return num_positive, num_negative\n",
    "\n",
    "num_positive, num_negative = count_positive_and_negative(df)\n",
    "\n",
    "print('Fraud', num_positive, '; Not fraud', num_negative, '; Total', len(df))"
   ]
  },
  {
   "cell_type": "markdown",
   "metadata": {},
   "source": [
    " "
   ]
  },
  {
   "cell_type": "markdown",
   "metadata": {},
   "source": [
    "Plot distribution of positive vs negative, in log scale because of the imbalance"
   ]
  },
  {
   "cell_type": "code",
   "execution_count": 8,
   "metadata": {},
   "outputs": [
    {
     "data": {
      "image/png": "[encoded data removed]",
      "text/plain": [
       "<Figure size 360x360 with 1 Axes>"
      ]
     },
     "metadata": {},
     "output_type": "display_data"
    }
   ],
   "source": [
    "import math\n",
    "import numpy as np\n",
    "import matplotlib.pyplot as plt   \n",
    "\n",
    "def plot_positive_negative_counts(df, target_col):\n",
    "        df['fraudyn']=np.where(df[target_col]==1, 'Yes', 'No')\n",
    "        df['fraudyn'].value_counts().plot.pie(figsize=(5, 5), autopct='%.1f%%')\n",
    "        plt.title('Non-fraud vs fraud')\n",
    "        plt.tight_layout()\n",
    "        del df['fraudyn']\n",
    "    \n",
    "plot_positive_negative_counts(df,target_col)"
   ]
  },
  {
   "cell_type": "markdown",
   "metadata": {},
   "source": [
    " "
   ]
  },
  {
   "cell_type": "markdown",
   "metadata": {},
   "source": [
    "Check that target is on the left, per Sagemaker standard"
   ]
  },
  {
   "cell_type": "code",
   "execution_count": 9,
   "metadata": {},
   "outputs": [],
   "source": [
    "assert target_col == df.columns.tolist()[0]"
   ]
  },
  {
   "cell_type": "markdown",
   "metadata": {},
   "source": [
    "Transform hour of day to a form suited for cyclical data."
   ]
  },
  {
   "cell_type": "code",
   "execution_count": 10,
   "metadata": {},
   "outputs": [
    {
     "data": {
      "text/html": [
       "<div>\n",
       "<style scoped>\n",
       "    .dataframe tbody tr th:only-of-type {\n",
       "        vertical-align: middle;\n",
       "    }\n",
       "\n",
       "    .dataframe tbody tr th {\n",
       "        vertical-align: top;\n",
       "    }\n",
       "\n",
       "    .dataframe thead th {\n",
       "        text-align: right;\n",
       "    }\n",
       "</style>\n",
       "<table border=\"1\" class=\"dataframe\">\n",
       "  <thead>\n",
       "    <tr style=\"text-align: right;\">\n",
       "      <th></th>\n",
       "      <th>Fraudulent</th>\n",
       "      <th>type_CashIn</th>\n",
       "      <th>type_CashOut</th>\n",
       "      <th>type_Payment</th>\n",
       "      <th>type_Transfer</th>\n",
       "      <th>amount</th>\n",
       "      <th>originOldBalance</th>\n",
       "      <th>originOldBalanceSign</th>\n",
       "      <th>originNewBalance</th>\n",
       "      <th>negativeDeltaInOrigin</th>\n",
       "      <th>destinationOldBalance</th>\n",
       "      <th>destinationExpectedNewBalance</th>\n",
       "      <th>destinationNewBalance</th>\n",
       "      <th>sineHourInDay</th>\n",
       "      <th>cosineHourInDay</th>\n",
       "    </tr>\n",
       "  </thead>\n",
       "  <tbody>\n",
       "    <tr>\n",
       "      <th>0</th>\n",
       "      <td>0</td>\n",
       "      <td>0</td>\n",
       "      <td>0</td>\n",
       "      <td>1</td>\n",
       "      <td>0</td>\n",
       "      <td>-0.281560</td>\n",
       "      <td>-0.229810</td>\n",
       "      <td>1</td>\n",
       "      <td>-0.237622</td>\n",
       "      <td>0.211876</td>\n",
       "      <td>-0.323814</td>\n",
       "      <td>-0.350732</td>\n",
       "      <td>-0.333411</td>\n",
       "      <td>0.258626</td>\n",
       "      <td>0.965977</td>\n",
       "    </tr>\n",
       "    <tr>\n",
       "      <th>1</th>\n",
       "      <td>0</td>\n",
       "      <td>0</td>\n",
       "      <td>0</td>\n",
       "      <td>1</td>\n",
       "      <td>0</td>\n",
       "      <td>-0.294767</td>\n",
       "      <td>-0.281359</td>\n",
       "      <td>1</td>\n",
       "      <td>-0.285812</td>\n",
       "      <td>0.157490</td>\n",
       "      <td>-0.323814</td>\n",
       "      <td>-0.352933</td>\n",
       "      <td>-0.333411</td>\n",
       "      <td>0.258626</td>\n",
       "      <td>0.965977</td>\n",
       "    </tr>\n",
       "    <tr>\n",
       "      <th>2</th>\n",
       "      <td>1</td>\n",
       "      <td>0</td>\n",
       "      <td>0</td>\n",
       "      <td>0</td>\n",
       "      <td>1</td>\n",
       "      <td>-0.297555</td>\n",
       "      <td>-0.288654</td>\n",
       "      <td>1</td>\n",
       "      <td>-0.292442</td>\n",
       "      <td>0.146011</td>\n",
       "      <td>-0.323814</td>\n",
       "      <td>-0.353398</td>\n",
       "      <td>-0.333411</td>\n",
       "      <td>0.258626</td>\n",
       "      <td>0.965977</td>\n",
       "    </tr>\n",
       "    <tr>\n",
       "      <th>3</th>\n",
       "      <td>1</td>\n",
       "      <td>0</td>\n",
       "      <td>1</td>\n",
       "      <td>0</td>\n",
       "      <td>0</td>\n",
       "      <td>-0.297555</td>\n",
       "      <td>-0.288654</td>\n",
       "      <td>1</td>\n",
       "      <td>-0.292442</td>\n",
       "      <td>0.146011</td>\n",
       "      <td>-0.317582</td>\n",
       "      <td>-0.347552</td>\n",
       "      <td>-0.333411</td>\n",
       "      <td>0.258626</td>\n",
       "      <td>0.965977</td>\n",
       "    </tr>\n",
       "    <tr>\n",
       "      <th>4</th>\n",
       "      <td>0</td>\n",
       "      <td>0</td>\n",
       "      <td>0</td>\n",
       "      <td>1</td>\n",
       "      <td>0</td>\n",
       "      <td>-0.278532</td>\n",
       "      <td>-0.274329</td>\n",
       "      <td>1</td>\n",
       "      <td>-0.282221</td>\n",
       "      <td>0.224345</td>\n",
       "      <td>-0.323814</td>\n",
       "      <td>-0.350227</td>\n",
       "      <td>-0.333411</td>\n",
       "      <td>0.258626</td>\n",
       "      <td>0.965977</td>\n",
       "    </tr>\n",
       "    <tr>\n",
       "      <th>...</th>\n",
       "      <td>...</td>\n",
       "      <td>...</td>\n",
       "      <td>...</td>\n",
       "      <td>...</td>\n",
       "      <td>...</td>\n",
       "      <td>...</td>\n",
       "      <td>...</td>\n",
       "      <td>...</td>\n",
       "      <td>...</td>\n",
       "      <td>...</td>\n",
       "      <td>...</td>\n",
       "      <td>...</td>\n",
       "      <td>...</td>\n",
       "      <td>...</td>\n",
       "      <td>...</td>\n",
       "    </tr>\n",
       "    <tr>\n",
       "      <th>99995</th>\n",
       "      <td>0</td>\n",
       "      <td>0</td>\n",
       "      <td>0</td>\n",
       "      <td>1</td>\n",
       "      <td>0</td>\n",
       "      <td>-0.291196</td>\n",
       "      <td>-0.233344</td>\n",
       "      <td>1</td>\n",
       "      <td>-0.239122</td>\n",
       "      <td>0.172195</td>\n",
       "      <td>-0.323814</td>\n",
       "      <td>-0.352338</td>\n",
       "      <td>-0.333411</td>\n",
       "      <td>0.501726</td>\n",
       "      <td>-0.865027</td>\n",
       "    </tr>\n",
       "    <tr>\n",
       "      <th>99996</th>\n",
       "      <td>0</td>\n",
       "      <td>0</td>\n",
       "      <td>0</td>\n",
       "      <td>1</td>\n",
       "      <td>0</td>\n",
       "      <td>-0.267474</td>\n",
       "      <td>-0.286568</td>\n",
       "      <td>1</td>\n",
       "      <td>-0.292442</td>\n",
       "      <td>0.187097</td>\n",
       "      <td>-0.323814</td>\n",
       "      <td>-0.348384</td>\n",
       "      <td>-0.333411</td>\n",
       "      <td>0.501726</td>\n",
       "      <td>-0.865027</td>\n",
       "    </tr>\n",
       "    <tr>\n",
       "      <th>99997</th>\n",
       "      <td>0</td>\n",
       "      <td>1</td>\n",
       "      <td>0</td>\n",
       "      <td>0</td>\n",
       "      <td>0</td>\n",
       "      <td>0.006480</td>\n",
       "      <td>-0.275154</td>\n",
       "      <td>1</td>\n",
       "      <td>-0.216195</td>\n",
       "      <td>-1.108434</td>\n",
       "      <td>-0.307656</td>\n",
       "      <td>-0.287564</td>\n",
       "      <td>-0.333411</td>\n",
       "      <td>0.501726</td>\n",
       "      <td>-0.865027</td>\n",
       "    </tr>\n",
       "    <tr>\n",
       "      <th>99998</th>\n",
       "      <td>0</td>\n",
       "      <td>0</td>\n",
       "      <td>1</td>\n",
       "      <td>0</td>\n",
       "      <td>0</td>\n",
       "      <td>-0.161668</td>\n",
       "      <td>-0.286628</td>\n",
       "      <td>1</td>\n",
       "      <td>-0.292442</td>\n",
       "      <td>0.185904</td>\n",
       "      <td>-0.149467</td>\n",
       "      <td>-0.167176</td>\n",
       "      <td>-0.115907</td>\n",
       "      <td>0.501726</td>\n",
       "      <td>-0.865027</td>\n",
       "    </tr>\n",
       "    <tr>\n",
       "      <th>99999</th>\n",
       "      <td>0</td>\n",
       "      <td>0</td>\n",
       "      <td>0</td>\n",
       "      <td>1</td>\n",
       "      <td>0</td>\n",
       "      <td>-0.264574</td>\n",
       "      <td>-0.250590</td>\n",
       "      <td>1</td>\n",
       "      <td>-0.261655</td>\n",
       "      <td>0.281821</td>\n",
       "      <td>-0.323814</td>\n",
       "      <td>-0.347901</td>\n",
       "      <td>-0.333411</td>\n",
       "      <td>0.501726</td>\n",
       "      <td>-0.865027</td>\n",
       "    </tr>\n",
       "  </tbody>\n",
       "</table>\n",
       "<p>100000 rows × 15 columns</p>\n",
       "</div>"
      ],
      "text/plain": [
       "       Fraudulent  type_CashIn  type_CashOut  type_Payment  type_Transfer  \\\n",
       "0               0            0             0             1              0   \n",
       "1               0            0             0             1              0   \n",
       "2               1            0             0             0              1   \n",
       "3               1            0             1             0              0   \n",
       "4               0            0             0             1              0   \n",
       "...           ...          ...           ...           ...            ...   \n",
       "99995           0            0             0             1              0   \n",
       "99996           0            0             0             1              0   \n",
       "99997           0            1             0             0              0   \n",
       "99998           0            0             1             0              0   \n",
       "99999           0            0             0             1              0   \n",
       "\n",
       "         amount  originOldBalance  originOldBalanceSign  originNewBalance  \\\n",
       "0     -0.281560         -0.229810                     1         -0.237622   \n",
       "1     -0.294767         -0.281359                     1         -0.285812   \n",
       "2     -0.297555         -0.288654                     1         -0.292442   \n",
       "3     -0.297555         -0.288654                     1         -0.292442   \n",
       "4     -0.278532         -0.274329                     1         -0.282221   \n",
       "...         ...               ...                   ...               ...   \n",
       "99995 -0.291196         -0.233344                     1         -0.239122   \n",
       "99996 -0.267474         -0.286568                     1         -0.292442   \n",
       "99997  0.006480         -0.275154                     1         -0.216195   \n",
       "99998 -0.161668         -0.286628                     1         -0.292442   \n",
       "99999 -0.264574         -0.250590                     1         -0.261655   \n",
       "\n",
       "       negativeDeltaInOrigin  destinationOldBalance  \\\n",
       "0                   0.211876              -0.323814   \n",
       "1                   0.157490              -0.323814   \n",
       "2                   0.146011              -0.323814   \n",
       "3                   0.146011              -0.317582   \n",
       "4                   0.224345              -0.323814   \n",
       "...                      ...                    ...   \n",
       "99995               0.172195              -0.323814   \n",
       "99996               0.187097              -0.323814   \n",
       "99997              -1.108434              -0.307656   \n",
       "99998               0.185904              -0.149467   \n",
       "99999               0.281821              -0.323814   \n",
       "\n",
       "       destinationExpectedNewBalance  destinationNewBalance  sineHourInDay  \\\n",
       "0                          -0.350732              -0.333411       0.258626   \n",
       "1                          -0.352933              -0.333411       0.258626   \n",
       "2                          -0.353398              -0.333411       0.258626   \n",
       "3                          -0.347552              -0.333411       0.258626   \n",
       "4                          -0.350227              -0.333411       0.258626   \n",
       "...                              ...                    ...            ...   \n",
       "99995                      -0.352338              -0.333411       0.501726   \n",
       "99996                      -0.348384              -0.333411       0.501726   \n",
       "99997                      -0.287564              -0.333411       0.501726   \n",
       "99998                      -0.167176              -0.115907       0.501726   \n",
       "99999                      -0.347901              -0.333411       0.501726   \n",
       "\n",
       "       cosineHourInDay  \n",
       "0             0.965977  \n",
       "1             0.965977  \n",
       "2             0.965977  \n",
       "3             0.965977  \n",
       "4             0.965977  \n",
       "...                ...  \n",
       "99995        -0.865027  \n",
       "99996        -0.865027  \n",
       "99997        -0.865027  \n",
       "99998        -0.865027  \n",
       "99999        -0.865027  \n",
       "\n",
       "[100000 rows x 15 columns]"
      ]
     },
     "execution_count": 10,
     "metadata": {},
     "output_type": "execute_result"
    }
   ],
   "source": [
    "import numpy as np\n",
    "hours_col = 'hourOf24_radians'\n",
    "df['sineHourInDay'] = np.sin(df[hours_col])\n",
    "df['cosineHourInDay'] = np.cos(df[hours_col])\n",
    "df = df.drop(hours_col, axis=1)\n",
    "df"
   ]
  },
  {
   "cell_type": "code",
   "execution_count": 11,
   "metadata": {},
   "outputs": [
    {
     "data": {
      "image/png": "[encoded data removed]",
      "text/plain": [
       "<Figure size 1080x360 with 4 Axes>"
      ]
     },
     "metadata": {
      "needs_background": "light"
     },
     "output_type": "display_data"
    }
   ],
   "source": [
    "import seaborn  \n",
    "\n",
    "fig, axes = plt.subplots( 1,2, figsize=(15,5))\n",
    "\n",
    "def heatmap(fraud_cases):\n",
    "    lbl='Fraud' if  fraud_cases else 'Non-fraud'\n",
    "    # Coerced to int, below\n",
    "    axes[1-fraud_cases].set_title(f'{lbl} cases: Heatmap')\n",
    "    seaborn.heatmap(df.query(f'{target_col} == {fraud_cases}').drop([target_col], 1).corr(),  cmap='Oranges', ax=axes[1-fraud_cases])\n",
    "\n",
    "heatmap(True)\n",
    "heatmap(False)\n",
    "\n",
    "plt.show()"
   ]
  },
  {
   "cell_type": "markdown",
   "metadata": {},
   "source": [
    "Optionally use *SMOTENC* for unbalanced classes, though we may stick with the XGBoost scaling parameters that accomplish the same thing."
   ]
  },
  {
   "cell_type": "code",
   "execution_count": 12,
   "metadata": {},
   "outputs": [
    {
     "name": "stdout",
     "output_type": "stream",
     "text": [
      "CPU times: user 152 ms, sys: 15.6 ms, total: 167 ms\n",
      "Wall time: 165 ms\n"
     ]
    }
   ],
   "source": [
    "%%time \n",
    "\n",
    "from imblearn.over_sampling import SMOTENC\n",
    "\n",
    "use_smote = False # Can just use weighting in XGBOOST instead of SMOTENC\n",
    "\n",
    "if use_smote:\n",
    "   ycol=target_col\n",
    "   Xcol=list(df.columns)\n",
    "   Xcol.remove(ycol)\n",
    " \n",
    "   categorical_columns=[i for i in range(len(Xcol)) \n",
    "                     if Xcol[i] not in ['step','amount','oldbalanceOrg','newbalanceOrig','oldbalanceDest','newbalanceDest']]\n",
    "\n",
    "   smotenc = SMOTENC(categorical_columns,random_state = 101)\n",
    "\n",
    "   X, y = smotenc.fit_resample(df[Xcol], df[ycol])\n",
    "   y_df = pd.DataFrame({target_col: y} )\n",
    "\n",
    "   df = pd.concat([X, y_df], axis=1)"
   ]
  },
  {
   "cell_type": "markdown",
   "metadata": {},
   "source": [
    "# Split  with randomization"
   ]
  },
  {
   "cell_type": "code",
   "execution_count": 13,
   "metadata": {},
   "outputs": [],
   "source": [
    " "
   ]
  },
  {
   "cell_type": "markdown",
   "metadata": {},
   "source": [
    " "
   ]
  },
  {
   "cell_type": "code",
   "execution_count": 14,
   "metadata": {},
   "outputs": [],
   "source": [
    " "
   ]
  },
  {
   "cell_type": "markdown",
   "metadata": {},
   "source": [
    "Using libSVM for performance."
   ]
  },
  {
   "cell_type": "code",
   "execution_count": 84,
   "metadata": {},
   "outputs": [],
   "source": [
    " \n",
    "import pandas as pd\n",
    "import numpy as np\n",
    "import matplotlib.pyplot as plt\n",
    "import io\n",
    "import time\n",
    "import json\n",
    "import sagemaker.amazon.common as smac\n",
    "import os"
   ]
  },
  {
   "cell_type": "code",
   "execution_count": 85,
   "metadata": {},
   "outputs": [],
   "source": [
    "rand_split = np.random.rand(len(df))\n",
    "train_list = rand_split < 0.8\n",
    "val_list = (rand_split >= 0.8) & (rand_split < 0.9)\n",
    "test_list = rand_split >= 0.9\n",
    "\n",
    "data_train = df[train_list]\n",
    "data_val = df[val_list]\n",
    "data_test = df[test_list]\n",
    "\n",
    "train_y = ( data_train.iloc[:,1]  ).to_numpy();\n",
    "train_X = data_train.iloc[:,2:].to_numpy();\n",
    "\n",
    "val_y = ( data_val.iloc[:,1]  ).to_numpy();\n",
    "val_X = data_val.iloc[:,2:].to_numpy();\n",
    "\n",
    "test_y =  (data_test.iloc[:,1]  ).to_numpy();\n",
    "test_X = data_test.iloc[:,2:].to_numpy();"
   ]
  },
  {
   "cell_type": "markdown",
   "metadata": {},
   "source": [
    " "
   ]
  },
  {
   "cell_type": "code",
   "execution_count": 86,
   "metadata": {},
   "outputs": [],
   "source": [
    "train_file = 'linear_train.data'\n",
    "\n",
    "f = io.BytesIO()\n",
    "smac.write_numpy_to_dense_tensor(f, train_X.astype('float32'), train_y.astype('float32'))\n",
    "f.seek(0)\n",
    "\n",
    "boto3.Session().resource('s3').Bucket(bucket).Object(os.path.join(prefix, 'train', train_file)).upload_fileobj(f)"
   ]
  },
  {
   "cell_type": "markdown",
   "metadata": {},
   "source": [
    " "
   ]
  },
  {
   "cell_type": "code",
   "execution_count": 74,
   "metadata": {},
   "outputs": [
    {
     "name": "stdout",
     "output_type": "stream",
     "text": [
      "CPU times: user 4 µs, sys: 0 ns, total: 4 µs\n",
      "Wall time: 9.54 µs\n"
     ]
    }
   ],
   "source": [
    "validation_file = 'linear_validation.data'\n",
    "\n",
    "f = io.BytesIO()\n",
    "smac.write_numpy_to_dense_tensor(f, val_X.astype('float32'), val_y.astype('float32'))\n",
    "f.seek(0)\n",
    "\n",
    "boto3.Session().resource('s3').Bucket(bucket).Object(os.path.join(prefix, 'validation', validation_file)).upload_fileobj(f)"
   ]
  },
  {
   "cell_type": "code",
   "execution_count": 77,
   "metadata": {},
   "outputs": [
    {
     "name": "stderr",
     "output_type": "stream",
     "text": [
      "The method get_image_uri has been renamed in sagemaker>=2.\n",
      "See: https://sagemaker.readthedocs.io/en/stable/v2.html for details.\n",
      "Defaulting to the only supported framework/algorithm version: 1. Ignoring framework/algorithm version: 1.\n",
      "train_instance_count has been renamed in sagemaker>=2.\n",
      "See: https://sagemaker.readthedocs.io/en/stable/v2.html for details.\n",
      "train_instance_type has been renamed in sagemaker>=2.\n",
      "See: https://sagemaker.readthedocs.io/en/stable/v2.html for details.\n"
     ]
    },
    {
     "name": "stdout",
     "output_type": "stream",
     "text": [
      "Job name is: DEMO-linear-2020-11-22-15-37-52\n",
      "s3://sagemaker-jfox/sagemaker/linearlearner/output\n",
      "positives_in_training_data: 73, negatives_in_training_data: 69927, scale_pos_weight 957.9\n",
      "feature_dim 14\n",
      "s3://sagemaker-jfox/sagemaker/linearlearner/train\n",
      "s3://sagemaker-jfox/sagemaker/linearlearner/validation\n",
      "2020-11-22 15:37:52 Starting - Starting the training job...\n",
      "2020-11-22 15:37:54 Starting - Launching requested ML instances......\n",
      "2020-11-22 15:39:01 Starting - Preparing the instances for training......\n",
      "2020-11-22 15:40:00 Downloading - Downloading input data...\n",
      "2020-11-22 15:40:44 Training - Downloading the training image..\u001b[34mDocker entrypoint called with argument(s): train\u001b[0m\n",
      "\u001b[34mRunning default environment configuration script\u001b[0m\n",
      "\n",
      "2020-11-22 15:41:22 Uploading - Uploading generated training model\n",
      "2020-11-22 15:41:22 Failed - Training job failed\n",
      "\u001b[34m[11/22/2020 15:41:10 INFO 140535996798784] Reading default configuration from /opt/amazon/lib/python2.7/site-packages/algorithm/resources/default-input.json: {u'loss_insensitivity': u'0.01', u'epochs': u'15', u'feature_dim': u'auto', u'init_bias': u'0.0', u'lr_scheduler_factor': u'auto', u'num_calibration_samples': u'10000000', u'accuracy_top_k': u'3', u'_num_kv_servers': u'auto', u'use_bias': u'true', u'num_point_for_scaler': u'10000', u'_log_level': u'info', u'quantile': u'0.5', u'bias_lr_mult': u'auto', u'lr_scheduler_step': u'auto', u'init_method': u'uniform', u'init_sigma': u'0.01', u'lr_scheduler_minimum_lr': u'auto', u'target_recall': u'0.8', u'num_models': u'auto', u'early_stopping_patience': u'3', u'momentum': u'auto', u'unbias_label': u'auto', u'wd': u'auto', u'optimizer': u'auto', u'_tuning_objective_metric': u'', u'early_stopping_tolerance': u'0.001', u'learning_rate': u'auto', u'_kvstore': u'auto', u'normalize_data': u'true', u'binary_classifier_model_selection_criteria': u'accuracy', u'use_lr_scheduler': u'true', u'target_precision': u'0.8', u'unbias_data': u'auto', u'init_scale': u'0.07', u'bias_wd_mult': u'auto', u'f_beta': u'1.0', u'mini_batch_size': u'1000', u'huber_delta': u'1.0', u'num_classes': u'1', u'beta_1': u'auto', u'loss': u'auto', u'beta_2': u'auto', u'_enable_profiler': u'false', u'normalize_label': u'auto', u'_num_gpus': u'auto', u'balance_multiclass_weights': u'false', u'positive_example_weight_mult': u'1.0', u'l1': u'auto', u'margin': u'1.0'}\u001b[0m\n",
      "\u001b[34m[11/22/2020 15:41:10 INFO 140535996798784] Merging with provided configuration from /opt/ml/input/config/hyperparameters.json: {u'loss': u'absolute_loss', u'mini_batch_size': u'100', u'predictor_type': u'regressor', u'epochs': u'10', u'feature_dim': u'14', u'num_models': u'32'}\u001b[0m\n",
      "\u001b[34m[11/22/2020 15:41:10 INFO 140535996798784] Final configuration: {u'loss_insensitivity': u'0.01', u'epochs': u'10', u'feature_dim': u'14', u'init_bias': u'0.0', u'lr_scheduler_factor': u'auto', u'num_calibration_samples': u'10000000', u'accuracy_top_k': u'3', u'_num_kv_servers': u'auto', u'use_bias': u'true', u'num_point_for_scaler': u'10000', u'_log_level': u'info', u'quantile': u'0.5', u'bias_lr_mult': u'auto', u'lr_scheduler_step': u'auto', u'init_method': u'uniform', u'init_sigma': u'0.01', u'lr_scheduler_minimum_lr': u'auto', u'target_recall': u'0.8', u'num_models': u'32', u'early_stopping_patience': u'3', u'momentum': u'auto', u'unbias_label': u'auto', u'wd': u'auto', u'optimizer': u'auto', u'_tuning_objective_metric': u'', u'early_stopping_tolerance': u'0.001', u'learning_rate': u'auto', u'_kvstore': u'auto', u'normalize_data': u'true', u'binary_classifier_model_selection_criteria': u'accuracy', u'use_lr_scheduler': u'true', u'target_precision': u'0.8', u'unbias_data': u'auto', u'init_scale': u'0.07', u'bias_wd_mult': u'auto', u'f_beta': u'1.0', u'mini_batch_size': u'100', u'huber_delta': u'1.0', u'num_classes': u'1', u'predictor_type': u'regressor', u'beta_1': u'auto', u'loss': u'absolute_loss', u'beta_2': u'auto', u'_enable_profiler': u'false', u'normalize_label': u'auto', u'_num_gpus': u'auto', u'balance_multiclass_weights': u'false', u'positive_example_weight_mult': u'1.0', u'l1': u'auto', u'margin': u'1.0'}\u001b[0m\n",
      "\u001b[34m[11/22/2020 15:41:10 WARNING 140535996798784] Loggers have already been setup.\u001b[0m\n",
      "\u001b[34mProcess 1 is a worker.\u001b[0m\n",
      "\u001b[34m[11/22/2020 15:41:10 INFO 140535996798784] Using default worker.\u001b[0m\n",
      "\u001b[34m[11/22/2020 15:41:10 INFO 140535996798784] Checkpoint loading and saving are disabled.\u001b[0m\n",
      "\u001b[34m[11/22/2020 15:41:10 ERROR 140535996798784] Customer Error: No iterator has been registered for ContentType (u'csv', '1.0')\u001b[0m\n"
     ]
    },
    {
     "ename": "UnexpectedStatusException",
     "evalue": "Error for Training job fraud-detection-job-2020-11-22-15-37-52-150: Failed. Reason: ClientError: No iterator has been registered for ContentType (u'csv', '1.0')",
     "output_type": "error",
     "traceback": [
      "\u001b[0;31m---------------------------------------------------------------------------\u001b[0m",
      "\u001b[0;31mUnexpectedStatusException\u001b[0m                 Traceback (most recent call last)",
      "\u001b[0;32m<timed exec>\u001b[0m in \u001b[0;36m<module>\u001b[0;34m\u001b[0m\n",
      "\u001b[0;32m~/anaconda3/envs/python3/lib/python3.6/site-packages/sagemaker/estimator.py\u001b[0m in \u001b[0;36mfit\u001b[0;34m(self, inputs, wait, logs, job_name, experiment_config)\u001b[0m\n\u001b[1;32m    533\u001b[0m         \u001b[0mself\u001b[0m\u001b[0;34m.\u001b[0m\u001b[0mjobs\u001b[0m\u001b[0;34m.\u001b[0m\u001b[0mappend\u001b[0m\u001b[0;34m(\u001b[0m\u001b[0mself\u001b[0m\u001b[0;34m.\u001b[0m\u001b[0mlatest_training_job\u001b[0m\u001b[0;34m)\u001b[0m\u001b[0;34m\u001b[0m\u001b[0;34m\u001b[0m\u001b[0m\n\u001b[1;32m    534\u001b[0m         \u001b[0;32mif\u001b[0m \u001b[0mwait\u001b[0m\u001b[0;34m:\u001b[0m\u001b[0;34m\u001b[0m\u001b[0;34m\u001b[0m\u001b[0m\n\u001b[0;32m--> 535\u001b[0;31m             \u001b[0mself\u001b[0m\u001b[0;34m.\u001b[0m\u001b[0mlatest_training_job\u001b[0m\u001b[0;34m.\u001b[0m\u001b[0mwait\u001b[0m\u001b[0;34m(\u001b[0m\u001b[0mlogs\u001b[0m\u001b[0;34m=\u001b[0m\u001b[0mlogs\u001b[0m\u001b[0;34m)\u001b[0m\u001b[0;34m\u001b[0m\u001b[0;34m\u001b[0m\u001b[0m\n\u001b[0m\u001b[1;32m    536\u001b[0m \u001b[0;34m\u001b[0m\u001b[0m\n\u001b[1;32m    537\u001b[0m     \u001b[0;32mdef\u001b[0m \u001b[0m_compilation_job_name\u001b[0m\u001b[0;34m(\u001b[0m\u001b[0mself\u001b[0m\u001b[0;34m)\u001b[0m\u001b[0;34m:\u001b[0m\u001b[0;34m\u001b[0m\u001b[0;34m\u001b[0m\u001b[0m\n",
      "\u001b[0;32m~/anaconda3/envs/python3/lib/python3.6/site-packages/sagemaker/estimator.py\u001b[0m in \u001b[0;36mwait\u001b[0;34m(self, logs)\u001b[0m\n\u001b[1;32m   1208\u001b[0m         \u001b[0;31m# If logs are requested, call logs_for_jobs.\u001b[0m\u001b[0;34m\u001b[0m\u001b[0;34m\u001b[0m\u001b[0;34m\u001b[0m\u001b[0m\n\u001b[1;32m   1209\u001b[0m         \u001b[0;32mif\u001b[0m \u001b[0mlogs\u001b[0m \u001b[0;34m!=\u001b[0m \u001b[0;34m\"None\"\u001b[0m\u001b[0;34m:\u001b[0m\u001b[0;34m\u001b[0m\u001b[0;34m\u001b[0m\u001b[0m\n\u001b[0;32m-> 1210\u001b[0;31m             \u001b[0mself\u001b[0m\u001b[0;34m.\u001b[0m\u001b[0msagemaker_session\u001b[0m\u001b[0;34m.\u001b[0m\u001b[0mlogs_for_job\u001b[0m\u001b[0;34m(\u001b[0m\u001b[0mself\u001b[0m\u001b[0;34m.\u001b[0m\u001b[0mjob_name\u001b[0m\u001b[0;34m,\u001b[0m \u001b[0mwait\u001b[0m\u001b[0;34m=\u001b[0m\u001b[0;32mTrue\u001b[0m\u001b[0;34m,\u001b[0m \u001b[0mlog_type\u001b[0m\u001b[0;34m=\u001b[0m\u001b[0mlogs\u001b[0m\u001b[0;34m)\u001b[0m\u001b[0;34m\u001b[0m\u001b[0;34m\u001b[0m\u001b[0m\n\u001b[0m\u001b[1;32m   1211\u001b[0m         \u001b[0;32melse\u001b[0m\u001b[0;34m:\u001b[0m\u001b[0;34m\u001b[0m\u001b[0;34m\u001b[0m\u001b[0m\n\u001b[1;32m   1212\u001b[0m             \u001b[0mself\u001b[0m\u001b[0;34m.\u001b[0m\u001b[0msagemaker_session\u001b[0m\u001b[0;34m.\u001b[0m\u001b[0mwait_for_job\u001b[0m\u001b[0;34m(\u001b[0m\u001b[0mself\u001b[0m\u001b[0;34m.\u001b[0m\u001b[0mjob_name\u001b[0m\u001b[0;34m)\u001b[0m\u001b[0;34m\u001b[0m\u001b[0;34m\u001b[0m\u001b[0m\n",
      "\u001b[0;32m~/anaconda3/envs/python3/lib/python3.6/site-packages/sagemaker/session.py\u001b[0m in \u001b[0;36mlogs_for_job\u001b[0;34m(self, job_name, wait, poll, log_type)\u001b[0m\n\u001b[1;32m   3363\u001b[0m \u001b[0;34m\u001b[0m\u001b[0m\n\u001b[1;32m   3364\u001b[0m         \u001b[0;32mif\u001b[0m \u001b[0mwait\u001b[0m\u001b[0;34m:\u001b[0m\u001b[0;34m\u001b[0m\u001b[0;34m\u001b[0m\u001b[0m\n\u001b[0;32m-> 3365\u001b[0;31m             \u001b[0mself\u001b[0m\u001b[0;34m.\u001b[0m\u001b[0m_check_job_status\u001b[0m\u001b[0;34m(\u001b[0m\u001b[0mjob_name\u001b[0m\u001b[0;34m,\u001b[0m \u001b[0mdescription\u001b[0m\u001b[0;34m,\u001b[0m \u001b[0;34m\"TrainingJobStatus\"\u001b[0m\u001b[0;34m)\u001b[0m\u001b[0;34m\u001b[0m\u001b[0;34m\u001b[0m\u001b[0m\n\u001b[0m\u001b[1;32m   3366\u001b[0m             \u001b[0;32mif\u001b[0m \u001b[0mdot\u001b[0m\u001b[0;34m:\u001b[0m\u001b[0;34m\u001b[0m\u001b[0;34m\u001b[0m\u001b[0m\n\u001b[1;32m   3367\u001b[0m                 \u001b[0mprint\u001b[0m\u001b[0;34m(\u001b[0m\u001b[0;34m)\u001b[0m\u001b[0;34m\u001b[0m\u001b[0;34m\u001b[0m\u001b[0m\n",
      "\u001b[0;32m~/anaconda3/envs/python3/lib/python3.6/site-packages/sagemaker/session.py\u001b[0m in \u001b[0;36m_check_job_status\u001b[0;34m(self, job, desc, status_key_name)\u001b[0m\n\u001b[1;32m   2955\u001b[0m                 ),\n\u001b[1;32m   2956\u001b[0m                 \u001b[0mallowed_statuses\u001b[0m\u001b[0;34m=\u001b[0m\u001b[0;34m[\u001b[0m\u001b[0;34m\"Completed\"\u001b[0m\u001b[0;34m,\u001b[0m \u001b[0;34m\"Stopped\"\u001b[0m\u001b[0;34m]\u001b[0m\u001b[0;34m,\u001b[0m\u001b[0;34m\u001b[0m\u001b[0;34m\u001b[0m\u001b[0m\n\u001b[0;32m-> 2957\u001b[0;31m                 \u001b[0mactual_status\u001b[0m\u001b[0;34m=\u001b[0m\u001b[0mstatus\u001b[0m\u001b[0;34m,\u001b[0m\u001b[0;34m\u001b[0m\u001b[0;34m\u001b[0m\u001b[0m\n\u001b[0m\u001b[1;32m   2958\u001b[0m             )\n\u001b[1;32m   2959\u001b[0m \u001b[0;34m\u001b[0m\u001b[0m\n",
      "\u001b[0;31mUnexpectedStatusException\u001b[0m: Error for Training job fraud-detection-job-2020-11-22-15-37-52-150: Failed. Reason: ClientError: No iterator has been registered for ContentType (u'csv', '1.0')"
     ]
    }
   ],
   "source": [
    "%%time\n",
    "import time\n",
    "if not xgboost:\n",
    "    from sagemaker.amazon.amazon_estimator import get_image_uri\n",
    "    container = get_image_uri(boto3.Session().region_name, 'linear-learner')\n",
    "    linear_job = 'DEMO-linear-' + time.strftime(\"%Y-%m-%d-%H-%M-%S\", time.gmtime())\n",
    "\n",
    "    print(\"Job name is:\", linear_job)\n",
    " \n",
    "    linlearn = sagemaker.estimator.Estimator(container,\n",
    "                                        role, \n",
    "                                        base_job_name='fraud-detection-job',\n",
    "                                        train_instance_count=1, \n",
    "                                        train_instance_type='ml.m4.xlarge',\n",
    "                                        output_path=s3_pth('output'),\n",
    "                                        sagemaker_session=session,\n",
    "                                        content_type='text/csv' ,\n",
    "                                        predictor_type='binary_classifier',\n",
    "                                        binary_classifier_model_selection_criteria='f1')\n",
    " \n",
    "    positives_in_training_data, negatives_in_training_data=count_positive_and_negative(train_data)\n",
    "    scale_pos_weight =  (negatives_in_training_data / positives_in_training_data )\n",
    "    print(f'positives_in_training_data: {positives_in_training_data}, negatives_in_training_data: {negatives_in_training_data}, scale_pos_weight {scale_pos_weight:.1f}')\n",
    "    feature_dim= len(df.columns)-1\n",
    "    print('feature_dim', feature_dim)\n",
    "    linlearn.set_hyperparameters(\n",
    "            feature_dim=feature_dim,\n",
    "            mini_batch_size=100,\n",
    "            predictor_type= \"regressor\",\n",
    "            epochs= 10,\n",
    "            num_models= 32,\n",
    "            loss= \"absolute_loss\",\n",
    "            train_volume_size = 20,\n",
    "            train_max_run = 3600)\n",
    "    \n",
    "\n",
    "    result = linlearn.fit({'train':  s3_path('train'), 'validation':  s3_path('validation')})\n",
    "    training_job_name = linlearn._current_job_name"
   ]
  },
  {
   "cell_type": "markdown",
   "metadata": {},
   "source": [
    "---\n",
    "## Host\n",
    "\n",
    "Deploy the trained model to an endpoint."
   ]
  },
  {
   "cell_type": "code",
   "execution_count": 73,
   "metadata": {},
   "outputs": [
    {
     "ename": "NameError",
     "evalue": "name 'training_job_name' is not defined",
     "output_type": "error",
     "traceback": [
      "\u001b[0;31m---------------------------------------------------------------------------\u001b[0m",
      "\u001b[0;31mNameError\u001b[0m                                 Traceback (most recent call last)",
      "\u001b[0;32m<ipython-input-73-037a2c9d74d5>\u001b[0m in \u001b[0;36m<module>\u001b[0;34m\u001b[0m\n\u001b[1;32m      3\u001b[0m \u001b[0;34m\u001b[0m\u001b[0m\n\u001b[1;32m      4\u001b[0m \u001b[0mendpoint_name\u001b[0m \u001b[0;34m=\u001b[0m \u001b[0;34m'fraud-detect-endpoint'\u001b[0m\u001b[0;34m\u001b[0m\u001b[0;34m\u001b[0m\u001b[0m\n\u001b[0;32m----> 5\u001b[0;31m \u001b[0mmodel_name\u001b[0m \u001b[0;34m=\u001b[0m \u001b[0mtraining_job_name\u001b[0m \u001b[0;34m+\u001b[0m \u001b[0;34m'-model'\u001b[0m\u001b[0;34m\u001b[0m\u001b[0;34m\u001b[0m\u001b[0m\n\u001b[0m\u001b[1;32m      6\u001b[0m \u001b[0;34m\u001b[0m\u001b[0m\n\u001b[1;32m      7\u001b[0m \u001b[0minfo\u001b[0m \u001b[0;34m=\u001b[0m \u001b[0msession\u001b[0m\u001b[0;34m.\u001b[0m\u001b[0mdescribe_training_job\u001b[0m\u001b[0;34m(\u001b[0m\u001b[0mtraining_job_name\u001b[0m\u001b[0;34m)\u001b[0m\u001b[0;34m\u001b[0m\u001b[0;34m\u001b[0m\u001b[0m\n",
      "\u001b[0;31mNameError\u001b[0m: name 'training_job_name' is not defined"
     ]
    }
   ],
   "source": [
    "import datetime \n",
    "import time\n",
    "\n",
    "endpoint_name = 'fraud-detect-endpoint'\n",
    "model_name = training_job_name + '-model'\n",
    "\n",
    "info = session.describe_training_job(training_job_name)\n",
    "model_data = info['ModelArtifacts']['S3ModelArtifacts']\n",
    "print(model_data)\n",
    "\n",
    "primary_container = {\n",
    "  'Image': container,\n",
    "  'ModelDataUrl': model_data\n",
    "}\n",
    "\n",
    "create_model_response = session.create_model(\n",
    "      name = model_name,\n",
    "      role = role,\n",
    "      container_defs = primary_container)\n",
    "\n",
    "\n",
    "endpoint_config_name = session.create_endpoint_config(name=endpoint_name + '-config-' + datetime.datetime.now().strftime('%m%d-%H%M%S'),\n",
    "                                              model_name=model_name,\n",
    "                                              initial_instance_count=1,\n",
    "                                              instance_type='ml.m5.xlarge',\n",
    "                                              accelerator_type='ml.eia2.medium')\n",
    "\n",
    "client = boto3.client('sagemaker')\n",
    "counter = 0\n",
    "try_now = True\n",
    "while try_now:\n",
    "  counter += 0.5\n",
    "  try:\n",
    "     updated_endpoint = client.update_endpoint(EndpointName=endpoint_name, EndpointConfigName=endpoint_config_name)\n",
    "     try_now = False\n",
    "  except Exception as e:\n",
    "     if 'Could not find endpoint'  in str(e):\n",
    "        print('Could not find endpoint; Trying to create')\n",
    "        updated_endpoint=client.create_endpoint(EndpointName=endpoint_name, EndpointConfigName=endpoint_config_name)\n",
    "        try_now = False\n",
    "     elif 'Cannot update in-progress endpoint' in str(e):\n",
    "        print(f'{counter} min: Cannot update in-progress endpoint; retrying', end='. ')\n",
    "        time.sleep(30)\n",
    "        try_now = True\n",
    "     else:  \n",
    "        raise e\n",
    "\n",
    "endpt_status = 'Updating'\n",
    "minutes_passed = 0 \n",
    "while endpt_status in ['Updating', 'Creating']:\n",
    "    minutes_passed += 0.5\n",
    "    endpt_status = client.describe_endpoint(EndpointName=endpoint_name)['EndpointStatus']\n",
    "    print(f'{minutes_passed} min: {endpt_status} endpoint; ',end='')\n",
    "    time.sleep(30)\n",
    "\n",
    "print('\\nFinished creating or updating endpoint')"
   ]
  },
  {
   "cell_type": "code",
   "execution_count": null,
   "metadata": {},
   "outputs": [],
   "source": [
    "from sagemaker.predictor import csv_serializer\n",
    "from sagemaker.serializers import LibSVMSerializer\n",
    "\n",
    "\n",
    "xgb_predictor = sagemaker.predictor.Predictor(\n",
    "    endpoint_name=endpoint_name, \n",
    "    serializer=LibSVMSerializer(),\n",
    "    sagemaker_session=sagemaker.Session()\n",
    ")\n"
   ]
  },
  {
   "cell_type": "markdown",
   "metadata": {},
   "source": [
    "---\n",
    "\n",
    "## Evaluation\n",
    "\n",
    "Now that we have our hosted endpoint, we can generate predictions from  the  test data set.\n",
    "\n",
    "Compared actual to predicted values of whether the transaction was a \"fraud\" (`1`) or not (`0`).  Then we'll produce a  confusion matrix."
   ]
  },
  {
   "cell_type": "code",
   "execution_count": null,
   "metadata": {},
   "outputs": [],
   "source": [
    "def batch_predict(data, batch_size):\n",
    "\n",
    "    def do_predict(data):\n",
    "       payload = '\\n'.join(data)\n",
    "       response = xgb_predictor.predict(payload).decode('utf-8')\n",
    "       result = response.split(',')\n",
    "       preds = [float(num) for num in result]\n",
    "       preds = [round(num) for num in preds]\n",
    "       return preds\n",
    "\n",
    "    items = len(data)\n",
    "    arrs = []\n",
    "    \n",
    "    for offset in range(0, items, batch_size):\n",
    "        if offset+batch_size < items:\n",
    "            results = do_predict(data[offset:(offset+batch_size)])\n",
    "            arrs.extend(results)\n",
    "        else:\n",
    "            arrs.extend(do_predict(data[offset:items]))\n",
    "        sys.stdout.write('.')\n",
    "    return(arrs)"
   ]
  },
  {
   "cell_type": "code",
   "execution_count": null,
   "metadata": {},
   "outputs": [],
   "source": [
    "%%time\n",
    "import json\n",
    "\n",
    "with open('test.'+datatype_extension, 'r') as f:\n",
    "    payload = f.read().strip()\n",
    "\n",
    "labels_ml = [int(line.split(' ')[0]) for line in payload.split('\\n')]\n",
    "\n",
    "test_data_input_for_ml = [line for line in payload.split('\\n')]\n",
    "preds_ml = batch_predict(test_data_input_for_ml, 100)"
   ]
  },
  {
   "cell_type": "code",
   "execution_count": null,
   "metadata": {},
   "outputs": [],
   "source": [
    "#labels_rule_based = list(test_data_for_rules[target_col])\n",
    "#unexpected_pos = [lbl for lbl in labels_rule_based if lbl!=0 ]\n",
    "#assert 0 == len(unexpected_pos), 'Expect all to be negative for these \"types\"'\n",
    "#preds_rule_based = labels_rule_based.copy()"
   ]
  },
  {
   "cell_type": "code",
   "execution_count": null,
   "metadata": {},
   "outputs": [],
   "source": [
    "#labels_all = labels_ml + labels_rule_based\n",
    "#preds_all = preds_ml + preds_rule_based"
   ]
  },
  {
   "cell_type": "code",
   "execution_count": null,
   "metadata": {},
   "outputs": [],
   "source": [
    "def metrics(labels_, predictions):\n",
    "   assert len(labels_)==len(predictions)\n",
    "   \n",
    "   print(f'n = {len(labels_)}')\n",
    "  \n",
    "   actual_pos = sum(1 for i in range(len(labels_)) if 1 == labels_[i])\n",
    "   actual_neg = sum(1 for i in range(len(labels_)) if 0 == labels_[i])\n",
    "\n",
    "   pred_pos = sum(1 for i in range(len(predictions)) if 1 == predictions[i])\n",
    "   pred_neg = sum(1 for i in range(len(predictions)) if 0 == predictions[i])\n",
    "\n",
    "   true_pos = sum(1 for i in range(len(predictions)) if predictions[i] == 1 == labels_[i])\n",
    "   true_neg = sum(1 for i in range(len(predictions)) if predictions[i] == 0 == labels_[i])\n",
    "\n",
    "   false_pos=sum(1 for i in range(len(predictions)) if predictions[i] == 1 and 0 == labels_[i])\n",
    "   false_neg=sum(1 for i in range(len(predictions)) if predictions[i] == 0 and 1 == labels_[i])\n",
    "   \n",
    "   print('true_pos', true_pos, 'false_pos', false_pos)\n",
    "   print('true_neg', true_neg, 'false_neg', false_neg)\n",
    "\n",
    "   assert  true_pos+false_pos == pred_pos\n",
    "  \n",
    "   recall = true_pos / (true_pos + false_neg)\n",
    "   print(f'Recall = {recall:.2f}')\n",
    "   precision = true_pos / (true_pos + false_pos)\n",
    "\n",
    "   print(f'Precision = {precision:.2f}')\n",
    "   if precision+recall == 0:\n",
    "       f1=float('inf')\n",
    "   else:\n",
    "       f1 = (2 * precision * recall) / (precision + recall)\n",
    "       \n",
    "   print(f'F1 = {f1:.2f}')\n",
    "   error = sum(1 for i in range(len(predictions)) if predictions[i] != labels_[i]) / float(len(predictions))\n",
    "   print(f'Error rate = {error:.2f}')\n",
    "\n",
    "   assert recall <= f1 <= precision or precision <= f1 <= recall  or precision==recall==0\n",
    "   assert true_pos + false_neg == actual_pos\n",
    "   assert true_neg + false_pos == actual_neg\n",
    "   assert len(predictions)==len(labels_)\n",
    "   assert actual_pos + actual_neg==len(labels_)\n",
    "   assert true_neg + false_neg== pred_neg\n",
    "   assert pred_pos + pred_neg==len(predictions)\n",
    "\n",
    "print('ML-based metrics')\n",
    "metrics(labels_ml, preds_ml)\n",
    "#print('Full  metrics') \n",
    "#metrics(labels_all, preds_all)"
   ]
  },
  {
   "cell_type": "markdown",
   "metadata": {},
   "source": [
    "Show confusion matrix."
   ]
  },
  {
   "cell_type": "code",
   "execution_count": null,
   "metadata": {},
   "outputs": [],
   "source": [
    "pd.crosstab(index=np.array(labels_all), columns=np.array(preds_all), rownames=['actual fraud'],  colnames=['predicted as fraud'])"
   ]
  },
  {
   "cell_type": "markdown",
   "metadata": {},
   "source": []
  },
  {
   "cell_type": "markdown",
   "metadata": {},
   "source": [
    " "
   ]
  },
  {
   "cell_type": "markdown",
   "metadata": {},
   "source": [
    "Clean up to save money"
   ]
  },
  {
   "cell_type": "code",
   "execution_count": null,
   "metadata": {},
   "outputs": [],
   "source": [
    "#session.delete_endpoint(xgb_predictor.endpoint)"
   ]
  },
  {
   "cell_type": "code",
   "execution_count": null,
   "metadata": {},
   "outputs": [],
   "source": []
  }
 ],
 "metadata": {
  "kernelspec": {
   "display_name": "conda_python3",
   "language": "python",
   "name": "conda_python3"
  },
  "language_info": {
   "codemirror_mode": {
    "name": "ipython",
    "version": 3
   },
   "file_extension": ".py",
   "mimetype": "text/x-python",
   "name": "python",
   "nbconvert_exporter": "python",
   "pygments_lexer": "ipython3",
   "version": "3.6.10"
  },
  "notice": "Copyright 2017 Amazon.com, Inc. or its affiliates. All Rights Reserved.  Licensed under the Apache License, Version 2.0 (the \"License\"). You may not use this file except in compliance with the License. A copy of the License is located at http://aws.amazon.com/apache2.0/ or in the \"license\" file accompanying this file. This file is distributed on an \"AS IS\" BASIS, WITHOUT WARRANTIES OR CONDITIONS OF ANY KIND, either express or implied. See the License for the specific language governing permissions and limitations under the License."
 },
 "nbformat": 4,
 "nbformat_minor": 4
}
