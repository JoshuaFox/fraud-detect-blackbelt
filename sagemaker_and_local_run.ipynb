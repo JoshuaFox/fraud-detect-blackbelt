{
 "cells": [
  {
   "cell_type": "code",
   "execution_count": 1,
   "metadata": {},
   "outputs": [
    {
     "name": "stdout",
     "output_type": "stream",
     "text": [
      "Start at 2020-12-07T18-33-21Z\n"
     ]
    }
   ],
   "source": [
    "import datetime\n",
    "def date_s():\n",
    "  return datetime.datetime.now().isoformat().replace('.','-').replace(':','-')[:-7] +'Z' \n",
    "\n",
    "print('Start at', date_s())"
   ]
  },
  {
   "cell_type": "code",
   "execution_count": 2,
   "metadata": {},
   "outputs": [
    {
     "name": "stdout",
     "output_type": "stream",
     "text": [
      "Requirement already satisfied: numpy in /home/ec2-user/anaconda3/envs/python3/lib/python3.6/site-packages (from -r requirements.txt (line 1)) (1.18.1)\n",
      "Requirement already satisfied: pandas in /home/ec2-user/anaconda3/envs/python3/lib/python3.6/site-packages (from -r requirements.txt (line 2)) (1.0.1)\n",
      "Requirement already satisfied: matplotlib in /home/ec2-user/anaconda3/envs/python3/lib/python3.6/site-packages (from -r requirements.txt (line 3)) (3.1.3)\n",
      "Requirement already satisfied: jupyter in /home/ec2-user/anaconda3/envs/python3/lib/python3.6/site-packages (from -r requirements.txt (line 4)) (1.0.0)\n",
      "Requirement already satisfied: boto3 in /home/ec2-user/anaconda3/envs/python3/lib/python3.6/site-packages (from -r requirements.txt (line 5)) (1.16.19)\n",
      "Requirement already satisfied: sagemaker in /home/ec2-user/anaconda3/envs/python3/lib/python3.6/site-packages (from -r requirements.txt (line 6)) (2.16.4.dev0)\n",
      "Requirement already satisfied: scikit-learn==0.23.1 in /home/ec2-user/anaconda3/envs/python3/lib/python3.6/site-packages (from -r requirements.txt (line 7)) (0.23.1)\n",
      "Requirement already satisfied: imbalanced-learn in /home/ec2-user/anaconda3/envs/python3/lib/python3.6/site-packages (from -r requirements.txt (line 8)) (0.7.0)\n",
      "Requirement already satisfied: category_encoders in /home/ec2-user/anaconda3/envs/python3/lib/python3.6/site-packages (from -r requirements.txt (line 9)) (2.2.2)\n",
      "Requirement already satisfied: seaborn in /home/ec2-user/anaconda3/envs/python3/lib/python3.6/site-packages (from -r requirements.txt (line 10)) (0.10.0)\n",
      "Requirement already satisfied: xgboost in /home/ec2-user/anaconda3/envs/python3/lib/python3.6/site-packages (from -r requirements.txt (line 11)) (1.2.1)\n",
      "Requirement already satisfied: pyarrow in /home/ec2-user/anaconda3/envs/python3/lib/python3.6/site-packages (from -r requirements.txt (line 12)) (2.0.0)\n",
      "Requirement already satisfied: pytz>=2017.2 in /home/ec2-user/anaconda3/envs/python3/lib/python3.6/site-packages (from pandas->-r requirements.txt (line 2)) (2019.3)\n",
      "Requirement already satisfied: python-dateutil>=2.6.1 in /home/ec2-user/anaconda3/envs/python3/lib/python3.6/site-packages (from pandas->-r requirements.txt (line 2)) (2.8.1)\n",
      "Requirement already satisfied: kiwisolver>=1.0.1 in /home/ec2-user/anaconda3/envs/python3/lib/python3.6/site-packages (from matplotlib->-r requirements.txt (line 3)) (1.1.0)\n",
      "Requirement already satisfied: cycler>=0.10 in /home/ec2-user/anaconda3/envs/python3/lib/python3.6/site-packages (from matplotlib->-r requirements.txt (line 3)) (0.10.0)\n",
      "Requirement already satisfied: pyparsing!=2.0.4,!=2.1.2,!=2.1.6,>=2.0.1 in /home/ec2-user/anaconda3/envs/python3/lib/python3.6/site-packages (from matplotlib->-r requirements.txt (line 3)) (2.4.6)\n",
      "Requirement already satisfied: nbconvert in /home/ec2-user/anaconda3/envs/python3/lib/python3.6/site-packages (from jupyter->-r requirements.txt (line 4)) (5.6.1)\n",
      "Requirement already satisfied: ipywidgets in /home/ec2-user/anaconda3/envs/python3/lib/python3.6/site-packages (from jupyter->-r requirements.txt (line 4)) (7.5.1)\n",
      "Requirement already satisfied: ipykernel in /home/ec2-user/anaconda3/envs/python3/lib/python3.6/site-packages (from jupyter->-r requirements.txt (line 4)) (5.1.4)\n",
      "Requirement already satisfied: notebook in /home/ec2-user/anaconda3/envs/python3/lib/python3.6/site-packages (from jupyter->-r requirements.txt (line 4)) (6.0.3)\n",
      "Requirement already satisfied: jupyter-console in /home/ec2-user/anaconda3/envs/python3/lib/python3.6/site-packages (from jupyter->-r requirements.txt (line 4)) (6.1.0)\n",
      "Requirement already satisfied: qtconsole in /home/ec2-user/anaconda3/envs/python3/lib/python3.6/site-packages (from jupyter->-r requirements.txt (line 4)) (4.6.0)\n",
      "Requirement already satisfied: botocore<1.20.0,>=1.19.19 in /home/ec2-user/anaconda3/envs/python3/lib/python3.6/site-packages (from boto3->-r requirements.txt (line 5)) (1.19.19)\n",
      "Requirement already satisfied: s3transfer<0.4.0,>=0.3.0 in /home/ec2-user/anaconda3/envs/python3/lib/python3.6/site-packages (from boto3->-r requirements.txt (line 5)) (0.3.3)\n",
      "Requirement already satisfied: jmespath<1.0.0,>=0.7.1 in /home/ec2-user/anaconda3/envs/python3/lib/python3.6/site-packages (from boto3->-r requirements.txt (line 5)) (0.10.0)\n",
      "Requirement already satisfied: packaging>=20.0 in /home/ec2-user/anaconda3/envs/python3/lib/python3.6/site-packages (from sagemaker->-r requirements.txt (line 6)) (20.1)\n",
      "Requirement already satisfied: attrs in /home/ec2-user/anaconda3/envs/python3/lib/python3.6/site-packages (from sagemaker->-r requirements.txt (line 6)) (19.3.0)\n",
      "Requirement already satisfied: importlib-metadata>=1.4.0 in /home/ec2-user/anaconda3/envs/python3/lib/python3.6/site-packages (from sagemaker->-r requirements.txt (line 6)) (1.5.0)\n",
      "Requirement already satisfied: protobuf3-to-dict>=0.1.5 in /home/ec2-user/anaconda3/envs/python3/lib/python3.6/site-packages (from sagemaker->-r requirements.txt (line 6)) (0.1.5)\n",
      "Requirement already satisfied: smdebug-rulesconfig==0.1.5 in /home/ec2-user/anaconda3/envs/python3/lib/python3.6/site-packages (from sagemaker->-r requirements.txt (line 6)) (0.1.5)\n",
      "Requirement already satisfied: google-pasta in /home/ec2-user/anaconda3/envs/python3/lib/python3.6/site-packages (from sagemaker->-r requirements.txt (line 6)) (0.2.0)\n",
      "Requirement already satisfied: protobuf>=3.1 in /home/ec2-user/anaconda3/envs/python3/lib/python3.6/site-packages (from sagemaker->-r requirements.txt (line 6)) (3.11.4)\n",
      "Requirement already satisfied: joblib>=0.11 in /home/ec2-user/anaconda3/envs/python3/lib/python3.6/site-packages (from scikit-learn==0.23.1->-r requirements.txt (line 7)) (0.14.1)\n",
      "Requirement already satisfied: threadpoolctl>=2.0.0 in /home/ec2-user/anaconda3/envs/python3/lib/python3.6/site-packages (from scikit-learn==0.23.1->-r requirements.txt (line 7)) (2.1.0)\n",
      "Requirement already satisfied: scipy>=0.19.1 in /home/ec2-user/anaconda3/envs/python3/lib/python3.6/site-packages (from scikit-learn==0.23.1->-r requirements.txt (line 7)) (1.4.1)\n",
      "Requirement already satisfied: statsmodels>=0.9.0 in /home/ec2-user/anaconda3/envs/python3/lib/python3.6/site-packages (from category_encoders->-r requirements.txt (line 9)) (0.11.0)\n",
      "Requirement already satisfied: patsy>=0.5.1 in /home/ec2-user/anaconda3/envs/python3/lib/python3.6/site-packages (from category_encoders->-r requirements.txt (line 9)) (0.5.1)\n",
      "Requirement already satisfied: six>=1.5 in /home/ec2-user/anaconda3/envs/python3/lib/python3.6/site-packages (from python-dateutil>=2.6.1->pandas->-r requirements.txt (line 2)) (1.14.0)\n",
      "Requirement already satisfied: setuptools in /home/ec2-user/anaconda3/envs/python3/lib/python3.6/site-packages (from kiwisolver>=1.0.1->matplotlib->-r requirements.txt (line 3)) (45.2.0.post20200210)\n",
      "Requirement already satisfied: jupyter-core in /home/ec2-user/anaconda3/envs/python3/lib/python3.6/site-packages (from nbconvert->jupyter->-r requirements.txt (line 4)) (4.6.1)\n",
      "Requirement already satisfied: defusedxml in /home/ec2-user/anaconda3/envs/python3/lib/python3.6/site-packages (from nbconvert->jupyter->-r requirements.txt (line 4)) (0.6.0)\n",
      "Requirement already satisfied: mistune<2,>=0.8.1 in /home/ec2-user/anaconda3/envs/python3/lib/python3.6/site-packages (from nbconvert->jupyter->-r requirements.txt (line 4)) (0.8.4)\n",
      "Requirement already satisfied: bleach in /home/ec2-user/anaconda3/envs/python3/lib/python3.6/site-packages (from nbconvert->jupyter->-r requirements.txt (line 4)) (3.2.1)\n",
      "Requirement already satisfied: entrypoints>=0.2.2 in /home/ec2-user/anaconda3/envs/python3/lib/python3.6/site-packages (from nbconvert->jupyter->-r requirements.txt (line 4)) (0.3)\n",
      "Requirement already satisfied: jinja2>=2.4 in /home/ec2-user/anaconda3/envs/python3/lib/python3.6/site-packages (from nbconvert->jupyter->-r requirements.txt (line 4)) (2.11.1)\n",
      "Requirement already satisfied: testpath in /home/ec2-user/anaconda3/envs/python3/lib/python3.6/site-packages (from nbconvert->jupyter->-r requirements.txt (line 4)) (0.4.4)\n",
      "Requirement already satisfied: pygments in /home/ec2-user/anaconda3/envs/python3/lib/python3.6/site-packages (from nbconvert->jupyter->-r requirements.txt (line 4)) (2.5.2)\n",
      "Requirement already satisfied: pandocfilters>=1.4.1 in /home/ec2-user/anaconda3/envs/python3/lib/python3.6/site-packages (from nbconvert->jupyter->-r requirements.txt (line 4)) (1.4.2)\n",
      "Requirement already satisfied: nbformat>=4.4 in /home/ec2-user/anaconda3/envs/python3/lib/python3.6/site-packages (from nbconvert->jupyter->-r requirements.txt (line 4)) (5.0.4)\n",
      "Requirement already satisfied: traitlets>=4.2 in /home/ec2-user/anaconda3/envs/python3/lib/python3.6/site-packages (from nbconvert->jupyter->-r requirements.txt (line 4)) (4.3.3)\n",
      "Requirement already satisfied: ipython>=4.0.0; python_version >= \"3.3\" in /home/ec2-user/anaconda3/envs/python3/lib/python3.6/site-packages (from ipywidgets->jupyter->-r requirements.txt (line 4)) (7.12.0)\n",
      "Requirement already satisfied: widgetsnbextension~=3.5.0 in /home/ec2-user/anaconda3/envs/python3/lib/python3.6/site-packages (from ipywidgets->jupyter->-r requirements.txt (line 4)) (3.5.1)\n",
      "Requirement already satisfied: jupyter-client in /home/ec2-user/anaconda3/envs/python3/lib/python3.6/site-packages (from ipykernel->jupyter->-r requirements.txt (line 4)) (5.3.4)\n",
      "Requirement already satisfied: tornado>=4.2 in /home/ec2-user/anaconda3/envs/python3/lib/python3.6/site-packages (from ipykernel->jupyter->-r requirements.txt (line 4)) (6.0.3)\n",
      "Requirement already satisfied: pyzmq>=17 in /home/ec2-user/anaconda3/envs/python3/lib/python3.6/site-packages (from notebook->jupyter->-r requirements.txt (line 4)) (18.1.1)\n",
      "Requirement already satisfied: Send2Trash in /home/ec2-user/anaconda3/envs/python3/lib/python3.6/site-packages (from notebook->jupyter->-r requirements.txt (line 4)) (1.5.0)\n",
      "Requirement already satisfied: terminado>=0.8.1 in /home/ec2-user/anaconda3/envs/python3/lib/python3.6/site-packages (from notebook->jupyter->-r requirements.txt (line 4)) (0.8.3)\n",
      "Requirement already satisfied: ipython-genutils in /home/ec2-user/anaconda3/envs/python3/lib/python3.6/site-packages (from notebook->jupyter->-r requirements.txt (line 4)) (0.2.0)\n",
      "Requirement already satisfied: prometheus-client in /home/ec2-user/anaconda3/envs/python3/lib/python3.6/site-packages (from notebook->jupyter->-r requirements.txt (line 4)) (0.7.1)\n",
      "Requirement already satisfied: prompt-toolkit!=3.0.0,!=3.0.1,<3.1.0,>=2.0.0 in /home/ec2-user/anaconda3/envs/python3/lib/python3.6/site-packages (from jupyter-console->jupyter->-r requirements.txt (line 4)) (3.0.3)\n",
      "Requirement already satisfied: urllib3<1.27,>=1.25.4 in /home/ec2-user/anaconda3/envs/python3/lib/python3.6/site-packages (from botocore<1.20.0,>=1.19.19->boto3->-r requirements.txt (line 5)) (1.25.10)\n",
      "Requirement already satisfied: zipp>=0.5 in /home/ec2-user/anaconda3/envs/python3/lib/python3.6/site-packages (from importlib-metadata>=1.4.0->sagemaker->-r requirements.txt (line 6)) (2.2.0)\n",
      "Requirement already satisfied: webencodings in /home/ec2-user/anaconda3/envs/python3/lib/python3.6/site-packages (from bleach->nbconvert->jupyter->-r requirements.txt (line 4)) (0.5.1)\n",
      "Requirement already satisfied: MarkupSafe>=0.23 in /home/ec2-user/anaconda3/envs/python3/lib/python3.6/site-packages (from jinja2>=2.4->nbconvert->jupyter->-r requirements.txt (line 4)) (1.1.1)\n",
      "Requirement already satisfied: jsonschema!=2.5.0,>=2.4 in /home/ec2-user/anaconda3/envs/python3/lib/python3.6/site-packages (from nbformat>=4.4->nbconvert->jupyter->-r requirements.txt (line 4)) (3.2.0)\n",
      "Requirement already satisfied: decorator in /home/ec2-user/anaconda3/envs/python3/lib/python3.6/site-packages (from traitlets>=4.2->nbconvert->jupyter->-r requirements.txt (line 4)) (4.4.1)\n",
      "Requirement already satisfied: pickleshare in /home/ec2-user/anaconda3/envs/python3/lib/python3.6/site-packages (from ipython>=4.0.0; python_version >= \"3.3\"->ipywidgets->jupyter->-r requirements.txt (line 4)) (0.7.5)\n",
      "Requirement already satisfied: pexpect; sys_platform != \"win32\" in /home/ec2-user/anaconda3/envs/python3/lib/python3.6/site-packages (from ipython>=4.0.0; python_version >= \"3.3\"->ipywidgets->jupyter->-r requirements.txt (line 4)) (4.8.0)\n",
      "Requirement already satisfied: backcall in /home/ec2-user/anaconda3/envs/python3/lib/python3.6/site-packages (from ipython>=4.0.0; python_version >= \"3.3\"->ipywidgets->jupyter->-r requirements.txt (line 4)) (0.1.0)\n",
      "Requirement already satisfied: jedi>=0.10 in /home/ec2-user/anaconda3/envs/python3/lib/python3.6/site-packages (from ipython>=4.0.0; python_version >= \"3.3\"->ipywidgets->jupyter->-r requirements.txt (line 4)) (0.14.1)\n",
      "Requirement already satisfied: wcwidth in /home/ec2-user/anaconda3/envs/python3/lib/python3.6/site-packages (from prompt-toolkit!=3.0.0,!=3.0.1,<3.1.0,>=2.0.0->jupyter-console->jupyter->-r requirements.txt (line 4)) (0.1.8)\n",
      "Requirement already satisfied: pyrsistent>=0.14.0 in /home/ec2-user/anaconda3/envs/python3/lib/python3.6/site-packages (from jsonschema!=2.5.0,>=2.4->nbformat>=4.4->nbconvert->jupyter->-r requirements.txt (line 4)) (0.15.7)\n",
      "Requirement already satisfied: ptyprocess>=0.5 in /home/ec2-user/anaconda3/envs/python3/lib/python3.6/site-packages (from pexpect; sys_platform != \"win32\"->ipython>=4.0.0; python_version >= \"3.3\"->ipywidgets->jupyter->-r requirements.txt (line 4)) (0.6.0)\n",
      "Requirement already satisfied: parso>=0.5.0 in /home/ec2-user/anaconda3/envs/python3/lib/python3.6/site-packages (from jedi>=0.10->ipython>=4.0.0; python_version >= \"3.3\"->ipywidgets->jupyter->-r requirements.txt (line 4)) (0.5.2)\n",
      "\u001b[33mWARNING: You are using pip version 20.0.2; however, version 20.3 is available.\n",
      "You should consider upgrading via the '/home/ec2-user/anaconda3/envs/python3/bin/python -m pip install --upgrade pip' command.\u001b[0m\n"
     ]
    }
   ],
   "source": [
    "import sys\n",
    "!{sys.executable} -m pip install -r requirements.txt"
   ]
  },
  {
   "cell_type": "code",
   "execution_count": 3,
   "metadata": {},
   "outputs": [],
   "source": [
    "import boto3\n",
    "import datetime\n",
    "import json\n",
    "import math \n",
    "import matplotlib.pyplot as plt   \n",
    "from matplotlib import pyplot\n",
    "from matplotlib.pyplot import figure\n",
    "import numpy as np\n",
    "import pandas as pd\n",
    "import pyarrow.parquet as pq\n",
    "import sagemaker\n",
    "from sagemaker.amazon.amazon_estimator import get_image_uri\n",
    "from sagemaker.deserializers import StringDeserializer\n",
    "from sagemaker.estimator import Estimator\n",
    "from sagemaker.predictor import Predictor\n",
    "from sagemaker.serializers import LibSVMSerializer\n",
    "from sagemaker.tuner import IntegerParameter, CategoricalParameter, ContinuousParameter, HyperparameterTuner\n",
    "import seaborn  \n",
    "from sklearn.datasets import dump_svmlight_file   \n",
    "from sklearn.metrics import * \n",
    "from sklearn.model_selection import train_test_split\n",
    "import sys\n",
    "import time\n",
    "from xgboost import XGBClassifier"
   ]
  },
  {
   "cell_type": "code",
   "execution_count": 4,
   "metadata": {},
   "outputs": [
    {
     "name": "stdout",
     "output_type": "stream",
     "text": [
      "Bucket sagemaker-jfox in region eu-west-1\n",
      "CPU times: user 211 ms, sys: 7.19 ms, total: 218 ms\n",
      "Wall time: 2.26 s\n"
     ]
    }
   ],
   "source": [
    "%%time\n",
    "\n",
    "session = sagemaker.Session() \n",
    "region = session.boto_region_name \n",
    "\n",
    "bucket = 'sagemaker-jfox'\n",
    "prefix = 'sagemaker/xgboost'\n",
    "role = sagemaker.get_execution_role()\n",
    "\n",
    "print(f'Bucket {bucket} in region {region}')"
   ]
  },
  {
   "cell_type": "code",
   "execution_count": 5,
   "metadata": {},
   "outputs": [
    {
     "name": "stdout",
     "output_type": "stream",
     "text": [
      "Length 6362620\n",
      "CPU times: user 1.09 s, sys: 599 ms, total: 1.69 s\n",
      "Wall time: 1.62 s\n"
     ]
    }
   ],
   "source": [
    "%%time\n",
    "filename='from_databrew.parquet.snappy' \n",
    "s3 = boto3.resource('s3', region_name=region)\n",
    "\n",
    "#s3.Bucket(bucket).download_file(\n",
    "# 'normalize-3-snappy-parquet/normalize-3_02Dec2020_1606903905135/normalize-3_02Dec2020_1606903905135_part00000.parquet.snappy',\n",
    "#    filename)\n",
    "table = pq.read_table(filename)\n",
    "df = table.to_pandas()    \n",
    "    \n",
    "print('Length', len(df))"
   ]
  },
  {
   "cell_type": "markdown",
   "metadata": {},
   "source": [
    "## Optionally sample \n",
    "... a fraction of the dataset for fast cycles in development."
   ]
  },
  {
   "cell_type": "code",
   "execution_count": 6,
   "metadata": {},
   "outputs": [
    {
     "data": {
      "text/html": [
       "<div>\n",
       "<style scoped>\n",
       "    .dataframe tbody tr th:only-of-type {\n",
       "        vertical-align: middle;\n",
       "    }\n",
       "\n",
       "    .dataframe tbody tr th {\n",
       "        vertical-align: top;\n",
       "    }\n",
       "\n",
       "    .dataframe thead th {\n",
       "        text-align: right;\n",
       "    }\n",
       "</style>\n",
       "<table border=\"1\" class=\"dataframe\">\n",
       "  <thead>\n",
       "    <tr style=\"text-align: right;\">\n",
       "      <th></th>\n",
       "      <th>isFraud</th>\n",
       "      <th>hour</th>\n",
       "      <th>type_CASH_IN</th>\n",
       "      <th>type_CASH_OUT</th>\n",
       "      <th>type_DEBIT</th>\n",
       "      <th>type_PAYMENT</th>\n",
       "      <th>type_TRANSFER</th>\n",
       "      <th>amount_nml</th>\n",
       "      <th>oldBalanceOrigin_nml</th>\n",
       "      <th>newBalanceOrigin_nml</th>\n",
       "      <th>oldBalanceDestination_nml</th>\n",
       "      <th>newBalanceDestination_nml</th>\n",
       "    </tr>\n",
       "  </thead>\n",
       "  <tbody>\n",
       "    <tr>\n",
       "      <th>4322341</th>\n",
       "      <td>0</td>\n",
       "      <td>20.0</td>\n",
       "      <td>0</td>\n",
       "      <td>0</td>\n",
       "      <td>0</td>\n",
       "      <td>1</td>\n",
       "      <td>0</td>\n",
       "      <td>-0.229409</td>\n",
       "      <td>-0.287947</td>\n",
       "      <td>-0.292442</td>\n",
       "      <td>-0.323814</td>\n",
       "      <td>-0.333411</td>\n",
       "    </tr>\n",
       "    <tr>\n",
       "      <th>4686059</th>\n",
       "      <td>0</td>\n",
       "      <td>19.0</td>\n",
       "      <td>0</td>\n",
       "      <td>0</td>\n",
       "      <td>0</td>\n",
       "      <td>1</td>\n",
       "      <td>0</td>\n",
       "      <td>-0.288739</td>\n",
       "      <td>-0.288716</td>\n",
       "      <td>-0.292442</td>\n",
       "      <td>-0.323814</td>\n",
       "      <td>-0.333411</td>\n",
       "    </tr>\n",
       "    <tr>\n",
       "      <th>3937352</th>\n",
       "      <td>0</td>\n",
       "      <td>22.0</td>\n",
       "      <td>0</td>\n",
       "      <td>1</td>\n",
       "      <td>0</td>\n",
       "      <td>0</td>\n",
       "      <td>0</td>\n",
       "      <td>-0.085726</td>\n",
       "      <td>-0.288716</td>\n",
       "      <td>-0.292442</td>\n",
       "      <td>2.193641</td>\n",
       "      <td>2.030517</td>\n",
       "    </tr>\n",
       "    <tr>\n",
       "      <th>491263</th>\n",
       "      <td>0</td>\n",
       "      <td>19.0</td>\n",
       "      <td>0</td>\n",
       "      <td>1</td>\n",
       "      <td>0</td>\n",
       "      <td>0</td>\n",
       "      <td>0</td>\n",
       "      <td>-0.064778</td>\n",
       "      <td>-0.288716</td>\n",
       "      <td>-0.292442</td>\n",
       "      <td>0.229449</td>\n",
       "      <td>0.216756</td>\n",
       "    </tr>\n",
       "    <tr>\n",
       "      <th>5030793</th>\n",
       "      <td>0</td>\n",
       "      <td>18.0</td>\n",
       "      <td>0</td>\n",
       "      <td>1</td>\n",
       "      <td>0</td>\n",
       "      <td>0</td>\n",
       "      <td>0</td>\n",
       "      <td>-0.037904</td>\n",
       "      <td>-0.199619</td>\n",
       "      <td>-0.258119</td>\n",
       "      <td>1.646407</td>\n",
       "      <td>1.532095</td>\n",
       "    </tr>\n",
       "    <tr>\n",
       "      <th>...</th>\n",
       "      <td>...</td>\n",
       "      <td>...</td>\n",
       "      <td>...</td>\n",
       "      <td>...</td>\n",
       "      <td>...</td>\n",
       "      <td>...</td>\n",
       "      <td>...</td>\n",
       "      <td>...</td>\n",
       "      <td>...</td>\n",
       "      <td>...</td>\n",
       "      <td>...</td>\n",
       "      <td>...</td>\n",
       "    </tr>\n",
       "    <tr>\n",
       "      <th>1858543</th>\n",
       "      <td>0</td>\n",
       "      <td>20.0</td>\n",
       "      <td>1</td>\n",
       "      <td>0</td>\n",
       "      <td>0</td>\n",
       "      <td>0</td>\n",
       "      <td>0</td>\n",
       "      <td>0.021337</td>\n",
       "      <td>1.802330</td>\n",
       "      <td>1.838917</td>\n",
       "      <td>-0.167669</td>\n",
       "      <td>-0.241412</td>\n",
       "    </tr>\n",
       "    <tr>\n",
       "      <th>2581057</th>\n",
       "      <td>0</td>\n",
       "      <td>15.0</td>\n",
       "      <td>0</td>\n",
       "      <td>0</td>\n",
       "      <td>0</td>\n",
       "      <td>1</td>\n",
       "      <td>0</td>\n",
       "      <td>-0.255680</td>\n",
       "      <td>-0.288547</td>\n",
       "      <td>-0.292442</td>\n",
       "      <td>-0.323814</td>\n",
       "      <td>-0.333411</td>\n",
       "    </tr>\n",
       "    <tr>\n",
       "      <th>4724952</th>\n",
       "      <td>0</td>\n",
       "      <td>20.0</td>\n",
       "      <td>0</td>\n",
       "      <td>0</td>\n",
       "      <td>0</td>\n",
       "      <td>1</td>\n",
       "      <td>0</td>\n",
       "      <td>-0.292877</td>\n",
       "      <td>-0.256813</td>\n",
       "      <td>-0.261957</td>\n",
       "      <td>-0.323814</td>\n",
       "      <td>-0.333411</td>\n",
       "    </tr>\n",
       "    <tr>\n",
       "      <th>923095</th>\n",
       "      <td>0</td>\n",
       "      <td>19.0</td>\n",
       "      <td>0</td>\n",
       "      <td>1</td>\n",
       "      <td>0</td>\n",
       "      <td>0</td>\n",
       "      <td>0</td>\n",
       "      <td>0.059901</td>\n",
       "      <td>-0.288716</td>\n",
       "      <td>-0.292442</td>\n",
       "      <td>-0.222012</td>\n",
       "      <td>-0.180429</td>\n",
       "    </tr>\n",
       "    <tr>\n",
       "      <th>3176367</th>\n",
       "      <td>0</td>\n",
       "      <td>22.0</td>\n",
       "      <td>0</td>\n",
       "      <td>1</td>\n",
       "      <td>0</td>\n",
       "      <td>0</td>\n",
       "      <td>0</td>\n",
       "      <td>0.244831</td>\n",
       "      <td>-0.288716</td>\n",
       "      <td>-0.292442</td>\n",
       "      <td>-0.147976</td>\n",
       "      <td>-0.081539</td>\n",
       "    </tr>\n",
       "  </tbody>\n",
       "</table>\n",
       "<p>6362620 rows × 12 columns</p>\n",
       "</div>"
      ],
      "text/plain": [
       "         isFraud  hour  type_CASH_IN  type_CASH_OUT  type_DEBIT  type_PAYMENT  \\\n",
       "4322341        0  20.0             0              0           0             1   \n",
       "4686059        0  19.0             0              0           0             1   \n",
       "3937352        0  22.0             0              1           0             0   \n",
       "491263         0  19.0             0              1           0             0   \n",
       "5030793        0  18.0             0              1           0             0   \n",
       "...          ...   ...           ...            ...         ...           ...   \n",
       "1858543        0  20.0             1              0           0             0   \n",
       "2581057        0  15.0             0              0           0             1   \n",
       "4724952        0  20.0             0              0           0             1   \n",
       "923095         0  19.0             0              1           0             0   \n",
       "3176367        0  22.0             0              1           0             0   \n",
       "\n",
       "         type_TRANSFER  amount_nml  oldBalanceOrigin_nml  \\\n",
       "4322341              0   -0.229409             -0.287947   \n",
       "4686059              0   -0.288739             -0.288716   \n",
       "3937352              0   -0.085726             -0.288716   \n",
       "491263               0   -0.064778             -0.288716   \n",
       "5030793              0   -0.037904             -0.199619   \n",
       "...                ...         ...                   ...   \n",
       "1858543              0    0.021337              1.802330   \n",
       "2581057              0   -0.255680             -0.288547   \n",
       "4724952              0   -0.292877             -0.256813   \n",
       "923095               0    0.059901             -0.288716   \n",
       "3176367              0    0.244831             -0.288716   \n",
       "\n",
       "         newBalanceOrigin_nml  oldBalanceDestination_nml  \\\n",
       "4322341             -0.292442                  -0.323814   \n",
       "4686059             -0.292442                  -0.323814   \n",
       "3937352             -0.292442                   2.193641   \n",
       "491263              -0.292442                   0.229449   \n",
       "5030793             -0.258119                   1.646407   \n",
       "...                       ...                        ...   \n",
       "1858543              1.838917                  -0.167669   \n",
       "2581057             -0.292442                  -0.323814   \n",
       "4724952             -0.261957                  -0.323814   \n",
       "923095              -0.292442                  -0.222012   \n",
       "3176367             -0.292442                  -0.147976   \n",
       "\n",
       "         newBalanceDestination_nml  \n",
       "4322341                  -0.333411  \n",
       "4686059                  -0.333411  \n",
       "3937352                   2.030517  \n",
       "491263                    0.216756  \n",
       "5030793                   1.532095  \n",
       "...                            ...  \n",
       "1858543                  -0.241412  \n",
       "2581057                  -0.333411  \n",
       "4724952                  -0.333411  \n",
       "923095                   -0.180429  \n",
       "3176367                  -0.081539  \n",
       "\n",
       "[6362620 rows x 12 columns]"
      ]
     },
     "execution_count": 6,
     "metadata": {},
     "output_type": "execute_result"
    }
   ],
   "source": [
    "fraction_to_retain = 1.0\n",
    "df = df.sample(frac=fraction_to_retain, replace=True, random_state=1)\n",
    "if fraction_to_retain < 1.0:\n",
    "    print('Length after downsampling', len(df))\n",
    "df"
   ]
  },
  {
   "cell_type": "code",
   "execution_count": 7,
   "metadata": {},
   "outputs": [],
   "source": [
    "target_col='isFraud'"
   ]
  },
  {
   "cell_type": "markdown",
   "metadata": {},
   "source": [
    "# Data visualization and analysis"
   ]
  },
  {
   "cell_type": "markdown",
   "metadata": {},
   "source": [
    "## Count positive and negative cases"
   ]
  },
  {
   "cell_type": "code",
   "execution_count": 8,
   "metadata": {},
   "outputs": [
    {
     "data": {
      "image/png": "[encoded data removed]",
      "text/plain": [
       "<Figure size 432x288 with 1 Axes>"
      ]
     },
     "metadata": {
      "needs_background": "light"
     },
     "output_type": "display_data"
    }
   ],
   "source": [
    "def count_positive_and_negative(df):\n",
    "    num_positive = len(df.loc[  df[target_col] == 1 ])\n",
    "    num_negative = len(df) - num_positive\n",
    "    return num_positive, num_negative\n",
    "\n",
    "def plot_positive_negative_counts(df, target_col):\n",
    "    val_counts=df['isFraud'].value_counts()\n",
    "    fig, ax = plt.subplots()\n",
    "    ax.set(yscale='log')\n",
    "    plt.bar(['Yes', 'No'], val_counts)\n",
    "    plt.ylabel('count')\n",
    "    plt.show()\n",
    "    \n",
    "plot_positive_negative_counts(df,'isFraud')"
   ]
  },
  {
   "cell_type": "markdown",
   "metadata": {},
   "source": [
    "# Heatmap  showing correlation between features  "
   ]
  },
  {
   "cell_type": "code",
   "execution_count": 9,
   "metadata": {},
   "outputs": [
    {
     "data": {
      "image/png": "[encoded data removed]",
      "text/plain": [
       "<Figure size 720x504 with 2 Axes>"
      ]
     },
     "metadata": {
      "needs_background": "light"
     },
     "output_type": "display_data"
    }
   ],
   "source": [
    "fig, ax = plt.subplots(1,1, figsize=(10,7))\n",
    " \n",
    "ax.set_title(f'All cases: Heatmap')\n",
    "seaborn.heatmap(df.corr(), cmap='Reds' )\n",
    " \n",
    "plt.show()"
   ]
  },
  {
   "cell_type": "markdown",
   "metadata": {},
   "source": [
    "# Heatmap  showing correlation between features in the fraud case and the non-fraud case."
   ]
  },
  {
   "cell_type": "code",
   "execution_count": 10,
   "metadata": {},
   "outputs": [
    {
     "data": {
      "image/png": "[encoded data removed]",
      "text/plain": [
       "<Figure size 1080x360 with 4 Axes>"
      ]
     },
     "metadata": {
      "needs_background": "light"
     },
     "output_type": "display_data"
    }
   ],
   "source": [
    "fig, axes = plt.subplots( 1,2, figsize=(15,5))\n",
    "\n",
    "def heatmap(fraud_cases):\n",
    "    lbl = 'Fraud' if  fraud_cases else 'Non-fraud'\n",
    "    axes[1 - int(fraud_cases)].set_title(f'{lbl} cases: Heatmap')\n",
    "    seaborn.heatmap(df.query(f'isFraud == {fraud_cases}').drop(['isFraud'], 1).corr(), cmap='Oranges', ax=axes[1-fraud_cases])\n",
    "\n",
    "heatmap(True)\n",
    "heatmap(False)\n",
    "\n",
    "plt.show()"
   ]
  },
  {
   "cell_type": "markdown",
   "metadata": {},
   "source": [
    "# Plot fraud percentage across the hours in the day.\n",
    "(We actually don't know that step 0 is at midnight, so we don't know that, for example,\n",
    "hour 2 is 2 am. But a clear cyclical pattern appears."
   ]
  },
  {
   "cell_type": "code",
   "execution_count": 11,
   "metadata": {},
   "outputs": [
    {
     "data": {
      "image/png": "[encoded data removed]",
      "text/plain": [
       "<Figure size 792x504 with 1 Axes>"
      ]
     },
     "metadata": {
      "needs_background": "light"
     },
     "output_type": "display_data"
    }
   ],
   "source": [
    "HOURS_IN_DAY  =24\n",
    "\n",
    "frauds_by_hour = []\n",
    "non_frauds_by_hour = []\n",
    "hourwise_items = []\n",
    "for hour in range(HOURS_IN_DAY):\n",
    "    non_fraud_in_hour = df[(df['hour'] == hour) & (df['isFraud'] == 0)]\n",
    "    non_fraud_sum_in_hour = len(non_fraud_in_hour)\n",
    "    fraud_in_hour = df[(df['hour'] == hour) & (df['isFraud'] == 1)]\n",
    "    fraud_sum_in_hour = len(fraud_in_hour)\n",
    "    non_frauds_by_hour.append(non_fraud_sum_in_hour)\n",
    "    frauds_by_hour.append(fraud_sum_in_hour)\n",
    "    hourwise_items.append(non_fraud_sum_in_hour+fraud_sum_in_hour)\n",
    "\n",
    "fig, axis = plt.subplots(figsize=(11, 7))\n",
    " \n",
    "fr_non_fraud = axis.plot(np.multiply(np.divide(frauds_by_hour,hourwise_items), 100), label='Fraud percentage by hour')\n",
    "plt.xticks(range(24))\n",
    "legend = axis.legend(loc='upper right' )\n",
    "\n"
   ]
  },
  {
   "cell_type": "markdown",
   "metadata": {},
   "source": [
    "# Data preparation: Add non-peak hours field. This could have been done in Databrew but they have limited logical functions on offer and so we do it here."
   ]
  },
  {
   "cell_type": "code",
   "execution_count": 12,
   "metadata": {},
   "outputs": [],
   "source": [
    "peak_hours_mask = (df['hour'] >=2) & (df['hour'] <= 6 )\n",
    "df[peak_hours_mask]['peakHours'] = 1\n",
    "nonpeak_hours_mask = (df['hour'] <2) | (df['hour'] > 6 )\n",
    "df[nonpeak_hours_mask]['peakHours'] = 0\n",
    "\n",
    "conditions = [\n",
    "    (df['hour'] < 2) | (df['hour'] > 6),\n",
    "    (df['hour'] >=2) & (df['hour'] <= 6) ]\n",
    "values = [0,1]\n",
    "df['peakHours'] = np.select(conditions, values)\n",
    "\n",
    "del df['hour']"
   ]
  },
  {
   "cell_type": "markdown",
   "metadata": {},
   "source": [
    " "
   ]
  },
  {
   "cell_type": "markdown",
   "metadata": {},
   "source": [
    "# Define metrics calculation function. Metrics are to be printed in order of importance for our unbalanced dataset."
   ]
  },
  {
   "cell_type": "code",
   "execution_count": 13,
   "metadata": {},
   "outputs": [],
   "source": [
    "def calculate_metrics(y_test, y_pred):\n",
    "    predictions = [round(value) for value in y_pred]\n",
    "    # Not auc, roc_auc_score\n",
    "    functions = [f1_score, balanced_accuracy_score,  accuracy_score, precision_score, recall_score, zero_one_loss]\n",
    "    for f in functions:\n",
    "        name = f.__name__.replace('_score','').replace('_', ' ')\n",
    "        print(f'{name}: {f(y_test, predictions):.4f}' )"
   ]
  },
  {
   "cell_type": "markdown",
   "metadata": {},
   "source": [
    "# Start Sagemaker (non-local) train/deploy/predict sequence "
   ]
  },
  {
   "cell_type": "markdown",
   "metadata": {},
   "source": [
    "## Prepare training, validation, and test sets"
   ]
  },
  {
   "cell_type": "code",
   "execution_count": 14,
   "metadata": {},
   "outputs": [
    {
     "name": "stdout",
     "output_type": "stream",
     "text": [
      "Preparing 3 sets at 2020-12-07T18-33-40Z\n",
      "Wrote train.libsvm\n",
      "Wrote validation.libsvm\n",
      "Wrote test.libsvm\n",
      "Length of datasets: [('train', 3181310), ('validation', 1272524), ('test', 1908786)]\n",
      "CPU times: user 4min 12s, sys: 1.82 s, total: 4min 14s\n",
      "Wall time: 4min 14s\n"
     ]
    }
   ],
   "source": [
    "%%time\n",
    "print('Preparing 3 sets at', date_s())\n",
    "len_ = len(df)\n",
    "train_data, validation_data, test_data = np.split(df.sample(frac=1, random_state=1729), [int(0.5 * len_), int(0.7 * len_)])\n",
    "\n",
    "lengths = [] \n",
    "\n",
    "for d in [(train_data, 'train.libsvm'), ( validation_data, 'validation.libsvm'), (test_data, 'test.libsvm')]:\n",
    "   dataset = d[0]\n",
    "   file_ = d[1]\n",
    "   lengths.append((d[1].split('.')[0],len(dataset)))\n",
    "   dump_svmlight_file(X=dataset.drop([target_col], axis=1), y=dataset[target_col], f=d[1])\n",
    "   print('Wrote', d[1])\n",
    "print('Length of datasets:', lengths )"
   ]
  },
  {
   "cell_type": "code",
   "execution_count": 15,
   "metadata": {},
   "outputs": [],
   "source": [
    "s3 = boto3.resource('s3', region_name=region)#TODO Remove\n",
    "\n",
    "for filename in ['train.libsvm', 'validation.libsvm']:\n",
    "   s3.Bucket(bucket).Object(prefix + '/'+filename.split('.')[0]+'/'+filename).upload_file(filename)"
   ]
  },
  {
   "cell_type": "code",
   "execution_count": 16,
   "metadata": {},
   "outputs": [],
   "source": [
    "def s3_path(subset):\n",
    "  return sagemaker.TrainingInput(s3_data='s3://{}/{}/{}'.format(bucket, prefix,subset), content_type='libsvm')\n",
    "\n",
    "s3_input_train = s3_path('train')\n",
    "s3_input_validation =s3_path('validation')"
   ]
  },
  {
   "cell_type": "markdown",
   "metadata": {},
   "source": [
    "## Train, including hyperparameter tuning"
   ]
  },
  {
   "cell_type": "code",
   "execution_count": 17,
   "metadata": {},
   "outputs": [
    {
     "name": "stderr",
     "output_type": "stream",
     "text": [
      "The method get_image_uri has been renamed in sagemaker>=2.\n",
      "See: https://sagemaker.readthedocs.io/en/stable/v2.html for details.\n",
      "train_max_run has been renamed in sagemaker>=2.\n",
      "See: https://sagemaker.readthedocs.io/en/stable/v2.html for details.\n",
      "train_use_spot_instances has been renamed in sagemaker>=2.\n",
      "See: https://sagemaker.readthedocs.io/en/stable/v2.html for details.\n",
      "train_max_wait has been renamed in sagemaker>=2.\n",
      "See: https://sagemaker.readthedocs.io/en/stable/v2.html for details.\n"
     ]
    },
    {
     "name": "stdout",
     "output_type": "stream",
     "text": [
      "num_positive: 4011, num_negative: 3177299, scale_pos_weight 28.1\n"
     ]
    },
    {
     "data": {
      "text/plain": [
       "{'eval_metric': 'aucpr',\n",
       " 'objective': 'binary:logistic',\n",
       " 'scale_pos_weight': 28.145094555610456,\n",
       " 'num_round': 100}"
      ]
     },
     "execution_count": 17,
     "metadata": {},
     "output_type": "execute_result"
    }
   ],
   "source": [
    "container = get_image_uri(region, 'xgboost','1.0-1')\n",
    "use_spot = True\n",
    "base_job_name = 'fraud-detection-job'\n",
    "instance_type = 'ml.c5.xlarge'\n",
    "output_path = f's3://{bucket}/{prefix}/output'\n",
    "HOUR = 60 * 60 \n",
    "\n",
    "if use_spot:\n",
    "   xgb = Estimator(container, \n",
    "                role,  \n",
    "                base_job_name=base_job_name,\n",
    "                instance_count=2, \n",
    "                instance_type=instance_type,\n",
    "                output_path=output_path, \n",
    "                sagemaker_session=session,\n",
    "                train_use_spot_instances=True,\n",
    "                train_max_wait=HOUR,\n",
    "                train_max_run=HOUR,    \n",
    "                checkpoint_s3_uri=f's3://{bucket}/{prefix}/checkpoint',\n",
    "   )\n",
    "else:\n",
    "   xgb = Estimator(container, \n",
    "                role,  \n",
    "                base_job_name=base_job_name,\n",
    "                instance_count=2, \n",
    "                instance_type=instance_type,\n",
    "                output_path=output_path,\n",
    "                sagemaker_session=session,                \n",
    "   )\n",
    "\n",
    "\n",
    "num_positive, num_negative=count_positive_and_negative(train_data)\n",
    "ratio =  num_negative / num_positive \n",
    "scale_pos_weight = math.sqrt(ratio)\n",
    "\n",
    "\n",
    "print(f'num_positive: {num_positive}, num_negative: {num_negative}, scale_pos_weight {scale_pos_weight:.1f}')\n",
    "\n",
    "xgb.set_hyperparameters(eval_metric='aucpr',\n",
    "                        objective='binary:logistic',\n",
    "                        scale_pos_weight=scale_pos_weight,\n",
    "                        num_round=100)\n",
    "xgb.hyperparameters()"
   ]
  },
  {
   "cell_type": "code",
   "execution_count": 18,
   "metadata": {},
   "outputs": [
    {
     "name": "stdout",
     "output_type": "stream",
     "text": [
      "Started hypertuning job hypertune-201207-1837\n",
      "0.5 min., InProgress; 1.0 min., InProgress; 1.5 min., InProgress; 2.0 min., InProgress; 2.5 min., InProgress; 3.0 min., InProgress; 3.5 min., InProgress; 4.0 min., InProgress; 4.5 min., InProgress; 5.0 min., InProgress; 5.5 min., InProgress; 6.0 min., InProgress; 6.5 min., InProgress; 7.0 min., InProgress; 7.5 min., InProgress; 8.0 min., InProgress; 8.5 min., InProgress; 9.0 min., InProgress; 9.5 min., InProgress; 10.0 min., InProgress; 10.5 min., InProgress; 11.0 min., InProgress; 11.5 min., InProgress; 12.0 min., InProgress; 12.5 min., InProgress; 13.0 min., InProgress; 13.5 min., InProgress; 14.0 min., InProgress; 14.5 min., InProgress; 15.0 min., InProgress; 15.5 min., InProgress; 16.0 min., InProgress; 16.5 min., InProgress; 17.0 min., InProgress; 17.5 min., InProgress; 18.0 min., InProgress; 18.5 min., InProgress; 19.0 min., InProgress; 19.5 min., InProgress; 20.0 min., InProgress; 20.5 min., InProgress; 21.0 min., InProgress; 21.5 min., InProgress; 22.0 min., InProgress; 22.5 min., InProgress; 23.0 min., InProgress; 23.5 min., InProgress; 24.0 min., InProgress; 24.5 min., InProgress; 25.0 min., InProgress; 25.5 min., InProgress; 26.0 min., InProgress; 26.5 min., InProgress; 27.0 min., InProgress; 27.5 min., InProgress; 28.0 min., InProgress; 28.5 min., InProgress; 29.0 min., InProgress; 29.5 min., InProgress; 30.0 min., InProgress; 30.5 min., InProgress; 31.0 min., InProgress; 31.5 min., InProgress; 32.0 min., InProgress; 32.5 min., InProgress; 33.0 min., InProgress; 33.5 min., InProgress; 34.0 min., InProgress; 34.5 min., InProgress; 35.0 min., InProgress; 35.5 min., InProgress; 36.0 min., InProgress; 36.5 min., InProgress; 37.0 min., InProgress; 37.5 min., InProgress; 38.0 min., InProgress; 38.5 min., InProgress; 39.0 min., InProgress; 39.5 min., InProgress; 40.0 min., InProgress; 40.5 min., InProgress; 41.0 min., InProgress; 41.5 min., InProgress; 42.0 min., InProgress; 42.5 min., InProgress; 43.0 min., InProgress; 43.5 min., InProgress; 44.0 min., InProgress; 44.5 min., InProgress; 45.0 min., InProgress; 45.5 min., InProgress; 46.0 min., InProgress; 46.5 min., InProgress; 47.0 min., InProgress; 47.5 min., InProgress; 48.0 min., InProgress; 48.5 min., InProgress; 49.0 min., InProgress; 49.5 min., InProgress; 50.0 min., InProgress; 50.5 min., InProgress; 51.0 min., InProgress; 51.5 min., InProgress; 52.0 min., InProgress; 52.5 min., InProgress; 53.0 min., InProgress; 53.5 min., InProgress; 54.0 min., InProgress; 54.5 min., InProgress; 55.0 min., InProgress; 55.5 min., InProgress; 56.0 min., InProgress; 56.5 min., InProgress; 57.0 min., InProgress; 57.5 min., Completed; \n",
      "CPU times: user 2.68 s, sys: 80.5 ms, total: 2.76 s\n",
      "Wall time: 57min 42s\n"
     ]
    }
   ],
   "source": [
    "%%time\n",
    "hypertune = True\n",
    "if not hypertune:\n",
    "    print('Start fit() at', date_s())\n",
    "\n",
    "    xgb.fit({'train': s3_input_train, 'validation': s3_input_validation})\n",
    "    training_job_name = xgb._current_job_name\n",
    "else:\n",
    "\n",
    "    hyperparameter_ranges = {'eta': ContinuousParameter(0, 1),\n",
    "                            'min_child_weight': IntegerParameter(0, 3),\n",
    "                            'alpha': ContinuousParameter(0, 3),\n",
    "                            'max_depth': IntegerParameter(3, 9)}\n",
    "\n",
    "\n",
    "    objective_metric_name = 'validation:f1'\n",
    "\n",
    "    tuner = HyperparameterTuner(xgb,\n",
    "                            objective_metric_name,\n",
    "                            hyperparameter_ranges,\n",
    "                            max_jobs=20, \n",
    "                            base_tuning_job_name='hypertune',\n",
    "                            max_parallel_jobs=10,\n",
    "                            strategy='Bayesian')\n",
    "    \n",
    "\n",
    "    tuner.fit({'train': s3_input_train, 'validation': s3_input_validation}, \n",
    "              include_cls_metadata=False, wait=False)\n",
    "    print('Started hypertuning job', tuner.latest_tuning_job.job_name)\n",
    "\n",
    "    counter = 0\n",
    "    status = 'InProgress'\n",
    "    while status == 'InProgress':\n",
    "        tuning_job_result=boto3.client('sagemaker').describe_hyper_parameter_tuning_job(\n",
    "           HyperParameterTuningJobName=tuner.latest_tuning_job.job_name)\n",
    "        counter += 0.5\n",
    "        time.sleep(30)   \n",
    "        status = tuning_job_result['HyperParameterTuningJobStatus']\n",
    "        print(f'{counter} min., {status};', end=' ')\n",
    "    print()    \n",
    "    if 'BestTrainingJob' in tuning_job_result:\n",
    "       training_job_name = tuning_job_result['BestTrainingJob']['TrainingJobName']\n",
    "    else:\n",
    "       pprint.pprint(tuning_job_result)\n",
    "       raise Exception('No best job identified')"
   ]
  },
  {
   "cell_type": "markdown",
   "metadata": {},
   "source": [
    "## Deploy\n",
    "This deployment process works for both `fit` (which directly returns the successful mode) and hypertuning (where you need to look it up by describing the training job.\n",
    "\n",
    "THe deployment works whether the endpoints exsits or not, and  waits until deployment is successful"
   ]
  },
  {
   "cell_type": "code",
   "execution_count": 19,
   "metadata": {},
   "outputs": [
    {
     "name": "stdout",
     "output_type": "stream",
     "text": [
      "model-data s3://sagemaker-jfox/sagemaker/xgboost/output/hypertune-201207-1837-015-06ee0046/output/model.tar.gz\n",
      "Describing endpoint, status: 0.5 min: Updating; 1.0 min: Updating; 1.5 min: Updating; 2.0 min: Updating; 2.5 min: Updating; 3.0 min: Updating; 3.5 min: Updating; 4.0 min: Updating; 4.5 min: Updating; 5.0 min: Updating; 5.5 min: Updating; 6.0 min: Updating; 6.5 min: Updating; 7.0 min: Updating; 7.5 min: InService; Finished deployment 2020-12-07T19-43-15Z\n",
      "CPU times: user 284 ms, sys: 12.8 ms, total: 297 ms\n",
      "Wall time: 7min 33s\n"
     ]
    }
   ],
   "source": [
    "%%time\n",
    "\n",
    "endpoint_name = 'fraud-detection-endpoint'\n",
    "model_name = training_job_name + '-model'\n",
    "info = session.describe_training_job(training_job_name)\n",
    "model_data = info['ModelArtifacts']['S3ModelArtifacts']\n",
    "print('model-data', model_data)\n",
    "\n",
    "primary_container = {\n",
    "  'Image': container,\n",
    "  'ModelDataUrl': model_data\n",
    "}\n",
    "\n",
    "create_model_response = session.create_model(name = model_name, role = role, container_defs = primary_container)\n",
    "\n",
    "endpoint_config_name = session.create_endpoint_config(name=endpoint_name + '-config-' + date_s(),\n",
    "                                              model_name=model_name,\n",
    "                                              initial_instance_count=1,\n",
    "                                              instance_type='ml.m5.xlarge',\n",
    "                                              accelerator_type='ml.eia2.medium')\n",
    "\n",
    "client = boto3.client('sagemaker')\n",
    "counter = 0\n",
    "try_now = True\n",
    "\n",
    "while try_now:\n",
    "  counter += 0.5\n",
    "  try:\n",
    "     updated_endpoint = client.update_endpoint(EndpointName=endpoint_name, EndpointConfigName=endpoint_config_name)\n",
    "     try_now = False\n",
    "  except Exception as e:\n",
    "     not_found = 'Could not find endpoint'\n",
    "     not_update = 'Cannot update in-progress endpoint'\n",
    "     \n",
    "     if not_find  in str(e):\n",
    "        print(not_find + '; Trying to create')\n",
    "        updated_endpoint = client.create_endpoint(EndpointName=endpoint_name, EndpointConfigName=endpoint_config_name)\n",
    "        try_now = False\n",
    "     elif not_update in str(e):\n",
    "        print(counter,'min:' + not_update + '; retrying', end='. ')\n",
    "        time.sleep(30)\n",
    "        try_now = True\n",
    "     else:  \n",
    "        raise e\n",
    "\n",
    "print('Describing endpoint, status: ', end='')\n",
    "endpt_status = 'Updating'\n",
    "counter = 0 \n",
    "while endpt_status in ['Updating', 'Creating']:\n",
    "    counter += 0.5\n",
    "    endpt_status = client.describe_endpoint(EndpointName=endpoint_name)['EndpointStatus']\n",
    "    print(f'{counter} min: {endpt_status}; ',end='')\n",
    "    time.sleep(30)\n",
    "    \n",
    "    \n",
    "serializer = LibSVMSerializer()\n",
    "deserializer = StringDeserializer() \n",
    "deserializer.CONTENT_TYPE = \"text/libsvm\"\n",
    "   \n",
    "xgb_predictor = Predictor(endpoint_name=endpoint_name, \n",
    "                     sagemaker_session=sagemaker.Session(),\n",
    "                     serializer=serializer, deserializer = deserializer )\n",
    "  \n",
    "         \n",
    "print('Finished deployment', date_s())"
   ]
  },
  {
   "cell_type": "markdown",
   "metadata": {},
   "source": [
    "## Run predictions on test set"
   ]
  },
  {
   "cell_type": "code",
   "execution_count": 20,
   "metadata": {},
   "outputs": [
    {
     "name": "stdout",
     "output_type": "stream",
     "text": [
      "\n",
      "1908786 items, in batches of 50000 , so 39 batches and update-count goes to 954\n",
      "..... 100 .... 200 .... 300 .... 400 .... 500 .... 600 .... 700 .... 800 .... 900 ..CPU times: user 5.1 s, sys: 701 ms, total: 5.8 s\n",
      "Wall time: 48.8 s\n"
     ]
    }
   ],
   "source": [
    "%%time\n",
    "\n",
    "def do_predict(data):\n",
    "    payload = '\\n'.join(data)\n",
    "    response = xgb_predictor.predict(payload) \n",
    "    result = response.split(',')\n",
    "    preds = [float((num)) for num in result]\n",
    "    preds = [round(num) for num in preds]\n",
    "    return preds\n",
    "\n",
    "def batch_predict(data, batch_size):\n",
    "    update_every = 2000\n",
    "    len_ = len(data)\n",
    "    \n",
    "    print(len_, 'items, in batches of', batch_size,', so', int(len_/batch_size)+1, 'batches and update-count goes to',int(len_/update_every) )\n",
    "    arrs = []\n",
    "    \n",
    "    for offset in range(0, len_, batch_size):\n",
    "        if offset + batch_size < len_:\n",
    "            results = do_predict(data[offset:(offset+batch_size)])\n",
    "            arrs.extend(results)\n",
    "        else:\n",
    "            arrs.extend(do_predict(data[offset:len_]))\n",
    "        if offset % update_every == 0:\n",
    "           sys.stdout.write('.')\n",
    "        if offset and offset % (update_every *100) == 0:\n",
    "           sys.stdout.write(' ' + str(int(offset/update_every)) + ' ')\n",
    "    return(arrs)\n",
    " \n",
    "print()\n",
    "\n",
    "with open('test.libsvm', 'r') as f:\n",
    "    payload = f.read().strip()\n",
    "\n",
    "labels = [int(line.split(' ')[0]) for line in payload.split('\\n')]\n",
    "test_data = [line for line in payload.split('\\n')]\n",
    "preds = batch_predict(test_data, 50_000)"
   ]
  },
  {
   "cell_type": "markdown",
   "metadata": {},
   "source": [
    "## Evaluate"
   ]
  },
  {
   "cell_type": "code",
   "execution_count": 21,
   "metadata": {},
   "outputs": [
    {
     "name": "stdout",
     "output_type": "stream",
     "text": [
      "f1: 0.9209\n",
      "balanced accuracy: 0.9537\n",
      "accuracy: 0.9998\n",
      "precision: 0.9348\n",
      "recall: 0.9074\n",
      "zero one loss: 0.0002\n"
     ]
    },
    {
     "data": {
      "text/html": [
       "<div>\n",
       "<style scoped>\n",
       "    .dataframe tbody tr th:only-of-type {\n",
       "        vertical-align: middle;\n",
       "    }\n",
       "\n",
       "    .dataframe tbody tr th {\n",
       "        vertical-align: top;\n",
       "    }\n",
       "\n",
       "    .dataframe thead th {\n",
       "        text-align: right;\n",
       "    }\n",
       "</style>\n",
       "<table border=\"1\" class=\"dataframe\">\n",
       "  <thead>\n",
       "    <tr style=\"text-align: right;\">\n",
       "      <th>predicted as fraud</th>\n",
       "      <th>0</th>\n",
       "      <th>1</th>\n",
       "    </tr>\n",
       "    <tr>\n",
       "      <th>actual fraud</th>\n",
       "      <th></th>\n",
       "      <th></th>\n",
       "    </tr>\n",
       "  </thead>\n",
       "  <tbody>\n",
       "    <tr>\n",
       "      <th>0</th>\n",
       "      <td>1906029</td>\n",
       "      <td>240</td>\n",
       "    </tr>\n",
       "    <tr>\n",
       "      <th>1</th>\n",
       "      <td>164</td>\n",
       "      <td>2353</td>\n",
       "    </tr>\n",
       "  </tbody>\n",
       "</table>\n",
       "</div>"
      ],
      "text/plain": [
       "predicted as fraud        0     1\n",
       "actual fraud                     \n",
       "0                   1906029   240\n",
       "1                       164  2353"
      ]
     },
     "execution_count": 21,
     "metadata": {},
     "output_type": "execute_result"
    }
   ],
   "source": [
    "calculate_metrics(preds, labels) \n",
    "pd.crosstab(index=np.array(labels), columns=np.array(preds), rownames=['actual fraud'],  colnames=['predicted as fraud'])"
   ]
  },
  {
   "cell_type": "markdown",
   "metadata": {},
   "source": [
    "# Local Training (in contrast to Sagemaker)\n",
    "Local training gives a much faster training-deployment cycle, and is valuable in the first part of development. This code is retained\n",
    "in case there is a need to go back to this part of development. (If so, you may hve to stub out the Sagemaker calls with `if` statements.\n",
    "This code also gives easy access to some `sklearn` visualization tools."
   ]
  },
  {
   "cell_type": "code",
   "execution_count": 22,
   "metadata": {},
   "outputs": [],
   "source": [
    "also_local_training = True"
   ]
  },
  {
   "cell_type": "code",
   "execution_count": 23,
   "metadata": {},
   "outputs": [
    {
     "name": "stdout",
     "output_type": "stream",
     "text": [
      "CPU times: user 1.2 s, sys: 248 ms, total: 1.45 s\n",
      "Wall time: 1.45 s\n"
     ]
    }
   ],
   "source": [
    "%%time\n",
    "if also_local_training:\n",
    "    dataset = df.to_numpy()\n",
    "    X = dataset[:,1:]\n",
    "    y = dataset[:,0]\n",
    "    \n",
    "    X_train, X_test, y_train, y_test = train_test_split(X, y, test_size=0.33, random_state=7)"
   ]
  },
  {
   "cell_type": "code",
   "execution_count": 24,
   "metadata": {},
   "outputs": [
    {
     "name": "stdout",
     "output_type": "stream",
     "text": [
      "Start fit at 2020-12-07T19-44-17Z\n",
      "[19:44:22] WARNING: ../src/gbm/gbtree.cc:139: Tree method is automatically selected to be 'approx' for faster speed. To use old behavior (exact greedy algorithm on single machine), set tree_method to 'exact'.\n",
      "CPU times: user 43min 28s, sys: 23.1 s, total: 43min 51s\n",
      "Wall time: 11min 22s\n"
     ]
    }
   ],
   "source": [
    "%%time\n",
    "if also_local_training:\n",
    "    print(f'Start fit at {date_s()}')\n",
    "    model = XGBClassifier( objective='binary:logistic', scale_pos_weight=scale_pos_weight )\n",
    "    model.fit(X, y, verbose=True)"
   ]
  },
  {
   "cell_type": "markdown",
   "metadata": {},
   "source": [
    "## Plot feature importance"
   ]
  },
  {
   "cell_type": "code",
   "execution_count": 25,
   "metadata": {},
   "outputs": [
    {
     "data": {
      "image/png": "[encoded data removed]",
      "text/plain": [
       "<Figure size 1280x480 with 1 Axes>"
      ]
     },
     "metadata": {},
     "output_type": "display_data"
    },
    {
     "name": "stdout",
     "output_type": "stream",
     "text": [
      "CPU times: user 790 ms, sys: 28 ms, total: 818 ms\n",
      "Wall time: 487 ms\n"
     ]
    }
   ],
   "source": [
    "%%time\n",
    "if also_local_training:\n",
    "     fields_short_names = [s.replace('balance', 'Bal') for s in df.columns[1:]]\n",
    "     figure(num=None, figsize=(16, 6), dpi=80, facecolor='w', edgecolor='k')\n",
    "     pyplot.bar(range(len(model.feature_importances_)), model.feature_importances_, tick_label=fields_short_names)\n",
    "        \n",
    "     pyplot.show()"
   ]
  },
  {
   "cell_type": "markdown",
   "metadata": {},
   "source": [
    "## Print same metrics as with Sagemaker; also plot the precision-recall curve (good for unbalanced datasets)"
   ]
  },
  {
   "cell_type": "code",
   "execution_count": 26,
   "metadata": {},
   "outputs": [
    {
     "name": "stdout",
     "output_type": "stream",
     "text": [
      "CPU times: user 4 µs, sys: 0 ns, total: 4 µs\n",
      "Wall time: 8.58 µs\n",
      "f1: 0.8075\n",
      "balanced accuracy: 0.9993\n",
      "accuracy: 0.9994\n",
      "precision: 0.6775\n",
      "recall: 0.9992\n",
      "zero one loss: 0.0006\n"
     ]
    },
    {
     "data": {
      "image/png": "[encoded data removed]",
      "text/plain": [
       "<Figure size 432x288 with 1 Axes>"
      ]
     },
     "metadata": {
      "needs_background": "light"
     },
     "output_type": "display_data"
    }
   ],
   "source": [
    "%time\n",
    "if also_local_training:\n",
    "    y_pred = model.predict(X_test)\n",
    "    calculate_metrics(y_test,y_pred) \n",
    "    plot_precision_recall_curve(model, X_test, y_test)  "
   ]
  }
 ],
 "metadata": {
  "kernelspec": {
   "display_name": "conda_python3",
   "language": "python",
   "name": "conda_python3"
  },
  "language_info": {
   "codemirror_mode": {
    "name": "ipython",
    "version": 3
   },
   "file_extension": ".py",
   "mimetype": "text/x-python",
   "name": "python",
   "nbconvert_exporter": "python",
   "pygments_lexer": "ipython3",
   "version": "3.6.10"
  }
 },
 "nbformat": 4,
 "nbformat_minor": 4
}
