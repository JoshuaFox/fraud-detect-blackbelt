{
 "cells": [
  {
   "cell_type": "code",
   "execution_count": 1,
   "metadata": {},
   "outputs": [],
   "source": [
    "#import matplotlib.pyplot as plt   \n",
    "#from IPython.display import Image                 \n",
    "##from IPython.display import display               \n"
   ]
  },
  {
   "cell_type": "code",
   "execution_count": 2,
   "metadata": {
    "isConfigCell": true
   },
   "outputs": [
    {
     "name": "stdout",
     "output_type": "stream",
     "text": [
      "Bucket:\n",
      "fraudjf\n",
      "CPU times: user 746 ms, sys: 95.2 ms, total: 841 ms\n",
      "Wall time: 2.88 s\n"
     ]
    }
   ],
   "source": [
    "%%time\n",
    "import boto3\n",
    "import sagemaker\n",
    "\n",
    "session = sagemaker.Session()\n",
    "region = session.boto_region_name\n",
    "bucket = 'fraudjf'\n",
    " \n",
    "prefix = 'sagemaker/xgboost'\n",
    "role = sagemaker.get_execution_role()\n",
    "\n",
    "print('Bucket:\\n{}'.format(bucket))"
   ]
  },
  {
   "cell_type": "markdown",
   "metadata": {},
   "source": [
    "\n"
   ]
  },
  {
   "cell_type": "code",
   "execution_count": 59,
   "metadata": {},
   "outputs": [
    {
     "name": "stdout",
     "output_type": "stream",
     "text": [
      "Length 690\n",
      "CPU times: user 3.99 s, sys: 67.9 ms, total: 4.06 s\n",
      "Wall time: 4.06 s\n"
     ]
    },
    {
     "data": {
      "text/html": [
       "<div>\n",
       "<style scoped>\n",
       "    .dataframe tbody tr th:only-of-type {\n",
       "        vertical-align: middle;\n",
       "    }\n",
       "\n",
       "    .dataframe tbody tr th {\n",
       "        vertical-align: top;\n",
       "    }\n",
       "\n",
       "    .dataframe thead th {\n",
       "        text-align: right;\n",
       "    }\n",
       "</style>\n",
       "<table border=\"1\" class=\"dataframe\">\n",
       "  <thead>\n",
       "    <tr style=\"text-align: right;\">\n",
       "      <th></th>\n",
       "      <th>step</th>\n",
       "      <th>type</th>\n",
       "      <th>amount</th>\n",
       "      <th>nameOrig</th>\n",
       "      <th>oldbalanceOrg</th>\n",
       "      <th>newbalanceOrig</th>\n",
       "      <th>nameDest</th>\n",
       "      <th>oldbalanceDest</th>\n",
       "      <th>newbalanceDest</th>\n",
       "      <th>isFraud</th>\n",
       "      <th>isFlaggedFraud</th>\n",
       "    </tr>\n",
       "  </thead>\n",
       "  <tbody>\n",
       "    <tr>\n",
       "      <th>0</th>\n",
       "      <td>2</td>\n",
       "      <td>CASH_IN</td>\n",
       "      <td>57817.21</td>\n",
       "      <td>C663925782</td>\n",
       "      <td>4001620.38</td>\n",
       "      <td>4059437.59</td>\n",
       "      <td>C42158278</td>\n",
       "      <td>241346.84</td>\n",
       "      <td>6433.54</td>\n",
       "      <td>0</td>\n",
       "      <td>0</td>\n",
       "    </tr>\n",
       "    <tr>\n",
       "      <th>1</th>\n",
       "      <td>8</td>\n",
       "      <td>PAYMENT</td>\n",
       "      <td>8963.11</td>\n",
       "      <td>C324354535</td>\n",
       "      <td>16626.00</td>\n",
       "      <td>7662.89</td>\n",
       "      <td>M127871858</td>\n",
       "      <td>0.00</td>\n",
       "      <td>0.00</td>\n",
       "      <td>0</td>\n",
       "      <td>0</td>\n",
       "    </tr>\n",
       "    <tr>\n",
       "      <th>2</th>\n",
       "      <td>8</td>\n",
       "      <td>TRANSFER</td>\n",
       "      <td>113485.37</td>\n",
       "      <td>C813246493</td>\n",
       "      <td>0.00</td>\n",
       "      <td>0.00</td>\n",
       "      <td>C97730845</td>\n",
       "      <td>20099745.23</td>\n",
       "      <td>23005385.41</td>\n",
       "      <td>0</td>\n",
       "      <td>0</td>\n",
       "    </tr>\n",
       "    <tr>\n",
       "      <th>3</th>\n",
       "      <td>8</td>\n",
       "      <td>CASH_OUT</td>\n",
       "      <td>94439.96</td>\n",
       "      <td>C906838308</td>\n",
       "      <td>0.00</td>\n",
       "      <td>0.00</td>\n",
       "      <td>C326101537</td>\n",
       "      <td>195483.18</td>\n",
       "      <td>271599.14</td>\n",
       "      <td>0</td>\n",
       "      <td>0</td>\n",
       "    </tr>\n",
       "    <tr>\n",
       "      <th>4</th>\n",
       "      <td>8</td>\n",
       "      <td>CASH_OUT</td>\n",
       "      <td>134496.58</td>\n",
       "      <td>C1633895248</td>\n",
       "      <td>1795377.94</td>\n",
       "      <td>1660881.36</td>\n",
       "      <td>C1015129370</td>\n",
       "      <td>0.00</td>\n",
       "      <td>73565.13</td>\n",
       "      <td>0</td>\n",
       "      <td>0</td>\n",
       "    </tr>\n",
       "    <tr>\n",
       "      <th>...</th>\n",
       "      <td>...</td>\n",
       "      <td>...</td>\n",
       "      <td>...</td>\n",
       "      <td>...</td>\n",
       "      <td>...</td>\n",
       "      <td>...</td>\n",
       "      <td>...</td>\n",
       "      <td>...</td>\n",
       "      <td>...</td>\n",
       "      <td>...</td>\n",
       "      <td>...</td>\n",
       "    </tr>\n",
       "    <tr>\n",
       "      <th>685</th>\n",
       "      <td>691</td>\n",
       "      <td>CASH_OUT</td>\n",
       "      <td>194836.11</td>\n",
       "      <td>C1532373615</td>\n",
       "      <td>0.00</td>\n",
       "      <td>0.00</td>\n",
       "      <td>C1413043846</td>\n",
       "      <td>8988403.52</td>\n",
       "      <td>9183239.64</td>\n",
       "      <td>0</td>\n",
       "      <td>0</td>\n",
       "    </tr>\n",
       "    <tr>\n",
       "      <th>686</th>\n",
       "      <td>691</td>\n",
       "      <td>PAYMENT</td>\n",
       "      <td>2199.51</td>\n",
       "      <td>C699390763</td>\n",
       "      <td>10183.00</td>\n",
       "      <td>7983.49</td>\n",
       "      <td>M2116102960</td>\n",
       "      <td>0.00</td>\n",
       "      <td>0.00</td>\n",
       "      <td>0</td>\n",
       "      <td>0</td>\n",
       "    </tr>\n",
       "    <tr>\n",
       "      <th>687</th>\n",
       "      <td>694</td>\n",
       "      <td>CASH_IN</td>\n",
       "      <td>68847.89</td>\n",
       "      <td>C1293459090</td>\n",
       "      <td>7331040.02</td>\n",
       "      <td>7399887.91</td>\n",
       "      <td>C1245796190</td>\n",
       "      <td>2297619.89</td>\n",
       "      <td>2228772.00</td>\n",
       "      <td>0</td>\n",
       "      <td>0</td>\n",
       "    </tr>\n",
       "    <tr>\n",
       "      <th>688</th>\n",
       "      <td>717</td>\n",
       "      <td>PAYMENT</td>\n",
       "      <td>4308.57</td>\n",
       "      <td>C1717221764</td>\n",
       "      <td>30540.00</td>\n",
       "      <td>26231.43</td>\n",
       "      <td>M1397722136</td>\n",
       "      <td>0.00</td>\n",
       "      <td>0.00</td>\n",
       "      <td>0</td>\n",
       "      <td>0</td>\n",
       "    </tr>\n",
       "    <tr>\n",
       "      <th>689</th>\n",
       "      <td>717</td>\n",
       "      <td>PAYMENT</td>\n",
       "      <td>8709.52</td>\n",
       "      <td>C466538147</td>\n",
       "      <td>612389.00</td>\n",
       "      <td>603679.48</td>\n",
       "      <td>M1696976956</td>\n",
       "      <td>0.00</td>\n",
       "      <td>0.00</td>\n",
       "      <td>0</td>\n",
       "      <td>0</td>\n",
       "    </tr>\n",
       "  </tbody>\n",
       "</table>\n",
       "<p>690 rows × 11 columns</p>\n",
       "</div>"
      ],
      "text/plain": [
       "     step      type     amount     nameOrig  oldbalanceOrg  newbalanceOrig     nameDest  oldbalanceDest  newbalanceDest  isFraud  isFlaggedFraud\n",
       "0       2   CASH_IN   57817.21   C663925782     4001620.38      4059437.59    C42158278       241346.84         6433.54        0               0\n",
       "1       8   PAYMENT    8963.11   C324354535       16626.00         7662.89   M127871858            0.00            0.00        0               0\n",
       "2       8  TRANSFER  113485.37   C813246493           0.00            0.00    C97730845     20099745.23     23005385.41        0               0\n",
       "3       8  CASH_OUT   94439.96   C906838308           0.00            0.00   C326101537       195483.18       271599.14        0               0\n",
       "4       8  CASH_OUT  134496.58  C1633895248     1795377.94      1660881.36  C1015129370            0.00        73565.13        0               0\n",
       "..    ...       ...        ...          ...            ...             ...          ...             ...             ...      ...             ...\n",
       "685   691  CASH_OUT  194836.11  C1532373615           0.00            0.00  C1413043846      8988403.52      9183239.64        0               0\n",
       "686   691   PAYMENT    2199.51   C699390763       10183.00         7983.49  M2116102960            0.00            0.00        0               0\n",
       "687   694   CASH_IN   68847.89  C1293459090     7331040.02      7399887.91  C1245796190      2297619.89      2228772.00        0               0\n",
       "688   717   PAYMENT    4308.57  C1717221764       30540.00        26231.43  M1397722136            0.00            0.00        0               0\n",
       "689   717   PAYMENT    8709.52   C466538147      612389.00       603679.48  M1696976956            0.00            0.00        0               0\n",
       "\n",
       "[690 rows x 11 columns]"
      ]
     },
     "execution_count": 59,
     "metadata": {},
     "output_type": "execute_result"
    }
   ],
   "source": [
    "%%time\n",
    "import random\n",
    "import pandas as pd\n",
    "raw_data_filename = 'fraud-detection.csv'\n",
    "\n",
    "#s3 = boto3.resource('s3', region_name=region)\n",
    "#s3.Bucket(bucket).download_file(raw_data_filename, raw_data_filename)\n",
    "percent_to_read=0.1\n",
    "fraction_to_read=percent_to_read/1000 # I don't know why we need to divide by 1000 and not 100 as expected\n",
    "nrows=10_000# There are 6.3 million lines in the original\n",
    "df = pd.read_csv('./'+raw_data_filename,nrows=nrows, skiprows=lambda i: i>0 and random.random() > fraction_to_read)\n",
    "pd.set_option('display.max_rows', 10) \n",
    "pd.set_option('display.width', 1000)\n",
    "\n",
    "print('Length', len(df))\n",
    "targetCol='isFraud'\n",
    "df"
   ]
  },
  {
   "cell_type": "code",
   "execution_count": 4,
   "metadata": {},
   "outputs": [
    {
     "name": "stdout",
     "output_type": "stream",
     "text": [
      "Fraud 2 Not fraud 642 total 644\n"
     ]
    }
   ],
   "source": [
    "fraud_len=len(  df.loc[  df['isFraud']  ==1  ])\n",
    "not_fraud_len=len(  df)-fraud_len\n",
    "print('Fraud', fraud_len, 'Not fraud', not_fraud_len, \"total\", len(df))"
   ]
  },
  {
   "cell_type": "code",
   "execution_count": 5,
   "metadata": {},
   "outputs": [],
   "source": [
    "df=df.drop(['isFlaggedFraud'], axis=1)\n"
   ]
  },
  {
   "cell_type": "code",
   "execution_count": 7,
   "metadata": {},
   "outputs": [
    {
     "data": {
      "image/png": "[encoded data removed]",
      "text/plain": [
       "<Figure size 432x288 with 1 Axes>"
      ]
     },
     "metadata": {
      "needs_background": "light"
     },
     "output_type": "display_data"
    }
   ],
   "source": [
    "import math\n",
    "import matplotlib.pyplot as plt   \n",
    "\n",
    "val_counts=df[targetCol].value_counts()\n",
    "val_counts=val_counts.apply(lambda x: math.log(x,10))\n",
    "plt.bar(['Yes', 'No'], val_counts)\n",
    "plt.ylabel('log count')\n",
    "\n",
    "plt.show()\n",
    " "
   ]
  },
  {
   "cell_type": "code",
   "execution_count": 61,
   "metadata": {},
   "outputs": [
    {
     "name": "stdout",
     "output_type": "stream",
     "text": [
      "     isFraud  step      type     amount     nameOrig  oldbalanceOrg  newbalanceOrig     nameDest  oldbalanceDest  newbalanceDest  isFlaggedFraud  CASH_OUT  DEBIT  PAYMENT  TRANSFER  CASH_OUT  DEBIT  PAYMENT  TRANSFER\n",
      "0          0     2   CASH_IN   57817.21   C663925782     4001620.38      4059437.59    C42158278       241346.84         6433.54               0         0      0        0         0         0      0        0         0\n",
      "1          0     8   PAYMENT    8963.11   C324354535       16626.00         7662.89   M127871858            0.00            0.00               0         0      0        1         0         0      0        1         0\n",
      "2          0     8  TRANSFER  113485.37   C813246493           0.00            0.00    C97730845     20099745.23     23005385.41               0         0      0        0         1         0      0        0         1\n",
      "3          0     8  CASH_OUT   94439.96   C906838308           0.00            0.00   C326101537       195483.18       271599.14               0         1      0        0         0         1      0        0         0\n",
      "4          0     8  CASH_OUT  134496.58  C1633895248     1795377.94      1660881.36  C1015129370            0.00        73565.13               0         1      0        0         0         1      0        0         0\n",
      "..       ...   ...       ...        ...          ...            ...             ...          ...             ...             ...             ...       ...    ...      ...       ...       ...    ...      ...       ...\n",
      "685        0   691  CASH_OUT  194836.11  C1532373615           0.00            0.00  C1413043846      8988403.52      9183239.64               0         1      0        0         0         1      0        0         0\n",
      "686        0   691   PAYMENT    2199.51   C699390763       10183.00         7983.49  M2116102960            0.00            0.00               0         0      0        1         0         0      0        1         0\n",
      "687        0   694   CASH_IN   68847.89  C1293459090     7331040.02      7399887.91  C1245796190      2297619.89      2228772.00               0         0      0        0         0         0      0        0         0\n",
      "688        0   717   PAYMENT    4308.57  C1717221764       30540.00        26231.43  M1397722136            0.00            0.00               0         0      0        1         0         0      0        1         0\n",
      "689        0   717   PAYMENT    8709.52   C466538147      612389.00       603679.48  M1696976956            0.00            0.00               0         0      0        1         0         0      0        1         0\n",
      "\n",
      "[690 rows x 19 columns]\n"
     ]
    }
   ],
   "source": [
    "cols = df.columns.tolist()\n",
    "cols.remove(targetCol)\n",
    "\n",
    "cols=[targetCol]+cols\n",
    "\n",
    "df=df[cols]\n",
    "df_dummies=pd.get_dummies(df['type'],drop_first=True )\n",
    "#   df=df.drop(['type'], axis=1)\n",
    "df_concat=pd.concat([df, df_dummies], axis=1)\n",
    "df=df_concat\n",
    "print(df)"
   ]
  },
  {
   "cell_type": "code",
   "execution_count": null,
   "metadata": {},
   "outputs": [],
   "source": []
  },
  {
   "cell_type": "code",
   "execution_count": null,
   "metadata": {},
   "outputs": [],
   "source": [
    " "
   ]
  },
  {
   "cell_type": "code",
   "execution_count": null,
   "metadata": {},
   "outputs": [],
   "source": []
  },
  {
   "cell_type": "code",
   "execution_count": null,
   "metadata": {},
   "outputs": [],
   "source": [
    "%%time\n",
    "import category_encoders as ce  \n",
    "#%pip install category_encoders\n",
    "target_col='isFraud'\n",
    "hashencode_these=['nameOrig', 'nameDest']\n",
    "columns_before=df.columns\n",
    "columns_before= [x for x in columns_before if x not in hashencode_these+[target_col]]\n",
    " \n",
    "ce_hash = ce.HashingEncoder(cols = hashencode_these)\n",
    "X1=df.drop([target_col], axis=1)\n",
    "y1=df.isFraud\n",
    "print(type(y1))\n",
    "y1_df= { 'isFraud': y1 } \n",
    "\n",
    "raise Exception\n",
    "with_hashing=ce_hash.fit_transform(X1, y1)\n",
    "hashed=with_hashing.drop(columns_before, axis=1)\n",
    "df2=pd.concat([y1_df,df, hashed])\n",
    "print('X1'     )\n",
    "print(X1)\n",
    "print('y1')\n",
    "print(y1)\n",
    "print('y1_df')\n",
    "print(y1_df_\n",
    "print('df2 (output)')\n",
    "print(df2)\n",
    "print('df')\n",
    "print(df)\n",
    "print('hashed')\n",
    "print(hashed)\n",
    "print('with_hashing')\n",
    "print(with_hashing)"
   ]
  },
  {
   "cell_type": "code",
   "execution_count": null,
   "metadata": {},
   "outputs": [],
   "source": [
    "#%pip install imbalanced-learn\n",
    "from imblearn.over_sampling import SMOTE\n",
    "#Oversampling the data\n",
    "smote = SMOTE(random_state = 101)\n",
    "\n",
    "\n",
    "ycol='isFraud'\n",
    "Xcol=list(df.columns)\n",
    "Xcol.remove(ycol)\n",
    "print(Xcol)\n",
    "X, y = smote.fit_resample(df[Xcol], df[ycol])\n",
    "#Creating a new Oversampling Data Frame\n",
    "df_oversampler = pd.DataFrame(X, columns = Xcol)\n",
    "df_oversampler['Exited']\n",
    "sns.countplot(df_oversampler['Exited'])"
   ]
  },
  {
   "cell_type": "code",
   "execution_count": null,
   "metadata": {},
   "outputs": [],
   "source": [
    "import numpy as np\n",
    "\n",
    "len_=len(df)\n",
    "\n",
    "train_data, validation_data, test_data = np.split(df.sample(frac=1, random_state=1729), [int(0.7 * len_), int(0.9 * len_)])"
   ]
  },
  {
   "cell_type": "markdown",
   "metadata": {},
   "source": [
    "Amazon SageMaker's version of XGBoost supports input data in both CSV and libSVM data format.  We'll use libSVM here, with features and the target variable provided as separate arguments. To avoid any misalignment issues due to random reordering, this split is done after the previous split in the above cell. As a last step before training, we'll copy the resulting files to S3 as input for Amazon SageMaker's hosted training."
   ]
  },
  {
   "cell_type": "code",
   "execution_count": null,
   "metadata": {},
   "outputs": [],
   "source": [
    "from sklearn.datasets import dump_svmlight_file   \n",
    "\n",
    "for d in [(train_data, 'train.libsvm'), ( validation_data, 'validation.libsvm'), (test_data, 'test.libsvm')]:\n",
    "   dataset=d[0]\n",
    "   dump_svmlight_file(X=dataset.drop(['isFraud', 'isFlaggedFraud'], axis=1), y=dataset['isFraud'], f=d[1])\n",
    "\n",
    "for filename in ['train.libsvm' 'validation.libsvm']:\n",
    "   s3.Bucket(bucket).Object(prefix + '/'+filename.split['.'][0]+'/'+filename).upload_file(f)\n",
    " "
   ]
  },
  {
   "cell_type": "code",
   "execution_count": null,
   "metadata": {},
   "outputs": [],
   "source": [
    "def s3_path(subset):\n",
    "  return sagemaker.s3_input(s3_data='s3://{}/{}/{}'.format(bucket, prefix,subset), content_type='libsvm')\n",
    "\n",
    "s3_input_train = s3_path('train')\n",
    "s3_input_validation =s3_path('validation')"
   ]
  },
  {
   "cell_type": "markdown",
   "metadata": {},
   "source": [
    "---\n",
    "## Train\n",
    "\n",
    "Our data is now ready to be used to train a XGBoost model. The XGBoost algorithm has many tunable hyperparameters. Some of these hyperparameters are listed below; initially we'll only use a few of them.  \n",
    "\n",
    "- `max_depth`: Maximum depth of a tree. As a cautionary note, a value too small could underfit the data, while increasing it will make the model more complex and thus more likely to overfit the data (in other words, the classic bias-variance tradeoff).\n",
    "- `eta`: Step size shrinkage used in updates to prevent overfitting.  \n",
    "- `eval_metric`: Evaluation metric(s) for validation data. For data sets such as this one with imbalanced classes, we'll use the AUC metric.\n",
    "- `scale_pos_weight`: Controls the balance of positive and negative weights, again useful for data sets having imbalanced classes.\n",
    "\n",
    "First we'll set up the parameters for an Amazon SageMaker Estimator object, and the hyperparameters for the algorithm itself.  The Estimator object from the Amazon SageMaker Python SDK is a convenient way to set up training jobs with a minimal amount of code."
   ]
  },
  {
   "cell_type": "code",
   "execution_count": null,
   "metadata": {},
   "outputs": [],
   "source": [
    "from sagemaker.amazon.amazon_estimator import get_image_uri\n",
    "\n",
    "container = get_image_uri(region, 'xgboost','1.0-1')\n",
    "\n",
    "xgb = sagemaker.estimator.Estimator(container,\n",
    "                                    role, \n",
    "                                    base_job_name='fraud-detection-job',\n",
    "                                    train_instance_count=1, \n",
    "                                    train_instance_type='ml.c5.xlarge',\n",
    "                                    output_path='s3://{}/{}/output'.format(bucket, prefix),\n",
    "                                    sagemaker_session=session)\n",
    "\n",
    "xgb.set_hyperparameters(max_depth=3,\n",
    "                        eta=0.1,\n",
    "                        subsample=0.5,\n",
    "                        eval_metric='auc',\n",
    "                        objective='binary:logistic',\n",
    "                        scale_pos_weight=2.0,\n",
    "                        num_round=100)\n"
   ]
  },
  {
   "cell_type": "markdown",
   "metadata": {},
   "source": [
    "Next, we'll run the hosted training job itself.  The hardware used for the training job is separate from your notebook instance and is managed by Amazon SageMaker, which performs the heavy lifting such as setting up a training cluster and tearing it down when the job is done.  A single line of code starts the training job."
   ]
  },
  {
   "cell_type": "code",
   "execution_count": null,
   "metadata": {},
   "outputs": [],
   "source": [
    "xgb.fit({'train': s3_input_train, 'validation': s3_input_validation})"
   ]
  },
  {
   "cell_type": "markdown",
   "metadata": {},
   "source": [
    "---\n",
    "## Host\n",
    "\n",
    "Now that we've trained the XGBoost algorithm on our data, we can deploy the trained model to an Amazon SageMaker hosted endpoint with one simple line of code."
   ]
  },
  {
   "cell_type": "code",
   "execution_count": null,
   "metadata": {},
   "outputs": [],
   "source": [
    "xgb_predictor = xgb.deploy(initial_instance_count=1,\n",
    "                          instance_type='ml.m5.xlarge')"
   ]
  },
  {
   "cell_type": "markdown",
   "metadata": {},
   "source": [
    "---\n",
    "\n",
    "## Evaluation\n",
    "\n",
    "Now that we have our hosted endpoint, we can generate predictions from it. More specifically, let's generate predictions from our test data set to understand how well our model generalizes to data it has not seen yet.\n",
    "\n",
    "There are many ways to compare the performance of a machine learning model.  We'll start simply by comparing actual to predicted values of whether the ticket was a \"success\" (`1`) or not (`0`).  Then we'll produce a  confusion matrix, which shows how many test data points were predicted by the model in each category versus how many test data points actually belonged in each category."
   ]
  },
  {
   "cell_type": "code",
   "execution_count": null,
   "metadata": {},
   "outputs": [],
   "source": [
    "xgb_predictor.content_type = 'text/x-libsvm'\n",
    "xgb_predictor.deserializer = None\n",
    "\n",
    "def do_predict(data):\n",
    "    payload = '\\n'.join(data)\n",
    "    response = xgb_predictor.predict(payload).decode('utf-8')\n",
    "    result = response.split(',')\n",
    "    preds = [float((num)) for num in result]\n",
    "    preds = [round(num) for num in preds]\n",
    "    return preds\n",
    "\n",
    "def batch_predict(data, batch_size):\n",
    "    items = len(data)\n",
    "    arrs = []\n",
    "    \n",
    "    for offset in range(0, items, batch_size):\n",
    "        if offset+batch_size < items:\n",
    "            results = do_predict(data[offset:(offset+batch_size)])\n",
    "            arrs.extend(results)\n",
    "        else:\n",
    "            arrs.extend(do_predict(data[offset:items]))\n",
    "        sys.stdout.write('.')\n",
    "    return(arrs)"
   ]
  },
  {
   "cell_type": "code",
   "execution_count": null,
   "metadata": {},
   "outputs": [],
   "source": [
    "%%time\n",
    "import json\n",
    "\n",
    "with open('test.libsvm', 'r') as f:\n",
    "    payload = f.read().strip()\n",
    "\n",
    "labels = [int(line.split(' ')[0]) for line in payload.split('\\n')]\n",
    "test_data = [line for line in payload.split('\\n')]\n",
    "preds = batch_predict(test_data, 100)\n",
    "\n",
    "print ('\\nError rate=%f' % ( sum(1 for i in range(len(preds)) if preds[i]!=labels[i]) /float(len(preds))))"
   ]
  },
  {
   "cell_type": "code",
   "execution_count": null,
   "metadata": {},
   "outputs": [],
   "source": [
    "pd.crosstab(index=np.array(labels), columns=np.array(preds))"
   ]
  },
  {
   "cell_type": "markdown",
   "metadata": {},
   "source": []
  },
  {
   "cell_type": "markdown",
   "metadata": {},
   "source": [
    "---\n",
    "## Extensions\n",
    "\n",
    "This XGBoost model is just the starting point for predicting whether a game will be a hit based on reviews and other attributes.  There are several possible avenues for improving the model's performance.  First, of course, would be to collect more data and, if possible, fill in the existing missing fields with actual information.  Another possibility is further hyperparameter tuning using Amazon SageMaker's Automatic Model Tuning feature.  Examples of using this feature can be found in the [hyperparameter tuning directory of the SageMaker Examples GitHub repository](https://github.com/awslabs/amazon-sagemaker-examples/tree/master/hyperparameter_tuning) and the **SageMaker Examples** tab of Amazon SageMaker notebook instances.  And, although ensemble learners often do well with imbalanced data sets, it could be worth exploring techniques for mitigating imbalances such as downsampling, synthetic data augmentation, and other approaches.  \n",
    "\n",
    "---\n",
    "## Cleanup\n",
    "\n",
    "If you are finished with this notebook, please run the cell below. This will remove the hosted endpoint you created and avoid any charges from a stray instance being left on."
   ]
  },
  {
   "cell_type": "code",
   "execution_count": null,
   "metadata": {},
   "outputs": [],
   "source": [
    "session.delete_endpoint(xgb_predictor.endpoint)"
   ]
  }
 ],
 "metadata": {
  "kernelspec": {
   "display_name": "conda_python3",
   "language": "python",
   "name": "conda_python3"
  },
  "language_info": {
   "codemirror_mode": {
    "name": "ipython",
    "version": 3
   },
   "file_extension": ".py",
   "mimetype": "text/x-python",
   "name": "python",
   "nbconvert_exporter": "python",
   "pygments_lexer": "ipython3",
   "version": "3.6.10"
  },
  "notice": "Copyright 2017 Amazon.com, Inc. or its affiliates. All Rights Reserved.  Licensed under the Apache License, Version 2.0 (the \"License\"). You may not use this file except in compliance with the License. A copy of the License is located at http://aws.amazon.com/apache2.0/ or in the \"license\" file accompanying this file. This file is distributed on an \"AS IS\" BASIS, WITHOUT WARRANTIES OR CONDITIONS OF ANY KIND, either express or implied. See the License for the specific language governing permissions and limitations under the License."
 },
 "nbformat": 4,
 "nbformat_minor": 4
}
