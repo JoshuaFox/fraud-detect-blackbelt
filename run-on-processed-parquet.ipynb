{
 "cells": [
  {
   "cell_type": "code",
   "execution_count": 1,
   "metadata": {},
   "outputs": [
    {
     "name": "stdout",
     "output_type": "stream",
     "text": [
      "Starting at 2020-11-21 20:43:38.264597\n",
      "Requirement already satisfied: numpy in /home/ec2-user/anaconda3/envs/python3/lib/python3.6/site-packages (from -r requirements.txt (line 1)) (1.18.1)\n",
      "Requirement already satisfied: pandas in /home/ec2-user/anaconda3/envs/python3/lib/python3.6/site-packages (from -r requirements.txt (line 2)) (1.0.1)\n",
      "Requirement already satisfied: matplotlib in /home/ec2-user/anaconda3/envs/python3/lib/python3.6/site-packages (from -r requirements.txt (line 3)) (3.1.3)\n",
      "Requirement already satisfied: jupyter in /home/ec2-user/anaconda3/envs/python3/lib/python3.6/site-packages (from -r requirements.txt (line 4)) (1.0.0)\n",
      "Requirement already satisfied: boto3 in /home/ec2-user/anaconda3/envs/python3/lib/python3.6/site-packages (from -r requirements.txt (line 5)) (1.16.9)\n",
      "Requirement already satisfied: sagemaker in /home/ec2-user/anaconda3/envs/python3/lib/python3.6/site-packages (from -r requirements.txt (line 6)) (2.16.1)\n",
      "Requirement already satisfied: scikit-learn==0.23.1 in /home/ec2-user/anaconda3/envs/python3/lib/python3.6/site-packages (from -r requirements.txt (line 7)) (0.23.1)\n",
      "Requirement already satisfied: imbalanced-learn in /home/ec2-user/anaconda3/envs/python3/lib/python3.6/site-packages (from -r requirements.txt (line 8)) (0.7.0)\n",
      "Requirement already satisfied: category_encoders in /home/ec2-user/anaconda3/envs/python3/lib/python3.6/site-packages (from -r requirements.txt (line 9)) (2.2.2)\n",
      "Requirement already satisfied: seaborn in /home/ec2-user/anaconda3/envs/python3/lib/python3.6/site-packages (from -r requirements.txt (line 10)) (0.10.0)\n",
      "Requirement already satisfied: pyarrow in /home/ec2-user/anaconda3/envs/python3/lib/python3.6/site-packages (from -r requirements.txt (line 11)) (2.0.0)\n",
      "Requirement already satisfied: python-dateutil>=2.6.1 in /home/ec2-user/anaconda3/envs/python3/lib/python3.6/site-packages (from pandas->-r requirements.txt (line 2)) (2.8.1)\n",
      "Requirement already satisfied: pytz>=2017.2 in /home/ec2-user/anaconda3/envs/python3/lib/python3.6/site-packages (from pandas->-r requirements.txt (line 2)) (2019.3)\n",
      "Requirement already satisfied: pyparsing!=2.0.4,!=2.1.2,!=2.1.6,>=2.0.1 in /home/ec2-user/anaconda3/envs/python3/lib/python3.6/site-packages (from matplotlib->-r requirements.txt (line 3)) (2.4.6)\n",
      "Requirement already satisfied: kiwisolver>=1.0.1 in /home/ec2-user/anaconda3/envs/python3/lib/python3.6/site-packages (from matplotlib->-r requirements.txt (line 3)) (1.1.0)\n",
      "Requirement already satisfied: cycler>=0.10 in /home/ec2-user/anaconda3/envs/python3/lib/python3.6/site-packages (from matplotlib->-r requirements.txt (line 3)) (0.10.0)\n",
      "Requirement already satisfied: ipywidgets in /home/ec2-user/anaconda3/envs/python3/lib/python3.6/site-packages (from jupyter->-r requirements.txt (line 4)) (7.5.1)\n",
      "Requirement already satisfied: notebook in /home/ec2-user/anaconda3/envs/python3/lib/python3.6/site-packages (from jupyter->-r requirements.txt (line 4)) (6.0.3)\n",
      "Requirement already satisfied: qtconsole in /home/ec2-user/anaconda3/envs/python3/lib/python3.6/site-packages (from jupyter->-r requirements.txt (line 4)) (4.6.0)\n",
      "Requirement already satisfied: jupyter-console in /home/ec2-user/anaconda3/envs/python3/lib/python3.6/site-packages (from jupyter->-r requirements.txt (line 4)) (6.1.0)\n",
      "Requirement already satisfied: nbconvert in /home/ec2-user/anaconda3/envs/python3/lib/python3.6/site-packages (from jupyter->-r requirements.txt (line 4)) (5.6.1)\n",
      "Requirement already satisfied: ipykernel in /home/ec2-user/anaconda3/envs/python3/lib/python3.6/site-packages (from jupyter->-r requirements.txt (line 4)) (5.1.4)\n",
      "Requirement already satisfied: s3transfer<0.4.0,>=0.3.0 in /home/ec2-user/anaconda3/envs/python3/lib/python3.6/site-packages (from boto3->-r requirements.txt (line 5)) (0.3.3)\n",
      "Requirement already satisfied: jmespath<1.0.0,>=0.7.1 in /home/ec2-user/anaconda3/envs/python3/lib/python3.6/site-packages (from boto3->-r requirements.txt (line 5)) (0.10.0)\n",
      "Requirement already satisfied: botocore<1.20.0,>=1.19.9 in /home/ec2-user/anaconda3/envs/python3/lib/python3.6/site-packages (from boto3->-r requirements.txt (line 5)) (1.19.9)\n",
      "Requirement already satisfied: smdebug-rulesconfig==0.1.5 in /home/ec2-user/anaconda3/envs/python3/lib/python3.6/site-packages (from sagemaker->-r requirements.txt (line 6)) (0.1.5)\n",
      "Requirement already satisfied: importlib-metadata>=1.4.0 in /home/ec2-user/anaconda3/envs/python3/lib/python3.6/site-packages (from sagemaker->-r requirements.txt (line 6)) (1.5.0)\n",
      "Requirement already satisfied: protobuf>=3.1 in /home/ec2-user/anaconda3/envs/python3/lib/python3.6/site-packages (from sagemaker->-r requirements.txt (line 6)) (3.11.4)\n",
      "Requirement already satisfied: packaging>=20.0 in /home/ec2-user/anaconda3/envs/python3/lib/python3.6/site-packages (from sagemaker->-r requirements.txt (line 6)) (20.1)\n",
      "Requirement already satisfied: protobuf3-to-dict>=0.1.5 in /home/ec2-user/anaconda3/envs/python3/lib/python3.6/site-packages (from sagemaker->-r requirements.txt (line 6)) (0.1.5)\n",
      "Requirement already satisfied: google-pasta in /home/ec2-user/anaconda3/envs/python3/lib/python3.6/site-packages (from sagemaker->-r requirements.txt (line 6)) (0.2.0)\n",
      "Requirement already satisfied: scipy>=0.19.1 in /home/ec2-user/anaconda3/envs/python3/lib/python3.6/site-packages (from scikit-learn==0.23.1->-r requirements.txt (line 7)) (1.4.1)\n",
      "Requirement already satisfied: threadpoolctl>=2.0.0 in /home/ec2-user/anaconda3/envs/python3/lib/python3.6/site-packages (from scikit-learn==0.23.1->-r requirements.txt (line 7)) (2.1.0)\n",
      "Requirement already satisfied: joblib>=0.11 in /home/ec2-user/anaconda3/envs/python3/lib/python3.6/site-packages (from scikit-learn==0.23.1->-r requirements.txt (line 7)) (0.14.1)\n",
      "Requirement already satisfied: patsy>=0.5.1 in /home/ec2-user/anaconda3/envs/python3/lib/python3.6/site-packages (from category_encoders->-r requirements.txt (line 9)) (0.5.1)\n",
      "Requirement already satisfied: statsmodels>=0.9.0 in /home/ec2-user/anaconda3/envs/python3/lib/python3.6/site-packages (from category_encoders->-r requirements.txt (line 9)) (0.11.0)\n",
      "Requirement already satisfied: six>=1.5 in /home/ec2-user/anaconda3/envs/python3/lib/python3.6/site-packages (from python-dateutil>=2.6.1->pandas->-r requirements.txt (line 2)) (1.14.0)\n",
      "Requirement already satisfied: setuptools in /home/ec2-user/anaconda3/envs/python3/lib/python3.6/site-packages (from kiwisolver>=1.0.1->matplotlib->-r requirements.txt (line 3)) (45.2.0.post20200210)\n",
      "Requirement already satisfied: traitlets>=4.3.1 in /home/ec2-user/anaconda3/envs/python3/lib/python3.6/site-packages (from ipywidgets->jupyter->-r requirements.txt (line 4)) (4.3.3)\n",
      "Requirement already satisfied: widgetsnbextension~=3.5.0 in /home/ec2-user/anaconda3/envs/python3/lib/python3.6/site-packages (from ipywidgets->jupyter->-r requirements.txt (line 4)) (3.5.1)\n",
      "Requirement already satisfied: nbformat>=4.2.0 in /home/ec2-user/anaconda3/envs/python3/lib/python3.6/site-packages (from ipywidgets->jupyter->-r requirements.txt (line 4)) (5.0.4)\n",
      "Requirement already satisfied: ipython>=4.0.0; python_version >= \"3.3\" in /home/ec2-user/anaconda3/envs/python3/lib/python3.6/site-packages (from ipywidgets->jupyter->-r requirements.txt (line 4)) (7.12.0)\n",
      "Requirement already satisfied: terminado>=0.8.1 in /home/ec2-user/anaconda3/envs/python3/lib/python3.6/site-packages (from notebook->jupyter->-r requirements.txt (line 4)) (0.8.3)\n",
      "Requirement already satisfied: tornado>=5.0 in /home/ec2-user/anaconda3/envs/python3/lib/python3.6/site-packages (from notebook->jupyter->-r requirements.txt (line 4)) (6.0.3)\n",
      "Requirement already satisfied: prometheus-client in /home/ec2-user/anaconda3/envs/python3/lib/python3.6/site-packages (from notebook->jupyter->-r requirements.txt (line 4)) (0.7.1)\n",
      "Requirement already satisfied: Send2Trash in /home/ec2-user/anaconda3/envs/python3/lib/python3.6/site-packages (from notebook->jupyter->-r requirements.txt (line 4)) (1.5.0)\n",
      "Requirement already satisfied: jinja2 in /home/ec2-user/anaconda3/envs/python3/lib/python3.6/site-packages (from notebook->jupyter->-r requirements.txt (line 4)) (2.11.1)\n",
      "Requirement already satisfied: jupyter-client>=5.3.4 in /home/ec2-user/anaconda3/envs/python3/lib/python3.6/site-packages (from notebook->jupyter->-r requirements.txt (line 4)) (5.3.4)\n",
      "Requirement already satisfied: jupyter-core>=4.6.1 in /home/ec2-user/anaconda3/envs/python3/lib/python3.6/site-packages (from notebook->jupyter->-r requirements.txt (line 4)) (4.6.1)\n",
      "Requirement already satisfied: ipython-genutils in /home/ec2-user/anaconda3/envs/python3/lib/python3.6/site-packages (from notebook->jupyter->-r requirements.txt (line 4)) (0.2.0)\n",
      "Requirement already satisfied: pyzmq>=17 in /home/ec2-user/anaconda3/envs/python3/lib/python3.6/site-packages (from notebook->jupyter->-r requirements.txt (line 4)) (18.1.1)\n",
      "Requirement already satisfied: pygments in /home/ec2-user/anaconda3/envs/python3/lib/python3.6/site-packages (from qtconsole->jupyter->-r requirements.txt (line 4)) (2.5.2)\n",
      "Requirement already satisfied: prompt-toolkit!=3.0.0,!=3.0.1,<3.1.0,>=2.0.0 in /home/ec2-user/anaconda3/envs/python3/lib/python3.6/site-packages (from jupyter-console->jupyter->-r requirements.txt (line 4)) (3.0.3)\n",
      "Requirement already satisfied: bleach in /home/ec2-user/anaconda3/envs/python3/lib/python3.6/site-packages (from nbconvert->jupyter->-r requirements.txt (line 4)) (3.2.1)\n",
      "Requirement already satisfied: pandocfilters>=1.4.1 in /home/ec2-user/anaconda3/envs/python3/lib/python3.6/site-packages (from nbconvert->jupyter->-r requirements.txt (line 4)) (1.4.2)\n",
      "Requirement already satisfied: testpath in /home/ec2-user/anaconda3/envs/python3/lib/python3.6/site-packages (from nbconvert->jupyter->-r requirements.txt (line 4)) (0.4.4)\n",
      "Requirement already satisfied: entrypoints>=0.2.2 in /home/ec2-user/anaconda3/envs/python3/lib/python3.6/site-packages (from nbconvert->jupyter->-r requirements.txt (line 4)) (0.3)\n",
      "Requirement already satisfied: defusedxml in /home/ec2-user/anaconda3/envs/python3/lib/python3.6/site-packages (from nbconvert->jupyter->-r requirements.txt (line 4)) (0.6.0)\n",
      "Requirement already satisfied: mistune<2,>=0.8.1 in /home/ec2-user/anaconda3/envs/python3/lib/python3.6/site-packages (from nbconvert->jupyter->-r requirements.txt (line 4)) (0.8.4)\n",
      "Requirement already satisfied: urllib3<1.26,>=1.25.4; python_version != \"3.4\" in /home/ec2-user/anaconda3/envs/python3/lib/python3.6/site-packages (from botocore<1.20.0,>=1.19.9->boto3->-r requirements.txt (line 5)) (1.25.10)\n",
      "Requirement already satisfied: zipp>=0.5 in /home/ec2-user/anaconda3/envs/python3/lib/python3.6/site-packages (from importlib-metadata>=1.4.0->sagemaker->-r requirements.txt (line 6)) (2.2.0)\n",
      "Requirement already satisfied: decorator in /home/ec2-user/anaconda3/envs/python3/lib/python3.6/site-packages (from traitlets>=4.3.1->ipywidgets->jupyter->-r requirements.txt (line 4)) (4.4.1)\n",
      "Requirement already satisfied: jsonschema!=2.5.0,>=2.4 in /home/ec2-user/anaconda3/envs/python3/lib/python3.6/site-packages (from nbformat>=4.2.0->ipywidgets->jupyter->-r requirements.txt (line 4)) (3.2.0)\n",
      "Requirement already satisfied: backcall in /home/ec2-user/anaconda3/envs/python3/lib/python3.6/site-packages (from ipython>=4.0.0; python_version >= \"3.3\"->ipywidgets->jupyter->-r requirements.txt (line 4)) (0.1.0)\n",
      "Requirement already satisfied: pexpect; sys_platform != \"win32\" in /home/ec2-user/anaconda3/envs/python3/lib/python3.6/site-packages (from ipython>=4.0.0; python_version >= \"3.3\"->ipywidgets->jupyter->-r requirements.txt (line 4)) (4.8.0)\n",
      "Requirement already satisfied: pickleshare in /home/ec2-user/anaconda3/envs/python3/lib/python3.6/site-packages (from ipython>=4.0.0; python_version >= \"3.3\"->ipywidgets->jupyter->-r requirements.txt (line 4)) (0.7.5)\n",
      "Requirement already satisfied: jedi>=0.10 in /home/ec2-user/anaconda3/envs/python3/lib/python3.6/site-packages (from ipython>=4.0.0; python_version >= \"3.3\"->ipywidgets->jupyter->-r requirements.txt (line 4)) (0.14.1)\n",
      "Requirement already satisfied: MarkupSafe>=0.23 in /home/ec2-user/anaconda3/envs/python3/lib/python3.6/site-packages (from jinja2->notebook->jupyter->-r requirements.txt (line 4)) (1.1.1)\n",
      "Requirement already satisfied: wcwidth in /home/ec2-user/anaconda3/envs/python3/lib/python3.6/site-packages (from prompt-toolkit!=3.0.0,!=3.0.1,<3.1.0,>=2.0.0->jupyter-console->jupyter->-r requirements.txt (line 4)) (0.1.8)\n",
      "Requirement already satisfied: webencodings in /home/ec2-user/anaconda3/envs/python3/lib/python3.6/site-packages (from bleach->nbconvert->jupyter->-r requirements.txt (line 4)) (0.5.1)\n",
      "Requirement already satisfied: pyrsistent>=0.14.0 in /home/ec2-user/anaconda3/envs/python3/lib/python3.6/site-packages (from jsonschema!=2.5.0,>=2.4->nbformat>=4.2.0->ipywidgets->jupyter->-r requirements.txt (line 4)) (0.15.7)\n",
      "Requirement already satisfied: attrs>=17.4.0 in /home/ec2-user/anaconda3/envs/python3/lib/python3.6/site-packages (from jsonschema!=2.5.0,>=2.4->nbformat>=4.2.0->ipywidgets->jupyter->-r requirements.txt (line 4)) (19.3.0)\n",
      "Requirement already satisfied: ptyprocess>=0.5 in /home/ec2-user/anaconda3/envs/python3/lib/python3.6/site-packages (from pexpect; sys_platform != \"win32\"->ipython>=4.0.0; python_version >= \"3.3\"->ipywidgets->jupyter->-r requirements.txt (line 4)) (0.6.0)\n",
      "Requirement already satisfied: parso>=0.5.0 in /home/ec2-user/anaconda3/envs/python3/lib/python3.6/site-packages (from jedi>=0.10->ipython>=4.0.0; python_version >= \"3.3\"->ipywidgets->jupyter->-r requirements.txt (line 4)) (0.5.2)\n",
      "\u001b[33mWARNING: You are using pip version 20.0.2; however, version 20.2.4 is available.\n",
      "You should consider upgrading via the '/home/ec2-user/anaconda3/envs/python3/bin/python -m pip install --upgrade pip' command.\u001b[0m\n",
      "CPU times: user 47.3 ms, sys: 10.1 ms, total: 57.4 ms\n",
      "Wall time: 2.23 s\n"
     ]
    }
   ],
   "source": [
    "%%time\n",
    "import sys;\n",
    "import datetime\n",
    "print('Starting at', datetime.datetime.now())\n",
    "!{sys.executable} -m pip install -r requirements.txt\n",
    " "
   ]
  },
  {
   "cell_type": "code",
   "execution_count": 2,
   "metadata": {
    "isConfigCell": true
   },
   "outputs": [
    {
     "name": "stdout",
     "output_type": "stream",
     "text": [
      "Role arn:aws:iam::649592902942:role/service-role/AmazonSageMaker-ExecutionRole-20201021T144991\n",
      "Bucket sagemaker-jfox in region eu-west-1\n",
      "CPU times: user 790 ms, sys: 51.5 ms, total: 841 ms\n",
      "Wall time: 2.88 s\n"
     ]
    }
   ],
   "source": [
    "%%time\n",
    "import boto3\n",
    "import sagemaker\n",
    "\n",
    "session = sagemaker.Session() \n",
    "region = session.boto_region_name \n",
    "\n",
    "bucket = 'sagemaker-jfox'\n",
    " \n",
    "prefix = 'sagemaker/xgboost'\n",
    "role = sagemaker.get_execution_role()\n",
    "print('Role', role)\n",
    "print(f'Bucket {bucket} in region {region}')"
   ]
  },
  {
   "cell_type": "markdown",
   "metadata": {},
   "source": [
    "\n"
   ]
  },
  {
   "cell_type": "code",
   "execution_count": 3,
   "metadata": {},
   "outputs": [
    {
     "name": "stdout",
     "output_type": "stream",
     "text": [
      "CPU times: user 98.6 ms, sys: 8.18 ms, total: 107 ms\n",
      "Wall time: 1.11 s\n"
     ]
    }
   ],
   "source": [
    "%%time\n",
    "import random\n",
    "import pandas as pd\n",
    "import pyarrow.parquet as pq\n",
    "\n",
    "raw_data_filename = 'frauddetection.parquet.snappy'\n",
    " \n",
    "s3 = boto3.resource('s3', region_name=region)\n",
    "\n",
    "#s3_path = 'prepareddataalltypes/datapreparation_20Nov2020_1605858525820/datapreparation_20Nov2020_1605858525820_part00000.parquet.snappy'\n",
    "\n",
    "#s3.Bucket(bucket).download_file(s3_path,  raw_data_filename)\n",
    " "
   ]
  },
  {
   "cell_type": "code",
   "execution_count": 4,
   "metadata": {},
   "outputs": [
    {
     "name": "stdout",
     "output_type": "stream",
     "text": [
      "1000 Data items\n",
      "CPU times: user 1.17 s, sys: 801 ms, total: 1.97 s\n",
      "Wall time: 663 ms\n"
     ]
    }
   ],
   "source": [
    "%%time \n",
    "table = pq.read_table(raw_data_filename)\n",
    "df = table.to_pandas()\n",
    "df = df.head(1000) #TODO FIX\n",
    "    \n",
    "    \n",
    "pd.set_option('display.max_rows', 10) \n",
    "pd.set_option('display.width', 1000)\n",
    "\n",
    "print(len(df), 'Data items')"
   ]
  },
  {
   "cell_type": "code",
   "execution_count": 5,
   "metadata": {},
   "outputs": [],
   "source": [
    "target_col='Fraudulent'"
   ]
  },
  {
   "cell_type": "code",
   "execution_count": 6,
   "metadata": {},
   "outputs": [],
   "source": [
    "\n",
    "df = df.rename(columns = {'isFraud': target_col,\n",
    "                          'type_CASH_OUT': 'type_CashOut',\n",
    "                          'type_TRANSFER': 'type_Transfer',\n",
    "                          'type_CASH_IN': 'type_CashIn',\n",
    "                          'type_PAYMENT': 'type_Payment',\n",
    "                          'oldbalanceOrg_nml': 'originOldBalance',\n",
    "                          'oldBalanceOrigSign': 'originOldBalanceSign', \n",
    "                          'newbalanceOrig_nml': 'originNewBalance',\n",
    "                          'negDeltaOrigin_nml': 'negativeDeltaInOrigin', \n",
    "                          'oldbalanceDest_nml': 'destinationOldBalance',\n",
    "                          'newbalanceDest_nml': 'destinationNewBalance',\n",
    "                          'expectedNewBalDest_nml': 'destinationExpectedNewBalance',#based on old value and delta   \n",
    "                          'amount_nml': 'amount',\n",
    "                          'hourOf24_radians': 'hourOf24_radians',# To be deleted after calculation\n",
    "                          'isFlaggedFraud':'FlaggedFraud'#To be deleted\n",
    "                         })\n"
   ]
  },
  {
   "cell_type": "markdown",
   "metadata": {},
   "source": [
    "`type_X` columns where X in  `PAYMENT` `TRANSFER` `CASH_OUT` `DEBIT` `CASH_IN`\n",
    "There was also `DEBIT`, but onehotting drops one of the types because of correlation.\n",
    "All `isFraud` rows have `type` `TRANSFER` or `CASH_OUT`, never  `CASH_IN` or `PAYMENT` or `DEBIT`"
   ]
  },
  {
   "cell_type": "markdown",
   "metadata": {},
   "source": [
    "Counts of each class to determine imbalance."
   ]
  },
  {
   "cell_type": "code",
   "execution_count": 7,
   "metadata": {},
   "outputs": [
    {
     "name": "stdout",
     "output_type": "stream",
     "text": [
      "Fraud 9 ; Not fraud 991 ; Total 1000\n"
     ]
    }
   ],
   "source": [
    "def count_positive_and_negative(df):\n",
    "    num_positive = len(df.loc[  df[target_col] == 1 ])\n",
    "    num_negative = len(df) - num_positive\n",
    "    return num_positive, num_negative\n",
    "\n",
    "num_positive, num_negative = count_positive_and_negative(df)\n",
    "\n",
    "print('Fraud', num_positive, '; Not fraud', num_negative, '; Total', len(df))"
   ]
  },
  {
   "cell_type": "markdown",
   "metadata": {},
   "source": [
    " "
   ]
  },
  {
   "cell_type": "markdown",
   "metadata": {},
   "source": []
  },
  {
   "cell_type": "markdown",
   "metadata": {},
   "source": [
    "Plot distribution of positive vs negative, in log scale because of the imbalance"
   ]
  },
  {
   "cell_type": "code",
   "execution_count": 8,
   "metadata": {},
   "outputs": [
    {
     "data": {
      "image/png": "[encoded data removed]",
      "text/plain": [
       "<Figure size 360x360 with 1 Axes>"
      ]
     },
     "metadata": {},
     "output_type": "display_data"
    }
   ],
   "source": [
    "import math\n",
    "import matplotlib.pyplot as plt   \n",
    "def plot_positive_negative_counts(df, target_col):\n",
    "        df[target_col].value_counts().plot.pie(figsize=(5, 5), autopct='%.1f')\n",
    "        plt.title('Non-fraud vs fraud')\n",
    "        plt.tight_layout()\n",
    "    \n",
    "plot_positive_negative_counts(df,target_col)"
   ]
  },
  {
   "cell_type": "markdown",
   "metadata": {},
   "source": [
    " "
   ]
  },
  {
   "cell_type": "markdown",
   "metadata": {},
   "source": [
    "Check that target is on the left, per Sagemaker standard"
   ]
  },
  {
   "cell_type": "code",
   "execution_count": 9,
   "metadata": {},
   "outputs": [],
   "source": [
    "cols = df.columns.tolist()\n",
    "assert cols[0]==target_col"
   ]
  },
  {
   "cell_type": "markdown",
   "metadata": {},
   "source": [
    "Transform hour of day to a form suited for cyclical data"
   ]
  },
  {
   "cell_type": "code",
   "execution_count": 10,
   "metadata": {},
   "outputs": [
    {
     "data": {
      "text/html": [
       "<div>\n",
       "<style scoped>\n",
       "    .dataframe tbody tr th:only-of-type {\n",
       "        vertical-align: middle;\n",
       "    }\n",
       "\n",
       "    .dataframe tbody tr th {\n",
       "        vertical-align: top;\n",
       "    }\n",
       "\n",
       "    .dataframe thead th {\n",
       "        text-align: right;\n",
       "    }\n",
       "</style>\n",
       "<table border=\"1\" class=\"dataframe\">\n",
       "  <thead>\n",
       "    <tr style=\"text-align: right;\">\n",
       "      <th></th>\n",
       "      <th>Fraudulent</th>\n",
       "      <th>type_CashIn</th>\n",
       "      <th>type_CashOut</th>\n",
       "      <th>type_Payment</th>\n",
       "      <th>type_Transfer</th>\n",
       "      <th>amount</th>\n",
       "      <th>originOldBalance</th>\n",
       "      <th>originOldBalanceSign</th>\n",
       "      <th>originNewBalance</th>\n",
       "      <th>negativeDeltaInOrigin</th>\n",
       "      <th>destinationOldBalance</th>\n",
       "      <th>destinationExpectedNewBalance</th>\n",
       "      <th>destinationNewBalance</th>\n",
       "      <th>sineHourInDay</th>\n",
       "      <th>cosineHourInDay</th>\n",
       "    </tr>\n",
       "  </thead>\n",
       "  <tbody>\n",
       "    <tr>\n",
       "      <th>0</th>\n",
       "      <td>0</td>\n",
       "      <td>0</td>\n",
       "      <td>0</td>\n",
       "      <td>1</td>\n",
       "      <td>0</td>\n",
       "      <td>-0.281560</td>\n",
       "      <td>-0.229810</td>\n",
       "      <td>1</td>\n",
       "      <td>-0.237622</td>\n",
       "      <td>0.211876</td>\n",
       "      <td>-0.323814</td>\n",
       "      <td>-0.350732</td>\n",
       "      <td>-0.333411</td>\n",
       "      <td>0.258626</td>\n",
       "      <td>0.965977</td>\n",
       "    </tr>\n",
       "    <tr>\n",
       "      <th>1</th>\n",
       "      <td>0</td>\n",
       "      <td>0</td>\n",
       "      <td>0</td>\n",
       "      <td>1</td>\n",
       "      <td>0</td>\n",
       "      <td>-0.294767</td>\n",
       "      <td>-0.281359</td>\n",
       "      <td>1</td>\n",
       "      <td>-0.285812</td>\n",
       "      <td>0.157490</td>\n",
       "      <td>-0.323814</td>\n",
       "      <td>-0.352933</td>\n",
       "      <td>-0.333411</td>\n",
       "      <td>0.258626</td>\n",
       "      <td>0.965977</td>\n",
       "    </tr>\n",
       "    <tr>\n",
       "      <th>2</th>\n",
       "      <td>1</td>\n",
       "      <td>0</td>\n",
       "      <td>0</td>\n",
       "      <td>0</td>\n",
       "      <td>1</td>\n",
       "      <td>-0.297555</td>\n",
       "      <td>-0.288654</td>\n",
       "      <td>1</td>\n",
       "      <td>-0.292442</td>\n",
       "      <td>0.146011</td>\n",
       "      <td>-0.323814</td>\n",
       "      <td>-0.353398</td>\n",
       "      <td>-0.333411</td>\n",
       "      <td>0.258626</td>\n",
       "      <td>0.965977</td>\n",
       "    </tr>\n",
       "    <tr>\n",
       "      <th>3</th>\n",
       "      <td>1</td>\n",
       "      <td>0</td>\n",
       "      <td>1</td>\n",
       "      <td>0</td>\n",
       "      <td>0</td>\n",
       "      <td>-0.297555</td>\n",
       "      <td>-0.288654</td>\n",
       "      <td>1</td>\n",
       "      <td>-0.292442</td>\n",
       "      <td>0.146011</td>\n",
       "      <td>-0.317582</td>\n",
       "      <td>-0.347552</td>\n",
       "      <td>-0.333411</td>\n",
       "      <td>0.258626</td>\n",
       "      <td>0.965977</td>\n",
       "    </tr>\n",
       "    <tr>\n",
       "      <th>4</th>\n",
       "      <td>0</td>\n",
       "      <td>0</td>\n",
       "      <td>0</td>\n",
       "      <td>1</td>\n",
       "      <td>0</td>\n",
       "      <td>-0.278532</td>\n",
       "      <td>-0.274329</td>\n",
       "      <td>1</td>\n",
       "      <td>-0.282221</td>\n",
       "      <td>0.224345</td>\n",
       "      <td>-0.323814</td>\n",
       "      <td>-0.350227</td>\n",
       "      <td>-0.333411</td>\n",
       "      <td>0.258626</td>\n",
       "      <td>0.965977</td>\n",
       "    </tr>\n",
       "    <tr>\n",
       "      <th>...</th>\n",
       "      <td>...</td>\n",
       "      <td>...</td>\n",
       "      <td>...</td>\n",
       "      <td>...</td>\n",
       "      <td>...</td>\n",
       "      <td>...</td>\n",
       "      <td>...</td>\n",
       "      <td>...</td>\n",
       "      <td>...</td>\n",
       "      <td>...</td>\n",
       "      <td>...</td>\n",
       "      <td>...</td>\n",
       "      <td>...</td>\n",
       "      <td>...</td>\n",
       "      <td>...</td>\n",
       "    </tr>\n",
       "    <tr>\n",
       "      <th>995</th>\n",
       "      <td>0</td>\n",
       "      <td>0</td>\n",
       "      <td>0</td>\n",
       "      <td>1</td>\n",
       "      <td>0</td>\n",
       "      <td>-0.294265</td>\n",
       "      <td>-0.283984</td>\n",
       "      <td>1</td>\n",
       "      <td>-0.288508</td>\n",
       "      <td>0.159556</td>\n",
       "      <td>-0.323814</td>\n",
       "      <td>-0.352850</td>\n",
       "      <td>-0.333411</td>\n",
       "      <td>0.258626</td>\n",
       "      <td>0.965977</td>\n",
       "    </tr>\n",
       "    <tr>\n",
       "      <th>996</th>\n",
       "      <td>0</td>\n",
       "      <td>0</td>\n",
       "      <td>0</td>\n",
       "      <td>1</td>\n",
       "      <td>0</td>\n",
       "      <td>-0.281727</td>\n",
       "      <td>-0.188397</td>\n",
       "      <td>1</td>\n",
       "      <td>-0.196681</td>\n",
       "      <td>0.211189</td>\n",
       "      <td>-0.323814</td>\n",
       "      <td>-0.350760</td>\n",
       "      <td>-0.333411</td>\n",
       "      <td>0.258626</td>\n",
       "      <td>0.965977</td>\n",
       "    </tr>\n",
       "    <tr>\n",
       "      <th>997</th>\n",
       "      <td>0</td>\n",
       "      <td>0</td>\n",
       "      <td>0</td>\n",
       "      <td>1</td>\n",
       "      <td>0</td>\n",
       "      <td>-0.292230</td>\n",
       "      <td>-0.282303</td>\n",
       "      <td>1</td>\n",
       "      <td>-0.287268</td>\n",
       "      <td>0.167937</td>\n",
       "      <td>-0.323814</td>\n",
       "      <td>-0.352510</td>\n",
       "      <td>-0.333411</td>\n",
       "      <td>0.258626</td>\n",
       "      <td>0.965977</td>\n",
       "    </tr>\n",
       "    <tr>\n",
       "      <th>998</th>\n",
       "      <td>0</td>\n",
       "      <td>0</td>\n",
       "      <td>0</td>\n",
       "      <td>1</td>\n",
       "      <td>0</td>\n",
       "      <td>-0.286625</td>\n",
       "      <td>-0.270491</td>\n",
       "      <td>1</td>\n",
       "      <td>-0.276758</td>\n",
       "      <td>0.191017</td>\n",
       "      <td>-0.323814</td>\n",
       "      <td>-0.351576</td>\n",
       "      <td>-0.333411</td>\n",
       "      <td>0.258626</td>\n",
       "      <td>0.965977</td>\n",
       "    </tr>\n",
       "    <tr>\n",
       "      <th>999</th>\n",
       "      <td>0</td>\n",
       "      <td>0</td>\n",
       "      <td>0</td>\n",
       "      <td>1</td>\n",
       "      <td>0</td>\n",
       "      <td>-0.294071</td>\n",
       "      <td>-0.288530</td>\n",
       "      <td>1</td>\n",
       "      <td>-0.292442</td>\n",
       "      <td>0.148453</td>\n",
       "      <td>-0.323814</td>\n",
       "      <td>-0.352817</td>\n",
       "      <td>-0.333411</td>\n",
       "      <td>0.258626</td>\n",
       "      <td>0.965977</td>\n",
       "    </tr>\n",
       "  </tbody>\n",
       "</table>\n",
       "<p>1000 rows × 15 columns</p>\n",
       "</div>"
      ],
      "text/plain": [
       "     Fraudulent  type_CashIn  type_CashOut  type_Payment  type_Transfer    amount  originOldBalance  originOldBalanceSign  originNewBalance  negativeDeltaInOrigin  destinationOldBalance  destinationExpectedNewBalance  destinationNewBalance  sineHourInDay  cosineHourInDay\n",
       "0             0            0             0             1              0 -0.281560         -0.229810                     1         -0.237622               0.211876              -0.323814                      -0.350732              -0.333411       0.258626         0.965977\n",
       "1             0            0             0             1              0 -0.294767         -0.281359                     1         -0.285812               0.157490              -0.323814                      -0.352933              -0.333411       0.258626         0.965977\n",
       "2             1            0             0             0              1 -0.297555         -0.288654                     1         -0.292442               0.146011              -0.323814                      -0.353398              -0.333411       0.258626         0.965977\n",
       "3             1            0             1             0              0 -0.297555         -0.288654                     1         -0.292442               0.146011              -0.317582                      -0.347552              -0.333411       0.258626         0.965977\n",
       "4             0            0             0             1              0 -0.278532         -0.274329                     1         -0.282221               0.224345              -0.323814                      -0.350227              -0.333411       0.258626         0.965977\n",
       "..          ...          ...           ...           ...            ...       ...               ...                   ...               ...                    ...                    ...                            ...                    ...            ...              ...\n",
       "995           0            0             0             1              0 -0.294265         -0.283984                     1         -0.288508               0.159556              -0.323814                      -0.352850              -0.333411       0.258626         0.965977\n",
       "996           0            0             0             1              0 -0.281727         -0.188397                     1         -0.196681               0.211189              -0.323814                      -0.350760              -0.333411       0.258626         0.965977\n",
       "997           0            0             0             1              0 -0.292230         -0.282303                     1         -0.287268               0.167937              -0.323814                      -0.352510              -0.333411       0.258626         0.965977\n",
       "998           0            0             0             1              0 -0.286625         -0.270491                     1         -0.276758               0.191017              -0.323814                      -0.351576              -0.333411       0.258626         0.965977\n",
       "999           0            0             0             1              0 -0.294071         -0.288530                     1         -0.292442               0.148453              -0.323814                      -0.352817              -0.333411       0.258626         0.965977\n",
       "\n",
       "[1000 rows x 15 columns]"
      ]
     },
     "execution_count": 10,
     "metadata": {},
     "output_type": "execute_result"
    }
   ],
   "source": [
    "import numpy as np\n",
    "hours_col = 'hourOf24_radians'\n",
    "df['sineHourInDay'] = np.sin(df[hours_col])\n",
    "df['cosineHourInDay'] = np.cos(df[hours_col])\n",
    "df = df.drop(hours_col, axis=1)\n",
    "df"
   ]
  },
  {
   "cell_type": "code",
   "execution_count": 11,
   "metadata": {},
   "outputs": [
    {
     "data": {
      "image/png": "[encoded data removed]",
      "text/plain": [
       "<Figure size 1080x360 with 4 Axes>"
      ]
     },
     "metadata": {
      "needs_background": "light"
     },
     "output_type": "display_data"
    }
   ],
   "source": [
    "import seaborn  \n",
    "\n",
    "fig, axes = plt.subplots( 1,2, figsize=(15,5))\n",
    "\n",
    "def heatmap(fraud_cases):\n",
    "    lbl='Fraud' if  fraud_cases else 'Non-fraud'\n",
    "    # Coerced to int, below\n",
    "    axes[1-fraud_cases].set_title(f'{lbl} cases: Heatmap')\n",
    "    seaborn.heatmap(df.query(f'{target_col} == {fraud_cases}').drop([target_col], 1).corr(),  cmap='Oranges', ax=axes[1-fraud_cases])\n",
    "\n",
    "heatmap(True)\n",
    "heatmap(False)\n",
    "\n",
    "plt.show()"
   ]
  },
  {
   "cell_type": "markdown",
   "metadata": {},
   "source": []
  },
  {
   "cell_type": "markdown",
   "metadata": {},
   "source": [
    "Optionally use *SMOTENC* for unbalanced classes, though we may stick with the XGBoost parameters."
   ]
  },
  {
   "cell_type": "code",
   "execution_count": 12,
   "metadata": {},
   "outputs": [
    {
     "name": "stdout",
     "output_type": "stream",
     "text": [
      "CPU times: user 165 ms, sys: 16.1 ms, total: 181 ms\n",
      "Wall time: 180 ms\n"
     ]
    }
   ],
   "source": [
    "%%time \n",
    "\n",
    "from imblearn.over_sampling import SMOTENC\n",
    "\n",
    "use_smote = False # Can just use weighting in XGBOOST instead of SMOTENC\n",
    "\n",
    "if use_smote:\n",
    "   ycol=target_col\n",
    "   Xcol=list(df.columns)\n",
    "   Xcol.remove(ycol)\n",
    " \n",
    "   categorical_columns=[i for i in range(len(Xcol)) \n",
    "                     if Xcol[i] not in ['step','amount','oldbalanceOrg','newbalanceOrig','oldbalanceDest','newbalanceDest']]\n",
    "\n",
    "   smotenc = SMOTENC(categorical_columns,random_state = 101)\n",
    "\n",
    "   X, y = smotenc.fit_resample(df[Xcol], df[ycol])\n",
    "   y_df = pd.DataFrame({target_col: y} )\n",
    "\n",
    "   df = pd.concat([X, y_df], axis=1)"
   ]
  },
  {
   "cell_type": "markdown",
   "metadata": {},
   "source": [
    "# Split  with randomization"
   ]
  },
  {
   "cell_type": "code",
   "execution_count": 13,
   "metadata": {},
   "outputs": [],
   "source": [
    "import numpy as np\n",
    "len_ = len(df)\n",
    "train_data, validation_data, test_data = np.split(df.sample(frac=1, random_state=1729), [int(0.7 * len_), int(0.9 * len_)])"
   ]
  },
  {
   "cell_type": "markdown",
   "metadata": {},
   "source": [
    "All Fraudulent cases have `type_Transfer` or `type_CashOut`. We train only on items with those types.\n",
    "\n",
    "At runtime, we mark as non-Fraudulent those where type is not `type_Transfer` or `type_CashOut`. Where the type is one of those, we use ML."
   ]
  },
  {
   "cell_type": "code",
   "execution_count": 14,
   "metadata": {},
   "outputs": [
    {
     "name": "stdout",
     "output_type": "stream",
     "text": [
      "Before filtering, 700 training data and 200 validation data and 100 test data\n",
      "After filtering, 229 training data and  64 validation data and  36 test data for ML and  64 test data for rules\n"
     ]
    }
   ],
   "source": [
    "print('Before filtering, data items', len(train_data), 'training and', len(validation_data), 'validation data', len(test_data),'test ')\n",
    "\n",
    "train_data = train_data[(train_data['type_Transfer'] == 1) | (train_data['type_CashOut'] == 1)]\n",
    "\n",
    "validation_data = validation_data[(validation_data['type_Transfer'] == 1) | (validation_data['type_CashOut'] == 1)]\n",
    "\n",
    "test_data_ml = test_data[(test_data['type_Transfer'] == 1) | (test_data['type_CashOut'] == 1)]\n",
    "\n",
    "test_data_for_rules = test_data[(test_data['type_Transfer'] == 0) & (test_data['type_CashOut'] == 0)]\n",
    "\n",
    "print('After filtering, items:', len(train_data), 'training and ', len(validation_data), 'validation and ',\n",
    "      len(test_data_ml),'test for ML and ', len(test_data_for_rules), 'test for rules')"
   ]
  },
  {
   "cell_type": "markdown",
   "metadata": {},
   "source": [
    "Using libSVM for performance."
   ]
  },
  {
   "cell_type": "code",
   "execution_count": 15,
   "metadata": {},
   "outputs": [
    {
     "name": "stdout",
     "output_type": "stream",
     "text": [
      "Length of datasets: [('train', 229), ('validation', 64), ('test', 36)]\n",
      "CPU times: user 85.8 ms, sys: 1.2 ms, total: 87 ms\n",
      "Wall time: 189 ms\n"
     ]
    }
   ],
   "source": [
    "%%time\n",
    "from sklearn.datasets import dump_svmlight_file   \n",
    "\n",
    "lengths = [] \n",
    "\n",
    "for d in [(train_data, 'train.libsvm'), ( validation_data, 'validation.libsvm'), (test_data_ml, 'test.libsvm')]:\n",
    "   dataset=d[0]\n",
    "   file_ = d[1]\n",
    "   lengths.append((d[1].split('.')[0],len(dataset)))\n",
    "   dump_svmlight_file(X=dataset.drop([target_col], axis=1), y=dataset[target_col], f=d[1])\n",
    "\n",
    "print('Length of datasets:', lengths )\n",
    "\n",
    "s3 = boto3.resource('s3', region_name=region) \n",
    "\n",
    "for filename in ['train.libsvm', 'validation.libsvm']:\n",
    "   s3.Bucket(bucket).Object(prefix + '/'+filename.split('.')[0]+'/'+filename).upload_file(filename)"
   ]
  },
  {
   "cell_type": "code",
   "execution_count": 16,
   "metadata": {},
   "outputs": [],
   "source": [
    "def s3_path(subset):\n",
    "  return sagemaker.TrainingInput(s3_data='s3://{}/{}/{}'.format(bucket, prefix,subset), content_type='libsvm')\n",
    "\n",
    "s3_input_train = s3_path('train')\n",
    "s3_input_validation =s3_path('validation')"
   ]
  },
  {
   "cell_type": "markdown",
   "metadata": {},
   "source": [
    "---\n",
    "## Train\n",
    "\n",
    "To train, first set up the parameters for an Amazon SageMaker Estimator object, and the hyperparameters for the algorithm itself."
   ]
  },
  {
   "cell_type": "code",
   "execution_count": 17,
   "metadata": {},
   "outputs": [
    {
     "name": "stderr",
     "output_type": "stream",
     "text": [
      "The method get_image_uri has been renamed in sagemaker>=2.\n",
      "See: https://sagemaker.readthedocs.io/en/stable/v2.html for details.\n",
      "train_instance_count has been renamed in sagemaker>=2.\n",
      "See: https://sagemaker.readthedocs.io/en/stable/v2.html for details.\n",
      "train_instance_type has been renamed in sagemaker>=2.\n",
      "See: https://sagemaker.readthedocs.io/en/stable/v2.html for details.\n"
     ]
    },
    {
     "name": "stdout",
     "output_type": "stream",
     "text": [
      "num_positive: 6, num_negative: 223, scale_pos_weight 6.1\n"
     ]
    }
   ],
   "source": [
    "from sagemaker.amazon.amazon_estimator import get_image_uri\n",
    "\n",
    "import math\n",
    "\n",
    "container = get_image_uri(region, 'xgboost','1.0-1')\n",
    "\n",
    "xgb = sagemaker.estimator.Estimator(container,\n",
    "                                    role, \n",
    "                                    base_job_name='fraud-detection-job',\n",
    "                                    train_instance_count=1, \n",
    "                                    train_instance_type='ml.m4.xlarge',\n",
    "                                    output_path='s3://{}/{}/output'.format(bucket, prefix),\n",
    "                                    sagemaker_session=session)\n",
    "num_positive, num_negative=count_positive_and_negative(train_data)\n",
    "scale_pos_weight=math.sqrt(num_negative / num_positive )\n",
    "print(f'num_positive: {num_positive}, num_negative: {num_negative}, scale_pos_weight {scale_pos_weight:.1f}')\n",
    "\n",
    "xgb.set_hyperparameters(max_depth=3,\n",
    "                        eta=0.1,\n",
    "                        gamma=4,\n",
    "                        subsample=0.5,\n",
    "                        eval_metric='aucpr',     \n",
    "                        objective='binary:logistic',\n",
    "                        scale_pos_weight=scale_pos_weight,\n",
    "                        num_round=200, \n",
    "                        silent=0)"
   ]
  },
  {
   "cell_type": "markdown",
   "metadata": {},
   "source": [
    "Run the `fit` training  or hypertuned-training job."
   ]
  },
  {
   "cell_type": "code",
   "execution_count": 18,
   "metadata": {},
   "outputs": [
    {
     "name": "stdout",
     "output_type": "stream",
     "text": [
      "2020-11-21 20:43:47 Starting - Starting the training job...\n",
      "2020-11-21 20:43:49 Starting - Launching requested ML instances......\n",
      "2020-11-21 20:44:53 Starting - Preparing the instances for training...\n",
      "2020-11-21 20:45:47 Downloading - Downloading input data...\n",
      "2020-11-21 20:46:06 Training - Downloading the training image...\n",
      "2020-11-21 20:46:44 Uploading - Uploading generated training model.\u001b[34mINFO:sagemaker-containers:Imported framework sagemaker_xgboost_container.training\u001b[0m\n",
      "\u001b[34mINFO:sagemaker-containers:Failed to parse hyperparameter eval_metric value aucpr to Json.\u001b[0m\n",
      "\u001b[34mReturning the value itself\u001b[0m\n",
      "\u001b[34mINFO:sagemaker-containers:Failed to parse hyperparameter objective value binary:logistic to Json.\u001b[0m\n",
      "\u001b[34mReturning the value itself\u001b[0m\n",
      "\u001b[34mINFO:sagemaker-containers:No GPUs detected (normal if no gpus installed)\u001b[0m\n",
      "\u001b[34mINFO:sagemaker_xgboost_container.training:Running XGBoost Sagemaker in algorithm mode\u001b[0m\n",
      "\u001b[34m[20:46:41] 229x14 matrix with 2345 entries loaded from /opt/ml/input/data/train\u001b[0m\n",
      "\u001b[34m[20:46:41] 64x14 matrix with 656 entries loaded from /opt/ml/input/data/validation\u001b[0m\n",
      "\u001b[34mINFO:root:Single node training.\u001b[0m\n",
      "\u001b[34mINFO:root:Train matrix has 229 rows\u001b[0m\n",
      "\u001b[34mINFO:root:Validation matrix has 64 rows\u001b[0m\n",
      "\u001b[34m[0]#011train-aucpr:0.30971#011validation-aucpr:0.35281\u001b[0m\n",
      "\u001b[34m[1]#011train-aucpr:0.65253#011validation-aucpr:1.00000\u001b[0m\n",
      "\u001b[34m[2]#011train-aucpr:0.91540#011validation-aucpr:1.00000\u001b[0m\n",
      "\u001b[34m[3]#011train-aucpr:1.00000#011validation-aucpr:1.00000\u001b[0m\n",
      "\u001b[34m[4]#011train-aucpr:1.00000#011validation-aucpr:1.00000\u001b[0m\n",
      "\u001b[34m[5]#011train-aucpr:1.00000#011validation-aucpr:1.00000\u001b[0m\n",
      "\u001b[34m[6]#011train-aucpr:1.00000#011validation-aucpr:1.00000\u001b[0m\n",
      "\u001b[34m[7]#011train-aucpr:1.00000#011validation-aucpr:1.00000\u001b[0m\n",
      "\u001b[34m[8]#011train-aucpr:1.00000#011validation-aucpr:0.79727\u001b[0m\n",
      "\u001b[34m[9]#011train-aucpr:1.00000#011validation-aucpr:0.79727\u001b[0m\n",
      "\u001b[34m[10]#011train-aucpr:1.00000#011validation-aucpr:0.79727\u001b[0m\n",
      "\u001b[34m[11]#011train-aucpr:1.00000#011validation-aucpr:0.79727\u001b[0m\n",
      "\u001b[34m[12]#011train-aucpr:1.00000#011validation-aucpr:0.71232\u001b[0m\n",
      "\u001b[34m[13]#011train-aucpr:1.00000#011validation-aucpr:0.71232\u001b[0m\n",
      "\u001b[34m[14]#011train-aucpr:1.00000#011validation-aucpr:0.71232\u001b[0m\n",
      "\u001b[34m[15]#011train-aucpr:1.00000#011validation-aucpr:0.71232\u001b[0m\n",
      "\u001b[34m[16]#011train-aucpr:1.00000#011validation-aucpr:0.71232\u001b[0m\n",
      "\u001b[34m[17]#011train-aucpr:1.00000#011validation-aucpr:0.71232\u001b[0m\n",
      "\u001b[34m[18]#011train-aucpr:1.00000#011validation-aucpr:0.71232\u001b[0m\n",
      "\u001b[34m[19]#011train-aucpr:1.00000#011validation-aucpr:0.79727\u001b[0m\n",
      "\u001b[34m[20]#011train-aucpr:1.00000#011validation-aucpr:0.79727\u001b[0m\n",
      "\u001b[34m[21]#011train-aucpr:1.00000#011validation-aucpr:0.79727\u001b[0m\n",
      "\u001b[34m[22]#011train-aucpr:1.00000#011validation-aucpr:0.79727\u001b[0m\n",
      "\u001b[34m[23]#011train-aucpr:1.00000#011validation-aucpr:0.79727\u001b[0m\n",
      "\u001b[34m[24]#011train-aucpr:1.00000#011validation-aucpr:0.71232\u001b[0m\n",
      "\u001b[34m[25]#011train-aucpr:1.00000#011validation-aucpr:0.71232\u001b[0m\n",
      "\u001b[34m[26]#011train-aucpr:1.00000#011validation-aucpr:0.71232\u001b[0m\n",
      "\u001b[34m[27]#011train-aucpr:1.00000#011validation-aucpr:0.71232\u001b[0m\n",
      "\u001b[34m[28]#011train-aucpr:1.00000#011validation-aucpr:0.79727\u001b[0m\n",
      "\u001b[34m[29]#011train-aucpr:1.00000#011validation-aucpr:0.79727\u001b[0m\n",
      "\u001b[34m[30]#011train-aucpr:1.00000#011validation-aucpr:0.79727\u001b[0m\n",
      "\u001b[34m[31]#011train-aucpr:1.00000#011validation-aucpr:0.79727\u001b[0m\n",
      "\u001b[34m[32]#011train-aucpr:1.00000#011validation-aucpr:0.79727\u001b[0m\n",
      "\u001b[34m[33]#011train-aucpr:1.00000#011validation-aucpr:0.79727\u001b[0m\n",
      "\u001b[34m[34]#011train-aucpr:1.00000#011validation-aucpr:0.71232\u001b[0m\n",
      "\u001b[34m[35]#011train-aucpr:1.00000#011validation-aucpr:0.71232\u001b[0m\n",
      "\u001b[34m[36]#011train-aucpr:1.00000#011validation-aucpr:0.71232\u001b[0m\n",
      "\u001b[34m[37]#011train-aucpr:1.00000#011validation-aucpr:0.71232\u001b[0m\n",
      "\u001b[34m[38]#011train-aucpr:1.00000#011validation-aucpr:0.71232\u001b[0m\n",
      "\u001b[34m[39]#011train-aucpr:1.00000#011validation-aucpr:0.71232\u001b[0m\n",
      "\u001b[34m[40]#011train-aucpr:1.00000#011validation-aucpr:0.71232\u001b[0m\n",
      "\u001b[34m[41]#011train-aucpr:1.00000#011validation-aucpr:0.71232\u001b[0m\n",
      "\u001b[34m[42]#011train-aucpr:1.00000#011validation-aucpr:0.71232\u001b[0m\n",
      "\u001b[34m[43]#011train-aucpr:1.00000#011validation-aucpr:0.71232\u001b[0m\n",
      "\u001b[34m[44]#011train-aucpr:1.00000#011validation-aucpr:0.71232\u001b[0m\n",
      "\u001b[34m[45]#011train-aucpr:1.00000#011validation-aucpr:0.71232\u001b[0m\n",
      "\u001b[34m[46]#011train-aucpr:1.00000#011validation-aucpr:0.71232\u001b[0m\n",
      "\u001b[34m[47]#011train-aucpr:1.00000#011validation-aucpr:0.71232\u001b[0m\n",
      "\u001b[34m[48]#011train-aucpr:1.00000#011validation-aucpr:0.71232\u001b[0m\n",
      "\u001b[34m[49]#011train-aucpr:1.00000#011validation-aucpr:0.71232\u001b[0m\n",
      "\u001b[34m[50]#011train-aucpr:1.00000#011validation-aucpr:0.71232\u001b[0m\n",
      "\u001b[34m[51]#011train-aucpr:1.00000#011validation-aucpr:0.71232\u001b[0m\n",
      "\u001b[34m[52]#011train-aucpr:1.00000#011validation-aucpr:0.71232\u001b[0m\n",
      "\u001b[34m[53]#011train-aucpr:1.00000#011validation-aucpr:0.71232\u001b[0m\n",
      "\u001b[34m[54]#011train-aucpr:1.00000#011validation-aucpr:0.71232\u001b[0m\n",
      "\u001b[34m[55]#011train-aucpr:1.00000#011validation-aucpr:0.71232\u001b[0m\n",
      "\u001b[34m[56]#011train-aucpr:1.00000#011validation-aucpr:0.71232\u001b[0m\n",
      "\u001b[34m[57]#011train-aucpr:1.00000#011validation-aucpr:0.71232\u001b[0m\n",
      "\u001b[34m[58]#011train-aucpr:1.00000#011validation-aucpr:0.71232\u001b[0m\n",
      "\u001b[34m[59]#011train-aucpr:1.00000#011validation-aucpr:0.71232\u001b[0m\n",
      "\u001b[34m[60]#011train-aucpr:1.00000#011validation-aucpr:0.71232\u001b[0m\n",
      "\u001b[34m[61]#011train-aucpr:1.00000#011validation-aucpr:0.71232\u001b[0m\n",
      "\u001b[34m[62]#011train-aucpr:1.00000#011validation-aucpr:0.71232\u001b[0m\n",
      "\u001b[34m[63]#011train-aucpr:1.00000#011validation-aucpr:0.71232\u001b[0m\n",
      "\u001b[34m[64]#011train-aucpr:1.00000#011validation-aucpr:0.71232\u001b[0m\n",
      "\u001b[34m[65]#011train-aucpr:1.00000#011validation-aucpr:0.71232\u001b[0m\n",
      "\u001b[34m[66]#011train-aucpr:1.00000#011validation-aucpr:0.71232\u001b[0m\n",
      "\u001b[34m[67]#011train-aucpr:1.00000#011validation-aucpr:0.71232\u001b[0m\n",
      "\u001b[34m[68]#011train-aucpr:1.00000#011validation-aucpr:0.71232\u001b[0m\n",
      "\u001b[34m[69]#011train-aucpr:1.00000#011validation-aucpr:0.71232\u001b[0m\n",
      "\u001b[34m[70]#011train-aucpr:1.00000#011validation-aucpr:0.71232\u001b[0m\n",
      "\u001b[34m[71]#011train-aucpr:1.00000#011validation-aucpr:0.71232\u001b[0m\n",
      "\u001b[34m[72]#011train-aucpr:1.00000#011validation-aucpr:0.71232\u001b[0m\n",
      "\u001b[34m[73]#011train-aucpr:1.00000#011validation-aucpr:0.71232\u001b[0m\n",
      "\u001b[34m[74]#011train-aucpr:1.00000#011validation-aucpr:0.71232\u001b[0m\n",
      "\u001b[34m[75]#011train-aucpr:1.00000#011validation-aucpr:0.71232\u001b[0m\n",
      "\u001b[34m[76]#011train-aucpr:1.00000#011validation-aucpr:0.71232\u001b[0m\n",
      "\u001b[34m[77]#011train-aucpr:1.00000#011validation-aucpr:0.71232\u001b[0m\n",
      "\u001b[34m[78]#011train-aucpr:1.00000#011validation-aucpr:0.71232\u001b[0m\n",
      "\u001b[34m[79]#011train-aucpr:1.00000#011validation-aucpr:0.71232\u001b[0m\n",
      "\u001b[34m[80]#011train-aucpr:1.00000#011validation-aucpr:0.71232\u001b[0m\n",
      "\u001b[34m[81]#011train-aucpr:1.00000#011validation-aucpr:0.71232\u001b[0m\n",
      "\u001b[34m[82]#011train-aucpr:1.00000#011validation-aucpr:0.71232\u001b[0m\n",
      "\u001b[34m[83]#011train-aucpr:1.00000#011validation-aucpr:0.71232\u001b[0m\n",
      "\u001b[34m[84]#011train-aucpr:1.00000#011validation-aucpr:0.71232\u001b[0m\n",
      "\u001b[34m[85]#011train-aucpr:1.00000#011validation-aucpr:0.71232\u001b[0m\n",
      "\u001b[34m[86]#011train-aucpr:1.00000#011validation-aucpr:0.71232\u001b[0m\n",
      "\u001b[34m[87]#011train-aucpr:1.00000#011validation-aucpr:0.71232\u001b[0m\n",
      "\u001b[34m[88]#011train-aucpr:1.00000#011validation-aucpr:0.71232\u001b[0m\n",
      "\u001b[34m[89]#011train-aucpr:1.00000#011validation-aucpr:0.71232\u001b[0m\n",
      "\u001b[34m[90]#011train-aucpr:1.00000#011validation-aucpr:0.71232\u001b[0m\n",
      "\u001b[34m[91]#011train-aucpr:1.00000#011validation-aucpr:0.71232\u001b[0m\n",
      "\u001b[34m[92]#011train-aucpr:1.00000#011validation-aucpr:0.71232\u001b[0m\n",
      "\u001b[34m[93]#011train-aucpr:1.00000#011validation-aucpr:0.71232\u001b[0m\n",
      "\u001b[34m[94]#011train-aucpr:1.00000#011validation-aucpr:0.71232\u001b[0m\n",
      "\u001b[34m[95]#011train-aucpr:1.00000#011validation-aucpr:0.71232\u001b[0m\n",
      "\u001b[34m[96]#011train-aucpr:1.00000#011validation-aucpr:0.71232\u001b[0m\n",
      "\u001b[34m[97]#011train-aucpr:1.00000#011validation-aucpr:0.71232\u001b[0m\n",
      "\u001b[34m[98]#011train-aucpr:1.00000#011validation-aucpr:0.71232\u001b[0m\n",
      "\u001b[34m[99]#011train-aucpr:1.00000#011validation-aucpr:0.71232\u001b[0m\n",
      "\u001b[34m[100]#011train-aucpr:1.00000#011validation-aucpr:0.71232\u001b[0m\n",
      "\u001b[34m[101]#011train-aucpr:1.00000#011validation-aucpr:0.71232\u001b[0m\n",
      "\u001b[34m[102]#011train-aucpr:1.00000#011validation-aucpr:0.71232\u001b[0m\n",
      "\u001b[34m[103]#011train-aucpr:1.00000#011validation-aucpr:0.71232\u001b[0m\n",
      "\u001b[34m[104]#011train-aucpr:1.00000#011validation-aucpr:0.71232\u001b[0m\n",
      "\u001b[34m[105]#011train-aucpr:1.00000#011validation-aucpr:0.71232\u001b[0m\n",
      "\u001b[34m[106]#011train-aucpr:1.00000#011validation-aucpr:0.71232\u001b[0m\n",
      "\u001b[34m[107]#011train-aucpr:1.00000#011validation-aucpr:0.71232\u001b[0m\n",
      "\u001b[34m[108]#011train-aucpr:1.00000#011validation-aucpr:0.71232\u001b[0m\n",
      "\u001b[34m[109]#011train-aucpr:1.00000#011validation-aucpr:0.71232\u001b[0m\n",
      "\u001b[34m[110]#011train-aucpr:1.00000#011validation-aucpr:0.71232\u001b[0m\n",
      "\u001b[34m[111]#011train-aucpr:1.00000#011validation-aucpr:0.71232\u001b[0m\n",
      "\u001b[34m[112]#011train-aucpr:1.00000#011validation-aucpr:0.71232\u001b[0m\n",
      "\u001b[34m[113]#011train-aucpr:1.00000#011validation-aucpr:0.71232\u001b[0m\n",
      "\u001b[34m[114]#011train-aucpr:1.00000#011validation-aucpr:0.71232\u001b[0m\n",
      "\u001b[34m[115]#011train-aucpr:1.00000#011validation-aucpr:0.71232\u001b[0m\n",
      "\u001b[34m[116]#011train-aucpr:1.00000#011validation-aucpr:0.71232\u001b[0m\n",
      "\u001b[34m[117]#011train-aucpr:1.00000#011validation-aucpr:0.71232\u001b[0m\n",
      "\u001b[34m[118]#011train-aucpr:1.00000#011validation-aucpr:0.71232\u001b[0m\n",
      "\u001b[34m[119]#011train-aucpr:1.00000#011validation-aucpr:0.71232\u001b[0m\n",
      "\u001b[34m[120]#011train-aucpr:1.00000#011validation-aucpr:0.71232\u001b[0m\n",
      "\u001b[34m[121]#011train-aucpr:1.00000#011validation-aucpr:0.71232\u001b[0m\n",
      "\u001b[34m[122]#011train-aucpr:1.00000#011validation-aucpr:0.71232\u001b[0m\n",
      "\u001b[34m[123]#011train-aucpr:1.00000#011validation-aucpr:0.71232\u001b[0m\n",
      "\u001b[34m[124]#011train-aucpr:1.00000#011validation-aucpr:0.71232\u001b[0m\n",
      "\u001b[34m[125]#011train-aucpr:1.00000#011validation-aucpr:0.71232\u001b[0m\n",
      "\u001b[34m[126]#011train-aucpr:1.00000#011validation-aucpr:0.71232\u001b[0m\n",
      "\u001b[34m[127]#011train-aucpr:1.00000#011validation-aucpr:0.71232\u001b[0m\n",
      "\u001b[34m[128]#011train-aucpr:1.00000#011validation-aucpr:0.71232\u001b[0m\n",
      "\u001b[34m[129]#011train-aucpr:1.00000#011validation-aucpr:0.71232\u001b[0m\n",
      "\u001b[34m[130]#011train-aucpr:1.00000#011validation-aucpr:0.71232\u001b[0m\n",
      "\u001b[34m[131]#011train-aucpr:1.00000#011validation-aucpr:0.71232\u001b[0m\n",
      "\u001b[34m[132]#011train-aucpr:1.00000#011validation-aucpr:0.71232\u001b[0m\n",
      "\u001b[34m[133]#011train-aucpr:1.00000#011validation-aucpr:0.71232\u001b[0m\n",
      "\u001b[34m[134]#011train-aucpr:1.00000#011validation-aucpr:0.71232\u001b[0m\n",
      "\u001b[34m[135]#011train-aucpr:1.00000#011validation-aucpr:0.71232\u001b[0m\n",
      "\u001b[34m[136]#011train-aucpr:1.00000#011validation-aucpr:0.71232\u001b[0m\n",
      "\u001b[34m[137]#011train-aucpr:1.00000#011validation-aucpr:0.71232\u001b[0m\n",
      "\u001b[34m[138]#011train-aucpr:1.00000#011validation-aucpr:0.71232\u001b[0m\n",
      "\u001b[34m[139]#011train-aucpr:1.00000#011validation-aucpr:0.71232\u001b[0m\n",
      "\u001b[34m[140]#011train-aucpr:1.00000#011validation-aucpr:0.71232\u001b[0m\n",
      "\u001b[34m[141]#011train-aucpr:1.00000#011validation-aucpr:0.71232\u001b[0m\n",
      "\u001b[34m[142]#011train-aucpr:1.00000#011validation-aucpr:0.71232\u001b[0m\n",
      "\u001b[34m[143]#011train-aucpr:1.00000#011validation-aucpr:0.71232\u001b[0m\n",
      "\u001b[34m[144]#011train-aucpr:1.00000#011validation-aucpr:0.71232\u001b[0m\n",
      "\u001b[34m[145]#011train-aucpr:1.00000#011validation-aucpr:0.71232\u001b[0m\n",
      "\u001b[34m[146]#011train-aucpr:1.00000#011validation-aucpr:0.71232\u001b[0m\n",
      "\u001b[34m[147]#011train-aucpr:1.00000#011validation-aucpr:0.71232\u001b[0m\n",
      "\u001b[34m[148]#011train-aucpr:1.00000#011validation-aucpr:0.71232\u001b[0m\n",
      "\u001b[34m[149]#011train-aucpr:1.00000#011validation-aucpr:0.71232\u001b[0m\n",
      "\u001b[34m[150]#011train-aucpr:1.00000#011validation-aucpr:0.71232\u001b[0m\n",
      "\u001b[34m[151]#011train-aucpr:1.00000#011validation-aucpr:0.71232\u001b[0m\n",
      "\u001b[34m[152]#011train-aucpr:1.00000#011validation-aucpr:0.71232\u001b[0m\n",
      "\u001b[34m[153]#011train-aucpr:1.00000#011validation-aucpr:0.71232\u001b[0m\n",
      "\u001b[34m[154]#011train-aucpr:1.00000#011validation-aucpr:0.71232\u001b[0m\n",
      "\u001b[34m[155]#011train-aucpr:1.00000#011validation-aucpr:0.71232\u001b[0m\n",
      "\u001b[34m[156]#011train-aucpr:1.00000#011validation-aucpr:0.71232\u001b[0m\n",
      "\u001b[34m[157]#011train-aucpr:1.00000#011validation-aucpr:0.71232\u001b[0m\n",
      "\u001b[34m[158]#011train-aucpr:1.00000#011validation-aucpr:0.71232\u001b[0m\n",
      "\u001b[34m[159]#011train-aucpr:1.00000#011validation-aucpr:0.71232\u001b[0m\n",
      "\u001b[34m[160]#011train-aucpr:1.00000#011validation-aucpr:0.71232\u001b[0m\n",
      "\u001b[34m[161]#011train-aucpr:1.00000#011validation-aucpr:0.71232\u001b[0m\n",
      "\u001b[34m[162]#011train-aucpr:1.00000#011validation-aucpr:0.71232\u001b[0m\n",
      "\u001b[34m[163]#011train-aucpr:1.00000#011validation-aucpr:0.71232\u001b[0m\n",
      "\u001b[34m[164]#011train-aucpr:1.00000#011validation-aucpr:0.71232\u001b[0m\n",
      "\u001b[34m[165]#011train-aucpr:1.00000#011validation-aucpr:0.71232\u001b[0m\n",
      "\u001b[34m[166]#011train-aucpr:1.00000#011validation-aucpr:0.71232\u001b[0m\n",
      "\u001b[34m[167]#011train-aucpr:1.00000#011validation-aucpr:0.71232\u001b[0m\n",
      "\u001b[34m[168]#011train-aucpr:1.00000#011validation-aucpr:0.71232\u001b[0m\n",
      "\u001b[34m[169]#011train-aucpr:1.00000#011validation-aucpr:0.71232\u001b[0m\n",
      "\u001b[34m[170]#011train-aucpr:1.00000#011validation-aucpr:0.71232\u001b[0m\n",
      "\u001b[34m[171]#011train-aucpr:1.00000#011validation-aucpr:0.71232\u001b[0m\n",
      "\u001b[34m[172]#011train-aucpr:1.00000#011validation-aucpr:0.71232\u001b[0m\n",
      "\u001b[34m[173]#011train-aucpr:1.00000#011validation-aucpr:0.71232\u001b[0m\n",
      "\u001b[34m[174]#011train-aucpr:1.00000#011validation-aucpr:0.71232\u001b[0m\n",
      "\u001b[34m[175]#011train-aucpr:1.00000#011validation-aucpr:0.71232\u001b[0m\n",
      "\u001b[34m[176]#011train-aucpr:1.00000#011validation-aucpr:0.71232\u001b[0m\n",
      "\u001b[34m[177]#011train-aucpr:1.00000#011validation-aucpr:0.71232\u001b[0m\n",
      "\u001b[34m[178]#011train-aucpr:1.00000#011validation-aucpr:0.71232\u001b[0m\n",
      "\u001b[34m[179]#011train-aucpr:1.00000#011validation-aucpr:0.71232\u001b[0m\n",
      "\u001b[34m[180]#011train-aucpr:1.00000#011validation-aucpr:0.71232\u001b[0m\n",
      "\u001b[34m[181]#011train-aucpr:1.00000#011validation-aucpr:0.71232\u001b[0m\n",
      "\u001b[34m[182]#011train-aucpr:1.00000#011validation-aucpr:0.71232\u001b[0m\n",
      "\u001b[34m[183]#011train-aucpr:1.00000#011validation-aucpr:0.71232\u001b[0m\n",
      "\u001b[34m[184]#011train-aucpr:1.00000#011validation-aucpr:0.71232\u001b[0m\n",
      "\u001b[34m[185]#011train-aucpr:1.00000#011validation-aucpr:0.71232\u001b[0m\n",
      "\u001b[34m[186]#011train-aucpr:1.00000#011validation-aucpr:0.71232\u001b[0m\n",
      "\u001b[34m[187]#011train-aucpr:1.00000#011validation-aucpr:0.71232\u001b[0m\n",
      "\u001b[34m[188]#011train-aucpr:1.00000#011validation-aucpr:0.71232\u001b[0m\n",
      "\u001b[34m[189]#011train-aucpr:1.00000#011validation-aucpr:0.71232\u001b[0m\n",
      "\u001b[34m[190]#011train-aucpr:1.00000#011validation-aucpr:0.71232\u001b[0m\n",
      "\u001b[34m[191]#011train-aucpr:1.00000#011validation-aucpr:0.71232\u001b[0m\n",
      "\u001b[34m[192]#011train-aucpr:1.00000#011validation-aucpr:0.71232\u001b[0m\n",
      "\u001b[34m[193]#011train-aucpr:1.00000#011validation-aucpr:0.71232\u001b[0m\n",
      "\u001b[34m[194]#011train-aucpr:1.00000#011validation-aucpr:0.71232\u001b[0m\n",
      "\u001b[34m[195]#011train-aucpr:1.00000#011validation-aucpr:0.71232\u001b[0m\n",
      "\u001b[34m[196]#011train-aucpr:1.00000#011validation-aucpr:0.71232\u001b[0m\n",
      "\u001b[34m[197]#011train-aucpr:1.00000#011validation-aucpr:0.71232\u001b[0m\n",
      "\u001b[34m[198]#011train-aucpr:1.00000#011validation-aucpr:0.71232\u001b[0m\n",
      "\u001b[34m[199]#011train-aucpr:1.00000#011validation-aucpr:0.71232\u001b[0m\n",
      "\n",
      "2020-11-21 20:46:52 Completed - Training job completed\n",
      "Training seconds: 65\n",
      "Billable seconds: 65\n",
      "CPU times: user 442 ms, sys: 47 ms, total: 489 ms\n",
      "Wall time: 3min 42s\n"
     ]
    }
   ],
   "source": [
    "%%time\n",
    "hypertune = False\n",
    "import pprint\n",
    "\n",
    "if not hypertune:\n",
    "    result = xgb.fit({'train': s3_input_train, 'validation': s3_input_validation})\n",
    "    training_job_name = xgb._current_job_name\n",
    "else:\n",
    "    import time\n",
    "\n",
    "    from sagemaker.tuner import IntegerParameter, CategoricalParameter, ContinuousParameter, HyperparameterTuner\n",
    "    hyperparameter_ranges = {'eta': ContinuousParameter(0, 1),\n",
    "                            'min_child_weight': ContinuousParameter(1, 10),\n",
    "                            'alpha': ContinuousParameter(0, 2),\n",
    "                            'max_depth': IntegerParameter(1, 10)}\n",
    "\n",
    "\n",
    "    objective_metric_name = 'validation:f1'\n",
    "\n",
    "    tuner = HyperparameterTuner(xgb,\n",
    "                            objective_metric_name,\n",
    "                            hyperparameter_ranges,\n",
    "                            max_jobs=10, \n",
    "                            base_tuning_job_name='hypertune',\n",
    "                            max_parallel_jobs=10)\n",
    "    \n",
    "    print('Starting hypertuning job')\n",
    "    tuner.fit({'train': s3_input_train, 'validation': s3_input_validation}, include_cls_metadata=False, wait=False)\n",
    "    print('Started hypertuning job', tuner.latest_tuning_job.job_name)\n",
    "\n",
    "    counter = 0\n",
    "    status = 'InProgress'\n",
    "    while status == 'InProgress':\n",
    "        tuning_job_result=boto3.client('sagemaker').describe_hyper_parameter_tuning_job(\n",
    "           HyperParameterTuningJobName=tuner.latest_tuning_job.job_name)\n",
    "        counter += 0.5\n",
    "        time.sleep(30)   \n",
    "        status = tuning_job_result['HyperParameterTuningJobStatus']\n",
    "        print(f'{counter} min., {status};', end=' ')\n",
    "        \n",
    "    if 'BestTrainingJob' in tuning_job_result:\n",
    "       training_job_name = tuning_job_result['BestTrainingJob']['TrainingJobName']\n",
    "    else:\n",
    "       raise Exception(f'No best job identified {tuning_job_result}')\n"
   ]
  },
  {
   "cell_type": "markdown",
   "metadata": {},
   "source": [
    "---\n",
    "## Host\n",
    "\n",
    "Deploy the trained model to an endpoint."
   ]
  },
  {
   "cell_type": "code",
   "execution_count": 19,
   "metadata": {},
   "outputs": [
    {
     "name": "stdout",
     "output_type": "stream",
     "text": [
      "s3://sagemaker-jfox/sagemaker/xgboost/output/fraud-detection-job-2020-11-21-20-43-47-138/output/model.tar.gz\n",
      "0.5 min: Updating endpoint; 1.0 min: Updating endpoint; 1.5 min: Updating endpoint; 2.0 min: Updating endpoint; 2.5 min: Updating endpoint; 3.0 min: Updating endpoint; 3.5 min: Updating endpoint; 4.0 min: Updating endpoint; 4.5 min: Updating endpoint; 5.0 min: Updating endpoint; 5.5 min: Updating endpoint; 6.0 min: Updating endpoint; 6.5 min: Updating endpoint; 7.0 min: InService endpoint; \n",
      "Finished creating or updating endpoint\n"
     ]
    }
   ],
   "source": [
    "import datetime \n",
    "import time\n",
    "\n",
    "endpoint_name = 'fraud-detect-endpoint'\n",
    "model_name = training_job_name + '-model'\n",
    "\n",
    "info = session.describe_training_job(training_job_name)\n",
    "model_data = info['ModelArtifacts']['S3ModelArtifacts']\n",
    "print(model_data)\n",
    "\n",
    "primary_container = {\n",
    "  'Image': container,\n",
    "  'ModelDataUrl': model_data\n",
    "}\n",
    "\n",
    "create_model_response = session.create_model(\n",
    "      name = model_name,\n",
    "      role = role,\n",
    "      container_defs = primary_container)\n",
    "\n",
    "\n",
    "endpoint_config_name = session.create_endpoint_config(name=endpoint_name + '-config-' + datetime.datetime.now().strftime('%m%d-%H%M%S'),\n",
    "                                              model_name=model_name,\n",
    "                                              initial_instance_count=1,\n",
    "                                              instance_type='ml.m5.xlarge',\n",
    "                                              accelerator_type='ml.eia2.medium')\n",
    "\n",
    "client = boto3.client('sagemaker')\n",
    "counter = 0\n",
    "try_now = True\n",
    "while try_now:\n",
    "  counter += 0.5\n",
    "  try:\n",
    "     updated_endpoint = client.update_endpoint(EndpointName=endpoint_name, EndpointConfigName=endpoint_config_name)\n",
    "     try_now = False\n",
    "  except Exception as e:\n",
    "     if 'Could not find endpoint'  in str(e):\n",
    "        print('Could not find endpoint; Trying to create')\n",
    "        updated_endpoint=client.create_endpoint(EndpointName=endpoint_name, EndpointConfigName=endpoint_config_name)\n",
    "        try_now = False\n",
    "     elif 'Cannot update in-progress endpoint' in str(e):\n",
    "        print(f'{counter} min: Cannot update in-progress endpoint; retrying', end='. ')\n",
    "        time.sleep(30)\n",
    "        try_now = True\n",
    "     else:  \n",
    "        raise e\n",
    "\n",
    "endpt_status = 'Updating'\n",
    "counter = 0 \n",
    "while endpt_status in ['Updating', 'Creating']:\n",
    "    counter += 0.5\n",
    "    endpt_status = client.describe_endpoint(EndpointName=endpoint_name)['EndpointStatus']\n",
    "    print(f'{counter} min: {endpt_status} endpoint; ',end='')\n",
    "    time.sleep(30)\n",
    "\n",
    "print('\\nFinished creating or updating endpoint')"
   ]
  },
  {
   "cell_type": "code",
   "execution_count": 37,
   "metadata": {},
   "outputs": [],
   "source": [
    "from sagemaker.predictor import csv_serializer\n",
    "from sagemaker.serializers import LibSVMSerializer\n",
    "\n",
    "\n",
    "xgb_predictor = sagemaker.predictor.Predictor(\n",
    "    endpoint_name=endpoint_name, \n",
    "    serializer=LibSVMSerializer(),\n",
    "    sagemaker_session=sagemaker.Session()\n",
    ")\n"
   ]
  },
  {
   "cell_type": "markdown",
   "metadata": {},
   "source": [
    "---\n",
    "\n",
    "## Evaluation\n",
    "\n",
    "Now that we have our hosted endpoint, we can generate predictions from  the  test data set.\n",
    "\n",
    "Compared actual to predicted values of whether the transaction was a \"fraud\" (`1`) or not (`0`).  Then we'll produce a  confusion matrix."
   ]
  },
  {
   "cell_type": "code",
   "execution_count": 38,
   "metadata": {},
   "outputs": [],
   "source": [
    "def batch_predict(data, batch_size):\n",
    "\n",
    "    def do_predict(data):\n",
    "       payload = '\\n'.join(data)\n",
    "       response = xgb_predictor.predict(payload).decode('utf-8')\n",
    "       result = response.split(',')\n",
    "       preds = [float(num) for num in result]\n",
    "       preds = [round(num) for num in preds]\n",
    "       return preds\n",
    "\n",
    "    items = len(data)\n",
    "    arrs = []\n",
    "    \n",
    "    for offset in range(0, items, batch_size):\n",
    "        if offset+batch_size < items:\n",
    "            results = do_predict(data[offset:(offset+batch_size)])\n",
    "            arrs.extend(results)\n",
    "        else:\n",
    "            arrs.extend(do_predict(data[offset:items]))\n",
    "        sys.stdout.write('.')\n",
    "    return(arrs)"
   ]
  },
  {
   "cell_type": "code",
   "execution_count": 39,
   "metadata": {},
   "outputs": [
    {
     "name": "stdout",
     "output_type": "stream",
     "text": [
      ".CPU times: user 12 ms, sys: 0 ns, total: 12 ms\n",
      "Wall time: 69.3 ms\n"
     ]
    }
   ],
   "source": [
    "%%time\n",
    "import json\n",
    "\n",
    "with open('test.libsvm', 'r') as f:\n",
    "    payload = f.read().strip()\n",
    "\n",
    "labels_ml = [int(line.split(' ')[0]) for line in payload.split('\\n')]\n",
    "\n",
    "test_data_input_for_ml = [line for line in payload.split('\\n')]\n",
    "preds_ml = batch_predict(test_data_input_for_ml, 100)"
   ]
  },
  {
   "cell_type": "code",
   "execution_count": 44,
   "metadata": {},
   "outputs": [],
   "source": [
    "labels_rule_based = list(test_data_for_rules[target_col])\n",
    "unexpected_pos = [lbl for lbl in labels_rule_based if lbl!=0 ]\n",
    "assert 0 == len(unexpected_pos), 'Expect all to be negative for these \"types\"'\n",
    "preds_rule_based = labels_rule_based.copy()"
   ]
  },
  {
   "cell_type": "code",
   "execution_count": 45,
   "metadata": {},
   "outputs": [],
   "source": [
    "labels_all = labels_ml + labels_rule_based\n",
    "preds_all = preds_ml + preds_rule_based"
   ]
  },
  {
   "cell_type": "code",
   "execution_count": 60,
   "metadata": {},
   "outputs": [
    {
     "name": "stdout",
     "output_type": "stream",
     "text": [
      "ML-based metrics\n",
      "n = 36\n",
      "true_pos 0 false_pos 1\n",
      "true_neg 34 false_neg 1\n",
      "Recall = 0.00\n",
      "Precision = 0.00\n",
      "F1 = inf\n",
      "Error rate = 0.06\n",
      "Full  metrics\n",
      "n = 100\n",
      "true_pos 0 false_pos 1\n",
      "true_neg 98 false_neg 1\n",
      "Recall = 0.00\n",
      "Precision = 0.00\n",
      "F1 = inf\n",
      "Error rate = 0.02\n"
     ]
    }
   ],
   "source": [
    "def metrics(labels_, predictions):\n",
    "    assert len(labels_)==len(predictions)\n",
    "    \n",
    "    print(f'n = {len(labels_)}')\n",
    "   \n",
    "    actual_pos = sum(1 for i in range(len(labels_)) if 1 == labels_[i])\n",
    "    actual_neg = sum(1 for i in range(len(labels_)) if 0 == labels_[i])\n",
    "\n",
    "    pred_pos = sum(1 for i in range(len(predictions)) if 1 == predictions[i])\n",
    "    pred_neg = sum(1 for i in range(len(predictions)) if 0 == predictions[i])\n",
    "\n",
    "    true_pos = sum(1 for i in range(len(predictions)) if predictions[i] == 1 == labels_[i])\n",
    "    true_neg = sum(1 for i in range(len(predictions)) if predictions[i] == 0 == labels_[i])\n",
    "\n",
    "    false_pos=sum(1 for i in range(len(predictions)) if predictions[i] == 1 and 0 == labels_[i])\n",
    "    false_neg=sum(1 for i in range(len(predictions)) if predictions[i] == 0 and 1 == labels_[i])\n",
    "    print('true_pos', true_pos, 'false_pos', false_pos)\n",
    "    print('true_neg', true_neg, 'false_neg', false_neg)\n",
    "\n",
    "    assert  true_pos+false_pos == pred_pos\n",
    "   \n",
    "    recall = true_pos / (true_pos + false_neg)\n",
    "    print(f'Recall = {recall:.2f}')\n",
    "    precision = true_pos / (true_pos + false_pos)\n",
    "\n",
    "    print(f'Precision = {precision:.2f}')\n",
    "    if precision+recall == 0:\n",
    "        f1=float('inf')\n",
    "    else:\n",
    "        f1 = (2 * precision * recall) / (precision + recall)\n",
    "        \n",
    "    print(f'F1 = {f1:.2f}')\n",
    "    error = sum(1 for i in range(len(predictions)) if predictions[i] != labels_[i]) / float(len(predictions))\n",
    "    print(f'Error rate = {error:.2f}')\n",
    "\n",
    "    assert recall <= f1 <= precision or precision <= f1 <= recall  or precision==recall==0\n",
    "    assert true_pos + false_neg == actual_pos\n",
    "    assert true_neg + false_pos == actual_neg\n",
    "    #print('pred_pos', pred_pos,'pred_neg', pred_neg)\n",
    "\n",
    "    assert len(predictions)==len(labels_)\n",
    "\n",
    "    #print(len(predictions), 'predictions and labels_')\n",
    "\n",
    "    #print('actual_pos', actual_pos, 'actual_neg', actual_neg)\n",
    "    assert actual_pos + actual_neg==len(labels_)\n",
    "\n",
    "\n",
    "    #print('true_neg', true_neg, 'false_neg', false_neg )\n",
    "    assert true_neg + false_neg== pred_neg\n",
    "\n",
    "    #print('pred_pos+pred_neg',pred_pos+pred_neg)\n",
    "    assert pred_pos + pred_neg==len(predictions)\n",
    " \n",
    "\n",
    "\n",
    "\n",
    "print('ML-based metrics')\n",
    "metrics(labels_ml, preds_ml)\n",
    "print('Full  metrics') \n",
    "metrics(labels_all, preds_all)\n"
   ]
  },
  {
   "cell_type": "markdown",
   "metadata": {},
   "source": [
    "Show confusion matrix."
   ]
  },
  {
   "cell_type": "code",
   "execution_count": null,
   "metadata": {},
   "outputs": [],
   "source": [
    "pd.crosstab(index=np.array(labels_all), columns=np.array(preds_all), rownames=['actual fraud'],  colnames=['predicted as fraud'])"
   ]
  },
  {
   "cell_type": "markdown",
   "metadata": {},
   "source": []
  },
  {
   "cell_type": "markdown",
   "metadata": {},
   "source": [
    " "
   ]
  },
  {
   "cell_type": "markdown",
   "metadata": {},
   "source": [
    "Clean up to save money"
   ]
  },
  {
   "cell_type": "code",
   "execution_count": null,
   "metadata": {},
   "outputs": [],
   "source": [
    "#session.delete_endpoint(xgb_predictor.endpoint)"
   ]
  },
  {
   "cell_type": "code",
   "execution_count": null,
   "metadata": {},
   "outputs": [],
   "source": []
  }
 ],
 "metadata": {
  "kernelspec": {
   "display_name": "conda_python3",
   "language": "python",
   "name": "conda_python3"
  },
  "language_info": {
   "codemirror_mode": {
    "name": "ipython",
    "version": 3
   },
   "file_extension": ".py",
   "mimetype": "text/x-python",
   "name": "python",
   "nbconvert_exporter": "python",
   "pygments_lexer": "ipython3",
   "version": "3.6.10"
  },
  "notice": "Copyright 2017 Amazon.com, Inc. or its affiliates. All Rights Reserved.  Licensed under the Apache License, Version 2.0 (the \"License\"). You may not use this file except in compliance with the License. A copy of the License is located at http://aws.amazon.com/apache2.0/ or in the \"license\" file accompanying this file. This file is distributed on an \"AS IS\" BASIS, WITHOUT WARRANTIES OR CONDITIONS OF ANY KIND, either express or implied. See the License for the specific language governing permissions and limitations under the License."
 },
 "nbformat": 4,
 "nbformat_minor": 4
}
