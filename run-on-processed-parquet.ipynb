{
 "cells": [
  {
   "cell_type": "code",
   "execution_count": 1,
   "metadata": {},
   "outputs": [
    {
     "name": "stdout",
     "output_type": "stream",
     "text": [
      "Starting at 2020-11-19 20:06:51.569904\n",
      "Requirement already satisfied: numpy in /home/ec2-user/anaconda3/envs/python3/lib/python3.6/site-packages (from -r requirements.txt (line 1)) (1.18.1)\n",
      "Requirement already satisfied: pandas in /home/ec2-user/anaconda3/envs/python3/lib/python3.6/site-packages (from -r requirements.txt (line 2)) (1.0.1)\n",
      "Requirement already satisfied: matplotlib in /home/ec2-user/anaconda3/envs/python3/lib/python3.6/site-packages (from -r requirements.txt (line 3)) (3.1.3)\n",
      "Requirement already satisfied: jupyter in /home/ec2-user/anaconda3/envs/python3/lib/python3.6/site-packages (from -r requirements.txt (line 4)) (1.0.0)\n",
      "Requirement already satisfied: boto3 in /home/ec2-user/anaconda3/envs/python3/lib/python3.6/site-packages (from -r requirements.txt (line 5)) (1.16.9)\n",
      "Requirement already satisfied: sagemaker in /home/ec2-user/anaconda3/envs/python3/lib/python3.6/site-packages (from -r requirements.txt (line 6)) (2.16.1)\n",
      "Collecting scikit-learn==0.23.1\n",
      "  Downloading scikit_learn-0.23.1-cp36-cp36m-manylinux1_x86_64.whl (6.8 MB)\n",
      "\u001b[K     |████████████████████████████████| 6.8 MB 10.4 MB/s eta 0:00:01\n",
      "\u001b[?25hCollecting imbalanced-learn\n",
      "  Downloading imbalanced_learn-0.7.0-py3-none-any.whl (167 kB)\n",
      "\u001b[K     |████████████████████████████████| 167 kB 63.8 MB/s eta 0:00:01\n",
      "\u001b[?25hCollecting category_encoders\n",
      "  Downloading category_encoders-2.2.2-py2.py3-none-any.whl (80 kB)\n",
      "\u001b[K     |████████████████████████████████| 80 kB 17.3 MB/s eta 0:00:01\n",
      "\u001b[?25hRequirement already satisfied: seaborn in /home/ec2-user/anaconda3/envs/python3/lib/python3.6/site-packages (from -r requirements.txt (line 10)) (0.10.0)\n",
      "Collecting pyarrow\n",
      "  Downloading pyarrow-2.0.0-cp36-cp36m-manylinux2014_x86_64.whl (17.7 MB)\n",
      "\u001b[K     |████████████████████████████████| 17.7 MB 62.6 MB/s eta 0:00:01\n",
      "\u001b[?25hRequirement already satisfied: pytz>=2017.2 in /home/ec2-user/anaconda3/envs/python3/lib/python3.6/site-packages (from pandas->-r requirements.txt (line 2)) (2019.3)\n",
      "Requirement already satisfied: python-dateutil>=2.6.1 in /home/ec2-user/anaconda3/envs/python3/lib/python3.6/site-packages (from pandas->-r requirements.txt (line 2)) (2.8.1)\n",
      "Requirement already satisfied: pyparsing!=2.0.4,!=2.1.2,!=2.1.6,>=2.0.1 in /home/ec2-user/anaconda3/envs/python3/lib/python3.6/site-packages (from matplotlib->-r requirements.txt (line 3)) (2.4.6)\n",
      "Requirement already satisfied: kiwisolver>=1.0.1 in /home/ec2-user/anaconda3/envs/python3/lib/python3.6/site-packages (from matplotlib->-r requirements.txt (line 3)) (1.1.0)\n",
      "Requirement already satisfied: cycler>=0.10 in /home/ec2-user/anaconda3/envs/python3/lib/python3.6/site-packages (from matplotlib->-r requirements.txt (line 3)) (0.10.0)\n",
      "Requirement already satisfied: nbconvert in /home/ec2-user/anaconda3/envs/python3/lib/python3.6/site-packages (from jupyter->-r requirements.txt (line 4)) (5.6.1)\n",
      "Requirement already satisfied: notebook in /home/ec2-user/anaconda3/envs/python3/lib/python3.6/site-packages (from jupyter->-r requirements.txt (line 4)) (6.0.3)\n",
      "Requirement already satisfied: ipywidgets in /home/ec2-user/anaconda3/envs/python3/lib/python3.6/site-packages (from jupyter->-r requirements.txt (line 4)) (7.5.1)\n",
      "Requirement already satisfied: jupyter-console in /home/ec2-user/anaconda3/envs/python3/lib/python3.6/site-packages (from jupyter->-r requirements.txt (line 4)) (6.1.0)\n",
      "Requirement already satisfied: ipykernel in /home/ec2-user/anaconda3/envs/python3/lib/python3.6/site-packages (from jupyter->-r requirements.txt (line 4)) (5.1.4)\n",
      "Requirement already satisfied: qtconsole in /home/ec2-user/anaconda3/envs/python3/lib/python3.6/site-packages (from jupyter->-r requirements.txt (line 4)) (4.6.0)\n",
      "Requirement already satisfied: jmespath<1.0.0,>=0.7.1 in /home/ec2-user/anaconda3/envs/python3/lib/python3.6/site-packages (from boto3->-r requirements.txt (line 5)) (0.10.0)\n",
      "Requirement already satisfied: s3transfer<0.4.0,>=0.3.0 in /home/ec2-user/anaconda3/envs/python3/lib/python3.6/site-packages (from boto3->-r requirements.txt (line 5)) (0.3.3)\n",
      "Requirement already satisfied: botocore<1.20.0,>=1.19.9 in /home/ec2-user/anaconda3/envs/python3/lib/python3.6/site-packages (from boto3->-r requirements.txt (line 5)) (1.19.9)\n",
      "Requirement already satisfied: protobuf>=3.1 in /home/ec2-user/anaconda3/envs/python3/lib/python3.6/site-packages (from sagemaker->-r requirements.txt (line 6)) (3.11.4)\n",
      "Requirement already satisfied: smdebug-rulesconfig==0.1.5 in /home/ec2-user/anaconda3/envs/python3/lib/python3.6/site-packages (from sagemaker->-r requirements.txt (line 6)) (0.1.5)\n",
      "Requirement already satisfied: importlib-metadata>=1.4.0 in /home/ec2-user/anaconda3/envs/python3/lib/python3.6/site-packages (from sagemaker->-r requirements.txt (line 6)) (1.5.0)\n",
      "Requirement already satisfied: google-pasta in /home/ec2-user/anaconda3/envs/python3/lib/python3.6/site-packages (from sagemaker->-r requirements.txt (line 6)) (0.2.0)\n",
      "Requirement already satisfied: packaging>=20.0 in /home/ec2-user/anaconda3/envs/python3/lib/python3.6/site-packages (from sagemaker->-r requirements.txt (line 6)) (20.1)\n",
      "Requirement already satisfied: protobuf3-to-dict>=0.1.5 in /home/ec2-user/anaconda3/envs/python3/lib/python3.6/site-packages (from sagemaker->-r requirements.txt (line 6)) (0.1.5)\n",
      "Collecting threadpoolctl>=2.0.0\n",
      "  Downloading threadpoolctl-2.1.0-py3-none-any.whl (12 kB)\n",
      "Requirement already satisfied: joblib>=0.11 in /home/ec2-user/anaconda3/envs/python3/lib/python3.6/site-packages (from scikit-learn==0.23.1->-r requirements.txt (line 7)) (0.14.1)\n",
      "Requirement already satisfied: scipy>=0.19.1 in /home/ec2-user/anaconda3/envs/python3/lib/python3.6/site-packages (from scikit-learn==0.23.1->-r requirements.txt (line 7)) (1.4.1)\n",
      "Requirement already satisfied: statsmodels>=0.9.0 in /home/ec2-user/anaconda3/envs/python3/lib/python3.6/site-packages (from category_encoders->-r requirements.txt (line 9)) (0.11.0)\n",
      "Requirement already satisfied: patsy>=0.5.1 in /home/ec2-user/anaconda3/envs/python3/lib/python3.6/site-packages (from category_encoders->-r requirements.txt (line 9)) (0.5.1)\n",
      "Requirement already satisfied: six>=1.5 in /home/ec2-user/anaconda3/envs/python3/lib/python3.6/site-packages (from python-dateutil>=2.6.1->pandas->-r requirements.txt (line 2)) (1.14.0)\n",
      "Requirement already satisfied: setuptools in /home/ec2-user/anaconda3/envs/python3/lib/python3.6/site-packages (from kiwisolver>=1.0.1->matplotlib->-r requirements.txt (line 3)) (45.2.0.post20200210)\n",
      "Requirement already satisfied: jupyter-core in /home/ec2-user/anaconda3/envs/python3/lib/python3.6/site-packages (from nbconvert->jupyter->-r requirements.txt (line 4)) (4.6.1)\n",
      "Requirement already satisfied: jinja2>=2.4 in /home/ec2-user/anaconda3/envs/python3/lib/python3.6/site-packages (from nbconvert->jupyter->-r requirements.txt (line 4)) (2.11.1)\n",
      "Requirement already satisfied: entrypoints>=0.2.2 in /home/ec2-user/anaconda3/envs/python3/lib/python3.6/site-packages (from nbconvert->jupyter->-r requirements.txt (line 4)) (0.3)\n",
      "Requirement already satisfied: defusedxml in /home/ec2-user/anaconda3/envs/python3/lib/python3.6/site-packages (from nbconvert->jupyter->-r requirements.txt (line 4)) (0.6.0)\n",
      "Requirement already satisfied: bleach in /home/ec2-user/anaconda3/envs/python3/lib/python3.6/site-packages (from nbconvert->jupyter->-r requirements.txt (line 4)) (3.2.1)\n",
      "Requirement already satisfied: pygments in /home/ec2-user/anaconda3/envs/python3/lib/python3.6/site-packages (from nbconvert->jupyter->-r requirements.txt (line 4)) (2.5.2)\n",
      "Requirement already satisfied: traitlets>=4.2 in /home/ec2-user/anaconda3/envs/python3/lib/python3.6/site-packages (from nbconvert->jupyter->-r requirements.txt (line 4)) (4.3.3)\n",
      "Requirement already satisfied: pandocfilters>=1.4.1 in /home/ec2-user/anaconda3/envs/python3/lib/python3.6/site-packages (from nbconvert->jupyter->-r requirements.txt (line 4)) (1.4.2)\n",
      "Requirement already satisfied: testpath in /home/ec2-user/anaconda3/envs/python3/lib/python3.6/site-packages (from nbconvert->jupyter->-r requirements.txt (line 4)) (0.4.4)\n",
      "Requirement already satisfied: mistune<2,>=0.8.1 in /home/ec2-user/anaconda3/envs/python3/lib/python3.6/site-packages (from nbconvert->jupyter->-r requirements.txt (line 4)) (0.8.4)\n",
      "Requirement already satisfied: nbformat>=4.4 in /home/ec2-user/anaconda3/envs/python3/lib/python3.6/site-packages (from nbconvert->jupyter->-r requirements.txt (line 4)) (5.0.4)\n",
      "Requirement already satisfied: ipython-genutils in /home/ec2-user/anaconda3/envs/python3/lib/python3.6/site-packages (from notebook->jupyter->-r requirements.txt (line 4)) (0.2.0)\n",
      "Requirement already satisfied: prometheus-client in /home/ec2-user/anaconda3/envs/python3/lib/python3.6/site-packages (from notebook->jupyter->-r requirements.txt (line 4)) (0.7.1)\n",
      "Requirement already satisfied: Send2Trash in /home/ec2-user/anaconda3/envs/python3/lib/python3.6/site-packages (from notebook->jupyter->-r requirements.txt (line 4)) (1.5.0)\n",
      "Requirement already satisfied: tornado>=5.0 in /home/ec2-user/anaconda3/envs/python3/lib/python3.6/site-packages (from notebook->jupyter->-r requirements.txt (line 4)) (6.0.3)\n",
      "Requirement already satisfied: jupyter-client>=5.3.4 in /home/ec2-user/anaconda3/envs/python3/lib/python3.6/site-packages (from notebook->jupyter->-r requirements.txt (line 4)) (5.3.4)\n",
      "Requirement already satisfied: pyzmq>=17 in /home/ec2-user/anaconda3/envs/python3/lib/python3.6/site-packages (from notebook->jupyter->-r requirements.txt (line 4)) (18.1.1)\n",
      "Requirement already satisfied: terminado>=0.8.1 in /home/ec2-user/anaconda3/envs/python3/lib/python3.6/site-packages (from notebook->jupyter->-r requirements.txt (line 4)) (0.8.3)\n",
      "Requirement already satisfied: ipython>=4.0.0; python_version >= \"3.3\" in /home/ec2-user/anaconda3/envs/python3/lib/python3.6/site-packages (from ipywidgets->jupyter->-r requirements.txt (line 4)) (7.12.0)\n",
      "Requirement already satisfied: widgetsnbextension~=3.5.0 in /home/ec2-user/anaconda3/envs/python3/lib/python3.6/site-packages (from ipywidgets->jupyter->-r requirements.txt (line 4)) (3.5.1)\n",
      "Requirement already satisfied: prompt-toolkit!=3.0.0,!=3.0.1,<3.1.0,>=2.0.0 in /home/ec2-user/anaconda3/envs/python3/lib/python3.6/site-packages (from jupyter-console->jupyter->-r requirements.txt (line 4)) (3.0.3)\n",
      "Requirement already satisfied: urllib3<1.26,>=1.25.4; python_version != \"3.4\" in /home/ec2-user/anaconda3/envs/python3/lib/python3.6/site-packages (from botocore<1.20.0,>=1.19.9->boto3->-r requirements.txt (line 5)) (1.25.10)\n",
      "Requirement already satisfied: zipp>=0.5 in /home/ec2-user/anaconda3/envs/python3/lib/python3.6/site-packages (from importlib-metadata>=1.4.0->sagemaker->-r requirements.txt (line 6)) (2.2.0)\n",
      "Requirement already satisfied: MarkupSafe>=0.23 in /home/ec2-user/anaconda3/envs/python3/lib/python3.6/site-packages (from jinja2>=2.4->nbconvert->jupyter->-r requirements.txt (line 4)) (1.1.1)\n",
      "Requirement already satisfied: webencodings in /home/ec2-user/anaconda3/envs/python3/lib/python3.6/site-packages (from bleach->nbconvert->jupyter->-r requirements.txt (line 4)) (0.5.1)\n",
      "Requirement already satisfied: decorator in /home/ec2-user/anaconda3/envs/python3/lib/python3.6/site-packages (from traitlets>=4.2->nbconvert->jupyter->-r requirements.txt (line 4)) (4.4.1)\n",
      "Requirement already satisfied: jsonschema!=2.5.0,>=2.4 in /home/ec2-user/anaconda3/envs/python3/lib/python3.6/site-packages (from nbformat>=4.4->nbconvert->jupyter->-r requirements.txt (line 4)) (3.2.0)\n",
      "Requirement already satisfied: pickleshare in /home/ec2-user/anaconda3/envs/python3/lib/python3.6/site-packages (from ipython>=4.0.0; python_version >= \"3.3\"->ipywidgets->jupyter->-r requirements.txt (line 4)) (0.7.5)\n",
      "Requirement already satisfied: jedi>=0.10 in /home/ec2-user/anaconda3/envs/python3/lib/python3.6/site-packages (from ipython>=4.0.0; python_version >= \"3.3\"->ipywidgets->jupyter->-r requirements.txt (line 4)) (0.14.1)\n",
      "Requirement already satisfied: backcall in /home/ec2-user/anaconda3/envs/python3/lib/python3.6/site-packages (from ipython>=4.0.0; python_version >= \"3.3\"->ipywidgets->jupyter->-r requirements.txt (line 4)) (0.1.0)\n",
      "Requirement already satisfied: pexpect; sys_platform != \"win32\" in /home/ec2-user/anaconda3/envs/python3/lib/python3.6/site-packages (from ipython>=4.0.0; python_version >= \"3.3\"->ipywidgets->jupyter->-r requirements.txt (line 4)) (4.8.0)\n",
      "Requirement already satisfied: wcwidth in /home/ec2-user/anaconda3/envs/python3/lib/python3.6/site-packages (from prompt-toolkit!=3.0.0,!=3.0.1,<3.1.0,>=2.0.0->jupyter-console->jupyter->-r requirements.txt (line 4)) (0.1.8)\n",
      "Requirement already satisfied: attrs>=17.4.0 in /home/ec2-user/anaconda3/envs/python3/lib/python3.6/site-packages (from jsonschema!=2.5.0,>=2.4->nbformat>=4.4->nbconvert->jupyter->-r requirements.txt (line 4)) (19.3.0)\n",
      "Requirement already satisfied: pyrsistent>=0.14.0 in /home/ec2-user/anaconda3/envs/python3/lib/python3.6/site-packages (from jsonschema!=2.5.0,>=2.4->nbformat>=4.4->nbconvert->jupyter->-r requirements.txt (line 4)) (0.15.7)\n",
      "Requirement already satisfied: parso>=0.5.0 in /home/ec2-user/anaconda3/envs/python3/lib/python3.6/site-packages (from jedi>=0.10->ipython>=4.0.0; python_version >= \"3.3\"->ipywidgets->jupyter->-r requirements.txt (line 4)) (0.5.2)\n",
      "Requirement already satisfied: ptyprocess>=0.5 in /home/ec2-user/anaconda3/envs/python3/lib/python3.6/site-packages (from pexpect; sys_platform != \"win32\"->ipython>=4.0.0; python_version >= \"3.3\"->ipywidgets->jupyter->-r requirements.txt (line 4)) (0.6.0)\n",
      "Installing collected packages: threadpoolctl, scikit-learn, imbalanced-learn, category-encoders, pyarrow\n",
      "  Attempting uninstall: scikit-learn\n",
      "    Found existing installation: scikit-learn 0.22.1\n",
      "    Uninstalling scikit-learn-0.22.1:\n",
      "      Successfully uninstalled scikit-learn-0.22.1\n",
      "Successfully installed category-encoders-2.2.2 imbalanced-learn-0.7.0 pyarrow-2.0.0 scikit-learn-0.23.1 threadpoolctl-2.1.0\n",
      "\u001b[33mWARNING: You are using pip version 20.0.2; however, version 20.2.4 is available.\n",
      "You should consider upgrading via the '/home/ec2-user/anaconda3/envs/python3/bin/python -m pip install --upgrade pip' command.\u001b[0m\n",
      "CPU times: user 360 ms, sys: 72.3 ms, total: 432 ms\n",
      "Wall time: 17.2 s\n"
     ]
    }
   ],
   "source": [
    "%%time\n",
    "import sys;\n",
    "import datetime\n",
    "print('Starting at', datetime.datetime.now())\n",
    "!{sys.executable} -m pip install -r requirements.txt\n",
    " "
   ]
  },
  {
   "cell_type": "code",
   "execution_count": 2,
   "metadata": {
    "isConfigCell": true
   },
   "outputs": [
    {
     "name": "stdout",
     "output_type": "stream",
     "text": [
      "Role arn:aws:iam::649592902942:role/service-role/AmazonSageMaker-ExecutionRole-20201021T144991\n",
      "Bucket sagemaker-jfox in region eu-west-1\n",
      "CPU times: user 918 ms, sys: 92.3 ms, total: 1.01 s\n",
      "Wall time: 9.6 s\n"
     ]
    }
   ],
   "source": [
    "%%time\n",
    "import boto3\n",
    "import sagemaker\n",
    "\n",
    "session = sagemaker.Session() \n",
    "region = session.boto_region_name \n",
    "\n",
    "bucket = 'sagemaker-jfox'\n",
    " \n",
    "prefix = 'sagemaker/xgboost'\n",
    "role = sagemaker.get_execution_role()\n",
    "print('Role', role)\n",
    "print(f'Bucket {bucket} in region {region}')"
   ]
  },
  {
   "cell_type": "markdown",
   "metadata": {},
   "source": [
    "\n"
   ]
  },
  {
   "cell_type": "code",
   "execution_count": 3,
   "metadata": {},
   "outputs": [
    {
     "name": "stdout",
     "output_type": "stream",
     "text": [
      "CPU times: user 1.75 s, sys: 603 ms, total: 2.35 s\n",
      "Wall time: 2.99 s\n"
     ]
    }
   ],
   "source": [
    "%%time\n",
    "import random\n",
    "import pandas as pd\n",
    "import pyarrow.parquet as pq\n",
    "\n",
    "raw_data_filename = 'frauddetection.parquet.snappy'\n",
    "\n",
    "s3 = boto3.resource('s3', region_name=region)\n",
    "s3.Bucket(bucket).download_file('prepareddata/datapreparation_18Nov2020_1605714029944/datapreparation_18Nov2020_1605714029944_part00000.parquet.snappy',\n",
    "                                raw_data_filename)\n",
    " "
   ]
  },
  {
   "cell_type": "code",
   "execution_count": 4,
   "metadata": {},
   "outputs": [
    {
     "name": "stdout",
     "output_type": "stream",
     "text": [
      "2811841 Data items\n"
     ]
    }
   ],
   "source": [
    "table = pq.read_table(raw_data_filename)\n",
    "df=table.to_pandas()\n",
    "pd.set_option('display.max_rows', 10) \n",
    "pd.set_option('display.width', 1000)\n",
    "\n",
    "print(len(df), 'Data items')"
   ]
  },
  {
   "cell_type": "code",
   "execution_count": 5,
   "metadata": {},
   "outputs": [],
   "source": [
    "target_col='Fraudulent'"
   ]
  },
  {
   "cell_type": "code",
   "execution_count": 8,
   "metadata": {},
   "outputs": [
    {
     "data": {
      "text/plain": [
       "Index(['isFraud', 'hourOf24_radians', 'type_CASH_OUT', 'type_TRANSFER', 'amount_nml', 'oldbalanceOrg_nml', 'oldBalanceOrigSign', 'newbalanceOrig_nml', 'negDeltaOrigin_nml', 'oldbalanceDest_nml', 'expectedNewBalDest_nml', 'newbalanceDest_nml'], dtype='object')"
      ]
     },
     "execution_count": 8,
     "metadata": {},
     "output_type": "execute_result"
    }
   ],
   "source": []
  },
  {
   "cell_type": "code",
   "execution_count": 22,
   "metadata": {},
   "outputs": [],
   "source": [
    "df = df.rename(columns = {'isFraud': target_col,\n",
    "                          'type_CASH_OUT': 'type_CashOut',\n",
    "                          'type_TRANSFER': 'type_Transfer',\n",
    "                          'oldbalanceOrg_nml': 'originOldBalance',\n",
    "                          'oldBalanceOrigSign': 'originOldBalanceSign', \n",
    "                          'newbalanceOrig_nml': 'originNewBalance',\n",
    "                          'negDeltaOrigin_nml': 'negativeDeltaInOrigin', \n",
    "                          'oldbalanceDest_nml': 'destinationOldBalance',\n",
    "                          'newbalanceDest_nml': 'destinationNewBalance',\n",
    "                          'expectedNewBalDest_nml': 'destinationExpectedNewBalance',#based on old value and delta   \n",
    "                          'amount_nml': 'amount',\n",
    "                         'hourOf24_radians': 'hourOf24_radians',# To be deleted after calculation\n",
    "                          'isFlaggedFraud':'FlaggedFraud'#To be deleted\n",
    "\n",
    "                         })\n"
   ]
  },
  {
   "cell_type": "code",
   "execution_count": null,
   "metadata": {},
   "outputs": [],
   "source": []
  },
  {
   "cell_type": "markdown",
   "metadata": {},
   "source": [
    "All `isFraud` rows have `type` `TRANSFER` or `CASH_OUT`, never  `CASH_IN` or `PAYMENT`. Filter these out."
   ]
  },
  {
   "cell_type": "markdown",
   "metadata": {},
   "source": [
    "Counts of each class to determine imbalance."
   ]
  },
  {
   "cell_type": "code",
   "execution_count": 23,
   "metadata": {},
   "outputs": [
    {
     "name": "stdout",
     "output_type": "stream",
     "text": [
      "Fraud 8213 ; Not fraud 2803628 ; Total 2811841\n"
     ]
    }
   ],
   "source": [
    "def count_positive_and_negative(df):\n",
    "    num_positive = len(df.loc[  df[target_col] == 1 ])\n",
    "    num_negative = len(df) - num_positive\n",
    "    return num_positive, num_negative\n",
    "\n",
    "num_positive, num_negative = count_positive_and_negative(df)\n",
    "\n",
    "print('Fraud', num_positive, '; Not fraud', num_negative, '; Total', len(df))"
   ]
  },
  {
   "cell_type": "markdown",
   "metadata": {},
   "source": [
    " "
   ]
  },
  {
   "cell_type": "markdown",
   "metadata": {},
   "source": []
  },
  {
   "cell_type": "markdown",
   "metadata": {},
   "source": [
    "Plot distribution of positive vs negative, in log scale because of the imbalance"
   ]
  },
  {
   "cell_type": "code",
   "execution_count": 24,
   "metadata": {},
   "outputs": [
    {
     "data": {
      "image/png": "[encoded data removed]",
      "text/plain": [
       "<Figure size 360x360 with 1 Axes>"
      ]
     },
     "metadata": {},
     "output_type": "display_data"
    }
   ],
   "source": [
    "import math\n",
    "import matplotlib.pyplot as plt   \n",
    "def plot_positive_negative_counts(df, target_col):\n",
    "        df[target_col].value_counts().plot.pie(figsize=(5, 5), autopct='%.1f')\n",
    "        plt.title('Non-fraud vs fraud')\n",
    "        plt.tight_layout()\n",
    "    \n",
    "plot_positive_negative_counts(df,target_col)"
   ]
  },
  {
   "cell_type": "markdown",
   "metadata": {},
   "source": [
    " "
   ]
  },
  {
   "cell_type": "markdown",
   "metadata": {},
   "source": [
    "Check that target is on the left, per Sagemaker standard"
   ]
  },
  {
   "cell_type": "code",
   "execution_count": 25,
   "metadata": {},
   "outputs": [],
   "source": [
    "cols = df.columns.tolist()\n",
    "assert cols[0]==target_col"
   ]
  },
  {
   "cell_type": "markdown",
   "metadata": {},
   "source": [
    "Transform hour of day to a form suited for cyclical data"
   ]
  },
  {
   "cell_type": "code",
   "execution_count": 26,
   "metadata": {},
   "outputs": [
    {
     "data": {
      "text/html": [
       "<div>\n",
       "<style scoped>\n",
       "    .dataframe tbody tr th:only-of-type {\n",
       "        vertical-align: middle;\n",
       "    }\n",
       "\n",
       "    .dataframe tbody tr th {\n",
       "        vertical-align: top;\n",
       "    }\n",
       "\n",
       "    .dataframe thead th {\n",
       "        text-align: right;\n",
       "    }\n",
       "</style>\n",
       "<table border=\"1\" class=\"dataframe\">\n",
       "  <thead>\n",
       "    <tr style=\"text-align: right;\">\n",
       "      <th></th>\n",
       "      <th>Fraudulent</th>\n",
       "      <th>type_CashOut</th>\n",
       "      <th>type_Transfer</th>\n",
       "      <th>amount</th>\n",
       "      <th>originOldBalance</th>\n",
       "      <th>originOldBalanceSign</th>\n",
       "      <th>originNewBalance</th>\n",
       "      <th>negativeDeltaInOrigin</th>\n",
       "      <th>destinationOldBalance</th>\n",
       "      <th>destinationExpectedNewBalance</th>\n",
       "      <th>destinationNewBalance</th>\n",
       "      <th>sineHourInDay</th>\n",
       "      <th>cosineHourInDay</th>\n",
       "    </tr>\n",
       "  </thead>\n",
       "  <tbody>\n",
       "    <tr>\n",
       "      <th>0</th>\n",
       "      <td>1</td>\n",
       "      <td>0</td>\n",
       "      <td>1</td>\n",
       "      <td>-0.354589</td>\n",
       "      <td>-0.191052</td>\n",
       "      <td>1</td>\n",
       "      <td>-0.111225</td>\n",
       "      <td>-0.190358</td>\n",
       "      <td>-0.402183</td>\n",
       "      <td>-0.440087</td>\n",
       "      <td>-0.436902</td>\n",
       "      <td>0.258626</td>\n",
       "      <td>0.965977</td>\n",
       "    </tr>\n",
       "    <tr>\n",
       "      <th>1</th>\n",
       "      <td>1</td>\n",
       "      <td>1</td>\n",
       "      <td>0</td>\n",
       "      <td>-0.354589</td>\n",
       "      <td>-0.191052</td>\n",
       "      <td>1</td>\n",
       "      <td>-0.111225</td>\n",
       "      <td>-0.190358</td>\n",
       "      <td>-0.397173</td>\n",
       "      <td>-0.435456</td>\n",
       "      <td>-0.436902</td>\n",
       "      <td>0.258626</td>\n",
       "      <td>0.965977</td>\n",
       "    </tr>\n",
       "    <tr>\n",
       "      <th>2</th>\n",
       "      <td>0</td>\n",
       "      <td>0</td>\n",
       "      <td>0</td>\n",
       "      <td>-0.348742</td>\n",
       "      <td>-0.024926</td>\n",
       "      <td>1</td>\n",
       "      <td>0.129430</td>\n",
       "      <td>-0.158648</td>\n",
       "      <td>-0.392274</td>\n",
       "      <td>-0.429800</td>\n",
       "      <td>-0.428269</td>\n",
       "      <td>0.258626</td>\n",
       "      <td>0.965977</td>\n",
       "    </tr>\n",
       "    <tr>\n",
       "      <th>3</th>\n",
       "      <td>0</td>\n",
       "      <td>0</td>\n",
       "      <td>0</td>\n",
       "      <td>-0.343859</td>\n",
       "      <td>-0.173919</td>\n",
       "      <td>1</td>\n",
       "      <td>-0.111225</td>\n",
       "      <td>-0.164015</td>\n",
       "      <td>-0.399618</td>\n",
       "      <td>-0.435647</td>\n",
       "      <td>-0.403098</td>\n",
       "      <td>0.258626</td>\n",
       "      <td>0.965977</td>\n",
       "    </tr>\n",
       "    <tr>\n",
       "      <th>4</th>\n",
       "      <td>0</td>\n",
       "      <td>1</td>\n",
       "      <td>0</td>\n",
       "      <td>-0.095013</td>\n",
       "      <td>-0.130487</td>\n",
       "      <td>1</td>\n",
       "      <td>-0.111225</td>\n",
       "      <td>-0.097235</td>\n",
       "      <td>-0.400981</td>\n",
       "      <td>-0.388926</td>\n",
       "      <td>-0.425880</td>\n",
       "      <td>0.258626</td>\n",
       "      <td>0.965977</td>\n",
       "    </tr>\n",
       "    <tr>\n",
       "      <th>...</th>\n",
       "      <td>...</td>\n",
       "      <td>...</td>\n",
       "      <td>...</td>\n",
       "      <td>...</td>\n",
       "      <td>...</td>\n",
       "      <td>...</td>\n",
       "      <td>...</td>\n",
       "      <td>...</td>\n",
       "      <td>...</td>\n",
       "      <td>...</td>\n",
       "      <td>...</td>\n",
       "      <td>...</td>\n",
       "      <td>...</td>\n",
       "    </tr>\n",
       "    <tr>\n",
       "      <th>2811836</th>\n",
       "      <td>1</td>\n",
       "      <td>1</td>\n",
       "      <td>0</td>\n",
       "      <td>0.030321</td>\n",
       "      <td>1.166709</td>\n",
       "      <td>1</td>\n",
       "      <td>-0.111225</td>\n",
       "      <td>1.897298</td>\n",
       "      <td>-0.402183</td>\n",
       "      <td>-0.365872</td>\n",
       "      <td>-0.364218</td>\n",
       "      <td>-0.263246</td>\n",
       "      <td>0.964729</td>\n",
       "    </tr>\n",
       "    <tr>\n",
       "      <th>2811837</th>\n",
       "      <td>1</td>\n",
       "      <td>0</td>\n",
       "      <td>1</td>\n",
       "      <td>6.800773</td>\n",
       "      <td>25.049330</td>\n",
       "      <td>1</td>\n",
       "      <td>-0.111225</td>\n",
       "      <td>38.618570</td>\n",
       "      <td>-0.402183</td>\n",
       "      <td>0.939546</td>\n",
       "      <td>-0.436902</td>\n",
       "      <td>-0.263246</td>\n",
       "      <td>0.964729</td>\n",
       "    </tr>\n",
       "    <tr>\n",
       "      <th>2811838</th>\n",
       "      <td>1</td>\n",
       "      <td>1</td>\n",
       "      <td>0</td>\n",
       "      <td>6.800773</td>\n",
       "      <td>25.049330</td>\n",
       "      <td>1</td>\n",
       "      <td>-0.111225</td>\n",
       "      <td>38.618570</td>\n",
       "      <td>-0.385985</td>\n",
       "      <td>0.954518</td>\n",
       "      <td>0.928245</td>\n",
       "      <td>-0.263246</td>\n",
       "      <td>0.964729</td>\n",
       "    </tr>\n",
       "    <tr>\n",
       "      <th>2811839</th>\n",
       "      <td>1</td>\n",
       "      <td>0</td>\n",
       "      <td>1</td>\n",
       "      <td>0.608897</td>\n",
       "      <td>3.207624</td>\n",
       "      <td>1</td>\n",
       "      <td>-0.111225</td>\n",
       "      <td>5.035354</td>\n",
       "      <td>-0.402183</td>\n",
       "      <td>-0.254316</td>\n",
       "      <td>-0.436902</td>\n",
       "      <td>-0.263246</td>\n",
       "      <td>0.964729</td>\n",
       "    </tr>\n",
       "    <tr>\n",
       "      <th>2811840</th>\n",
       "      <td>1</td>\n",
       "      <td>1</td>\n",
       "      <td>0</td>\n",
       "      <td>0.608897</td>\n",
       "      <td>3.207624</td>\n",
       "      <td>1</td>\n",
       "      <td>-0.111225</td>\n",
       "      <td>5.035354</td>\n",
       "      <td>1.137557</td>\n",
       "      <td>1.168790</td>\n",
       "      <td>1.137985</td>\n",
       "      <td>-0.263246</td>\n",
       "      <td>0.964729</td>\n",
       "    </tr>\n",
       "  </tbody>\n",
       "</table>\n",
       "<p>2811841 rows × 13 columns</p>\n",
       "</div>"
      ],
      "text/plain": [
       "         Fraudulent  type_CashOut  type_Transfer    amount  originOldBalance  originOldBalanceSign  originNewBalance  negativeDeltaInOrigin  destinationOldBalance  destinationExpectedNewBalance  destinationNewBalance  sineHourInDay  cosineHourInDay\n",
       "0                 1             0              1 -0.354589         -0.191052                     1         -0.111225              -0.190358              -0.402183                      -0.440087              -0.436902       0.258626         0.965977\n",
       "1                 1             1              0 -0.354589         -0.191052                     1         -0.111225              -0.190358              -0.397173                      -0.435456              -0.436902       0.258626         0.965977\n",
       "2                 0             0              0 -0.348742         -0.024926                     1          0.129430              -0.158648              -0.392274                      -0.429800              -0.428269       0.258626         0.965977\n",
       "3                 0             0              0 -0.343859         -0.173919                     1         -0.111225              -0.164015              -0.399618                      -0.435647              -0.403098       0.258626         0.965977\n",
       "4                 0             1              0 -0.095013         -0.130487                     1         -0.111225              -0.097235              -0.400981                      -0.388926              -0.425880       0.258626         0.965977\n",
       "...             ...           ...            ...       ...               ...                   ...               ...                    ...                    ...                            ...                    ...            ...              ...\n",
       "2811836           1             1              0  0.030321          1.166709                     1         -0.111225               1.897298              -0.402183                      -0.365872              -0.364218      -0.263246         0.964729\n",
       "2811837           1             0              1  6.800773         25.049330                     1         -0.111225              38.618570              -0.402183                       0.939546              -0.436902      -0.263246         0.964729\n",
       "2811838           1             1              0  6.800773         25.049330                     1         -0.111225              38.618570              -0.385985                       0.954518               0.928245      -0.263246         0.964729\n",
       "2811839           1             0              1  0.608897          3.207624                     1         -0.111225               5.035354              -0.402183                      -0.254316              -0.436902      -0.263246         0.964729\n",
       "2811840           1             1              0  0.608897          3.207624                     1         -0.111225               5.035354               1.137557                       1.168790               1.137985      -0.263246         0.964729\n",
       "\n",
       "[2811841 rows x 13 columns]"
      ]
     },
     "execution_count": 26,
     "metadata": {},
     "output_type": "execute_result"
    }
   ],
   "source": [
    "import numpy as np\n",
    "hours_col = 'hourOf24_radians'\n",
    "df['sineHourInDay'] = np.sin(df[hours_col])\n",
    "df['cosineHourInDay'] = np.cos(df[hours_col])\n",
    "df = df.drop(hours_col, axis=1)\n",
    "df"
   ]
  },
  {
   "cell_type": "code",
   "execution_count": 27,
   "metadata": {},
   "outputs": [
    {
     "data": {
      "image/png": "[encoded data removed]",
      "text/plain": [
       "<Figure size 1080x360 with 4 Axes>"
      ]
     },
     "metadata": {
      "needs_background": "light"
     },
     "output_type": "display_data"
    }
   ],
   "source": [
    "import seaborn  \n",
    "\n",
    "fig, axes = plt.subplots( 1,2, figsize=(15,5))\n",
    "\n",
    "def heatmap(fraud_cases):\n",
    "    lbl='Fraud' if  fraud_cases else 'Non-fraud'\n",
    "    # Coerced to int, below\n",
    "    axes[1-fraud_cases].set_title(f'{lbl} cases: Heatmap')\n",
    "    seaborn.heatmap(df.query(f'{target_col} == {fraud_cases}').drop([target_col], 1).corr(),  cmap='Oranges', ax=axes[1-fraud_cases])\n",
    "\n",
    "heatmap(True)\n",
    "heatmap(False)\n",
    "\n",
    "plt.show()"
   ]
  },
  {
   "cell_type": "markdown",
   "metadata": {},
   "source": []
  },
  {
   "cell_type": "markdown",
   "metadata": {},
   "source": [
    "Optionally use *SMOTENC* for unbalanced classes, though we may stick with the XGBoost parameters."
   ]
  },
  {
   "cell_type": "code",
   "execution_count": 28,
   "metadata": {},
   "outputs": [
    {
     "name": "stdout",
     "output_type": "stream",
     "text": [
      "CPU times: user 13 µs, sys: 0 ns, total: 13 µs\n",
      "Wall time: 18.1 µs\n"
     ]
    }
   ],
   "source": [
    "%%time \n",
    "\n",
    "from imblearn.over_sampling import SMOTENC\n",
    "\n",
    "use_smote = False # Can just use weighting in XGBOOST instead of SMOTENC\n",
    "\n",
    "if use_smote:\n",
    "   ycol=target_col\n",
    "   Xcol=list(df.columns)\n",
    "   Xcol.remove(ycol)\n",
    " \n",
    "   categorical_columns=[i for i in range(len(Xcol)) \n",
    "                     if Xcol[i] not in ['step','amount','oldbalanceOrg','newbalanceOrig','oldbalanceDest','newbalanceDest']]\n",
    "\n",
    "   smotenc = SMOTENC(categorical_columns,random_state = 101)\n",
    "\n",
    "   X, y = smotenc.fit_resample(df[Xcol], df[ycol])\n",
    "   y_df = pd.DataFrame({target_col: y} )\n",
    "\n",
    "   df = pd.concat([X, y_df], axis=1)"
   ]
  },
  {
   "cell_type": "markdown",
   "metadata": {},
   "source": [
    "# Split  with randomization"
   ]
  },
  {
   "cell_type": "code",
   "execution_count": 29,
   "metadata": {},
   "outputs": [],
   "source": [
    "import numpy as np\n",
    "len_ = len(df)\n",
    "train_data, validation_data, test_data = np.split(df.sample(frac=1, random_state=1729), [int(0.7 * len_), int(0.9 * len_)])"
   ]
  },
  {
   "cell_type": "markdown",
   "metadata": {},
   "source": [
    "Using libSVM for performance."
   ]
  },
  {
   "cell_type": "code",
   "execution_count": 30,
   "metadata": {},
   "outputs": [
    {
     "name": "stdout",
     "output_type": "stream",
     "text": [
      "Length of datasets: [('train', 1968288), ('validation', 562368), ('test', 281185)]\n",
      "CPU times: user 3min 1s, sys: 2.86 s, total: 3min 4s\n",
      "Wall time: 2min 59s\n"
     ]
    }
   ],
   "source": [
    "%%time\n",
    "from sklearn.datasets import dump_svmlight_file   \n",
    "\n",
    "lengths = [] \n",
    "\n",
    "for d in [(train_data, 'train.libsvm'), ( validation_data, 'validation.libsvm'), (test_data, 'test.libsvm')]:\n",
    "   dataset=d[0]\n",
    "   file_ = d[1]\n",
    "   lengths.append((d[1].split('.')[0],len(dataset)))\n",
    "   dump_svmlight_file(X=dataset.drop([target_col], axis=1), y=dataset[target_col], f=d[1])\n",
    "\n",
    "print('Length of datasets:', lengths )\n",
    "\n",
    "s3 = boto3.resource('s3', region_name=region) \n",
    "\n",
    "for filename in ['train.libsvm', 'validation.libsvm']:\n",
    "   s3.Bucket(bucket).Object(prefix + '/'+filename.split('.')[0]+'/'+filename).upload_file(filename)"
   ]
  },
  {
   "cell_type": "code",
   "execution_count": 31,
   "metadata": {},
   "outputs": [
    {
     "name": "stderr",
     "output_type": "stream",
     "text": [
      "'s3_input' class will be renamed to 'TrainingInput' in SageMaker Python SDK v2.\n",
      "'s3_input' class will be renamed to 'TrainingInput' in SageMaker Python SDK v2.\n"
     ]
    }
   ],
   "source": [
    "def s3_path(subset):\n",
    "  return sagemaker.s3_input(s3_data='s3://{}/{}/{}'.format(bucket, prefix,subset), content_type='libsvm')\n",
    "\n",
    "s3_input_train = s3_path('train')\n",
    "s3_input_validation =s3_path('validation')"
   ]
  },
  {
   "cell_type": "markdown",
   "metadata": {},
   "source": [
    "---\n",
    "## Train\n",
    "\n",
    "To train, first set up the parameters for an Amazon SageMaker Estimator object, and the hyperparameters for the algorithm itself."
   ]
  },
  {
   "cell_type": "code",
   "execution_count": 32,
   "metadata": {},
   "outputs": [
    {
     "name": "stderr",
     "output_type": "stream",
     "text": [
      "'get_image_uri' method will be deprecated in favor of 'ImageURIProvider' class in SageMaker Python SDK v2.\n",
      "Parameter image_name will be renamed to image_uri in SageMaker Python SDK v2.\n"
     ]
    },
    {
     "name": "stdout",
     "output_type": "stream",
     "text": [
      "num_positive: 5753, num_negative: 1962535, scale_pos_weight 18.5\n"
     ]
    }
   ],
   "source": [
    "from sagemaker.amazon.amazon_estimator import get_image_uri\n",
    "\n",
    "import math\n",
    "\n",
    "container = get_image_uri(region, 'xgboost','1.0-1')\n",
    "\n",
    "xgb = sagemaker.estimator.Estimator(container,\n",
    "                                    role, \n",
    "                                    base_job_name='fraud-detection-job',\n",
    "                                    train_instance_count=1, \n",
    "                                    train_instance_type='ml.m4.xlarge',\n",
    "                                    output_path='s3://{}/{}/output'.format(bucket, prefix),\n",
    "                                    sagemaker_session=session)\n",
    "num_positive, num_negative=count_positive_and_negative(train_data)\n",
    "scale_pos_weight=math.sqrt(num_negative / num_positive )\n",
    "print(f'num_positive: {num_positive}, num_negative: {num_negative}, scale_pos_weight {scale_pos_weight:.1f}')\n",
    "\n",
    "xgb.set_hyperparameters(max_depth=3,\n",
    "                        eta=0.1,\n",
    "                        gamma=4,\n",
    "                        subsample=0.5,\n",
    "                        eval_metric='aucpr',     \n",
    "                        objective='binary:logistic',\n",
    "                        scale_pos_weight=scale_pos_weight,\n",
    "                        num_round=200, \n",
    "                        silent=0)"
   ]
  },
  {
   "cell_type": "markdown",
   "metadata": {},
   "source": [
    "Run the `fit` training  or hypertuned-training job."
   ]
  },
  {
   "cell_type": "code",
   "execution_count": 33,
   "metadata": {},
   "outputs": [
    {
     "name": "stdout",
     "output_type": "stream",
     "text": [
      "2020-11-18 19:50:23 Starting - Starting the training job...\n",
      "2020-11-18 19:50:25 Starting - Launching requested ML instances......\n",
      "2020-11-18 19:51:33 Starting - Preparing the instances for training......\n",
      "2020-11-18 19:52:40 Downloading - Downloading input data...\n",
      "2020-11-18 19:53:13 Training - Downloading the training image...\n",
      "2020-11-18 19:53:36 Training - Training image download completed. Training in progress.\u001b[34mINFO:sagemaker-containers:Imported framework sagemaker_xgboost_container.training\u001b[0m\n",
      "\u001b[34mINFO:sagemaker-containers:Failed to parse hyperparameter eval_metric value aucpr to Json.\u001b[0m\n",
      "\u001b[34mReturning the value itself\u001b[0m\n",
      "\u001b[34mINFO:sagemaker-containers:Failed to parse hyperparameter objective value binary:logistic to Json.\u001b[0m\n",
      "\u001b[34mReturning the value itself\u001b[0m\n",
      "\u001b[34mINFO:sagemaker-containers:No GPUs detected (normal if no gpus installed)\u001b[0m\n",
      "\u001b[34mINFO:sagemaker_xgboost_container.training:Running XGBoost Sagemaker in algorithm mode\u001b[0m\n",
      "\u001b[34m[19:53:40] 1968288x12 matrix with 20687908 entries loaded from /opt/ml/input/data/train\u001b[0m\n",
      "\u001b[34m[19:53:40] 562368x12 matrix with 5910848 entries loaded from /opt/ml/input/data/validation\u001b[0m\n",
      "\u001b[34mINFO:root:Single node training.\u001b[0m\n",
      "\u001b[34mINFO:root:Train matrix has 1968288 rows\u001b[0m\n",
      "\u001b[34mINFO:root:Validation matrix has 562368 rows\u001b[0m\n",
      "\u001b[34m[0]#011train-aucpr:0.62196#011validation-aucpr:0.60614\u001b[0m\n",
      "\u001b[34m[1]#011train-aucpr:0.63664#011validation-aucpr:0.61833\u001b[0m\n",
      "\u001b[34m[2]#011train-aucpr:0.70709#011validation-aucpr:0.69143\u001b[0m\n",
      "\u001b[34m[3]#011train-aucpr:0.70419#011validation-aucpr:0.68829\u001b[0m\n",
      "\u001b[34m[4]#011train-aucpr:0.72783#011validation-aucpr:0.71362\u001b[0m\n",
      "\u001b[34m[5]#011train-aucpr:0.73196#011validation-aucpr:0.71652\u001b[0m\n",
      "\u001b[34m[6]#011train-aucpr:0.72969#011validation-aucpr:0.71452\u001b[0m\n",
      "\u001b[34m[7]#011train-aucpr:0.75286#011validation-aucpr:0.73928\u001b[0m\n",
      "\u001b[34m[8]#011train-aucpr:0.75063#011validation-aucpr:0.73718\u001b[0m\n",
      "\u001b[34m[9]#011train-aucpr:0.76039#011validation-aucpr:0.74946\u001b[0m\n",
      "\u001b[34m[10]#011train-aucpr:0.76444#011validation-aucpr:0.75314\u001b[0m\n",
      "\u001b[34m[11]#011train-aucpr:0.76851#011validation-aucpr:0.75795\u001b[0m\n",
      "\u001b[34m[12]#011train-aucpr:0.76966#011validation-aucpr:0.75919\u001b[0m\n",
      "\u001b[34m[13]#011train-aucpr:0.77007#011validation-aucpr:0.75955\u001b[0m\n",
      "\u001b[34m[14]#011train-aucpr:0.77328#011validation-aucpr:0.76381\u001b[0m\n",
      "\u001b[34m[15]#011train-aucpr:0.77440#011validation-aucpr:0.76507\u001b[0m\n",
      "\u001b[34m[16]#011train-aucpr:0.77405#011validation-aucpr:0.76581\u001b[0m\n",
      "\u001b[34m[17]#011train-aucpr:0.78012#011validation-aucpr:0.77147\u001b[0m\n",
      "\u001b[34m[18]#011train-aucpr:0.78688#011validation-aucpr:0.77755\u001b[0m\n",
      "\u001b[34m[19]#011train-aucpr:0.79012#011validation-aucpr:0.78097\u001b[0m\n",
      "\u001b[34m[20]#011train-aucpr:0.79305#011validation-aucpr:0.78363\u001b[0m\n",
      "\u001b[34m[21]#011train-aucpr:0.79868#011validation-aucpr:0.78841\u001b[0m\n",
      "\u001b[34m[22]#011train-aucpr:0.80194#011validation-aucpr:0.79097\u001b[0m\n",
      "\u001b[34m[23]#011train-aucpr:0.80582#011validation-aucpr:0.79383\u001b[0m\n",
      "\u001b[34m[24]#011train-aucpr:0.80775#011validation-aucpr:0.79541\u001b[0m\n",
      "\u001b[34m[25]#011train-aucpr:0.81145#011validation-aucpr:0.79825\u001b[0m\n",
      "\u001b[34m[26]#011train-aucpr:0.81381#011validation-aucpr:0.80046\u001b[0m\n",
      "\u001b[34m[27]#011train-aucpr:0.81947#011validation-aucpr:0.80597\u001b[0m\n",
      "\u001b[34m[28]#011train-aucpr:0.82198#011validation-aucpr:0.80807\u001b[0m\n",
      "\u001b[34m[29]#011train-aucpr:0.82442#011validation-aucpr:0.80992\u001b[0m\n",
      "\u001b[34m[30]#011train-aucpr:0.82577#011validation-aucpr:0.81134\u001b[0m\n",
      "\u001b[34m[31]#011train-aucpr:0.82916#011validation-aucpr:0.81422\u001b[0m\n",
      "\u001b[34m[32]#011train-aucpr:0.83107#011validation-aucpr:0.81544\u001b[0m\n",
      "\u001b[34m[33]#011train-aucpr:0.83741#011validation-aucpr:0.82229\u001b[0m\n",
      "\u001b[34m[34]#011train-aucpr:0.83880#011validation-aucpr:0.82381\u001b[0m\n",
      "\u001b[34m[35]#011train-aucpr:0.84097#011validation-aucpr:0.82590\u001b[0m\n",
      "\u001b[34m[36]#011train-aucpr:0.84252#011validation-aucpr:0.82733\u001b[0m\n",
      "\u001b[34m[37]#011train-aucpr:0.84452#011validation-aucpr:0.82913\u001b[0m\n",
      "\u001b[34m[38]#011train-aucpr:0.84776#011validation-aucpr:0.83192\u001b[0m\n",
      "\u001b[34m[39]#011train-aucpr:0.84972#011validation-aucpr:0.83347\u001b[0m\n",
      "\u001b[34m[40]#011train-aucpr:0.85132#011validation-aucpr:0.83499\u001b[0m\n",
      "\u001b[34m[41]#011train-aucpr:0.85446#011validation-aucpr:0.83758\u001b[0m\n",
      "\u001b[34m[42]#011train-aucpr:0.85618#011validation-aucpr:0.83901\u001b[0m\n",
      "\u001b[34m[43]#011train-aucpr:0.86047#011validation-aucpr:0.84332\u001b[0m\n",
      "\u001b[34m[44]#011train-aucpr:0.86173#011validation-aucpr:0.84482\u001b[0m\n",
      "\u001b[34m[45]#011train-aucpr:0.86546#011validation-aucpr:0.84857\u001b[0m\n",
      "\u001b[34m[46]#011train-aucpr:0.86866#011validation-aucpr:0.85187\u001b[0m\n",
      "\u001b[34m[47]#011train-aucpr:0.87053#011validation-aucpr:0.85355\u001b[0m\n",
      "\u001b[34m[48]#011train-aucpr:0.87245#011validation-aucpr:0.85506\u001b[0m\n",
      "\u001b[34m[49]#011train-aucpr:0.87420#011validation-aucpr:0.85664\u001b[0m\n",
      "\u001b[34m[50]#011train-aucpr:0.87513#011validation-aucpr:0.85796\u001b[0m\n",
      "\u001b[34m[51]#011train-aucpr:0.87710#011validation-aucpr:0.85951\u001b[0m\n",
      "\u001b[34m[52]#011train-aucpr:0.87806#011validation-aucpr:0.86069\u001b[0m\n",
      "\u001b[34m[53]#011train-aucpr:0.87957#011validation-aucpr:0.86194\u001b[0m\n",
      "\u001b[34m[54]#011train-aucpr:0.88091#011validation-aucpr:0.86314\u001b[0m\n",
      "\u001b[34m[55]#011train-aucpr:0.88303#011validation-aucpr:0.86524\u001b[0m\n",
      "\u001b[34m[56]#011train-aucpr:0.88456#011validation-aucpr:0.86671\u001b[0m\n",
      "\u001b[34m[57]#011train-aucpr:0.88558#011validation-aucpr:0.86779\u001b[0m\n",
      "\u001b[34m[58]#011train-aucpr:0.88753#011validation-aucpr:0.87037\u001b[0m\n",
      "\u001b[34m[59]#011train-aucpr:0.88880#011validation-aucpr:0.87137\u001b[0m\n",
      "\u001b[34m[60]#011train-aucpr:0.89044#011validation-aucpr:0.87285\u001b[0m\n",
      "\u001b[34m[61]#011train-aucpr:0.89125#011validation-aucpr:0.87374\u001b[0m\n",
      "\u001b[34m[62]#011train-aucpr:0.89246#011validation-aucpr:0.87477\u001b[0m\n",
      "\u001b[34m[63]#011train-aucpr:0.89345#011validation-aucpr:0.87555\u001b[0m\n",
      "\u001b[34m[64]#011train-aucpr:0.89416#011validation-aucpr:0.87624\u001b[0m\n",
      "\u001b[34m[65]#011train-aucpr:0.89531#011validation-aucpr:0.87708\u001b[0m\n",
      "\u001b[34m[66]#011train-aucpr:0.89566#011validation-aucpr:0.87760\u001b[0m\n",
      "\u001b[34m[67]#011train-aucpr:0.89676#011validation-aucpr:0.87865\u001b[0m\n",
      "\u001b[34m[68]#011train-aucpr:0.89854#011validation-aucpr:0.88072\u001b[0m\n",
      "\u001b[34m[69]#011train-aucpr:0.90119#011validation-aucpr:0.88390\u001b[0m\n",
      "\u001b[34m[70]#011train-aucpr:0.90186#011validation-aucpr:0.88497\u001b[0m\n",
      "\u001b[34m[71]#011train-aucpr:0.90228#011validation-aucpr:0.88544\u001b[0m\n",
      "\u001b[34m[72]#011train-aucpr:0.90313#011validation-aucpr:0.88631\u001b[0m\n",
      "\u001b[34m[73]#011train-aucpr:0.90434#011validation-aucpr:0.88731\u001b[0m\n",
      "\u001b[34m[74]#011train-aucpr:0.90562#011validation-aucpr:0.88879\u001b[0m\n",
      "\u001b[34m[75]#011train-aucpr:0.90609#011validation-aucpr:0.88926\u001b[0m\n",
      "\u001b[34m[76]#011train-aucpr:0.90686#011validation-aucpr:0.88988\u001b[0m\n",
      "\u001b[34m[77]#011train-aucpr:0.90751#011validation-aucpr:0.89072\u001b[0m\n",
      "\u001b[34m[78]#011train-aucpr:0.90875#011validation-aucpr:0.89198\u001b[0m\n",
      "\u001b[34m[79]#011train-aucpr:0.90922#011validation-aucpr:0.89257\u001b[0m\n",
      "\u001b[34m[80]#011train-aucpr:0.90989#011validation-aucpr:0.89341\u001b[0m\n",
      "\u001b[34m[81]#011train-aucpr:0.91126#011validation-aucpr:0.89503\u001b[0m\n",
      "\u001b[34m[82]#011train-aucpr:0.91156#011validation-aucpr:0.89550\u001b[0m\n",
      "\u001b[34m[83]#011train-aucpr:0.91178#011validation-aucpr:0.89587\u001b[0m\n",
      "\u001b[34m[84]#011train-aucpr:0.91236#011validation-aucpr:0.89628\u001b[0m\n",
      "\u001b[34m[85]#011train-aucpr:0.91337#011validation-aucpr:0.89753\u001b[0m\n",
      "\u001b[34m[86]#011train-aucpr:0.91428#011validation-aucpr:0.89826\u001b[0m\n",
      "\u001b[34m[87]#011train-aucpr:0.91583#011validation-aucpr:0.90019\u001b[0m\n",
      "\u001b[34m[88]#011train-aucpr:0.91674#011validation-aucpr:0.90126\u001b[0m\n",
      "\u001b[34m[89]#011train-aucpr:0.91690#011validation-aucpr:0.90145\u001b[0m\n",
      "\u001b[34m[90]#011train-aucpr:0.91738#011validation-aucpr:0.90206\u001b[0m\n",
      "\u001b[34m[91]#011train-aucpr:0.91850#011validation-aucpr:0.90353\u001b[0m\n",
      "\u001b[34m[92]#011train-aucpr:0.91939#011validation-aucpr:0.90463\u001b[0m\n",
      "\u001b[34m[93]#011train-aucpr:0.91959#011validation-aucpr:0.90482\u001b[0m\n",
      "\u001b[34m[94]#011train-aucpr:0.92049#011validation-aucpr:0.90598\u001b[0m\n",
      "\u001b[34m[95]#011train-aucpr:0.92095#011validation-aucpr:0.90649\u001b[0m\n",
      "\u001b[34m[96]#011train-aucpr:0.92148#011validation-aucpr:0.90683\u001b[0m\n",
      "\u001b[34m[97]#011train-aucpr:0.92270#011validation-aucpr:0.90824\u001b[0m\n",
      "\u001b[34m[98]#011train-aucpr:0.92327#011validation-aucpr:0.90849\u001b[0m\n",
      "\u001b[34m[99]#011train-aucpr:0.92391#011validation-aucpr:0.90932\u001b[0m\n",
      "\u001b[34m[100]#011train-aucpr:0.92476#011validation-aucpr:0.91000\u001b[0m\n",
      "\u001b[34m[101]#011train-aucpr:0.92575#011validation-aucpr:0.91157\u001b[0m\n",
      "\u001b[34m[102]#011train-aucpr:0.92704#011validation-aucpr:0.91286\u001b[0m\n",
      "\u001b[34m[103]#011train-aucpr:0.92776#011validation-aucpr:0.91370\u001b[0m\n",
      "\u001b[34m[104]#011train-aucpr:0.92834#011validation-aucpr:0.91411\u001b[0m\n",
      "\u001b[34m[105]#011train-aucpr:0.92827#011validation-aucpr:0.91395\u001b[0m\n",
      "\u001b[34m[106]#011train-aucpr:0.92864#011validation-aucpr:0.91425\u001b[0m\n",
      "\u001b[34m[107]#011train-aucpr:0.92913#011validation-aucpr:0.91483\u001b[0m\n",
      "\u001b[34m[108]#011train-aucpr:0.92997#011validation-aucpr:0.91619\u001b[0m\n",
      "\u001b[34m[109]#011train-aucpr:0.93025#011validation-aucpr:0.91644\u001b[0m\n",
      "\u001b[34m[110]#011train-aucpr:0.93115#011validation-aucpr:0.91705\u001b[0m\n",
      "\u001b[34m[111]#011train-aucpr:0.93115#011validation-aucpr:0.91714\u001b[0m\n",
      "\u001b[34m[112]#011train-aucpr:0.93131#011validation-aucpr:0.91732\u001b[0m\n",
      "\u001b[34m[113]#011train-aucpr:0.93166#011validation-aucpr:0.91747\u001b[0m\n",
      "\u001b[34m[114]#011train-aucpr:0.93205#011validation-aucpr:0.91783\u001b[0m\n",
      "\u001b[34m[115]#011train-aucpr:0.93278#011validation-aucpr:0.91873\u001b[0m\n",
      "\u001b[34m[116]#011train-aucpr:0.93295#011validation-aucpr:0.91885\u001b[0m\n",
      "\u001b[34m[117]#011train-aucpr:0.93331#011validation-aucpr:0.91921\u001b[0m\n",
      "\u001b[34m[118]#011train-aucpr:0.93358#011validation-aucpr:0.91939\u001b[0m\n",
      "\u001b[34m[119]#011train-aucpr:0.93404#011validation-aucpr:0.91960\u001b[0m\n",
      "\u001b[34m[120]#011train-aucpr:0.93410#011validation-aucpr:0.91966\u001b[0m\n",
      "\u001b[34m[121]#011train-aucpr:0.93446#011validation-aucpr:0.92011\u001b[0m\n",
      "\u001b[34m[122]#011train-aucpr:0.93513#011validation-aucpr:0.92073\u001b[0m\n",
      "\u001b[34m[123]#011train-aucpr:0.93521#011validation-aucpr:0.92075\u001b[0m\n",
      "\u001b[34m[124]#011train-aucpr:0.93559#011validation-aucpr:0.92111\u001b[0m\n",
      "\u001b[34m[125]#011train-aucpr:0.93557#011validation-aucpr:0.92114\u001b[0m\n",
      "\u001b[34m[126]#011train-aucpr:0.93622#011validation-aucpr:0.92184\u001b[0m\n",
      "\u001b[34m[127]#011train-aucpr:0.93641#011validation-aucpr:0.92203\u001b[0m\n",
      "\u001b[34m[128]#011train-aucpr:0.93690#011validation-aucpr:0.92249\u001b[0m\n",
      "\u001b[34m[129]#011train-aucpr:0.93703#011validation-aucpr:0.92235\u001b[0m\n",
      "\u001b[34m[130]#011train-aucpr:0.93773#011validation-aucpr:0.92314\u001b[0m\n",
      "\u001b[34m[131]#011train-aucpr:0.93830#011validation-aucpr:0.92364\u001b[0m\n",
      "\u001b[34m[132]#011train-aucpr:0.93869#011validation-aucpr:0.92424\u001b[0m\n",
      "\u001b[34m[133]#011train-aucpr:0.93895#011validation-aucpr:0.92444\u001b[0m\n",
      "\u001b[34m[134]#011train-aucpr:0.93939#011validation-aucpr:0.92486\u001b[0m\n",
      "\u001b[34m[135]#011train-aucpr:0.94008#011validation-aucpr:0.92566\u001b[0m\n",
      "\u001b[34m[136]#011train-aucpr:0.94051#011validation-aucpr:0.92606\u001b[0m\n",
      "\u001b[34m[137]#011train-aucpr:0.94086#011validation-aucpr:0.92644\u001b[0m\n",
      "\u001b[34m[138]#011train-aucpr:0.94146#011validation-aucpr:0.92709\u001b[0m\n",
      "\u001b[34m[139]#011train-aucpr:0.94227#011validation-aucpr:0.92797\u001b[0m\n",
      "\u001b[34m[140]#011train-aucpr:0.94253#011validation-aucpr:0.92826\u001b[0m\n",
      "\u001b[34m[141]#011train-aucpr:0.94286#011validation-aucpr:0.92853\u001b[0m\n",
      "\u001b[34m[142]#011train-aucpr:0.94328#011validation-aucpr:0.92900\u001b[0m\n",
      "\u001b[34m[143]#011train-aucpr:0.94405#011validation-aucpr:0.92965\u001b[0m\n",
      "\u001b[34m[144]#011train-aucpr:0.94450#011validation-aucpr:0.93015\u001b[0m\n",
      "\u001b[34m[145]#011train-aucpr:0.94502#011validation-aucpr:0.93049\u001b[0m\n",
      "\u001b[34m[146]#011train-aucpr:0.94515#011validation-aucpr:0.93079\u001b[0m\n",
      "\u001b[34m[147]#011train-aucpr:0.94522#011validation-aucpr:0.93089\u001b[0m\n",
      "\u001b[34m[148]#011train-aucpr:0.94577#011validation-aucpr:0.93142\u001b[0m\n",
      "\u001b[34m[149]#011train-aucpr:0.94634#011validation-aucpr:0.93154\u001b[0m\n",
      "\u001b[34m[150]#011train-aucpr:0.94694#011validation-aucpr:0.93221\u001b[0m\n",
      "\u001b[34m[151]#011train-aucpr:0.94719#011validation-aucpr:0.93256\u001b[0m\n",
      "\u001b[34m[152]#011train-aucpr:0.94771#011validation-aucpr:0.93302\u001b[0m\n",
      "\u001b[34m[153]#011train-aucpr:0.94788#011validation-aucpr:0.93309\u001b[0m\n",
      "\u001b[34m[154]#011train-aucpr:0.94816#011validation-aucpr:0.93340\u001b[0m\n",
      "\u001b[34m[155]#011train-aucpr:0.94833#011validation-aucpr:0.93345\u001b[0m\n",
      "\u001b[34m[156]#011train-aucpr:0.94841#011validation-aucpr:0.93348\u001b[0m\n",
      "\u001b[34m[157]#011train-aucpr:0.94855#011validation-aucpr:0.93376\u001b[0m\n",
      "\u001b[34m[158]#011train-aucpr:0.94865#011validation-aucpr:0.93396\u001b[0m\n",
      "\u001b[34m[159]#011train-aucpr:0.94925#011validation-aucpr:0.93429\u001b[0m\n",
      "\u001b[34m[160]#011train-aucpr:0.94945#011validation-aucpr:0.93466\u001b[0m\n",
      "\u001b[34m[161]#011train-aucpr:0.95006#011validation-aucpr:0.93536\u001b[0m\n",
      "\u001b[34m[162]#011train-aucpr:0.95024#011validation-aucpr:0.93554\u001b[0m\n",
      "\u001b[34m[163]#011train-aucpr:0.95044#011validation-aucpr:0.93567\u001b[0m\n",
      "\u001b[34m[164]#011train-aucpr:0.95064#011validation-aucpr:0.93576\u001b[0m\n",
      "\u001b[34m[165]#011train-aucpr:0.95084#011validation-aucpr:0.93575\u001b[0m\n",
      "\u001b[34m[166]#011train-aucpr:0.95125#011validation-aucpr:0.93600\u001b[0m\n",
      "\u001b[34m[167]#011train-aucpr:0.95157#011validation-aucpr:0.93636\u001b[0m\n",
      "\u001b[34m[168]#011train-aucpr:0.95165#011validation-aucpr:0.93638\u001b[0m\n",
      "\u001b[34m[169]#011train-aucpr:0.95198#011validation-aucpr:0.93672\u001b[0m\n",
      "\u001b[34m[170]#011train-aucpr:0.95231#011validation-aucpr:0.93696\u001b[0m\n",
      "\u001b[34m[171]#011train-aucpr:0.95265#011validation-aucpr:0.93727\u001b[0m\n",
      "\u001b[34m[172]#011train-aucpr:0.95266#011validation-aucpr:0.93728\u001b[0m\n",
      "\u001b[34m[173]#011train-aucpr:0.95305#011validation-aucpr:0.93762\u001b[0m\n",
      "\u001b[34m[174]#011train-aucpr:0.95295#011validation-aucpr:0.93761\u001b[0m\n",
      "\u001b[34m[175]#011train-aucpr:0.95348#011validation-aucpr:0.93825\u001b[0m\n",
      "\u001b[34m[176]#011train-aucpr:0.95358#011validation-aucpr:0.93844\u001b[0m\n",
      "\u001b[34m[177]#011train-aucpr:0.95415#011validation-aucpr:0.93920\u001b[0m\n",
      "\u001b[34m[178]#011train-aucpr:0.95442#011validation-aucpr:0.93945\u001b[0m\n",
      "\u001b[34m[179]#011train-aucpr:0.95464#011validation-aucpr:0.93969\u001b[0m\n",
      "\u001b[34m[180]#011train-aucpr:0.95488#011validation-aucpr:0.93991\u001b[0m\n",
      "\u001b[34m[181]#011train-aucpr:0.95511#011validation-aucpr:0.94015\u001b[0m\n",
      "\u001b[34m[182]#011train-aucpr:0.95553#011validation-aucpr:0.94066\u001b[0m\n",
      "\u001b[34m[183]#011train-aucpr:0.95569#011validation-aucpr:0.94080\u001b[0m\n",
      "\u001b[34m[184]#011train-aucpr:0.95588#011validation-aucpr:0.94096\u001b[0m\n",
      "\u001b[34m[185]#011train-aucpr:0.95605#011validation-aucpr:0.94116\u001b[0m\n",
      "\u001b[34m[186]#011train-aucpr:0.95620#011validation-aucpr:0.94129\u001b[0m\n",
      "\u001b[34m[187]#011train-aucpr:0.95672#011validation-aucpr:0.94175\u001b[0m\n",
      "\u001b[34m[188]#011train-aucpr:0.95679#011validation-aucpr:0.94183\u001b[0m\n",
      "\u001b[34m[189]#011train-aucpr:0.95701#011validation-aucpr:0.94196\u001b[0m\n",
      "\u001b[34m[190]#011train-aucpr:0.95729#011validation-aucpr:0.94223\u001b[0m\n",
      "\u001b[34m[191]#011train-aucpr:0.95737#011validation-aucpr:0.94216\u001b[0m\n",
      "\u001b[34m[192]#011train-aucpr:0.95777#011validation-aucpr:0.94253\u001b[0m\n",
      "\u001b[34m[193]#011train-aucpr:0.95795#011validation-aucpr:0.94269\u001b[0m\n",
      "\u001b[34m[194]#011train-aucpr:0.95812#011validation-aucpr:0.94288\u001b[0m\n",
      "\u001b[34m[195]#011train-aucpr:0.95839#011validation-aucpr:0.94309\u001b[0m\n",
      "\u001b[34m[196]#011train-aucpr:0.95855#011validation-aucpr:0.94337\u001b[0m\n",
      "\u001b[34m[197]#011train-aucpr:0.95885#011validation-aucpr:0.94368\u001b[0m\n",
      "\u001b[34m[198]#011train-aucpr:0.95918#011validation-aucpr:0.94366\u001b[0m\n",
      "\u001b[34m[199]#011train-aucpr:0.95933#011validation-aucpr:0.94378\u001b[0m\n",
      "\n",
      "2020-11-18 19:57:40 Uploading - Uploading generated training model\n",
      "2020-11-18 19:57:40 Completed - Training job completed\n",
      "Training seconds: 300\n",
      "Billable seconds: 300\n",
      "CPU times: user 1.08 s, sys: 30 ms, total: 1.11 s\n",
      "Wall time: 7min 45s\n"
     ]
    }
   ],
   "source": [
    "%%time\n",
    "hypertune = False\n",
    "import pprint\n",
    "\n",
    "if not hypertune:\n",
    "    result = xgb.fit({'train': s3_input_train, 'validation': s3_input_validation})\n",
    "    training_job_name = xgb._current_job_name\n",
    "else:\n",
    "    import time\n",
    "\n",
    "    from sagemaker.tuner import IntegerParameter, CategoricalParameter, ContinuousParameter, HyperparameterTuner\n",
    "    hyperparameter_ranges = {'eta': ContinuousParameter(0, 1),\n",
    "                            'min_child_weight': ContinuousParameter(1, 10),\n",
    "                            'alpha': ContinuousParameter(0, 2),\n",
    "                            'max_depth': IntegerParameter(1, 10)}\n",
    "\n",
    "\n",
    "    objective_metric_name = 'validation:f1'\n",
    "\n",
    "    tuner = HyperparameterTuner(xgb,\n",
    "                            objective_metric_name,\n",
    "                            hyperparameter_ranges,\n",
    "                            max_jobs=10, \n",
    "                            base_tuning_job_name='hypertune',\n",
    "                            max_parallel_jobs=10)\n",
    "    \n",
    "    print('Starting hypertuning job')\n",
    "    tuner.fit({'train': s3_input_train, 'validation': s3_input_validation}, include_cls_metadata=False, wait=False)\n",
    "    print('Started hypertuning job', tuner.latest_tuning_job.job_name)\n",
    "\n",
    "    counter = 0\n",
    "    status = 'InProgress'\n",
    "    while status == 'InProgress':\n",
    "        tuning_job_result=boto3.client('sagemaker').describe_hyper_parameter_tuning_job(\n",
    "           HyperParameterTuningJobName=tuner.latest_tuning_job.job_name)\n",
    "        counter += 0.5\n",
    "        time.sleep(30)   \n",
    "        status = tuning_job_result['HyperParameterTuningJobStatus']\n",
    "        print(f'{counter} min., {status};', end=' ')\n",
    "        \n",
    "    if 'BestTrainingJob' in tuning_job_result:\n",
    "       training_job_name = tuning_job_result['BestTrainingJob']['TrainingJobName']\n",
    "    else:\n",
    "       raise Exception(f'No best job identified {tuning_job_result}')\n"
   ]
  },
  {
   "cell_type": "markdown",
   "metadata": {},
   "source": [
    "---\n",
    "## Host\n",
    "\n",
    "Deploy the trained model to an endpoint."
   ]
  },
  {
   "cell_type": "code",
   "execution_count": 34,
   "metadata": {},
   "outputs": [
    {
     "name": "stdout",
     "output_type": "stream",
     "text": [
      "s3://sagemaker-jfox/sagemaker/xgboost/output/fraud-detection-job-2020-11-18-19-50-23-755/output/model.tar.gz\n",
      "0.5 min: Updating endpoint; 1.0 min: Updating endpoint; 1.5 min: Updating endpoint; 2.0 min: Updating endpoint; 2.5 min: Updating endpoint; 3.0 min: Updating endpoint; 3.5 min: Updating endpoint; 4.0 min: Updating endpoint; 4.5 min: Updating endpoint; 5.0 min: Updating endpoint; 5.5 min: Updating endpoint; 6.0 min: Updating endpoint; 6.5 min: Updating endpoint; 7.0 min: InService endpoint; Finished creating or updating endpoint\n"
     ]
    }
   ],
   "source": [
    "import datetime \n",
    "import time\n",
    "\n",
    "endpoint_name = 'fraud-detect-endpoint'\n",
    "model_name = training_job_name + '-model'\n",
    "\n",
    "info = session.describe_training_job(training_job_name)\n",
    "model_data = info['ModelArtifacts']['S3ModelArtifacts']\n",
    "print(model_data)\n",
    "\n",
    "primary_container = {\n",
    "  'Image': container,\n",
    "  'ModelDataUrl': model_data\n",
    "}\n",
    "\n",
    "create_model_response = session.create_model(\n",
    "      name = model_name,\n",
    "      role = role,\n",
    "      container_defs = primary_container)\n",
    "\n",
    "\n",
    "endpoint_config_name = session.create_endpoint_config(name=endpoint_name + '-config-' + datetime.datetime.now().strftime('%m%d-%H%M%S'),\n",
    "                                              model_name=model_name,\n",
    "                                              initial_instance_count=1,\n",
    "                                              instance_type='ml.m5.xlarge',\n",
    "                                              accelerator_type='ml.eia2.medium')\n",
    "\n",
    "client = boto3.client('sagemaker')\n",
    "counter = 0\n",
    "try_now = True\n",
    "while try_now:\n",
    "  counter += 0.5\n",
    "  try:\n",
    "     updated_endpoint = client.update_endpoint(EndpointName=endpoint_name, EndpointConfigName=endpoint_config_name)\n",
    "     try_now = False\n",
    "  except Exception as e:\n",
    "     if 'Could not find endpoint'  in str(e):\n",
    "        print('Could not find endpoint; Trying to create')\n",
    "        updated_endpoint=client.create_endpoint(EndpointName=endpoint_name, EndpointConfigName=endpoint_config_name)\n",
    "        try_now = False\n",
    "     elif 'Cannot update in-progress endpoint' in str(e):\n",
    "        print(f'{counter} min: Cannot update in-progress endpoint; retrying', end='. ')\n",
    "        time.sleep(30)\n",
    "        try_now = True\n",
    "     else:  \n",
    "        raise e\n",
    "\n",
    "endpt_status = 'Updating'\n",
    "counter = 0 \n",
    "while endpt_status in ['Updating', 'Creating']:\n",
    "    counter += 0.5\n",
    "    endpt_status = client.describe_endpoint(EndpointName=endpoint_name)['EndpointStatus']\n",
    "    print(f'{counter} min: {endpt_status} endpoint; ',end='')\n",
    "    time.sleep(30)\n",
    "\n",
    "print('\\nFinished creating or updating endpoint')\n",
    "\n",
    "xgb_predictor = sagemaker.predictor.RealTimePredictor(endpoint=endpoint_name, sagemaker_session=sagemaker.Session())"
   ]
  },
  {
   "cell_type": "markdown",
   "metadata": {},
   "source": [
    "---\n",
    "\n",
    "## Evaluation\n",
    "\n",
    "Now that we have our hosted endpoint, we can generate predictions from  the  test data set.\n",
    "\n",
    "Compared actual to predicted values of whether the transaction was a \"fraud\" (`1`) or not (`0`).  Then we'll produce a  confusion matrix."
   ]
  },
  {
   "cell_type": "code",
   "execution_count": 35,
   "metadata": {},
   "outputs": [],
   "source": [
    "xgb_predictor.content_type = 'text/x-libsvm'\n",
    "xgb_predictor.deserializer = None\n",
    "\n",
    "def do_predict(data):\n",
    "    payload = '\\n'.join(data)\n",
    "    response = xgb_predictor.predict(payload).decode('utf-8')\n",
    "    result = response.split(',')\n",
    "    preds = [float(num) for num in result]\n",
    "    preds = [round(num) for num in preds]\n",
    "    return preds\n",
    "\n",
    "def batch_predict(data, batch_size):\n",
    "    items = len(data)\n",
    "    arrs = []\n",
    "    \n",
    "    for offset in range(0, items, batch_size):\n",
    "        if offset+batch_size < items:\n",
    "            results = do_predict(data[offset:(offset+batch_size)])\n",
    "            arrs.extend(results)\n",
    "        else:\n",
    "            arrs.extend(do_predict(data[offset:items]))\n",
    "        sys.stdout.write('.')\n",
    "    return(arrs)"
   ]
  },
  {
   "cell_type": "code",
   "execution_count": 36,
   "metadata": {},
   "outputs": [
    {
     "name": "stdout",
     "output_type": "stream",
     "text": [
      "............................................................................................................................................................................................................................................................................................................................................................................................................................................................................................................................................................................................................................................................................................................................................................................................................................................................................................................................................................................................................................................................................................................................................................................................................................................................................................................................................................................................................................................................................................................................................................................................................................................................................................................................................................................................................................................................................................................................................................................................................................................................................................................................................................................................................................................................................................................................................................................................................................................................................................................................................................................................................................................................................................................................................................................................................................................................................................................................CPU times: user 9.69 s, sys: 438 ms, total: 10.1 s\n",
      "Wall time: 36 s\n"
     ]
    }
   ],
   "source": [
    "%%time\n",
    "import json\n",
    "\n",
    "with open('test.libsvm', 'r') as f:\n",
    "    payload = f.read().strip()\n",
    "\n",
    "labels = [int(line.split(' ')[0]) for line in payload.split('\\n')]\n",
    "test_data = [line for line in payload.split('\\n')]\n",
    "preds = batch_predict(test_data, 100)"
   ]
  },
  {
   "cell_type": "code",
   "execution_count": 37,
   "metadata": {},
   "outputs": [
    {
     "name": "stdout",
     "output_type": "stream",
     "text": [
      "Recall = 0.91\n",
      "Precision = 0.74\n",
      "Error rate = 0.00\n",
      "F1 = 0.82\n"
     ]
    }
   ],
   "source": [
    "actual_pos = sum(1 for i in range(len(labels)) if 1 == labels[i])\n",
    "actual_neg = sum(1 for i in range(len(labels)) if 0 == labels[i])\n",
    "\n",
    "pred_pos = sum(1 for i in range(len(preds)) if 1 == preds[i])\n",
    "pred_neg = sum(1 for i in range(len(preds)) if 0 == preds[i])\n",
    "\n",
    "true_pos = sum(1 for i in range(len(preds)) if preds[i] == 1 == labels[i])\n",
    "true_neg = sum(1 for i in range(len(preds)) if preds[i] == 0 == labels[i])\n",
    "\n",
    "false_pos=sum(1 for i in range(len(preds)) if preds[i] == 1 and 0 == labels[i])\n",
    "false_neg=sum(1 for i in range(len(preds)) if preds[i] == 0 and 1 == labels[i])\n",
    "\n",
    "recall = true_pos / (true_pos + false_neg)\n",
    "precision = true_pos / (true_pos + false_pos)\n",
    "f1 = (2 * precision * recall) / (precision + recall)\n",
    "error = sum(1 for i in range(len(preds)) if preds[i] != labels[i]) / float(len(preds))\n",
    "\n",
    "assert recall <= f1 <= precision or precision <= f1 <= recall \n",
    "assert true_pos + false_neg == actual_pos\n",
    "assert true_neg + false_pos == actual_neg\n",
    "#print('pred_pos', pred_pos,'pred_neg', pred_neg)\n",
    "\n",
    "assert len(preds)==len(labels)\n",
    "\n",
    "#print(len(preds), 'predictions and labels')\n",
    "\n",
    "#print('actual_pos', actual_pos, 'actual_neg', actual_neg)\n",
    "assert actual_pos + actual_neg==len(labels)\n",
    "                   \n",
    "#print('true_pos', true_pos, 'false_pos', false_pos)\n",
    "#assert  true_pos+false_pos == pred_pos\n",
    "\n",
    "#print('true_neg', true_neg, 'false_neg', false_neg )\n",
    "assert true_neg + false_neg== pred_neg\n",
    "\n",
    "#print('pred_pos+pred_neg',pred_pos+pred_neg)\n",
    "assert pred_pos + pred_neg==len(preds)\n",
    "\n",
    "print(f'Recall = {recall:.2f}')\n",
    "print(f'Precision = {precision:.2f}')\n",
    "print(f'Error rate = {error:.2f}')\n",
    "print(f'F1 = {f1:.2f}')"
   ]
  },
  {
   "cell_type": "markdown",
   "metadata": {},
   "source": [
    "Show confusion matrix."
   ]
  },
  {
   "cell_type": "code",
   "execution_count": 38,
   "metadata": {},
   "outputs": [
    {
     "data": {
      "text/html": [
       "<div>\n",
       "<style scoped>\n",
       "    .dataframe tbody tr th:only-of-type {\n",
       "        vertical-align: middle;\n",
       "    }\n",
       "\n",
       "    .dataframe tbody tr th {\n",
       "        vertical-align: top;\n",
       "    }\n",
       "\n",
       "    .dataframe thead th {\n",
       "        text-align: right;\n",
       "    }\n",
       "</style>\n",
       "<table border=\"1\" class=\"dataframe\">\n",
       "  <thead>\n",
       "    <tr style=\"text-align: right;\">\n",
       "      <th>predicted as fraud</th>\n",
       "      <th>0</th>\n",
       "      <th>1</th>\n",
       "    </tr>\n",
       "    <tr>\n",
       "      <th>actual fraud</th>\n",
       "      <th></th>\n",
       "      <th></th>\n",
       "    </tr>\n",
       "  </thead>\n",
       "  <tbody>\n",
       "    <tr>\n",
       "      <th>0</th>\n",
       "      <td>280089</td>\n",
       "      <td>261</td>\n",
       "    </tr>\n",
       "    <tr>\n",
       "      <th>1</th>\n",
       "      <td>76</td>\n",
       "      <td>759</td>\n",
       "    </tr>\n",
       "  </tbody>\n",
       "</table>\n",
       "</div>"
      ],
      "text/plain": [
       "predicted as fraud       0    1\n",
       "actual fraud                   \n",
       "0                   280089  261\n",
       "1                       76  759"
      ]
     },
     "execution_count": 38,
     "metadata": {},
     "output_type": "execute_result"
    }
   ],
   "source": [
    "pd.crosstab(index=np.array(labels), columns=np.array(preds), rownames=['actual fraud'],  colnames=['predicted as fraud'])"
   ]
  },
  {
   "cell_type": "markdown",
   "metadata": {},
   "source": []
  },
  {
   "cell_type": "markdown",
   "metadata": {},
   "source": [
    " "
   ]
  },
  {
   "cell_type": "markdown",
   "metadata": {},
   "source": [
    "Clean up to save money"
   ]
  },
  {
   "cell_type": "code",
   "execution_count": 39,
   "metadata": {},
   "outputs": [],
   "source": [
    "#session.delete_endpoint(xgb_predictor.endpoint)"
   ]
  },
  {
   "cell_type": "code",
   "execution_count": null,
   "metadata": {},
   "outputs": [],
   "source": []
  }
 ],
 "metadata": {
  "kernelspec": {
   "display_name": "conda_python3",
   "language": "python",
   "name": "conda_python3"
  },
  "language_info": {
   "codemirror_mode": {
    "name": "ipython",
    "version": 3
   },
   "file_extension": ".py",
   "mimetype": "text/x-python",
   "name": "python",
   "nbconvert_exporter": "python",
   "pygments_lexer": "ipython3",
   "version": "3.6.10"
  },
  "notice": "Copyright 2017 Amazon.com, Inc. or its affiliates. All Rights Reserved.  Licensed under the Apache License, Version 2.0 (the \"License\"). You may not use this file except in compliance with the License. A copy of the License is located at http://aws.amazon.com/apache2.0/ or in the \"license\" file accompanying this file. This file is distributed on an \"AS IS\" BASIS, WITHOUT WARRANTIES OR CONDITIONS OF ANY KIND, either express or implied. See the License for the specific language governing permissions and limitations under the License."
 },
 "nbformat": 4,
 "nbformat_minor": 4
}
