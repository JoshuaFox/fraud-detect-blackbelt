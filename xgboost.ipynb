{
 "cells": [
  {
   "cell_type": "code",
   "execution_count": 1,
   "metadata": {},
   "outputs": [
    {
     "name": "stdout",
     "output_type": "stream",
     "text": [
      "Starting at 2020-11-26 15:26:48.066176\n",
      "Requirement already satisfied: numpy in /home/ec2-user/anaconda3/envs/python3/lib/python3.6/site-packages (from -r requirements.txt (line 1)) (1.18.1)\n",
      "Requirement already satisfied: pandas in /home/ec2-user/anaconda3/envs/python3/lib/python3.6/site-packages (from -r requirements.txt (line 2)) (1.0.1)\n",
      "Requirement already satisfied: matplotlib in /home/ec2-user/anaconda3/envs/python3/lib/python3.6/site-packages (from -r requirements.txt (line 3)) (3.1.3)\n",
      "Requirement already satisfied: jupyter in /home/ec2-user/anaconda3/envs/python3/lib/python3.6/site-packages (from -r requirements.txt (line 4)) (1.0.0)\n",
      "Requirement already satisfied: boto3 in /home/ec2-user/anaconda3/envs/python3/lib/python3.6/site-packages (from -r requirements.txt (line 5)) (1.16.9)\n",
      "Requirement already satisfied: sagemaker in /home/ec2-user/anaconda3/envs/python3/lib/python3.6/site-packages (from -r requirements.txt (line 6)) (2.16.1)\n",
      "Requirement already satisfied: scikit-learn==0.23.1 in /home/ec2-user/anaconda3/envs/python3/lib/python3.6/site-packages (from -r requirements.txt (line 7)) (0.23.1)\n",
      "Requirement already satisfied: imbalanced-learn in /home/ec2-user/anaconda3/envs/python3/lib/python3.6/site-packages (from -r requirements.txt (line 8)) (0.7.0)\n",
      "Requirement already satisfied: category_encoders in /home/ec2-user/anaconda3/envs/python3/lib/python3.6/site-packages (from -r requirements.txt (line 9)) (2.2.2)\n",
      "Requirement already satisfied: seaborn in /home/ec2-user/anaconda3/envs/python3/lib/python3.6/site-packages (from -r requirements.txt (line 10)) (0.10.0)\n",
      "Requirement already satisfied: pyarrow in /home/ec2-user/anaconda3/envs/python3/lib/python3.6/site-packages (from -r requirements.txt (line 11)) (2.0.0)\n",
      "Requirement already satisfied: python-dateutil>=2.6.1 in /home/ec2-user/anaconda3/envs/python3/lib/python3.6/site-packages (from pandas->-r requirements.txt (line 2)) (2.8.1)\n",
      "Requirement already satisfied: pytz>=2017.2 in /home/ec2-user/anaconda3/envs/python3/lib/python3.6/site-packages (from pandas->-r requirements.txt (line 2)) (2019.3)\n",
      "Requirement already satisfied: pyparsing!=2.0.4,!=2.1.2,!=2.1.6,>=2.0.1 in /home/ec2-user/anaconda3/envs/python3/lib/python3.6/site-packages (from matplotlib->-r requirements.txt (line 3)) (2.4.6)\n",
      "Requirement already satisfied: cycler>=0.10 in /home/ec2-user/anaconda3/envs/python3/lib/python3.6/site-packages (from matplotlib->-r requirements.txt (line 3)) (0.10.0)\n",
      "Requirement already satisfied: kiwisolver>=1.0.1 in /home/ec2-user/anaconda3/envs/python3/lib/python3.6/site-packages (from matplotlib->-r requirements.txt (line 3)) (1.1.0)\n",
      "Requirement already satisfied: ipywidgets in /home/ec2-user/anaconda3/envs/python3/lib/python3.6/site-packages (from jupyter->-r requirements.txt (line 4)) (7.5.1)\n",
      "Requirement already satisfied: nbconvert in /home/ec2-user/anaconda3/envs/python3/lib/python3.6/site-packages (from jupyter->-r requirements.txt (line 4)) (5.6.1)\n",
      "Requirement already satisfied: ipykernel in /home/ec2-user/anaconda3/envs/python3/lib/python3.6/site-packages (from jupyter->-r requirements.txt (line 4)) (5.1.4)\n",
      "Requirement already satisfied: notebook in /home/ec2-user/anaconda3/envs/python3/lib/python3.6/site-packages (from jupyter->-r requirements.txt (line 4)) (6.0.3)\n",
      "Requirement already satisfied: qtconsole in /home/ec2-user/anaconda3/envs/python3/lib/python3.6/site-packages (from jupyter->-r requirements.txt (line 4)) (4.6.0)\n",
      "Requirement already satisfied: jupyter-console in /home/ec2-user/anaconda3/envs/python3/lib/python3.6/site-packages (from jupyter->-r requirements.txt (line 4)) (6.1.0)\n",
      "Requirement already satisfied: botocore<1.20.0,>=1.19.9 in /home/ec2-user/anaconda3/envs/python3/lib/python3.6/site-packages (from boto3->-r requirements.txt (line 5)) (1.19.9)\n",
      "Requirement already satisfied: s3transfer<0.4.0,>=0.3.0 in /home/ec2-user/anaconda3/envs/python3/lib/python3.6/site-packages (from boto3->-r requirements.txt (line 5)) (0.3.3)\n",
      "Requirement already satisfied: jmespath<1.0.0,>=0.7.1 in /home/ec2-user/anaconda3/envs/python3/lib/python3.6/site-packages (from boto3->-r requirements.txt (line 5)) (0.10.0)\n",
      "Requirement already satisfied: importlib-metadata>=1.4.0 in /home/ec2-user/anaconda3/envs/python3/lib/python3.6/site-packages (from sagemaker->-r requirements.txt (line 6)) (1.5.0)\n",
      "Requirement already satisfied: google-pasta in /home/ec2-user/anaconda3/envs/python3/lib/python3.6/site-packages (from sagemaker->-r requirements.txt (line 6)) (0.2.0)\n",
      "Requirement already satisfied: smdebug-rulesconfig==0.1.5 in /home/ec2-user/anaconda3/envs/python3/lib/python3.6/site-packages (from sagemaker->-r requirements.txt (line 6)) (0.1.5)\n",
      "Requirement already satisfied: packaging>=20.0 in /home/ec2-user/anaconda3/envs/python3/lib/python3.6/site-packages (from sagemaker->-r requirements.txt (line 6)) (20.1)\n",
      "Requirement already satisfied: protobuf>=3.1 in /home/ec2-user/anaconda3/envs/python3/lib/python3.6/site-packages (from sagemaker->-r requirements.txt (line 6)) (3.11.4)\n",
      "Requirement already satisfied: protobuf3-to-dict>=0.1.5 in /home/ec2-user/anaconda3/envs/python3/lib/python3.6/site-packages (from sagemaker->-r requirements.txt (line 6)) (0.1.5)\n",
      "Requirement already satisfied: joblib>=0.11 in /home/ec2-user/anaconda3/envs/python3/lib/python3.6/site-packages (from scikit-learn==0.23.1->-r requirements.txt (line 7)) (0.14.1)\n",
      "Requirement already satisfied: scipy>=0.19.1 in /home/ec2-user/anaconda3/envs/python3/lib/python3.6/site-packages (from scikit-learn==0.23.1->-r requirements.txt (line 7)) (1.4.1)\n",
      "Requirement already satisfied: threadpoolctl>=2.0.0 in /home/ec2-user/anaconda3/envs/python3/lib/python3.6/site-packages (from scikit-learn==0.23.1->-r requirements.txt (line 7)) (2.1.0)\n",
      "Requirement already satisfied: statsmodels>=0.9.0 in /home/ec2-user/anaconda3/envs/python3/lib/python3.6/site-packages (from category_encoders->-r requirements.txt (line 9)) (0.11.0)\n",
      "Requirement already satisfied: patsy>=0.5.1 in /home/ec2-user/anaconda3/envs/python3/lib/python3.6/site-packages (from category_encoders->-r requirements.txt (line 9)) (0.5.1)\n",
      "Requirement already satisfied: six>=1.5 in /home/ec2-user/anaconda3/envs/python3/lib/python3.6/site-packages (from python-dateutil>=2.6.1->pandas->-r requirements.txt (line 2)) (1.14.0)\n",
      "Requirement already satisfied: setuptools in /home/ec2-user/anaconda3/envs/python3/lib/python3.6/site-packages (from kiwisolver>=1.0.1->matplotlib->-r requirements.txt (line 3)) (45.2.0.post20200210)\n",
      "Requirement already satisfied: widgetsnbextension~=3.5.0 in /home/ec2-user/anaconda3/envs/python3/lib/python3.6/site-packages (from ipywidgets->jupyter->-r requirements.txt (line 4)) (3.5.1)\n",
      "Requirement already satisfied: nbformat>=4.2.0 in /home/ec2-user/anaconda3/envs/python3/lib/python3.6/site-packages (from ipywidgets->jupyter->-r requirements.txt (line 4)) (5.0.4)\n",
      "Requirement already satisfied: ipython>=4.0.0; python_version >= \"3.3\" in /home/ec2-user/anaconda3/envs/python3/lib/python3.6/site-packages (from ipywidgets->jupyter->-r requirements.txt (line 4)) (7.12.0)\n",
      "Requirement already satisfied: traitlets>=4.3.1 in /home/ec2-user/anaconda3/envs/python3/lib/python3.6/site-packages (from ipywidgets->jupyter->-r requirements.txt (line 4)) (4.3.3)\n",
      "Requirement already satisfied: testpath in /home/ec2-user/anaconda3/envs/python3/lib/python3.6/site-packages (from nbconvert->jupyter->-r requirements.txt (line 4)) (0.4.4)\n",
      "Requirement already satisfied: pandocfilters>=1.4.1 in /home/ec2-user/anaconda3/envs/python3/lib/python3.6/site-packages (from nbconvert->jupyter->-r requirements.txt (line 4)) (1.4.2)\n",
      "Requirement already satisfied: jinja2>=2.4 in /home/ec2-user/anaconda3/envs/python3/lib/python3.6/site-packages (from nbconvert->jupyter->-r requirements.txt (line 4)) (2.11.1)\n",
      "Requirement already satisfied: defusedxml in /home/ec2-user/anaconda3/envs/python3/lib/python3.6/site-packages (from nbconvert->jupyter->-r requirements.txt (line 4)) (0.6.0)\n",
      "Requirement already satisfied: pygments in /home/ec2-user/anaconda3/envs/python3/lib/python3.6/site-packages (from nbconvert->jupyter->-r requirements.txt (line 4)) (2.5.2)\n",
      "Requirement already satisfied: mistune<2,>=0.8.1 in /home/ec2-user/anaconda3/envs/python3/lib/python3.6/site-packages (from nbconvert->jupyter->-r requirements.txt (line 4)) (0.8.4)\n",
      "Requirement already satisfied: bleach in /home/ec2-user/anaconda3/envs/python3/lib/python3.6/site-packages (from nbconvert->jupyter->-r requirements.txt (line 4)) (3.2.1)\n",
      "Requirement already satisfied: entrypoints>=0.2.2 in /home/ec2-user/anaconda3/envs/python3/lib/python3.6/site-packages (from nbconvert->jupyter->-r requirements.txt (line 4)) (0.3)\n",
      "Requirement already satisfied: jupyter-core in /home/ec2-user/anaconda3/envs/python3/lib/python3.6/site-packages (from nbconvert->jupyter->-r requirements.txt (line 4)) (4.6.1)\n",
      "Requirement already satisfied: tornado>=4.2 in /home/ec2-user/anaconda3/envs/python3/lib/python3.6/site-packages (from ipykernel->jupyter->-r requirements.txt (line 4)) (6.0.3)\n",
      "Requirement already satisfied: jupyter-client in /home/ec2-user/anaconda3/envs/python3/lib/python3.6/site-packages (from ipykernel->jupyter->-r requirements.txt (line 4)) (5.3.4)\n",
      "Requirement already satisfied: prometheus-client in /home/ec2-user/anaconda3/envs/python3/lib/python3.6/site-packages (from notebook->jupyter->-r requirements.txt (line 4)) (0.7.1)\n",
      "Requirement already satisfied: pyzmq>=17 in /home/ec2-user/anaconda3/envs/python3/lib/python3.6/site-packages (from notebook->jupyter->-r requirements.txt (line 4)) (18.1.1)\n",
      "Requirement already satisfied: terminado>=0.8.1 in /home/ec2-user/anaconda3/envs/python3/lib/python3.6/site-packages (from notebook->jupyter->-r requirements.txt (line 4)) (0.8.3)\n",
      "Requirement already satisfied: ipython-genutils in /home/ec2-user/anaconda3/envs/python3/lib/python3.6/site-packages (from notebook->jupyter->-r requirements.txt (line 4)) (0.2.0)\n",
      "Requirement already satisfied: Send2Trash in /home/ec2-user/anaconda3/envs/python3/lib/python3.6/site-packages (from notebook->jupyter->-r requirements.txt (line 4)) (1.5.0)\n",
      "Requirement already satisfied: prompt-toolkit!=3.0.0,!=3.0.1,<3.1.0,>=2.0.0 in /home/ec2-user/anaconda3/envs/python3/lib/python3.6/site-packages (from jupyter-console->jupyter->-r requirements.txt (line 4)) (3.0.3)\n",
      "Requirement already satisfied: urllib3<1.26,>=1.25.4; python_version != \"3.4\" in /home/ec2-user/anaconda3/envs/python3/lib/python3.6/site-packages (from botocore<1.20.0,>=1.19.9->boto3->-r requirements.txt (line 5)) (1.25.10)\n",
      "Requirement already satisfied: zipp>=0.5 in /home/ec2-user/anaconda3/envs/python3/lib/python3.6/site-packages (from importlib-metadata>=1.4.0->sagemaker->-r requirements.txt (line 6)) (2.2.0)\n",
      "Requirement already satisfied: jsonschema!=2.5.0,>=2.4 in /home/ec2-user/anaconda3/envs/python3/lib/python3.6/site-packages (from nbformat>=4.2.0->ipywidgets->jupyter->-r requirements.txt (line 4)) (3.2.0)\n",
      "Requirement already satisfied: pexpect; sys_platform != \"win32\" in /home/ec2-user/anaconda3/envs/python3/lib/python3.6/site-packages (from ipython>=4.0.0; python_version >= \"3.3\"->ipywidgets->jupyter->-r requirements.txt (line 4)) (4.8.0)\n",
      "Requirement already satisfied: jedi>=0.10 in /home/ec2-user/anaconda3/envs/python3/lib/python3.6/site-packages (from ipython>=4.0.0; python_version >= \"3.3\"->ipywidgets->jupyter->-r requirements.txt (line 4)) (0.14.1)\n",
      "Requirement already satisfied: pickleshare in /home/ec2-user/anaconda3/envs/python3/lib/python3.6/site-packages (from ipython>=4.0.0; python_version >= \"3.3\"->ipywidgets->jupyter->-r requirements.txt (line 4)) (0.7.5)\n",
      "Requirement already satisfied: decorator in /home/ec2-user/anaconda3/envs/python3/lib/python3.6/site-packages (from ipython>=4.0.0; python_version >= \"3.3\"->ipywidgets->jupyter->-r requirements.txt (line 4)) (4.4.1)\n",
      "Requirement already satisfied: backcall in /home/ec2-user/anaconda3/envs/python3/lib/python3.6/site-packages (from ipython>=4.0.0; python_version >= \"3.3\"->ipywidgets->jupyter->-r requirements.txt (line 4)) (0.1.0)\n",
      "Requirement already satisfied: MarkupSafe>=0.23 in /home/ec2-user/anaconda3/envs/python3/lib/python3.6/site-packages (from jinja2>=2.4->nbconvert->jupyter->-r requirements.txt (line 4)) (1.1.1)\n",
      "Requirement already satisfied: webencodings in /home/ec2-user/anaconda3/envs/python3/lib/python3.6/site-packages (from bleach->nbconvert->jupyter->-r requirements.txt (line 4)) (0.5.1)\n",
      "Requirement already satisfied: wcwidth in /home/ec2-user/anaconda3/envs/python3/lib/python3.6/site-packages (from prompt-toolkit!=3.0.0,!=3.0.1,<3.1.0,>=2.0.0->jupyter-console->jupyter->-r requirements.txt (line 4)) (0.1.8)\n",
      "Requirement already satisfied: pyrsistent>=0.14.0 in /home/ec2-user/anaconda3/envs/python3/lib/python3.6/site-packages (from jsonschema!=2.5.0,>=2.4->nbformat>=4.2.0->ipywidgets->jupyter->-r requirements.txt (line 4)) (0.15.7)\n",
      "Requirement already satisfied: attrs>=17.4.0 in /home/ec2-user/anaconda3/envs/python3/lib/python3.6/site-packages (from jsonschema!=2.5.0,>=2.4->nbformat>=4.2.0->ipywidgets->jupyter->-r requirements.txt (line 4)) (19.3.0)\n",
      "Requirement already satisfied: ptyprocess>=0.5 in /home/ec2-user/anaconda3/envs/python3/lib/python3.6/site-packages (from pexpect; sys_platform != \"win32\"->ipython>=4.0.0; python_version >= \"3.3\"->ipywidgets->jupyter->-r requirements.txt (line 4)) (0.6.0)\n",
      "Requirement already satisfied: parso>=0.5.0 in /home/ec2-user/anaconda3/envs/python3/lib/python3.6/site-packages (from jedi>=0.10->ipython>=4.0.0; python_version >= \"3.3\"->ipywidgets->jupyter->-r requirements.txt (line 4)) (0.5.2)\n",
      "\u001b[33mWARNING: You are using pip version 20.0.2; however, version 20.2.4 is available.\n",
      "You should consider upgrading via the '/home/ec2-user/anaconda3/envs/python3/bin/python -m pip install --upgrade pip' command.\u001b[0m\n",
      "CPU times: user 43.8 ms, sys: 30.2 ms, total: 74 ms\n",
      "Wall time: 2.95 s\n"
     ]
    }
   ],
   "source": [
    "%%time\n",
    "import sys;\n",
    "import datetime\n",
    "print('Starting at', datetime.datetime.now())\n",
    "!{sys.executable} -m pip install -r requirements.txt"
   ]
  },
  {
   "cell_type": "code",
   "execution_count": 2,
   "metadata": {
    "isConfigCell": true
   },
   "outputs": [
    {
     "name": "stdout",
     "output_type": "stream",
     "text": [
      "Role arn:aws:iam::649592902942:role/service-role/AmazonSageMaker-ExecutionRole-20201021T144991\n",
      "Bucket sagemaker-jfox in region eu-west-1\n",
      "CPU times: user 835 ms, sys: 97.9 ms, total: 933 ms\n",
      "Wall time: 3.9 s\n"
     ]
    }
   ],
   "source": [
    "%%time\n",
    "import boto3\n",
    "import sagemaker\n",
    "\n",
    "session = sagemaker.Session() \n",
    "region = session.boto_region_name \n",
    "\n",
    "bucket = 'sagemaker-jfox'\n",
    " \n",
    "prefix = 'sagemaker/xgboost'\n",
    "role = sagemaker.get_execution_role()\n",
    "print('Role', role)\n",
    "print(f'Bucket {bucket} in region {region}')"
   ]
  },
  {
   "cell_type": "markdown",
   "metadata": {},
   "source": [
    "\n"
   ]
  },
  {
   "cell_type": "code",
   "execution_count": 3,
   "metadata": {},
   "outputs": [
    {
     "name": "stdout",
     "output_type": "stream",
     "text": [
      "Length 6362620\n",
      "CPU times: user 11.3 s, sys: 1.5 s, total: 12.9 s\n",
      "Wall time: 16 s\n"
     ]
    }
   ],
   "source": [
    "%%time\n",
    "import random\n",
    "import pandas as pd\n",
    "raw_data_filename = 'frauddetection.csv'\n",
    "\n",
    "s3 = boto3.resource('s3', region_name=region)\n",
    "#s3.Bucket(bucket).download_file('frauddetection/' + raw_data_filename, raw_data_filename)\n",
    "percent_to_read = 100\n",
    "fraction_to_read = percent_to_read / 100  \n",
    "df = pd.read_csv('./' + raw_data_filename,  skiprows=lambda i: i>0 and random.random() > fraction_to_read)\n",
    "pd.set_option('display.max_rows', 10) \n",
    "pd.set_option('display.width', 1000)\n",
    "\n",
    "print('Length', len(df))\n",
    "target_col='isFraud'"
   ]
  },
  {
   "cell_type": "markdown",
   "metadata": {},
   "source": [
    "Counts of each class to determine imbalance."
   ]
  },
  {
   "cell_type": "code",
   "execution_count": 4,
   "metadata": {},
   "outputs": [
    {
     "name": "stdout",
     "output_type": "stream",
     "text": [
      "Fraud 8213 ; Not fraud 6354407 ; Total 6362620\n"
     ]
    }
   ],
   "source": [
    "def count_positive_and_negative(df):\n",
    "    num_positive = len(df.loc[  df[target_col] == 1 ])\n",
    "    num_negative = len(df) - num_positive\n",
    "    return num_positive, num_negative\n",
    "\n",
    "num_positive, num_negative = count_positive_and_negative(df)\n",
    "\n",
    "print('Fraud', num_positive, '; Not fraud', num_negative, '; Total', len(df))"
   ]
  },
  {
   "cell_type": "markdown",
   "metadata": {},
   "source": [
    "Not using `isFlaggedFraud`."
   ]
  },
  {
   "cell_type": "code",
   "execution_count": 5,
   "metadata": {},
   "outputs": [],
   "source": [
    "df = df.drop(['isFlaggedFraud'], axis=1)"
   ]
  },
  {
   "cell_type": "markdown",
   "metadata": {},
   "source": [
    "Plot distribution of positive vs negative, in log scale because of the imbalance"
   ]
  },
  {
   "cell_type": "code",
   "execution_count": 6,
   "metadata": {},
   "outputs": [
    {
     "data": {
      "image/png": "[encoded data removed]",
      "text/plain": [
       "<Figure size 432x288 with 1 Axes>"
      ]
     },
     "metadata": {
      "needs_background": "light"
     },
     "output_type": "display_data"
    }
   ],
   "source": [
    "import math\n",
    "import matplotlib.pyplot as plt   \n",
    "def plot_positive_negative_counts(df, target_col):\n",
    "    val_counts=df[target_col].value_counts()\n",
    "    fig, ax = plt.subplots()\n",
    "    ax.set(yscale='log')\n",
    "    plt.bar(['Yes', 'No'], val_counts)\n",
    "    plt.ylabel('count')\n",
    "    plt.show()\n",
    "    \n",
    "plot_positive_negative_counts(df,target_col)"
   ]
  },
  {
   "cell_type": "markdown",
   "metadata": {},
   "source": [
    "Scale the numerical values."
   ]
  },
  {
   "cell_type": "code",
   "execution_count": 7,
   "metadata": {},
   "outputs": [],
   "source": [
    "#Split numerical from non-numerical\n",
    "columns = df.columns\n",
    "numerical_cols = ['amount', 'oldbalanceOrg', 'newbalanceOrig', 'oldbalanceDest', 'newbalanceDest']\n",
    "other_col =[c for c in columns if  c not in numerical_cols]\n",
    "df_other = df[other_col]\n",
    "\n",
    "df_num = df[numerical_cols]\n",
    "from sklearn.preprocessing import StandardScaler\n",
    "scaler = StandardScaler()\n",
    "df_num = pd.DataFrame(scaler.fit_transform(df_num), columns=df_num.columns)\n",
    "df = pd.concat([df_num, df_other], axis=1)\n",
    "df = df[columns] # Put back in old order"
   ]
  },
  {
   "cell_type": "markdown",
   "metadata": {},
   "source": [
    "Move target to the left, per Sagemaker standard"
   ]
  },
  {
   "cell_type": "code",
   "execution_count": 8,
   "metadata": {},
   "outputs": [],
   "source": [
    "cols = df.columns.tolist()\n",
    "cols.remove(target_col)\n",
    "cols = [target_col] + cols\n",
    "df = df[cols] "
   ]
  },
  {
   "cell_type": "markdown",
   "metadata": {},
   "source": [
    "Transform hour of day to a form suited for cyclical data"
   ]
  },
  {
   "cell_type": "code",
   "execution_count": 9,
   "metadata": {},
   "outputs": [],
   "source": [
    "import numpy as np\n",
    "\n",
    "df['hour24sin'] = np.sin(df['step'] * math.pi/24)\n",
    "df['hour24cos'] = np.cos(df['step'] * math.pi/24)\n",
    "df = df.drop('step', axis=1)"
   ]
  },
  {
   "cell_type": "code",
   "execution_count": 10,
   "metadata": {},
   "outputs": [
    {
     "data": {
      "image/png": "[encoded data removed]",
      "text/plain": [
       "<Figure size 1080x360 with 4 Axes>"
      ]
     },
     "metadata": {
      "needs_background": "light"
     },
     "output_type": "display_data"
    }
   ],
   "source": [
    "import seaborn  \n",
    "\n",
    "fig, axes = plt.subplots( 1,2, figsize=(15,5))\n",
    "\n",
    "def heatmap(fraud_cases):\n",
    "    lbl='Fraud' if  fraud_cases else 'Non-fraud'\n",
    "    # Coerced to int, below\n",
    "    axes[1-fraud_cases].set_title(f'{lbl} cases: Heatmap')\n",
    "    seaborn.heatmap(df.query(f'isFraud == {fraud_cases}').drop([target_col], 1).corr(),  cmap='Oranges', ax=axes[1-fraud_cases])\n",
    "\n",
    "heatmap(True)\n",
    "heatmap(False)\n",
    "\n",
    "plt.show()"
   ]
  },
  {
   "cell_type": "markdown",
   "metadata": {},
   "source": [
    "Distribution of types. All `isFraud` rows have `type` `TRANSFER` or `CASH_OUT`, never   `CASH_IN` or `PAYMENT` or `DEBIT`. Could filter these out."
   ]
  },
  {
   "cell_type": "code",
   "execution_count": 11,
   "metadata": {},
   "outputs": [
    {
     "data": {
      "image/png": "[encoded data removed]",
      "text/plain": [
       "<Figure size 360x360 with 1 Axes>"
      ]
     },
     "metadata": {},
     "output_type": "display_data"
    }
   ],
   "source": [
    "df['type'].value_counts().plot.pie(figsize=(5, 5), autopct='%.f')\n",
    "plt.title('Types')\n",
    "plt.tight_layout()"
   ]
  },
  {
   "cell_type": "markdown",
   "metadata": {},
   "source": [
    "Make dummies (onehot) for `type` field."
   ]
  },
  {
   "cell_type": "code",
   "execution_count": 12,
   "metadata": {},
   "outputs": [],
   "source": [
    "cols = df.columns.tolist()\n",
    "cols.remove(target_col)\n",
    "cols = [target_col] + cols\n",
    "df = df[cols] # Move target to the left\n",
    "\n",
    "df_dummies=pd.get_dummies(df['type'],drop_first=True )\n",
    "\n",
    "df=df.drop(['type'], axis=1)\n",
    "df = pd.concat([df, df_dummies], axis=1)"
   ]
  },
  {
   "cell_type": "markdown",
   "metadata": {},
   "source": [
    "We could use *HashingEncoder* to handle categorical columns with high cardinality which cannot be onehotted as that would generate too many columns and a too-sparse matrix. However, this seems to provide no accuracy benefit."
   ]
  },
  {
   "cell_type": "code",
   "execution_count": 13,
   "metadata": {},
   "outputs": [
    {
     "name": "stdout",
     "output_type": "stream",
     "text": [
      "Dropping high-cardinality categorical columns\n",
      "CPU times: user 858 ms, sys: 417 ms, total: 1.27 s\n",
      "Wall time: 1.27 s\n"
     ]
    }
   ],
   "source": [
    "%%time\n",
    "high_cardinality__categorical_col = ['nameOrig', 'nameDest']\n",
    "use_hashing_encoder = False\n",
    "if not use_hashing_encoder:\n",
    "    print('Dropping high-cardinality categorical columns')\n",
    "    df=df.drop(high_cardinality__categorical_col, axis=1)\n",
    "else:\n",
    "   import category_encoders as ce  \n",
    "   columns_before = [x for x in df.columns if x not in high_cardinality__categorical_col+[target_col]]\n",
    "   col_prefix = 'col_'\n",
    "  \n",
    "   def make_col_mapping(cols):\n",
    "      col_mapping = {}\n",
    "      for c in cols:\n",
    "          if c[:4] == col_prefix:\n",
    "             num = c.split('_')[-1]\n",
    "             int(num) # check format\n",
    "             col_mapping[c] = hashencode_this + \"_\" + num\n",
    "     \n",
    "      return col_mapping\n",
    "\n",
    "  \n",
    "   def hashencode(hashencode_this, df, previous_hash_cols):\n",
    "        \"\"\"Could hashencode both columns, but for now hashencode does not seem to provide a benefit.\"\"\"\n",
    "        for c in df.columns:\n",
    "            assert c[:4] != col_prefix,  df.columns\n",
    "        cpus_in_t2xlarge = 4\n",
    "        default_max_sample = len(df)/cpus_in_t2xlarge\n",
    "        max_sample = default_max_sample/2\n",
    "        ce_hash = ce.HashingEncoder(cols = [hashencode_this],max_sample=max_sample)\n",
    "        X1 = df.drop([target_col], axis=1)\n",
    "        y1 = df[target_col]\n",
    "        with_hashing = ce_hash.fit_transform(X1, y1)\n",
    "        hashed = with_hashing.drop(columns_before+previous_hash_cols, axis=1)\n",
    "        generated_cols = [x for x in hashed.columns if x[:4] == col_prefix]\n",
    "        col_mapping = make_col_mapping(generated_cols)\n",
    "\n",
    "        hashed = hashed.rename(columns = col_mapping)\n",
    "        df = pd.concat([y1, X1, hashed], axis=1)\n",
    "\n",
    "        df = df.drop([hashencode_this], axis=1)\n",
    "        return df, list(col_mapping.values())\n",
    "\n",
    "   print('Hashencoding high-cardinality categorical columns')\n",
    "   previous_hash_cols = []\n",
    "   for hashencode_this in high_cardinality__categorical_col: \n",
    "     df, previous_hash_cols = hashencode(hashencode_this,df,previous_hash_cols)\n",
    " "
   ]
  },
  {
   "cell_type": "markdown",
   "metadata": {},
   "source": [
    "Optionally use *SMOTENC* for unbalanced classes, though we may stick with the XGBoost parameters."
   ]
  },
  {
   "cell_type": "code",
   "execution_count": 14,
   "metadata": {},
   "outputs": [
    {
     "name": "stdout",
     "output_type": "stream",
     "text": [
      "CPU times: user 96.5 ms, sys: 12.9 ms, total: 109 ms\n",
      "Wall time: 292 ms\n"
     ]
    }
   ],
   "source": [
    "%%time \n",
    "from imblearn.over_sampling import SMOTENC\n",
    "\n",
    "use_smote = False # Can just use weighting in XGBOOST instead of SMOTENC\n",
    "\n",
    "if use_smote:\n",
    "   ycol=target_col\n",
    "   Xcol=list(df.columns)\n",
    "   Xcol.remove(ycol)\n",
    " \n",
    "   categorical_columns=[i for i in range(len(Xcol)) \n",
    "                     if Xcol[i] not in ['step','amount','oldbalanceOrg','newbalanceOrig','oldbalanceDest','newbalanceDest']]\n",
    "\n",
    "   smotenc = SMOTENC(categorical_columns,random_state = 101)\n",
    "\n",
    "   X, y = smotenc.fit_resample(df[Xcol], df[ycol])\n",
    "   y_df = pd.DataFrame({target_col: y} )\n",
    "\n",
    "   df = pd.concat([X, y_df], axis=1)"
   ]
  },
  {
   "cell_type": "code",
   "execution_count": 15,
   "metadata": {},
   "outputs": [
    {
     "data": {
      "image/png": "[encoded data removed]",
      "text/plain": [
       "<Figure size 432x288 with 1 Axes>"
      ]
     },
     "metadata": {
      "needs_background": "light"
     },
     "output_type": "display_data"
    }
   ],
   "source": [
    "plot_positive_negative_counts(df, target_col)"
   ]
  },
  {
   "cell_type": "markdown",
   "metadata": {},
   "source": [
    "# Split  with randomization"
   ]
  },
  {
   "cell_type": "code",
   "execution_count": 16,
   "metadata": {},
   "outputs": [],
   "source": [
    "import numpy as np\n",
    "len_ = len(df)\n",
    "train_data, validation_data, test_data = np.split(df.sample(frac=1, random_state=1729), [int(0.7 * len_), int(0.9 * len_)])"
   ]
  },
  {
   "cell_type": "markdown",
   "metadata": {},
   "source": [
    "Using libSVM for performance."
   ]
  },
  {
   "cell_type": "code",
   "execution_count": 17,
   "metadata": {},
   "outputs": [
    {
     "name": "stdout",
     "output_type": "stream",
     "text": [
      "Length of datasets: [('train', 4453834), ('validation', 1272524), ('test', 636262)]\n",
      "CPU times: user 5min 9s, sys: 4.74 s, total: 5min 14s\n",
      "Wall time: 5min 5s\n"
     ]
    }
   ],
   "source": [
    "%%time\n",
    "from sklearn.datasets import dump_svmlight_file   \n",
    "\n",
    "lengths = [] \n",
    "\n",
    "for d in [(train_data, 'train.libsvm'), ( validation_data, 'validation.libsvm'), (test_data, 'test.libsvm')]:\n",
    "   dataset=d[0]\n",
    "   file_ = d[1]\n",
    "   lengths.append((d[1].split('.')[0],len(dataset)))\n",
    "   dump_svmlight_file(X=dataset.drop([target_col], axis=1), y=dataset[target_col], f=d[1])\n",
    "\n",
    "print('Length of datasets:', lengths )\n",
    "\n",
    "s3 = boto3.resource('s3', region_name=region)#TODO Remove\n",
    "\n",
    "for filename in ['train.libsvm', 'validation.libsvm']:\n",
    "   s3.Bucket(bucket).Object(prefix + '/'+filename.split('.')[0]+'/'+filename).upload_file(filename)"
   ]
  },
  {
   "cell_type": "code",
   "execution_count": 18,
   "metadata": {},
   "outputs": [],
   "source": [
    "def s3_path(subset):\n",
    "  return sagemaker.TrainingInput(s3_data='s3://{}/{}/{}'.format(bucket, prefix,subset), content_type='libsvm')\n",
    "\n",
    "s3_input_train = s3_path('train')\n",
    "s3_input_validation =s3_path('validation')"
   ]
  },
  {
   "cell_type": "markdown",
   "metadata": {},
   "source": [
    "---\n",
    "## Train\n",
    "\n",
    "To train, first set up the parameters for an Amazon SageMaker Estimator object, and the hyperparameters for the algorithm itself."
   ]
  },
  {
   "cell_type": "code",
   "execution_count": 19,
   "metadata": {},
   "outputs": [
    {
     "name": "stderr",
     "output_type": "stream",
     "text": [
      "The method get_image_uri has been renamed in sagemaker>=2.\n",
      "See: https://sagemaker.readthedocs.io/en/stable/v2.html for details.\n",
      "train_instance_count has been renamed in sagemaker>=2.\n",
      "See: https://sagemaker.readthedocs.io/en/stable/v2.html for details.\n",
      "train_instance_type has been renamed in sagemaker>=2.\n",
      "See: https://sagemaker.readthedocs.io/en/stable/v2.html for details.\n"
     ]
    },
    {
     "name": "stdout",
     "output_type": "stream",
     "text": [
      "num_positive: 5714, num_negative: 4448120, scale_pos_weight 27.9\n"
     ]
    }
   ],
   "source": [
    "from sagemaker.amazon.amazon_estimator import get_image_uri\n",
    "\n",
    "import math\n",
    "\n",
    "container = get_image_uri(region, 'xgboost','1.0-1')\n",
    "\n",
    "xgb = sagemaker.estimator.Estimator(container,\n",
    "                                    role, \n",
    "                                    base_job_name='fraud-detection-job',\n",
    "                                    train_instance_count=4, \n",
    "                                    train_instance_type='ml.m4.xlarge',\n",
    "                                    output_path='s3://{}/{}/output'.format(bucket, prefix),\n",
    "                                    sagemaker_session=session)\n",
    "num_positive, num_negative=count_positive_and_negative(train_data)\n",
    "scale_pos_weight=math.sqrt(num_negative / num_positive )\n",
    "print(f'num_positive: {num_positive}, num_negative: {num_negative}, scale_pos_weight {scale_pos_weight:.1f}')\n",
    "\n",
    "xgb.set_hyperparameters(max_depth=3,\n",
    "                        eta=0.1,\n",
    "                        gamma=4,\n",
    "                        subsample=0.5,\n",
    "                        eval_metric='error@.35',     \n",
    "                        objective='binary:logistic',\n",
    "                        scale_pos_weight=scale_pos_weight,\n",
    "                        num_round=100, \n",
    "                        silent=0)"
   ]
  },
  {
   "cell_type": "markdown",
   "metadata": {},
   "source": [
    "Run the `fit` training  or hypertuned-training job."
   ]
  },
  {
   "cell_type": "code",
   "execution_count": 20,
   "metadata": {},
   "outputs": [
    {
     "name": "stdout",
     "output_type": "stream",
     "text": [
      "2020-11-26 15:32:32 Starting - Starting the training job...\n",
      "2020-11-26 15:32:34 Starting - Launching requested ML instances......\n",
      "2020-11-26 15:33:43 Starting - Preparing the instances for training.....................\n",
      "2020-11-26 15:37:31 Downloading - Downloading input data......\n",
      "2020-11-26 15:38:29 Training - Training image download completed. Training in progress..\u001b[35mINFO:sagemaker-containers:Imported framework sagemaker_xgboost_container.training\u001b[0m\n",
      "\u001b[35mINFO:sagemaker-containers:Failed to parse hyperparameter eval_metric value error@.35 to Json.\u001b[0m\n",
      "\u001b[35mReturning the value itself\u001b[0m\n",
      "\u001b[35mINFO:sagemaker-containers:Failed to parse hyperparameter objective value binary:logistic to Json.\u001b[0m\n",
      "\u001b[35mReturning the value itself\u001b[0m\n",
      "\u001b[35mINFO:sagemaker-containers:No GPUs detected (normal if no gpus installed)\u001b[0m\n",
      "\u001b[35mINFO:sagemaker_xgboost_container.training:Running XGBoost Sagemaker in algorithm mode\u001b[0m\n",
      "\u001b[36mINFO:sagemaker-containers:Imported framework sagemaker_xgboost_container.training\u001b[0m\n",
      "\u001b[36mINFO:sagemaker-containers:Failed to parse hyperparameter eval_metric value error@.35 to Json.\u001b[0m\n",
      "\u001b[36mReturning the value itself\u001b[0m\n",
      "\u001b[36mINFO:sagemaker-containers:Failed to parse hyperparameter objective value binary:logistic to Json.\u001b[0m\n",
      "\u001b[36mReturning the value itself\u001b[0m\n",
      "\u001b[36mINFO:sagemaker-containers:No GPUs detected (normal if no gpus installed)\u001b[0m\n",
      "\u001b[36mINFO:sagemaker_xgboost_container.training:Running XGBoost Sagemaker in algorithm mode\u001b[0m\n",
      "\u001b[34mINFO:sagemaker-containers:Imported framework sagemaker_xgboost_container.training\u001b[0m\n",
      "\u001b[34mINFO:sagemaker-containers:Failed to parse hyperparameter eval_metric value error@.35 to Json.\u001b[0m\n",
      "\u001b[34mReturning the value itself\u001b[0m\n",
      "\u001b[34mINFO:sagemaker-containers:Failed to parse hyperparameter objective value binary:logistic to Json.\u001b[0m\n",
      "\u001b[34mReturning the value itself\u001b[0m\n",
      "\u001b[34mINFO:sagemaker-containers:No GPUs detected (normal if no gpus installed)\u001b[0m\n",
      "\u001b[34mINFO:sagemaker_xgboost_container.training:Running XGBoost Sagemaker in algorithm mode\u001b[0m\n",
      "\u001b[36m[15:38:36] 4453834x11 matrix with 34651734 entries loaded from /opt/ml/input/data/train\u001b[0m\n",
      "\u001b[32mINFO:sagemaker-containers:Imported framework sagemaker_xgboost_container.training\u001b[0m\n",
      "\u001b[32mINFO:sagemaker-containers:Failed to parse hyperparameter eval_metric value error@.35 to Json.\u001b[0m\n",
      "\u001b[32mReturning the value itself\u001b[0m\n",
      "\u001b[32mINFO:sagemaker-containers:Failed to parse hyperparameter objective value binary:logistic to Json.\u001b[0m\n",
      "\u001b[32mReturning the value itself\u001b[0m\n",
      "\u001b[32mINFO:sagemaker-containers:No GPUs detected (normal if no gpus installed)\u001b[0m\n",
      "\u001b[32mINFO:sagemaker_xgboost_container.training:Running XGBoost Sagemaker in algorithm mode\u001b[0m\n",
      "\u001b[32m[15:38:36] 4453834x11 matrix with 34651734 entries loaded from /opt/ml/input/data/train\u001b[0m\n",
      "\u001b[35m[15:38:36] 4453834x11 matrix with 34651734 entries loaded from /opt/ml/input/data/train\u001b[0m\n",
      "\u001b[36m[15:38:37] 1272524x11 matrix with 9899884 entries loaded from /opt/ml/input/data/validation\u001b[0m\n",
      "\u001b[36mINFO:root:Distributed node training with 4 hosts: ['algo-1', 'algo-2', 'algo-3', 'algo-4']\u001b[0m\n",
      "\u001b[36mINFO:RabitContextManager:Failed to connect to RabitTracker on attempt 0\u001b[0m\n",
      "\u001b[36mINFO:RabitContextManager:Sleeping for 3 sec before retrying\u001b[0m\n",
      "\u001b[32m[15:38:38] 1272524x11 matrix with 9899884 entries loaded from /opt/ml/input/data/validation\u001b[0m\n",
      "\u001b[32mINFO:root:Distributed node training with 4 hosts: ['algo-1', 'algo-2', 'algo-3', 'algo-4']\u001b[0m\n",
      "\u001b[32mINFO:RabitContextManager:Failed to connect to RabitTracker on attempt 0\u001b[0m\n",
      "\u001b[32mINFO:RabitContextManager:Sleeping for 3 sec before retrying\u001b[0m\n",
      "\u001b[35m[15:38:38] 1272524x11 matrix with 9899884 entries loaded from /opt/ml/input/data/validation\u001b[0m\n",
      "\u001b[35mINFO:root:Distributed node training with 4 hosts: ['algo-1', 'algo-2', 'algo-3', 'algo-4']\u001b[0m\n",
      "\u001b[35mINFO:RabitContextManager:Failed to connect to RabitTracker on attempt 0\u001b[0m\n",
      "\u001b[35mINFO:RabitContextManager:Sleeping for 3 sec before retrying\u001b[0m\n",
      "\u001b[34m[15:38:39] 4453834x11 matrix with 34651734 entries loaded from /opt/ml/input/data/train\u001b[0m\n",
      "\u001b[36mINFO:RabitContextManager:Failed to connect to RabitTracker on attempt 1\u001b[0m\n",
      "\u001b[36mINFO:RabitContextManager:Sleeping for 3 sec before retrying\u001b[0m\n",
      "\u001b[32mINFO:RabitContextManager:Connected to RabitTracker.\u001b[0m\n",
      "\u001b[32mtask NULL connected to the tracker\u001b[0m\n",
      "\u001b[35mINFO:RabitContextManager:Connected to RabitTracker.\u001b[0m\n",
      "\u001b[35mtask NULL connected to the tracker\u001b[0m\n",
      "\u001b[34m[15:38:40] 1272524x11 matrix with 9899884 entries loaded from /opt/ml/input/data/validation\u001b[0m\n",
      "\u001b[34mINFO:root:Distributed node training with 4 hosts: ['algo-1', 'algo-2', 'algo-3', 'algo-4']\u001b[0m\n",
      "\u001b[34mINFO:RabitTracker:start listen on algo-1:9099\u001b[0m\n",
      "\u001b[34mINFO:RabitContextManager:Rabit slave environment: {'DMLC_TRACKER_URI': 'algo-1', 'DMLC_TRACKER_PORT': 9099}\u001b[0m\n",
      "\u001b[34mINFO:RabitContextManager:Connected to RabitTracker.\u001b[0m\n",
      "\u001b[34mINFO:RabitTracker:No data received from connection ('10.0.77.245', 44656). Closing.\u001b[0m\n",
      "\u001b[34mtask NULL connected to the tracker\u001b[0m\n",
      "\u001b[34mINFO:RabitTracker:No data received from connection ('10.0.125.208', 49892). Closing.\u001b[0m\n",
      "\u001b[34mINFO:RabitTracker:No data received from connection ('10.0.78.29', 57234). Closing.\u001b[0m\n",
      "\u001b[34mINFO:RabitTracker:No data received from connection ('10.0.115.179', 53630). Closing.\u001b[0m\n",
      "\u001b[34mINFO:RabitTracker:Recieve start signal from 10.0.115.179; assign rank 0\u001b[0m\n",
      "\u001b[34mINFO:RabitTracker:Recieve start signal from 10.0.125.208; assign rank 1\u001b[0m\n",
      "\u001b[34mtask NULL got new rank 2\u001b[0m\n",
      "\u001b[34mINFO:RabitTracker:Recieve start signal from 10.0.77.245; assign rank 2\u001b[0m\n",
      "\u001b[34mINFO:RabitTracker:Recieve start signal from 10.0.78.29; assign rank 3\u001b[0m\n",
      "\u001b[34mINFO:RabitTracker:@tracker All of 4 nodes getting started\u001b[0m\n",
      "\u001b[36mINFO:RabitContextManager:Connected to RabitTracker.\u001b[0m\n",
      "\u001b[36mtask NULL connected to the tracker\u001b[0m\n",
      "\u001b[36mtask NULL got new rank 0\u001b[0m\n",
      "\u001b[32mtask NULL got new rank 1\u001b[0m\n",
      "\u001b[32mINFO:RabitContextManager:Failed to connect to RabitTracker on attempt 0\u001b[0m\n",
      "\u001b[32mINFO:RabitContextManager:Sleeping for 3 sec before retrying\u001b[0m\n",
      "\u001b[35mtask NULL got new rank 3\u001b[0m\n",
      "\u001b[35mINFO:RabitContextManager:Failed to connect to RabitTracker on attempt 0\u001b[0m\n",
      "\u001b[35mINFO:RabitContextManager:Sleeping for 3 sec before retrying\u001b[0m\n",
      "\u001b[36mINFO:RabitContextManager:Failed to connect to RabitTracker on attempt 0\u001b[0m\n",
      "\u001b[36mINFO:RabitContextManager:Sleeping for 3 sec before retrying\u001b[0m\n",
      "\u001b[34mINFO:RabitTracker:@tracker All nodes finishes job\u001b[0m\n",
      "\u001b[34mINFO:RabitTracker:@tracker 0.3509540557861328 secs between node start and job finish\u001b[0m\n",
      "\u001b[34mINFO:RabitTracker:start listen on algo-1:9100\u001b[0m\n",
      "\u001b[34mINFO:RabitContextManager:Rabit slave environment: {'DMLC_TRACKER_URI': 'algo-1', 'DMLC_TRACKER_PORT': 9100}\u001b[0m\n",
      "\u001b[34mINFO:RabitTracker:No data received from connection ('10.0.77.245', 41292). Closing.\u001b[0m\n",
      "\u001b[34mINFO:RabitContextManager:Connected to RabitTracker.\u001b[0m\n",
      "\u001b[34mtask NULL connected to the tracker\u001b[0m\n",
      "\u001b[32mINFO:RabitContextManager:Connected to RabitTracker.\u001b[0m\n",
      "\u001b[32mtask NULL connected to the tracker\u001b[0m\n",
      "\u001b[32mtask NULL got new rank 1\u001b[0m\n",
      "\u001b[35mINFO:RabitContextManager:Connected to RabitTracker.\u001b[0m\n",
      "\u001b[35mtask NULL connected to the tracker\u001b[0m\n",
      "\u001b[35mtask NULL got new rank 3\u001b[0m\n",
      "\u001b[36mINFO:RabitContextManager:Connected to RabitTracker.\u001b[0m\n",
      "\u001b[36mtask NULL connected to the tracker\u001b[0m\n",
      "\u001b[36mtask NULL got new rank 0\u001b[0m\n",
      "\u001b[36mINFO:root:Train matrix has 4453834 rows\u001b[0m\n",
      "\u001b[36mINFO:root:Validation matrix has 1272524 rows\u001b[0m\n",
      "\u001b[34mINFO:RabitTracker:No data received from connection ('10.0.125.208', 52080). Closing.\u001b[0m\n",
      "\u001b[34mINFO:RabitTracker:No data received from connection ('10.0.115.179', 43104). Closing.\u001b[0m\n",
      "\u001b[34mINFO:RabitTracker:No data received from connection ('10.0.78.29', 55628). Closing.\u001b[0m\n",
      "\u001b[34mINFO:RabitTracker:Recieve start signal from 10.0.115.179; assign rank 0\u001b[0m\n",
      "\u001b[34mINFO:RabitTracker:Recieve start signal from 10.0.125.208; assign rank 1\u001b[0m\n",
      "\u001b[34mtask NULL got new rank 2\u001b[0m\n",
      "\u001b[34mINFO:RabitTracker:Recieve start signal from 10.0.77.245; assign rank 2\u001b[0m\n",
      "\u001b[34mINFO:root:Train matrix has 4453834 rows\u001b[0m\n",
      "\u001b[34mINFO:RabitTracker:Recieve start signal from 10.0.78.29; assign rank 3\u001b[0m\n",
      "\u001b[34mINFO:root:Validation matrix has 1272524 rows\u001b[0m\n",
      "\u001b[34mINFO:RabitTracker:@tracker All of 4 nodes getting started\u001b[0m\n",
      "\u001b[32mINFO:root:Train matrix has 4453834 rows\u001b[0m\n",
      "\u001b[32mINFO:root:Validation matrix has 1272524 rows\u001b[0m\n",
      "\u001b[32m[15:38:47] WARNING: /workspace/src/gbm/gbtree.cc:128: Tree method is automatically selected to be 'approx' for distributed training.\u001b[0m\n",
      "\u001b[35mINFO:root:Train matrix has 4453834 rows\u001b[0m\n",
      "\u001b[35mINFO:root:Validation matrix has 1272524 rows\u001b[0m\n",
      "\u001b[35m[15:38:47] WARNING: /workspace/src/gbm/gbtree.cc:128: Tree method is automatically selected to be 'approx' for distributed training.\u001b[0m\n",
      "\u001b[36m[15:38:47] WARNING: /workspace/src/gbm/gbtree.cc:128: Tree method is automatically selected to be 'approx' for distributed training.\u001b[0m\n",
      "\u001b[34m[15:38:47] WARNING: /workspace/src/gbm/gbtree.cc:128: Tree method is automatically selected to be 'approx' for distributed training.\u001b[0m\n",
      "\u001b[34mINFO:RabitTracker:[0]#011train-error@0.35:0.99872#011validation-error@0.35:0.99869\u001b[0m\n",
      "\u001b[34mINFO:RabitTracker:[1]#011train-error@0.35:0.99872#011validation-error@0.35:0.99869\u001b[0m\n",
      "\u001b[34mINFO:RabitTracker:[2]#011train-error@0.35:0.99872#011validation-error@0.35:0.99869\u001b[0m\n",
      "\u001b[34mINFO:RabitTracker:[3]#011train-error@0.35:0.00223#011validation-error@0.35:0.00220\u001b[0m\n",
      "\u001b[34mINFO:RabitTracker:[4]#011train-error@0.35:0.00121#011validation-error@0.35:0.00119\u001b[0m\n",
      "\u001b[34mINFO:RabitTracker:[5]#011train-error@0.35:0.00120#011validation-error@0.35:0.00118\u001b[0m\n",
      "\u001b[34mINFO:RabitTracker:[6]#011train-error@0.35:0.00123#011validation-error@0.35:0.00122\u001b[0m\n",
      "\u001b[34mINFO:RabitTracker:[7]#011train-error@0.35:0.00122#011validation-error@0.35:0.00120\u001b[0m\n",
      "\u001b[34mINFO:RabitTracker:[8]#011train-error@0.35:0.00122#011validation-error@0.35:0.00121\u001b[0m\n",
      "\u001b[34mINFO:RabitTracker:[9]#011train-error@0.35:0.00125#011validation-error@0.35:0.00123\u001b[0m\n",
      "\u001b[34mINFO:RabitTracker:[10]#011train-error@0.35:0.00125#011validation-error@0.35:0.00123\u001b[0m\n",
      "\u001b[34mINFO:RabitTracker:[11]#011train-error@0.35:0.00126#011validation-error@0.35:0.00124\u001b[0m\n",
      "\u001b[34mINFO:RabitTracker:[12]#011train-error@0.35:0.00157#011validation-error@0.35:0.00155\u001b[0m\n",
      "\u001b[34mINFO:RabitTracker:[13]#011train-error@0.35:0.00156#011validation-error@0.35:0.00154\u001b[0m\n",
      "\u001b[34mINFO:RabitTracker:[14]#011train-error@0.35:0.00155#011validation-error@0.35:0.00153\u001b[0m\n",
      "\u001b[34mINFO:RabitTracker:[15]#011train-error@0.35:0.00155#011validation-error@0.35:0.00153\u001b[0m\n",
      "\u001b[34mINFO:RabitTracker:[16]#011train-error@0.35:0.00156#011validation-error@0.35:0.00153\u001b[0m\n",
      "\u001b[34mINFO:RabitTracker:[17]#011train-error@0.35:0.00154#011validation-error@0.35:0.00151\u001b[0m\n",
      "\u001b[34mINFO:RabitTracker:[18]#011train-error@0.35:0.00150#011validation-error@0.35:0.00147\u001b[0m\n",
      "\u001b[34mINFO:RabitTracker:[19]#011train-error@0.35:0.00131#011validation-error@0.35:0.00130\u001b[0m\n",
      "\u001b[34mINFO:RabitTracker:[20]#011train-error@0.35:0.00129#011validation-error@0.35:0.00128\u001b[0m\n",
      "\u001b[34mINFO:RabitTracker:[21]#011train-error@0.35:0.00127#011validation-error@0.35:0.00125\u001b[0m\n",
      "\u001b[34mINFO:RabitTracker:[22]#011train-error@0.35:0.00154#011validation-error@0.35:0.00152\u001b[0m\n",
      "\u001b[34mINFO:RabitTracker:[23]#011train-error@0.35:0.00153#011validation-error@0.35:0.00151\u001b[0m\n",
      "\u001b[34mINFO:RabitTracker:[24]#011train-error@0.35:0.00153#011validation-error@0.35:0.00151\u001b[0m\n",
      "\u001b[34mINFO:RabitTracker:[25]#011train-error@0.35:0.00153#011validation-error@0.35:0.00152\u001b[0m\n",
      "\u001b[34mINFO:RabitTracker:[26]#011train-error@0.35:0.00153#011validation-error@0.35:0.00152\u001b[0m\n",
      "\u001b[34mINFO:RabitTracker:[27]#011train-error@0.35:0.00153#011validation-error@0.35:0.00151\u001b[0m\n",
      "\u001b[34mINFO:RabitTracker:[28]#011train-error@0.35:0.00153#011validation-error@0.35:0.00151\u001b[0m\n",
      "\u001b[34mINFO:RabitTracker:[29]#011train-error@0.35:0.00147#011validation-error@0.35:0.00145\u001b[0m\n",
      "\u001b[34mINFO:RabitTracker:[30]#011train-error@0.35:0.00166#011validation-error@0.35:0.00165\u001b[0m\n",
      "\u001b[34mINFO:RabitTracker:[31]#011train-error@0.35:0.00164#011validation-error@0.35:0.00163\u001b[0m\n",
      "\u001b[34mINFO:RabitTracker:[32]#011train-error@0.35:0.00161#011validation-error@0.35:0.00160\u001b[0m\n",
      "\u001b[34mINFO:RabitTracker:[33]#011train-error@0.35:0.00173#011validation-error@0.35:0.00172\u001b[0m\n",
      "\u001b[34mINFO:RabitTracker:[34]#011train-error@0.35:0.00172#011validation-error@0.35:0.00171\u001b[0m\n",
      "\u001b[34mINFO:RabitTracker:[35]#011train-error@0.35:0.00186#011validation-error@0.35:0.00184\u001b[0m\n",
      "\u001b[34mINFO:RabitTracker:[36]#011train-error@0.35:0.00180#011validation-error@0.35:0.00177\u001b[0m\n",
      "\u001b[34mINFO:RabitTracker:[37]#011train-error@0.35:0.00180#011validation-error@0.35:0.00176\u001b[0m\n",
      "\u001b[34mINFO:RabitTracker:[38]#011train-error@0.35:0.00180#011validation-error@0.35:0.00177\u001b[0m\n",
      "\u001b[34mINFO:RabitTracker:[39]#011train-error@0.35:0.00167#011validation-error@0.35:0.00164\u001b[0m\n",
      "\u001b[34mINFO:RabitTracker:[40]#011train-error@0.35:0.00189#011validation-error@0.35:0.00186\u001b[0m\n",
      "\u001b[34mINFO:RabitTracker:[41]#011train-error@0.35:0.00189#011validation-error@0.35:0.00186\u001b[0m\n",
      "\u001b[34mINFO:RabitTracker:[42]#011train-error@0.35:0.00199#011validation-error@0.35:0.00196\u001b[0m\n",
      "\u001b[34mINFO:RabitTracker:[43]#011train-error@0.35:0.00190#011validation-error@0.35:0.00188\u001b[0m\n",
      "\u001b[34mINFO:RabitTracker:[44]#011train-error@0.35:0.00190#011validation-error@0.35:0.00187\u001b[0m\n",
      "\u001b[34mINFO:RabitTracker:[45]#011train-error@0.35:0.00188#011validation-error@0.35:0.00186\u001b[0m\n",
      "\u001b[34mINFO:RabitTracker:[46]#011train-error@0.35:0.00201#011validation-error@0.35:0.00198\u001b[0m\n",
      "\u001b[34mINFO:RabitTracker:[47]#011train-error@0.35:0.00200#011validation-error@0.35:0.00197\u001b[0m\n",
      "\u001b[34mINFO:RabitTracker:[48]#011train-error@0.35:0.00200#011validation-error@0.35:0.00197\u001b[0m\n",
      "\u001b[34mINFO:RabitTracker:[49]#011train-error@0.35:0.00223#011validation-error@0.35:0.00222\u001b[0m\n",
      "\u001b[34mINFO:RabitTracker:[50]#011train-error@0.35:0.00222#011validation-error@0.35:0.00221\u001b[0m\n",
      "\u001b[34mINFO:RabitTracker:[51]#011train-error@0.35:0.00222#011validation-error@0.35:0.00221\u001b[0m\n",
      "\u001b[34mINFO:RabitTracker:[52]#011train-error@0.35:0.00222#011validation-error@0.35:0.00221\u001b[0m\n",
      "\u001b[34mINFO:RabitTracker:[53]#011train-error@0.35:0.00199#011validation-error@0.35:0.00200\u001b[0m\n",
      "\u001b[34mINFO:RabitTracker:[54]#011train-error@0.35:0.00199#011validation-error@0.35:0.00200\u001b[0m\n",
      "\u001b[34mINFO:RabitTracker:[55]#011train-error@0.35:0.00199#011validation-error@0.35:0.00200\u001b[0m\n",
      "\u001b[34mINFO:RabitTracker:[56]#011train-error@0.35:0.00195#011validation-error@0.35:0.00195\u001b[0m\n",
      "\u001b[34mINFO:RabitTracker:[57]#011train-error@0.35:0.00195#011validation-error@0.35:0.00195\u001b[0m\n",
      "\u001b[34mINFO:RabitTracker:[58]#011train-error@0.35:0.00195#011validation-error@0.35:0.00195\u001b[0m\n",
      "\u001b[34mINFO:RabitTracker:[59]#011train-error@0.35:0.00223#011validation-error@0.35:0.00221\u001b[0m\n",
      "\u001b[34mINFO:RabitTracker:[60]#011train-error@0.35:0.00189#011validation-error@0.35:0.00189\u001b[0m\n",
      "\u001b[34mINFO:RabitTracker:[61]#011train-error@0.35:0.00223#011validation-error@0.35:0.00221\u001b[0m\n",
      "\u001b[34mINFO:RabitTracker:[62]#011train-error@0.35:0.00190#011validation-error@0.35:0.00191\u001b[0m\n",
      "\u001b[34mINFO:RabitTracker:[63]#011train-error@0.35:0.00191#011validation-error@0.35:0.00191\u001b[0m\n",
      "\u001b[34mINFO:RabitTracker:[64]#011train-error@0.35:0.00173#011validation-error@0.35:0.00173\u001b[0m\n",
      "\u001b[34mINFO:RabitTracker:[65]#011train-error@0.35:0.00201#011validation-error@0.35:0.00203\u001b[0m\n",
      "\u001b[34mINFO:RabitTracker:[66]#011train-error@0.35:0.00201#011validation-error@0.35:0.00203\u001b[0m\n",
      "\u001b[34mINFO:RabitTracker:[67]#011train-error@0.35:0.00201#011validation-error@0.35:0.00203\u001b[0m\n",
      "\u001b[34mINFO:RabitTracker:[68]#011train-error@0.35:0.00203#011validation-error@0.35:0.00204\u001b[0m\n",
      "\u001b[34mINFO:RabitTracker:[69]#011train-error@0.35:0.00210#011validation-error@0.35:0.00212\u001b[0m\n",
      "\u001b[34mINFO:RabitTracker:[70]#011train-error@0.35:0.00210#011validation-error@0.35:0.00212\u001b[0m\n",
      "\u001b[34mINFO:RabitTracker:[71]#011train-error@0.35:0.00209#011validation-error@0.35:0.00211\u001b[0m\n",
      "\u001b[34mINFO:RabitTracker:[72]#011train-error@0.35:0.00209#011validation-error@0.35:0.00211\u001b[0m\n",
      "\u001b[34mINFO:RabitTracker:[73]#011train-error@0.35:0.00206#011validation-error@0.35:0.00208\u001b[0m\n",
      "\u001b[34mINFO:RabitTracker:[74]#011train-error@0.35:0.00206#011validation-error@0.35:0.00207\u001b[0m\n",
      "\u001b[34mINFO:RabitTracker:[75]#011train-error@0.35:0.00208#011validation-error@0.35:0.00210\u001b[0m\n",
      "\u001b[34mINFO:RabitTracker:[76]#011train-error@0.35:0.00217#011validation-error@0.35:0.00217\u001b[0m\n",
      "\u001b[34mINFO:RabitTracker:[77]#011train-error@0.35:0.00209#011validation-error@0.35:0.00210\u001b[0m\n",
      "\u001b[34mINFO:RabitTracker:[78]#011train-error@0.35:0.00200#011validation-error@0.35:0.00199\u001b[0m\n",
      "\u001b[34mINFO:RabitTracker:[79]#011train-error@0.35:0.00201#011validation-error@0.35:0.00199\u001b[0m\n",
      "\u001b[34mINFO:RabitTracker:[80]#011train-error@0.35:0.00194#011validation-error@0.35:0.00194\u001b[0m\n",
      "\u001b[34mINFO:RabitTracker:[81]#011train-error@0.35:0.00198#011validation-error@0.35:0.00198\u001b[0m\n",
      "\u001b[34mINFO:RabitTracker:[82]#011train-error@0.35:0.00204#011validation-error@0.35:0.00204\u001b[0m\n",
      "\u001b[34mINFO:RabitTracker:[83]#011train-error@0.35:0.00206#011validation-error@0.35:0.00206\u001b[0m\n",
      "\u001b[34mINFO:RabitTracker:[84]#011train-error@0.35:0.00201#011validation-error@0.35:0.00201\u001b[0m\n",
      "\u001b[34mINFO:RabitTracker:[85]#011train-error@0.35:0.00199#011validation-error@0.35:0.00199\u001b[0m\n",
      "\u001b[34mINFO:RabitTracker:[86]#011train-error@0.35:0.00203#011validation-error@0.35:0.00203\u001b[0m\n",
      "\u001b[34mINFO:RabitTracker:[87]#011train-error@0.35:0.00203#011validation-error@0.35:0.00201\u001b[0m\n",
      "\u001b[34mINFO:RabitTracker:[88]#011train-error@0.35:0.00201#011validation-error@0.35:0.00199\u001b[0m\n",
      "\u001b[34mINFO:RabitTracker:[89]#011train-error@0.35:0.00200#011validation-error@0.35:0.00198\u001b[0m\n",
      "\u001b[34mINFO:RabitTracker:[90]#011train-error@0.35:0.00196#011validation-error@0.35:0.00195\u001b[0m\n",
      "\u001b[34mINFO:RabitTracker:[91]#011train-error@0.35:0.00203#011validation-error@0.35:0.00202\u001b[0m\n",
      "\u001b[34mINFO:RabitTracker:[92]#011train-error@0.35:0.00206#011validation-error@0.35:0.00205\u001b[0m\n",
      "\u001b[34mINFO:RabitTracker:[93]#011train-error@0.35:0.00210#011validation-error@0.35:0.00211\u001b[0m\n",
      "\u001b[34mINFO:RabitTracker:[94]#011train-error@0.35:0.00206#011validation-error@0.35:0.00206\u001b[0m\n",
      "\u001b[34mINFO:RabitTracker:[95]#011train-error@0.35:0.00208#011validation-error@0.35:0.00209\u001b[0m\n",
      "\u001b[34mINFO:RabitTracker:[96]#011train-error@0.35:0.00211#011validation-error@0.35:0.00211\u001b[0m\n",
      "\u001b[34mINFO:RabitTracker:[97]#011train-error@0.35:0.00214#011validation-error@0.35:0.00213\u001b[0m\n",
      "\n",
      "2020-11-26 15:44:38 Uploading - Uploading generated training model\u001b[34mINFO:RabitTracker:[98]#011train-error@0.35:0.00217#011validation-error@0.35:0.00216\u001b[0m\n",
      "\u001b[34mINFO:RabitTracker:[99]#011train-error@0.35:0.00216#011validation-error@0.35:0.00215\u001b[0m\n",
      "\u001b[34mINFO:RabitTracker:@tracker All nodes finishes job\u001b[0m\n",
      "\u001b[34mINFO:RabitTracker:@tracker 349.48184275627136 secs between node start and job finish\u001b[0m\n",
      "\n",
      "2020-11-26 15:44:46 Completed - Training job completed\n",
      "Training seconds: 1740\n",
      "Billable seconds: 1740\n",
      "CPU times: user 2.21 s, sys: 65.5 ms, total: 2.27 s\n",
      "Wall time: 12min 55s\n"
     ]
    }
   ],
   "source": [
    "%%time\n",
    "hypertune = False\n",
    "import pprint\n",
    "\n",
    "if not hypertune:\n",
    "    result = xgb.fit({'train': s3_input_train, 'validation': s3_input_validation})\n",
    "    training_job_name = xgb._current_job_name\n",
    "else:\n",
    "    import time\n",
    "\n",
    "    from sagemaker.tuner import IntegerParameter, CategoricalParameter, ContinuousParameter, HyperparameterTuner\n",
    "    hyperparameter_ranges = {'eta': ContinuousParameter(0, 1),\n",
    "                            'min_child_weight': ContinuousParameter(1, 10),\n",
    "                            'alpha': ContinuousParameter(0, 2),\n",
    "                            'max_depth': IntegerParameter(1, 10)}\n",
    "\n",
    "\n",
    "    objective_metric_name = 'validation:f1'\n",
    "\n",
    "    tuner = HyperparameterTuner(xgb,\n",
    "                            objective_metric_name,\n",
    "                            hyperparameter_ranges,\n",
    "                            max_jobs=10, \n",
    "                            base_tuning_job_name='hypertune',\n",
    "                            max_parallel_jobs=10)\n",
    "    \n",
    "    print('Starting hypertuning job')\n",
    "    tuner.fit({'train': s3_input_train, 'validation': s3_input_validation}, include_cls_metadata=False, wait=False)\n",
    "    print('Started hypertuning job', tuner.latest_tuning_job.job_name)\n",
    "\n",
    "    counter = 0\n",
    "    status = 'InProgress'\n",
    "    while status == 'InProgress':\n",
    "        tuning_job_result=boto3.client('sagemaker').describe_hyper_parameter_tuning_job(\n",
    "           HyperParameterTuningJobName=tuner.latest_tuning_job.job_name)\n",
    "        counter += 0.5\n",
    "        time.sleep(30)   \n",
    "        status = tuning_job_result['HyperParameterTuningJobStatus']\n",
    "        print(f'{counter} min., {status};', end=' ')\n",
    "        \n",
    "    if 'BestTrainingJob' in tuning_job_result:\n",
    "       training_job_name = tuning_job_result['BestTrainingJob']['TrainingJobName']\n",
    "    else:\n",
    "       pprint.pprint(tuning_job_result)\n",
    "       raise Exception('No best job identified')\n"
   ]
  },
  {
   "cell_type": "markdown",
   "metadata": {},
   "source": [
    "---\n",
    "## Host\n",
    "\n",
    "Deploy the trained model to an endpoint."
   ]
  },
  {
   "cell_type": "code",
   "execution_count": 21,
   "metadata": {},
   "outputs": [
    {
     "name": "stdout",
     "output_type": "stream",
     "text": [
      "s3://sagemaker-jfox/sagemaker/xgboost/output/fraud-detection-job-2020-11-26-15-32-32-482/output/model.tar.gz\n",
      "Updating, 0.5 min;Updating, 1.0 min;Updating, 1.5 min;Updating, 2.0 min;Updating, 2.5 min;Updating, 3.0 min;Updating, 3.5 min;Updating, 4.0 min;Updating, 4.5 min;Updating, 5.0 min;Updating, 5.5 min;Updating, 6.0 min;Updating, 6.5 min;InService, 7.0 min;Finished creating or updating endpoint\n"
     ]
    }
   ],
   "source": [
    "import datetime \n",
    "import time\n",
    "\n",
    "endpoint_name = 'fraud-detect-endpoint'\n",
    "model_name = training_job_name + '-mod'\n",
    "\n",
    "info = session.describe_training_job(training_job_name)\n",
    "model_data = info['ModelArtifacts']['S3ModelArtifacts']\n",
    "print(model_data)\n",
    "\n",
    "primary_container = {\n",
    "  'Image': container,\n",
    "  'ModelDataUrl': model_data\n",
    "}\n",
    "\n",
    "create_model_response = session.create_model(\n",
    "      name = model_name,\n",
    "      role = role,\n",
    "      container_defs = primary_container)\n",
    "\n",
    "\n",
    "date_ = datetime.datetime.now().strftime('%m%d-%H%M%S')\n",
    "\n",
    "endpoint_config_name = session.create_endpoint_config(name=endpoint_name + 'config' + date_,\n",
    "                                              model_name=model_name,\n",
    "                                              initial_instance_count=1,\n",
    "                                              instance_type='ml.m5.xlarge',\n",
    "                                              accelerator_type='ml.eia2.medium')\n",
    "\n",
    "client = boto3.client('sagemaker')\n",
    "counter = 0\n",
    "try_now = True\n",
    "while try_now:\n",
    "  counter += 0.5\n",
    "  try:\n",
    "     updated_endpoint = client.update_endpoint(EndpointName=endpoint_name, EndpointConfigName=endpoint_config_name)\n",
    "     try_now = False\n",
    "  except Exception as e:\n",
    "     if 'Could not find endpoint'  in str(e):\n",
    "        print('Could not find endpoint; Trying to create')\n",
    "        updated_endpoint=client.create_endpoint(EndpointName=endpoint_name, EndpointConfigName=endpoint_config_name)\n",
    "        try_now = False\n",
    "     elif 'Cannot update in-progress endpoint' in str(e):\n",
    "        print(f'{counter} min: Cannot update in-progress endpoint; retrying', end='. ')\n",
    "        time.sleep(30)\n",
    "        try_now = True\n",
    "     else:  \n",
    "        raise e\n",
    "\n",
    "endpt_status = 'Updating'\n",
    "counter = 0 \n",
    "while endpt_status in ['Updating', 'Creating']:\n",
    "    counter += 0.5\n",
    "    endpt_status = client.describe_endpoint(EndpointName=endpoint_name)['EndpointStatus']\n",
    "    print(f'{endpt_status}, {counter} min;',end='')\n",
    "    time.sleep(30)\n",
    "\n",
    "print('Finished creating or updating endpoint')"
   ]
  },
  {
   "cell_type": "code",
   "execution_count": 23,
   "metadata": {},
   "outputs": [],
   "source": [
    "from  sagemaker.serializers import LibSVMSerializer\n",
    "from  sagemaker.deserializers import StringDeserializer\n",
    "serializer = LibSVMSerializer()\n",
    "deserializer=StringDeserializer()\n",
    " \n",
    "deserializer.CONTENT_TYPE = \"text/libsvm\"\n",
    "\n",
    "xgb_predictor = sagemaker.predictor.Predictor(endpoint_name=endpoint_name, \n",
    "                                              sagemaker_session=sagemaker.Session(),\n",
    "                                              serializer=serializer,\n",
    "                                              deserializer = deserializer\n",
    "                                             )"
   ]
  },
  {
   "cell_type": "markdown",
   "metadata": {},
   "source": [
    "---\n",
    "\n",
    "## Evaluation\n",
    "\n",
    "Now that we have our hosted endpoint, we can generate predictions from  the  test data set.\n",
    "\n",
    "Compared actual to predicted values of whether the transaction was a \"fraud\" (`1`) or not (`0`).  Then we'll produce a  confusion matrix."
   ]
  },
  {
   "cell_type": "code",
   "execution_count": 24,
   "metadata": {},
   "outputs": [],
   "source": [
    "def do_predict(data):\n",
    "    payload = '\\n'.join(data)\n",
    "    response = xgb_predictor.predict(payload)#.decode('utf-8')\n",
    "    result = response.split(',')\n",
    "    preds = [float(num) for num in result]\n",
    "    preds = [round(num) for num in preds]\n",
    "    return preds\n",
    "\n",
    "def batch_predict(data, batch_size):\n",
    "    items = len(data)\n",
    "    arrs = []\n",
    "    \n",
    "    for offset in range(0, items, batch_size):\n",
    "        if offset+batch_size < items:\n",
    "            results = do_predict(data[offset:(offset+batch_size)])\n",
    "            arrs.extend(results)\n",
    "        else:\n",
    "            arrs.extend(do_predict(data[offset:items]))\n",
    "        sys.stdout.write('.')\n",
    "    return(arrs)"
   ]
  },
  {
   "cell_type": "code",
   "execution_count": null,
   "metadata": {},
   "outputs": [
    {
     "name": "stdout",
     "output_type": "stream",
     "text": [
      "..................................................................................................................................................................................................................."
     ]
    }
   ],
   "source": [
    "%%time\n",
    "import json\n",
    "\n",
    "with open('test.libsvm', 'r') as f:\n",
    "    payload = f.read().strip()\n",
    "\n",
    "labels = [int(line.split(' ')[0]) for line in payload.split('\\n')]\n",
    "test_data = [line for line in payload.split('\\n')]\n",
    "preds = batch_predict(test_data, 100)"
   ]
  },
  {
   "cell_type": "code",
   "execution_count": null,
   "metadata": {},
   "outputs": [],
   "source": [
    "actual_pos = sum(1 for i in range(len(labels)) if 1 == labels[i])\n",
    "actual_neg = sum(1 for i in range(len(labels)) if 0 == labels[i])\n",
    "\n",
    "pred_pos = sum(1 for i in range(len(preds)) if 1 == preds[i])\n",
    "pred_neg = sum(1 for i in range(len(preds)) if 0 == preds[i])\n",
    "\n",
    "true_pos = sum(1 for i in range(len(preds)) if preds[i] == 1 == labels[i])\n",
    "true_neg = sum(1 for i in range(len(preds)) if preds[i] == 0 == labels[i])\n",
    "\n",
    "false_pos=sum(1 for i in range(len(preds)) if preds[i] == 1 and 0 == labels[i])\n",
    "false_neg=sum(1 for i in range(len(preds)) if preds[i] == 0 and 1 == labels[i])\n",
    "\n",
    "recall = true_pos / (true_pos + false_neg)\n",
    "precision = true_pos / (true_pos + false_pos)\n",
    "f1 = (2 * precision * recall) / (precision + recall)\n",
    "error = sum(1 for i in range(len(preds)) if preds[i] != labels[i]) / float(len(preds))\n",
    "\n",
    "assert recall <= f1 <= precision or precision <= f1 <= recall \n",
    "assert true_pos + false_neg == actual_pos\n",
    "assert true_neg + false_pos == actual_neg\n",
    "assert len(preds)==len(labels)\n",
    "\n",
    "assert actual_pos + actual_neg==len(labels)                   \n",
    "assert true_pos + false_pos == pred_pos \n",
    "assert true_neg + false_neg== pred_neg\n",
    "\n",
    "#print('pred_pos+pred_neg',pred_pos+pred_neg)\n",
    "assert pred_pos+pred_neg==len(preds)\n",
    "\n",
    "print(f'Recall={recall:.2f}')\n",
    "print(f'Precision={precision:.2f}')\n",
    "print(f'Error rate={error:.2f}')\n",
    "print(f'F1={f1:.2f}')"
   ]
  },
  {
   "cell_type": "markdown",
   "metadata": {},
   "source": [
    "Show confusion matrix."
   ]
  },
  {
   "cell_type": "code",
   "execution_count": null,
   "metadata": {},
   "outputs": [],
   "source": [
    "pd.crosstab(index=np.array(labels), columns=np.array(preds), rownames=['actual fraud'],  colnames=['predicted as fraud'])"
   ]
  },
  {
   "cell_type": "markdown",
   "metadata": {},
   "source": [
    " "
   ]
  },
  {
   "cell_type": "markdown",
   "metadata": {},
   "source": [
    "Clean up to save money"
   ]
  },
  {
   "cell_type": "code",
   "execution_count": null,
   "metadata": {},
   "outputs": [],
   "source": [
    "#session.delete_endpoint(xgb_predictor.endpoint)"
   ]
  },
  {
   "cell_type": "code",
   "execution_count": null,
   "metadata": {},
   "outputs": [],
   "source": []
  }
 ],
 "metadata": {
  "kernelspec": {
   "display_name": "conda_python3",
   "language": "python",
   "name": "conda_python3"
  },
  "language_info": {
   "codemirror_mode": {
    "name": "ipython",
    "version": 3
   },
   "file_extension": ".py",
   "mimetype": "text/x-python",
   "name": "python",
   "nbconvert_exporter": "python",
   "pygments_lexer": "ipython3",
   "version": "3.6.10"
  },
  "notice": "Copyright 2017 Amazon.com, Inc. or its affiliates. All Rights Reserved.  Licensed under the Apache License, Version 2.0 (the \"License\"). You may not use this file except in compliance with the License. A copy of the License is located at http://aws.amazon.com/apache2.0/ or in the \"license\" file accompanying this file. This file is distributed on an \"AS IS\" BASIS, WITHOUT WARRANTIES OR CONDITIONS OF ANY KIND, either express or implied. See the License for the specific language governing permissions and limitations under the License."
 },
 "nbformat": 4,
 "nbformat_minor": 4
}
