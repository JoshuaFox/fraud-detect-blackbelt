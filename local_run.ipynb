{
 "cells": [
  {
   "cell_type": "code",
   "execution_count": 1,
   "metadata": {},
   "outputs": [
    {
     "name": "stdout",
     "output_type": "stream",
     "text": [
      "CPU times: user 6 µs, sys: 0 ns, total: 6 µs\n",
      "Wall time: 10.3 µs\n"
     ]
    }
   ],
   "source": [
    "%%time\n",
    "import sys\n",
    "#!{sys.executable} -m pip install -r requirements.txt\n"
   ]
  },
  {
   "cell_type": "code",
   "execution_count": 2,
   "metadata": {},
   "outputs": [
    {
     "name": "stdout",
     "output_type": "stream",
     "text": [
      "CPU times: user 1.6 s, sys: 83.9 ms, total: 1.68 s\n",
      "Wall time: 1.68 s\n"
     ]
    }
   ],
   "source": [
    "%%time\n",
    "import boto3\n",
    "import datetime\n",
    "import math \n",
    "import matplotlib.pyplot as plt   \n",
    "from matplotlib import pyplot\n",
    "from matplotlib.pyplot import figure\n",
    "import numpy as np\n",
    "import pandas as pd\n",
    "import pyarrow.parquet as pq\n",
    "import sagemaker\n",
    "import seaborn  \n",
    "import sagemaker\n",
    "from sklearn.model_selection import train_test_split\n",
    "from sklearn.metrics import * \n",
    "from xgboost import XGBClassifier"
   ]
  },
  {
   "cell_type": "code",
   "execution_count": 3,
   "metadata": {},
   "outputs": [
    {
     "name": "stdout",
     "output_type": "stream",
     "text": [
      "Bucket sagemaker-jfox in region eu-west-1\n",
      "CPU times: user 208 ms, sys: 12.5 ms, total: 220 ms\n",
      "Wall time: 2.25 s\n"
     ]
    }
   ],
   "source": [
    "%%time\n",
    "\n",
    "session = sagemaker.Session() \n",
    "region = session.boto_region_name \n",
    "\n",
    "bucket = 'sagemaker-jfox'\n",
    "prefix = 'sagemaker/xgboost'\n",
    "role = sagemaker.get_execution_role()\n",
    "\n",
    "print(f'Bucket {bucket} in region {region}')"
   ]
  },
  {
   "cell_type": "code",
   "execution_count": 4,
   "metadata": {},
   "outputs": [
    {
     "name": "stdout",
     "output_type": "stream",
     "text": [
      "Length 6362620\n",
      "CPU times: user 1.15 s, sys: 673 ms, total: 1.82 s\n",
      "Wall time: 1.67 s\n"
     ]
    },
    {
     "data": {
      "text/html": [
       "<div>\n",
       "<style scoped>\n",
       "    .dataframe tbody tr th:only-of-type {\n",
       "        vertical-align: middle;\n",
       "    }\n",
       "\n",
       "    .dataframe tbody tr th {\n",
       "        vertical-align: top;\n",
       "    }\n",
       "\n",
       "    .dataframe thead th {\n",
       "        text-align: right;\n",
       "    }\n",
       "</style>\n",
       "<table border=\"1\" class=\"dataframe\">\n",
       "  <thead>\n",
       "    <tr style=\"text-align: right;\">\n",
       "      <th></th>\n",
       "      <th>isFraud</th>\n",
       "      <th>hour</th>\n",
       "      <th>type_CASH_IN</th>\n",
       "      <th>type_CASH_OUT</th>\n",
       "      <th>type_DEBIT</th>\n",
       "      <th>type_PAYMENT</th>\n",
       "      <th>type_TRANSFER</th>\n",
       "      <th>amount_nml</th>\n",
       "      <th>oldBalanceOrigin_nml</th>\n",
       "      <th>newBalanceOrigin_nml</th>\n",
       "      <th>oldBalanceDestination_nml</th>\n",
       "      <th>newBalanceDestination_nml</th>\n",
       "    </tr>\n",
       "  </thead>\n",
       "  <tbody>\n",
       "    <tr>\n",
       "      <th>0</th>\n",
       "      <td>0</td>\n",
       "      <td>1.0</td>\n",
       "      <td>0</td>\n",
       "      <td>0</td>\n",
       "      <td>0</td>\n",
       "      <td>1</td>\n",
       "      <td>0</td>\n",
       "      <td>-0.281560</td>\n",
       "      <td>-0.229810</td>\n",
       "      <td>-0.237622</td>\n",
       "      <td>-0.323814</td>\n",
       "      <td>-0.333411</td>\n",
       "    </tr>\n",
       "    <tr>\n",
       "      <th>1</th>\n",
       "      <td>0</td>\n",
       "      <td>1.0</td>\n",
       "      <td>0</td>\n",
       "      <td>0</td>\n",
       "      <td>0</td>\n",
       "      <td>1</td>\n",
       "      <td>0</td>\n",
       "      <td>-0.294767</td>\n",
       "      <td>-0.281359</td>\n",
       "      <td>-0.285812</td>\n",
       "      <td>-0.323814</td>\n",
       "      <td>-0.333411</td>\n",
       "    </tr>\n",
       "    <tr>\n",
       "      <th>2</th>\n",
       "      <td>1</td>\n",
       "      <td>1.0</td>\n",
       "      <td>0</td>\n",
       "      <td>0</td>\n",
       "      <td>0</td>\n",
       "      <td>0</td>\n",
       "      <td>1</td>\n",
       "      <td>-0.297555</td>\n",
       "      <td>-0.288654</td>\n",
       "      <td>-0.292442</td>\n",
       "      <td>-0.323814</td>\n",
       "      <td>-0.333411</td>\n",
       "    </tr>\n",
       "    <tr>\n",
       "      <th>3</th>\n",
       "      <td>1</td>\n",
       "      <td>1.0</td>\n",
       "      <td>0</td>\n",
       "      <td>1</td>\n",
       "      <td>0</td>\n",
       "      <td>0</td>\n",
       "      <td>0</td>\n",
       "      <td>-0.297555</td>\n",
       "      <td>-0.288654</td>\n",
       "      <td>-0.292442</td>\n",
       "      <td>-0.317582</td>\n",
       "      <td>-0.333411</td>\n",
       "    </tr>\n",
       "    <tr>\n",
       "      <th>4</th>\n",
       "      <td>0</td>\n",
       "      <td>1.0</td>\n",
       "      <td>0</td>\n",
       "      <td>0</td>\n",
       "      <td>0</td>\n",
       "      <td>1</td>\n",
       "      <td>0</td>\n",
       "      <td>-0.278532</td>\n",
       "      <td>-0.274329</td>\n",
       "      <td>-0.282221</td>\n",
       "      <td>-0.323814</td>\n",
       "      <td>-0.333411</td>\n",
       "    </tr>\n",
       "    <tr>\n",
       "      <th>...</th>\n",
       "      <td>...</td>\n",
       "      <td>...</td>\n",
       "      <td>...</td>\n",
       "      <td>...</td>\n",
       "      <td>...</td>\n",
       "      <td>...</td>\n",
       "      <td>...</td>\n",
       "      <td>...</td>\n",
       "      <td>...</td>\n",
       "      <td>...</td>\n",
       "      <td>...</td>\n",
       "      <td>...</td>\n",
       "    </tr>\n",
       "    <tr>\n",
       "      <th>6362615</th>\n",
       "      <td>1</td>\n",
       "      <td>23.0</td>\n",
       "      <td>0</td>\n",
       "      <td>1</td>\n",
       "      <td>0</td>\n",
       "      <td>0</td>\n",
       "      <td>0</td>\n",
       "      <td>0.264665</td>\n",
       "      <td>-0.171108</td>\n",
       "      <td>-0.292442</td>\n",
       "      <td>-0.323814</td>\n",
       "      <td>-0.240959</td>\n",
       "    </tr>\n",
       "    <tr>\n",
       "      <th>6362616</th>\n",
       "      <td>1</td>\n",
       "      <td>23.0</td>\n",
       "      <td>0</td>\n",
       "      <td>0</td>\n",
       "      <td>0</td>\n",
       "      <td>0</td>\n",
       "      <td>1</td>\n",
       "      <td>10.153952</td>\n",
       "      <td>1.896491</td>\n",
       "      <td>-0.292442</td>\n",
       "      <td>-0.323814</td>\n",
       "      <td>-0.333411</td>\n",
       "    </tr>\n",
       "    <tr>\n",
       "      <th>6362617</th>\n",
       "      <td>1</td>\n",
       "      <td>23.0</td>\n",
       "      <td>0</td>\n",
       "      <td>1</td>\n",
       "      <td>0</td>\n",
       "      <td>0</td>\n",
       "      <td>0</td>\n",
       "      <td>10.153952</td>\n",
       "      <td>1.896491</td>\n",
       "      <td>-0.292442</td>\n",
       "      <td>-0.303665</td>\n",
       "      <td>1.403027</td>\n",
       "    </tr>\n",
       "    <tr>\n",
       "      <th>6362618</th>\n",
       "      <td>1</td>\n",
       "      <td>23.0</td>\n",
       "      <td>0</td>\n",
       "      <td>0</td>\n",
       "      <td>0</td>\n",
       "      <td>0</td>\n",
       "      <td>1</td>\n",
       "      <td>1.109765</td>\n",
       "      <td>0.005581</td>\n",
       "      <td>-0.292442</td>\n",
       "      <td>-0.323814</td>\n",
       "      <td>-0.333411</td>\n",
       "    </tr>\n",
       "    <tr>\n",
       "      <th>6362619</th>\n",
       "      <td>1</td>\n",
       "      <td>23.0</td>\n",
       "      <td>0</td>\n",
       "      <td>1</td>\n",
       "      <td>0</td>\n",
       "      <td>0</td>\n",
       "      <td>0</td>\n",
       "      <td>1.109765</td>\n",
       "      <td>0.005581</td>\n",
       "      <td>-0.292442</td>\n",
       "      <td>1.591383</td>\n",
       "      <td>1.669812</td>\n",
       "    </tr>\n",
       "  </tbody>\n",
       "</table>\n",
       "<p>6362620 rows × 12 columns</p>\n",
       "</div>"
      ],
      "text/plain": [
       "         isFraud  hour  type_CASH_IN  type_CASH_OUT  type_DEBIT  type_PAYMENT  \\\n",
       "0              0   1.0             0              0           0             1   \n",
       "1              0   1.0             0              0           0             1   \n",
       "2              1   1.0             0              0           0             0   \n",
       "3              1   1.0             0              1           0             0   \n",
       "4              0   1.0             0              0           0             1   \n",
       "...          ...   ...           ...            ...         ...           ...   \n",
       "6362615        1  23.0             0              1           0             0   \n",
       "6362616        1  23.0             0              0           0             0   \n",
       "6362617        1  23.0             0              1           0             0   \n",
       "6362618        1  23.0             0              0           0             0   \n",
       "6362619        1  23.0             0              1           0             0   \n",
       "\n",
       "         type_TRANSFER  amount_nml  oldBalanceOrigin_nml  \\\n",
       "0                    0   -0.281560             -0.229810   \n",
       "1                    0   -0.294767             -0.281359   \n",
       "2                    1   -0.297555             -0.288654   \n",
       "3                    0   -0.297555             -0.288654   \n",
       "4                    0   -0.278532             -0.274329   \n",
       "...                ...         ...                   ...   \n",
       "6362615              0    0.264665             -0.171108   \n",
       "6362616              1   10.153952              1.896491   \n",
       "6362617              0   10.153952              1.896491   \n",
       "6362618              1    1.109765              0.005581   \n",
       "6362619              0    1.109765              0.005581   \n",
       "\n",
       "         newBalanceOrigin_nml  oldBalanceDestination_nml  \\\n",
       "0                   -0.237622                  -0.323814   \n",
       "1                   -0.285812                  -0.323814   \n",
       "2                   -0.292442                  -0.323814   \n",
       "3                   -0.292442                  -0.317582   \n",
       "4                   -0.282221                  -0.323814   \n",
       "...                       ...                        ...   \n",
       "6362615             -0.292442                  -0.323814   \n",
       "6362616             -0.292442                  -0.323814   \n",
       "6362617             -0.292442                  -0.303665   \n",
       "6362618             -0.292442                  -0.323814   \n",
       "6362619             -0.292442                   1.591383   \n",
       "\n",
       "         newBalanceDestination_nml  \n",
       "0                        -0.333411  \n",
       "1                        -0.333411  \n",
       "2                        -0.333411  \n",
       "3                        -0.333411  \n",
       "4                        -0.333411  \n",
       "...                            ...  \n",
       "6362615                  -0.240959  \n",
       "6362616                  -0.333411  \n",
       "6362617                   1.403027  \n",
       "6362618                  -0.333411  \n",
       "6362619                   1.669812  \n",
       "\n",
       "[6362620 rows x 12 columns]"
      ]
     },
     "execution_count": 4,
     "metadata": {},
     "output_type": "execute_result"
    }
   ],
   "source": [
    "%%time\n",
    "filename='from_databrew.parquet.snappy' \n",
    "s3 = boto3.resource('s3', region_name=region)\n",
    "\n",
    "#s3.Bucket(bucket).download_file(\n",
    "# 'normalize-3-snappy-parquet/normalize-3_02Dec2020_1606903905135/normalize-3_02Dec2020_1606903905135_part00000.parquet.snappy',\n",
    "#    filename)\n",
    "table = pq.read_table(filename)\n",
    "df = table.to_pandas()    \n",
    "    \n",
    "print('Length', len(df))\n",
    "df"
   ]
  },
  {
   "cell_type": "code",
   "execution_count": 5,
   "metadata": {},
   "outputs": [],
   "source": [
    "target_col='isFraud'"
   ]
  },
  {
   "cell_type": "code",
   "execution_count": 6,
   "metadata": {},
   "outputs": [
    {
     "data": {
      "image/png": "[encoded data removed]",
      "text/plain": [
       "<Figure size 432x288 with 1 Axes>"
      ]
     },
     "metadata": {
      "needs_background": "light"
     },
     "output_type": "display_data"
    }
   ],
   "source": [
    "def plot_positive_negative_counts(df, target_col):\n",
    "    val_counts=df['isFraud'].value_counts()\n",
    "    fig, ax = plt.subplots()\n",
    "    ax.set(yscale='log')\n",
    "    plt.bar(['Yes', 'No'], val_counts)\n",
    "    plt.ylabel('count')\n",
    "    plt.show()\n",
    "    \n",
    "plot_positive_negative_counts(df,'isFraud')"
   ]
  },
  {
   "cell_type": "code",
   "execution_count": 7,
   "metadata": {},
   "outputs": [
    {
     "data": {
      "image/png": "[encoded data removed]",
      "text/plain": [
       "<Figure size 1080x360 with 4 Axes>"
      ]
     },
     "metadata": {
      "needs_background": "light"
     },
     "output_type": "display_data"
    }
   ],
   "source": [
    "fig, axes = plt.subplots( 1,2, figsize=(15,5))\n",
    "\n",
    "def heatmap(fraud_cases):\n",
    "    lbl = 'Fraud' if  fraud_cases else 'Non-fraud'\n",
    "    # Coerced to int, below\n",
    "    axes[1-fraud_cases].set_title(f'{lbl} cases: Heatmap')\n",
    "    seaborn.heatmap(df.query(f'isFraud == {fraud_cases}').drop(['isFraud'], 1).corr(),  cmap='Oranges', ax=axes[1-fraud_cases])\n",
    "\n",
    "heatmap(True)\n",
    "heatmap(False)\n",
    "\n",
    "plt.show()"
   ]
  },
  {
   "cell_type": "code",
   "execution_count": 8,
   "metadata": {},
   "outputs": [],
   "source": [
    "HOURS_IN_DAY  =24\n",
    "\n",
    "frauds_by_hour = []\n",
    "non_frauds_by_hour = []\n",
    "hourwise_items = []\n",
    "for hour in range(HOURS_IN_DAY):\n",
    "    non_fraud_in_hour = df[(df['hour'] == hour) & (df['isFraud'] == 0)]\n",
    "    non_fraud_sum_in_hour = len(non_fraud_in_hour)\n",
    "    fraud_in_hour = df[(df['hour'] == hour) & (df['isFraud'] == 1)]\n",
    "    fraud_sum_in_hour = len(fraud_in_hour)\n",
    "    non_frauds_by_hour.append(non_fraud_sum_in_hour)\n",
    "    frauds_by_hour.append(fraud_sum_in_hour)\n",
    "    hourwise_items.append(non_fraud_sum_in_hour+fraud_sum_in_hour)\n",
    "\n",
    "fig, ax = plt.subplots(figsize=(11, 7))\n",
    " \n",
    "fr_non_fraud = ax.plot(np.multiply(np.divide(frauds_by_hour,hourwise_items), 100), label='Fraud percentage by hour')\n",
    "plt.xticks(np.arange(24))\n",
    "legend = ax.legend(loc='upper left' )\n",
    " "
   ]
  },
  {
   "cell_type": "code",
   "execution_count": 8,
   "metadata": {},
   "outputs": [
    {
     "data": {
      "image/png": "[encoded data removed]",
      "text/plain": [
       "<Figure size 792x504 with 1 Axes>"
      ]
     },
     "metadata": {
      "needs_background": "light"
     },
     "output_type": "display_data"
    }
   ],
   "source": [
    "series = pd.Series(np.select([(df['hour'] >=2) & (df['hour'] <=6)], [1], 0))\n",
    "df['peakHours']=series\n",
    "\n",
    "del df['hour']"
   ]
  },
  {
   "cell_type": "code",
   "execution_count": 10,
   "metadata": {},
   "outputs": [],
   "source": [
    "dataset = df.to_numpy()\n",
    "X = dataset[:,1:]\n",
    "y = dataset[:,0]"
   ]
  },
  {
   "cell_type": "code",
   "execution_count": 11,
   "metadata": {},
   "outputs": [],
   "source": [
    "%%time\n",
    "X_train, X_test, y_train, y_test = train_test_split(X, y, test_size=0.33, random_state=7)"
   ]
  },
  {
   "cell_type": "code",
   "execution_count": 12,
   "metadata": {},
   "outputs": [
    {
     "name": "stdout",
     "output_type": "stream",
     "text": [
      "Start fit at 2020-12-02 11:16:02Z\n",
      "[11:16:07] WARNING: ../src/gbm/gbtree.cc:139: Tree method is automatically selected to be 'approx' for faster speed. To use old behavior (exact greedy algorithm on single machine), set tree_method to 'exact'.\n",
      "CPU times: user 43min 3s, sys: 23.4 s, total: 43min 27s\n",
      "Wall time: 11min 18s\n"
     ]
    },
    {
     "data": {
      "text/plain": [
       "XGBClassifier(base_score=0.5, booster='gbtree', colsample_bylevel=1,\n",
       "              colsample_bynode=1, colsample_bytree=1, gamma=0, gpu_id=-1,\n",
       "              importance_type='gain', interaction_constraints='',\n",
       "              learning_rate=0.300000012, max_delta_step=0, max_depth=6,\n",
       "              min_child_weight=1, missing=nan, monotone_constraints='()',\n",
       "              n_estimators=100, n_jobs=0, num_parallel_tree=1, random_state=0,\n",
       "              reg_alpha=0, reg_lambda=1, scale_pos_weight=5, subsample=1,\n",
       "              tree_method='approx', validate_parameters=1, verbosity=None)"
      ]
     },
     "execution_count": 12,
     "metadata": {},
     "output_type": "execute_result"
    }
   ],
   "source": [
    "%%time\n",
    "print(f'Start fit at {str(datetime.datetime.now())[:-7]}Z')\n",
    "model = XGBClassifier( objective='binary:logistic', scale_pos_weight=5 )\n",
    "model.fit(X, y, verbose=True)"
   ]
  },
  {
   "cell_type": "code",
   "execution_count": 13,
   "metadata": {},
   "outputs": [
    {
     "data": {
      "image/png": "[encoded data removed]",
      "text/plain": [
       "<Figure size 1280x480 with 1 Axes>"
      ]
     },
     "metadata": {},
     "output_type": "display_data"
    },
    {
     "name": "stdout",
     "output_type": "stream",
     "text": [
      "CPU times: user 550 ms, sys: 23.8 ms, total: 574 ms\n",
      "Wall time: 403 ms\n"
     ]
    }
   ],
   "source": [
    "%%time\n",
    "\n",
    "fields_short_names = [s.replace('balance', 'Bal') for s in df.columns[1:]]\n",
    " \n",
    "figure(num=None, figsize=(16, 6), dpi=80, facecolor='w', edgecolor='k')\n",
    "pyplot.bar(range(len(model.feature_importances_)), model.feature_importances_, tick_label=fields_short_names)\n",
    "        \n",
    "pyplot.show()"
   ]
  },
  {
   "cell_type": "code",
   "execution_count": 14,
   "metadata": {},
   "outputs": [
    {
     "name": "stdout",
     "output_type": "stream",
     "text": [
      "accuracy_score: 99.98%\n",
      "f1_score: 91.22%\n",
      "precision_score: 86.64%\n",
      "recall_score: 96.32%\n",
      "balanced_accuracy_score: 98.15%\n"
     ]
    },
    {
     "data": {
      "text/plain": [
       "<sklearn.metrics._plot.precision_recall_curve.PrecisionRecallDisplay at 0x7f129584b940>"
      ]
     },
     "execution_count": 14,
     "metadata": {},
     "output_type": "execute_result"
    },
    {
     "data": {
      "image/png": "[encoded data removed]",
      "text/plain": [
       "<Figure size 432x288 with 1 Axes>"
      ]
     },
     "metadata": {
      "needs_background": "light"
     },
     "output_type": "display_data"
    }
   ],
   "source": [
    "y_pred = model.predict(X_test)\n",
    "predictions = [round(value) for value in y_pred]\n",
    "\n",
    "# Not auc, roc_auc_score\n",
    "functions = [accuracy_score, f1_score, precision_score, recall_score, balanced_accuracy_score ]\n",
    "for f in functions:\n",
    "  print(\"%s: %.2f%%\" % (f.__name__, f(y_test, predictions) * 100.0))\n",
    "\n",
    "plot_precision_recall_curve(model, X_test, y_test)  "
   ]
  }
 ],
 "metadata": {
  "kernelspec": {
   "display_name": "conda_python3",
   "language": "python",
   "name": "conda_python3"
  },
  "language_info": {
   "codemirror_mode": {
    "name": "ipython",
    "version": 3
   },
   "file_extension": ".py",
   "mimetype": "text/x-python",
   "name": "python",
   "nbconvert_exporter": "python",
   "pygments_lexer": "ipython3",
   "version": "3.6.10"
  }
 },
 "nbformat": 4,
 "nbformat_minor": 4
}
